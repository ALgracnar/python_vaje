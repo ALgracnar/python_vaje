{
 "metadata": {
  "name": "",
  "signature": "sha256:ca72971604e9cd501711ad42ca5e0a0d0e87342720812976e78ae7eb8b4bf3ab"
 },
 "nbformat": 3,
 "nbformat_minor": 0,
 "worksheets": [
  {
   "cells": [
    {
     "cell_type": "markdown",
     "metadata": {},
     "source": [
      "Maj 2015, J. Slavi\u010d in L. Knez\n",
      "\n",
      "Vaje #13"
     ]
    },
    {
     "cell_type": "code",
     "collapsed": false,
     "input": [
      "# Uvozimo potrebne module\n",
      "\n",
      "from sympy import *\n",
      "init_printing()\n",
      "import numpy as np\n",
      "import matplotlib.pyplot as plt\n",
      "%matplotlib inline"
     ],
     "language": "python",
     "metadata": {},
     "outputs": [],
     "prompt_number": 1
    },
    {
     "cell_type": "markdown",
     "metadata": {},
     "source": [
      "Vpra\u0161anje 1: Na sliki (vir: Numerical Methods in Engineering With Python 3, 3rd Ed, Jaan Kiusalaas) je prikazan izstrelek mase $m$, ki ga izstrelimo s hitrosjo $v_0$ pod kotom $\\alpha$. \u010ce je sila upora zraka: $F=c\\,v^{3/2}$, potem sta gibalni ena\u010dbi:\n",
      "$$\\ddot x(t)=-F\\,\\cos(\\alpha)\\qquad\\ddot y(t)=-F\\,\\sin(\\alpha)-g.$$\n",
      "Opomba: $v=\\sqrt{\\dot x^2+\\dot y^2}.$ Ustrezne parametre si izmislite.\n",
      "<img src=\"others/Jaan Kiusalaas stran 265 n13.png\" width=300>\n",
      "Sistem dveh diferencialnih ena\u010db drugega reda zapi\u0161ite v sistem diferencialnih ena\u010db prvega reda."
     ]
    },
    {
     "cell_type": "markdown",
     "metadata": {},
     "source": [
      "Glejte odgovor pod vpra\u0161anje 3."
     ]
    },
    {
     "cell_type": "markdown",
     "metadata": {},
     "source": [
      "Vpra\u0161anje 2: Dolo\u010dite vektor za\u010detnih pogojev, ki smo ga zgoraj ozna\u010dili z $\\mathbf{y}$."
     ]
    },
    {
     "cell_type": "code",
     "collapsed": false,
     "input": [
      "# Paramatre si ustrezno izmislimo\n",
      "v0=200\n",
      "alpha = 30*np.pi/180\n",
      "dt = 0.01\n",
      "y_zacetni_pogoji = np.array([0, v0*np.cos(alpha), 0, v0*np.sin(alpha)])"
     ],
     "language": "python",
     "metadata": {},
     "outputs": [],
     "prompt_number": 2
    },
    {
     "cell_type": "markdown",
     "metadata": {},
     "source": [
      "Vpra\u0161anje 3: Dolo\u010dite funkcijo prvih odvodov, ``c`` naj bo parameter."
     ]
    },
    {
     "cell_type": "markdown",
     "metadata": {},
     "source": [
      "Odgovor za vpra\u0161anji 1 in 3 smo zdru\u017eili. Sistem ena\u010db zapi\u0161emo v funkcijo:"
     ]
    },
    {
     "cell_type": "code",
     "collapsed": false,
     "input": [
      "def F(t, y, c=0.5):\n",
      "    # y = [x0, x1, y0, y1]\n",
      "    g = 9.81\n",
      "    v = np.sqrt(y[1]**2+y[3]**2)\n",
      "    F = c*v**(3/2)\n",
      "    a = np.arctan2(y[3],y[1])\n",
      "    return np.array([y[1], - F*np.cos(a), y[3], -F*np.sin(a) - g])"
     ],
     "language": "python",
     "metadata": {},
     "outputs": [],
     "prompt_number": 3
    },
    {
     "cell_type": "markdown",
     "metadata": {},
     "source": [
      "Preverimo, \u010de funkcija sistema diferencialnih ena\u010db prvega reda deluje pravilno:"
     ]
    },
    {
     "cell_type": "code",
     "collapsed": false,
     "input": [
      "F(0, y_zacetni_pogoji)"
     ],
     "language": "python",
     "metadata": {},
     "outputs": [
      {
       "metadata": {},
       "output_type": "pyout",
       "prompt_number": 4,
       "text": [
        "array([  173.20508076, -1224.74487139,   100.        ,  -716.91678119])"
       ]
      }
     ],
     "prompt_number": 4
    },
    {
     "cell_type": "markdown",
     "metadata": {},
     "source": [
      "Vpra\u0161anje 4: Definirajte za\u010detne pogoje in re\u0161ite nalogo s poljubnimi podatki."
     ]
    },
    {
     "cell_type": "markdown",
     "metadata": {},
     "source": [
      "Za\u010detne pogoje smo \u017ee definirali pri vpra\u0161anju 2. Sedaj \u0161e re\u0161imo nalogo."
     ]
    },
    {
     "cell_type": "code",
     "collapsed": false,
     "input": [
      "from scipy.integrate import ode"
     ],
     "language": "python",
     "metadata": {},
     "outputs": [],
     "prompt_number": 5
    },
    {
     "cell_type": "code",
     "collapsed": false,
     "input": [
      "#%%timeit -n 1\n",
      "solver = ode(F).set_integrator('dopri5').set_initial_value(y_zacetni_pogoji)\n",
      "solver.set_f_params(.5)\n",
      "t_RK4_sci = [0]\n",
      "x_RK4_sci = [y_zacetni_pogoji]\n",
      "while solver.successful() and solver.y[2] >= 0:\n",
      "    solver.integrate(solver.t+dt)\n",
      "    t_RK4_sci.append(solver.t)\n",
      "    x_RK4_sci.append(solver.y)\n",
      "t_RK4_sci = np.array(t_RK4_sci)\n",
      "x_RK4_sci = np.array(x_RK4_sci)"
     ],
     "language": "python",
     "metadata": {},
     "outputs": [],
     "prompt_number": 6
    },
    {
     "cell_type": "markdown",
     "metadata": {},
     "source": [
      "Vpra\u0161anje 5: Prika\u017eite $(x, y)$ lego masne to\u010dke, spreminjajte koeficient upora $c$."
     ]
    },
    {
     "cell_type": "markdown",
     "metadata": {},
     "source": [
      "Izri\u0161emo re\u0161itev iz vpra\u0161anja 4:"
     ]
    },
    {
     "cell_type": "code",
     "collapsed": false,
     "input": [
      "plt.plot(x_RK4_sci[:, 0], x_RK4_sci[:, 2], 'b.', label='Pomik - RK4 sci [m]')\n",
      "plt.xlabel('\u010cas [s]')\n",
      "plt.legend(loc=(1.01, 0));"
     ],
     "language": "python",
     "metadata": {},
     "outputs": [
      {
       "metadata": {},
       "output_type": "display_data",
       "png": "[encoded data removed]",
       "text": [
        "<matplotlib.figure.Figure at 0x85372b0>"
       ]
      }
     ],
     "prompt_number": 7
    },
    {
     "cell_type": "markdown",
     "metadata": {},
     "source": [
      "Sedaj pa napi\u0161imo funkcijo ki bo izrisala re\u0161itve za razli\u010dne parametre $c$:"
     ]
    },
    {
     "cell_type": "code",
     "collapsed": false,
     "input": [
      "def resitev_SDE(F, y_zacetni_pogoji, dt, c):\n",
      "    solver = ode(F).set_integrator('dopri5').set_initial_value(y_zacetni_pogoji)\n",
      "    solver.set_f_params(c)\n",
      "    t_RK4_sci = [0]\n",
      "    x_RK4_sci = [y_zacetni_pogoji]\n",
      "    while solver.successful() and solver.y[2] >= 0:\n",
      "        solver.integrate(solver.t+dt)\n",
      "        t_RK4_sci.append(solver.t)\n",
      "        x_RK4_sci.append(solver.y)\n",
      "    t_RK4_sci = np.array(t_RK4_sci)\n",
      "    x_RK4_sci = np.array(x_RK4_sci)\n",
      "    plt.plot(x_RK4_sci[:, 0], x_RK4_sci[:, 2], label='c = '+'$'+latex(c)+'$')\n",
      "    plt.xlabel('\u010cas [s]')\n",
      "    plt.legend();\n",
      "    return "
     ],
     "language": "python",
     "metadata": {},
     "outputs": [],
     "prompt_number": 8
    },
    {
     "cell_type": "markdown",
     "metadata": {},
     "source": [
      "Izri\u0161imo nekaj re\u0161itev:"
     ]
    },
    {
     "cell_type": "code",
     "collapsed": false,
     "input": [
      "podatki = np.asarray([0.1, 0.5, 1, 5, 10])\n",
      "\n",
      "for c in podatki:\n",
      "    resitve = resitev_SDE(F, y_zacetni_pogoji, dt, c)"
     ],
     "language": "python",
     "metadata": {},
     "outputs": [
      {
       "metadata": {},
       "output_type": "display_data",
       "png": "[encoded data removed]",
       "text": [
        "<matplotlib.figure.Figure at 0x85744a8>"
       ]
      }
     ],
     "prompt_number": 9
    },
    {
     "cell_type": "markdown",
     "metadata": {},
     "source": [
      "Vpra\u0161anje 6: Prika\u017eite hitrost v odvisnosti od \u010dasa. Dolo\u010dite minimum hitrosti in \u010das pri katerem nastane."
     ]
    },
    {
     "cell_type": "markdown",
     "metadata": {},
     "source": [
      "Izri\u0161emo hitrost v odvisnosti od \u010dasa. Uporabimo re\u0161itve iz vpra\u0161anja 4."
     ]
    },
    {
     "cell_type": "code",
     "collapsed": false,
     "input": [
      "hitrost = np.sqrt(x_RK4_sci[:, 1]**2+ x_RK4_sci[:, 3]**2)   # Formulo za hitrost smo razbrali iz vpra\u0161anja 1\n",
      "plt.plot(t_RK4_sci, hitrost, 'b.', label='Pomik - RK4 sci [m]');\n",
      "plt.ylim(0,10);"
     ],
     "language": "python",
     "metadata": {},
     "outputs": [
      {
       "metadata": {},
       "output_type": "display_data",
       "png": "[encoded data removed]",
       "text": [
        "<matplotlib.figure.Figure at 0x8d177f0>"
       ]
      }
     ],
     "prompt_number": 10
    },
    {
     "cell_type": "markdown",
     "metadata": {},
     "source": [
      "Najmanj\u0161o hitrost poi\u0161\u010demo iz vektorja hitrosti s pomo\u010djo funkcije ``np.min``:"
     ]
    },
    {
     "cell_type": "code",
     "collapsed": false,
     "input": [
      "np.min(hitrost)"
     ],
     "language": "python",
     "metadata": {},
     "outputs": [
      {
       "latex": [
        "$$5.57549850261$$"
       ],
       "metadata": {},
       "output_type": "pyout",
       "png": "[encoded data removed]",
       "prompt_number": 11,
       "text": [
        "5.57549850261"
       ]
      }
     ],
     "prompt_number": 11
    },
    {
     "cell_type": "markdown",
     "metadata": {},
     "source": [
      "\u010cas najmanj\u0161e hitrosti dobimo tako, da poi\u0161\u010demo na katerem mestu v vektorju hitrosti se pojavi najmanj\u0161a hitrost. Nato samo \u0161e od\u010ditamo pripadajo\u010di \u010das iz \u010dasovnega vektorja."
     ]
    },
    {
     "cell_type": "code",
     "collapsed": false,
     "input": [
      "t_RK4_sci[np.argmin(hitrost)]"
     ],
     "language": "python",
     "metadata": {},
     "outputs": [
      {
       "latex": [
        "$$1.59$$"
       ],
       "metadata": {},
       "output_type": "pyout",
       "png": "[encoded data removed]",
       "prompt_number": 12,
       "text": [
        "1.59"
       ]
      }
     ],
     "prompt_number": 12
    }
   ],
   "metadata": {}
  }
 ]
}