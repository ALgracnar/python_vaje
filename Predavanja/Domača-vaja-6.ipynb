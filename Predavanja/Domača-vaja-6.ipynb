{
 "metadata": {
  "name": "",
  "signature": "sha256:13f17466aa5186ccf26396498c7619ea9b414e59613e182c3d6d92db26673be0"
 },
 "nbformat": 3,
 "nbformat_minor": 0,
 "worksheets": [
  {
   "cells": [
    {
     "cell_type": "heading",
     "level": 1,
     "metadata": {},
     "source": [
      "Vaja 6"
     ]
    },
    {
     "cell_type": "heading",
     "level": 3,
     "metadata": {},
     "source": [
      "1. Za sistem ena\u010db najdite re\u0161itev s pomo\u010djo SymPy. \n",
      " $$\n",
      "    \\mathbf{A}=\n",
      "    \\begin{bmatrix}\n",
      "    1 & -4 & 1\\\\\n",
      "    1 & 6 & -1\\\\\n",
      "    2 & -1 & 2\n",
      "    \\end{bmatrix}\n",
      "    \\qquad\n",
      "    \\mathbf{b}=\n",
      "    \\begin{bmatrix}\n",
      "    7\\\\\n",
      "    13\\\\\n",
      "    5\n",
      "    \\end{bmatrix}\n",
      "    $$\n"
     ]
    },
    {
     "cell_type": "code",
     "collapsed": false,
     "input": [
      "from sympy import *\n",
      "import numpy as np\n",
      "init_printing()"
     ],
     "language": "python",
     "metadata": {},
     "outputs": [],
     "prompt_number": 1
    },
    {
     "cell_type": "code",
     "collapsed": false,
     "input": [
      "x1, x2, x3 = symbols('x1, x2, x3')\n",
      "A = Matrix([[1, -4, 1],\n",
      "            [1, 6, -1],\n",
      "            [2, -1, 2]], dtype=float)\n",
      "b = Matrix([[7],\n",
      "            [13],\n",
      "            [5]])\n",
      "x = Matrix([[x1],\n",
      "            [x2],\n",
      "            [x3]])\n",
      "eq = Eq(A*x, b)\n",
      "resitev = solve(eq, [x1, x2, x3])\n",
      "resitev"
     ],
     "language": "python",
     "metadata": {},
     "outputs": [
      {
       "output_type": "stream",
       "stream": "stderr",
       "text": [
        "C:\\Users\\Anze\\Anaconda3\\lib\\site-packages\\IPython\\core\\formatters.py:239: FormatterWarning: Exception in image/png formatter: \n",
        "\\begin{Bmatrix}x_{1} : \\frac{79}{7}, & x_{2} : - \\frac{9}{7}, & x_{3} : - \\frac{66}{7}\\end{Bmatrix}\n",
        "^\n",
        "Unknown symbol: \\begin (at char 0), (line:1, col:1)\n",
        "  FormatterWarning,\n"
       ]
      },
      {
       "latex": [
        "$$\\begin{Bmatrix}x_{1} : \\frac{79}{7}, & x_{2} : - \\frac{9}{7}, & x_{3} : - \\frac{66}{7}\\end{Bmatrix}$$"
       ],
       "metadata": {},
       "output_type": "pyout",
       "prompt_number": 5,
       "text": [
        "{x\u2081: 79/7, x\u2082: -9/7, x\u2083: -66/7}"
       ]
      }
     ],
     "prompt_number": 5
    },
    {
     "cell_type": "heading",
     "level": 3,
     "metadata": {},
     "source": [
      "2. Za zgoraj definirano matriko A dolo\u010dite Evklidsko normo (lastni program)."
     ]
    },
    {
     "cell_type": "code",
     "collapsed": false,
     "input": [
      "def evklidska_norma(matrika):\n",
      "    norma = 0\n",
      "    for i in range(A.shape[0]):\n",
      "        for j in range(A.shape[1]):\n",
      "            norma += A[i,j]**2\n",
      "    norma = N(norma**(1/2))\n",
      "    return norma"
     ],
     "language": "python",
     "metadata": {},
     "outputs": [],
     "prompt_number": 6
    },
    {
     "cell_type": "code",
     "collapsed": false,
     "input": [
      "evklidska_norma(A)"
     ],
     "language": "python",
     "metadata": {},
     "outputs": [
      {
       "latex": [
        "$$8.06225774829855$$"
       ],
       "metadata": {},
       "output_type": "pyout",
       "png": "[encoded data removed]",
       "prompt_number": 7,
       "text": [
        "8.06225774829855"
       ]
      }
     ],
     "prompt_number": 7
    },
    {
     "cell_type": "code",
     "collapsed": false,
     "input": [
      "# numpy re\u0161itev\n",
      "def evklidska_norma_numpy(matrika):\n",
      "    norm = np.square(matrika)\n",
      "    norm = float(np.sum(norm))\n",
      "    norm = np.sqrt(norm)\n",
      "    return norm"
     ],
     "language": "python",
     "metadata": {},
     "outputs": [],
     "prompt_number": 8
    },
    {
     "cell_type": "code",
     "collapsed": false,
     "input": [
      "evklidska_norma_numpy(A)"
     ],
     "language": "python",
     "metadata": {},
     "outputs": [
      {
       "latex": [
        "$$8.0622577483$$"
       ],
       "metadata": {},
       "output_type": "pyout",
       "png": "[encoded data removed]",
       "prompt_number": 9,
       "text": [
        "8.0622577483"
       ]
      }
     ],
     "prompt_number": 9
    },
    {
     "cell_type": "heading",
     "level": 3,
     "metadata": {},
     "source": [
      "3. Za zgoraj definirano matriko A dolo\u010dite neskon\u010dno normo (lastni program)."
     ]
    },
    {
     "cell_type": "code",
     "collapsed": false,
     "input": [
      "def neskoncna_norma(matrika):\n",
      "    norma = np.absolute(matrika)\n",
      "    norma = np.sum(norma, axis=1)\n",
      "    norma = np.max(norma)\n",
      "    return norma"
     ],
     "language": "python",
     "metadata": {},
     "outputs": [],
     "prompt_number": 10
    },
    {
     "cell_type": "code",
     "collapsed": false,
     "input": [
      "neskoncna_norma(A)"
     ],
     "language": "python",
     "metadata": {},
     "outputs": [
      {
       "latex": [
        "$$8$$"
       ],
       "metadata": {},
       "output_type": "pyout",
       "png": "[encoded data removed]",
       "prompt_number": 11,
       "text": [
        "8"
       ]
      }
     ],
     "prompt_number": 11
    },
    {
     "cell_type": "heading",
     "level": 3,
     "metadata": {},
     "source": [
      "4. Za zgoraj definirano matriko A dolo\u010dite pogojenost (numpy funkcija)."
     ]
    },
    {
     "cell_type": "code",
     "collapsed": false,
     "input": [
      "np.linalg.cond(A)"
     ],
     "language": "python",
     "metadata": {},
     "outputs": [
      {
       "latex": [
        "$$11.773024149$$"
       ],
       "metadata": {},
       "output_type": "pyout",
       "png": "[encoded data removed]",
       "prompt_number": 12,
       "text": [
        "11.773024149"
       ]
      }
     ],
     "prompt_number": 12
    },
    {
     "cell_type": "heading",
     "level": 3,
     "metadata": {},
     "source": [
      "5. Definirajte funkcijo gauss_elim, ki za poljubno matriko A in vektor b izvede Gaussovo eliminacijo (posebej za matriko in posebej za vektor). "
     ]
    },
    {
     "cell_type": "code",
     "collapsed": false,
     "input": [
      "A = np.array([[1, -4, 1],\n",
      "              [1, 6, -1],\n",
      "              [2, -1, 2]], dtype=float)\n",
      "b = np.array([7, 13, 5])"
     ],
     "language": "python",
     "metadata": {},
     "outputs": [],
     "prompt_number": 2
    },
    {
     "cell_type": "code",
     "collapsed": false,
     "input": [
      "def gauss_elim(A, b):\n",
      "    st_operacij = 0\n",
      "    Ab = np.column_stack((A,b))\n",
      "    (v, s) = Ab.shape\n",
      "    for p, pivot_vrsta in enumerate(Ab[:-1]):\n",
      "        for vrsta in Ab[p+1:]:\n",
      "            if pivot_vrsta[p]!=0:\n",
      "                vrsta[p:] = vrsta[p:]-pivot_vrsta[p:]*vrsta[p]/pivot_vrsta[p]\n",
      "                st_operacij += 3*len(vrsta[p:])\n",
      "    print('\u0160tevilo operacij: ', st_operacij)\n",
      "    return  Ab"
     ],
     "language": "python",
     "metadata": {},
     "outputs": [],
     "prompt_number": 3
    },
    {
     "cell_type": "code",
     "collapsed": false,
     "input": [
      "Ab = gauss_elim(A, b)\n",
      "print('Eliminacija vektorja:\\n', b)\n",
      "print('Eliminacija matrike:\\n', A)\n",
      "Ab"
     ],
     "language": "python",
     "metadata": {},
     "outputs": [
      {
       "output_type": "stream",
       "stream": "stdout",
       "text": [
        "\u0160tevilo operacij:  33\n",
        "Eliminacija vektorja:\n",
        " [ 7 13  5]\n",
        "Eliminacija matrike:\n",
        " [[ 1. -4.  1.]\n",
        " [ 1.  6. -1.]\n",
        " [ 2. -1.  2.]]\n"
       ]
      },
      {
       "metadata": {},
       "output_type": "pyout",
       "prompt_number": 4,
       "text": [
        "array([[  1. ,  -4. ,   1. ,   7. ],\n",
        "       [  0. ,  10. ,  -2. ,   6. ],\n",
        "       [  0. ,   0. ,   1.4, -13.2]])"
       ]
      }
     ],
     "prompt_number": 4
    },
    {
     "cell_type": "code",
     "collapsed": false,
     "input": [
      "b = Ab[:,[3]]\n",
      "A = Ab[:,:3]"
     ],
     "language": "python",
     "metadata": {},
     "outputs": []
    },
    {
     "cell_type": "code",
     "collapsed": false,
     "input": [
      "def gauss_elim(A):\n",
      "    if A is A:\n",
      "        (v, s) = A.shape\n",
      "        for p, pivot_vrsta in enumerate(A[:-1]):\n",
      "            for vrsta in A[p+1:]:\n",
      "                if pivot_vrsta[p]!=0:\n",
      "                    vrsta[p:] = vrsta[p:]-pivot_vrsta[p:]*vrsta[p]/pivot_vrsta[p]\n",
      "    else:                \n",
      "        for p, pivot_vrsta in enumerate(b[:-1]):\n",
      "            for vrsta in b[p+1:]:\n",
      "                if pivot_vrsta[p]!=0:\n",
      "                    vrsta[p:] = vrsta[p:]-pivot_vrsta[p:]*vrsta[p]/pivot_vrsta[p]\n",
      "    return  A, b\n",
      "\n",
      "#b = Ab[:,[3]]\n",
      "#A = Ab[:,:3]"
     ],
     "language": "python",
     "metadata": {},
     "outputs": [],
     "prompt_number": 6
    },
    {
     "cell_type": "code",
     "collapsed": false,
     "input": [
      "A1 = gauss_elim(A)\n",
      "A1"
     ],
     "language": "python",
     "metadata": {},
     "outputs": [
      {
       "metadata": {},
       "output_type": "pyout",
       "prompt_number": 7,
       "text": [
        "(array([[  1. ,  -4. ,   1. ],\n",
        "        [  0. ,  10. ,  -2. ],\n",
        "        [  0. ,   0. ,   1.4]]), array([[  7. ],\n",
        "        [  6. ],\n",
        "        [-13.2]]))"
       ]
      }
     ],
     "prompt_number": 7
    },
    {
     "cell_type": "heading",
     "level": 3,
     "metadata": {},
     "source": [
      "6. Definirajte funkcijo gauss_elim_x, ki za rezultat funkcije gauss_elim najde ustrezne vrednodsti vektorja x."
     ]
    },
    {
     "cell_type": "code",
     "collapsed": false,
     "input": [
      "def gauss_elim_x(Ab):                                               # \u010de sta A in b matriki, ne dela, zakaj?\n",
      "    (v, s) = Ab.shape\n",
      "    x = np.zeros(v)\n",
      "    for p, pivot_vrsta in enumerate(Ab[::-1]):\n",
      "        x[v-p-1] = (pivot_vrsta[-1]) / (pivot_vrsta[v-p-1])\n",
      "        \n",
      "    for p, pivot_vrsta in enumerate(Ab[::-1]):\n",
      "        x[v-p-1] = (pivot_vrsta[-1] - np.dot(pivot_vrsta[v-p:-1], x[v-p:]) ) / (pivot_vrsta[v-p-1])\n",
      "    return x"
     ],
     "language": "python",
     "metadata": {},
     "outputs": [],
     "prompt_number": 23
    },
    {
     "cell_type": "code",
     "collapsed": false,
     "input": [
      "x = gauss_elim_x(Ab)\n",
      "x"
     ],
     "language": "python",
     "metadata": {},
     "outputs": [
      {
       "metadata": {},
       "output_type": "pyout",
       "prompt_number": 24,
       "text": [
        "array([ 11.48571429,   2.01428571,   3.57142857])"
       ]
      }
     ],
     "prompt_number": 24
    },
    {
     "cell_type": "heading",
     "level": 3,
     "metadata": {},
     "source": [
      "7. Zgornji funkciji opremite s \u0161tetjem matemati\u010dnih operacij."
     ]
    },
    {
     "cell_type": "code",
     "collapsed": false,
     "input": [
      "def gauss_elim(A, b):\n",
      "    st_operacij = 0\n",
      "    Ab = np.column_stack((A,b))\n",
      "    (v, s) = Ab.shape\n",
      "    # Gaussova eliminacija\n",
      "    for p, pivot_vrsta in enumerate(Ab[:-1]):\n",
      "        for vrsta in Ab[p+1:]:\n",
      "            if pivot_vrsta[p]!=0:\n",
      "                vrsta[p:] = vrsta[p:]-pivot_vrsta[p:]*vrsta[p]/pivot_vrsta[p]\n",
      "                st_operacij += 3*len(vrsta[p:])\n",
      "    print('\u0160tevilo operacij je: ', st_operacij)\n",
      "    return Ab"
     ],
     "language": "python",
     "metadata": {},
     "outputs": [],
     "prompt_number": 431
    },
    {
     "cell_type": "code",
     "collapsed": false,
     "input": [
      "A = np.array([[1, -4, 1],\n",
      "              [1, 6, -1],\n",
      "              [2, -1, 2]], dtype=float)\n",
      "b = np.array([7, 13, 5])\n",
      "Ab = gauss_elim(A, b)\n",
      "Ab"
     ],
     "language": "python",
     "metadata": {},
     "outputs": [
      {
       "output_type": "stream",
       "stream": "stdout",
       "text": [
        "\u0160tevilo operacij je:  33\n"
       ]
      },
      {
       "metadata": {},
       "output_type": "pyout",
       "prompt_number": 432,
       "text": [
        "array([[  1. ,  -4. ,   1. ,   7. ],\n",
        "       [  0. ,  10. ,  -2. ,   6. ],\n",
        "       [  0. ,   0. ,   1.4, -13.2]])"
       ]
      }
     ],
     "prompt_number": 432
    },
    {
     "cell_type": "code",
     "collapsed": false,
     "input": [
      "def gauss_elim_x(Ab):\n",
      "    st_operacij = 0\n",
      "    (v, s) = Ab.shape\n",
      "    x = np.zeros(v)\n",
      "    for p, pivot_vrsta in enumerate(Ab[::-1]):\n",
      "        x[v-p-1] = (pivot_vrsta[-1]) / (pivot_vrsta[v-p-1])\n",
      "        st_operacij = st_operacij + 1\n",
      "    \n",
      "    for p, pivot_vrsta in enumerate(Ab[::-1]):\n",
      "        x[v-p-1] = (pivot_vrsta[-1] - np.dot(pivot_vrsta[v-p:-1], x[v-p:]) ) / (pivot_vrsta[v-p-1])\n",
      "        st_operacij = st_operacij + 3\n",
      "        \n",
      "    print('\u0160tevilo operacij je: ', st_operacij)\n",
      "    return x"
     ],
     "language": "python",
     "metadata": {},
     "outputs": [],
     "prompt_number": 433
    },
    {
     "cell_type": "code",
     "collapsed": false,
     "input": [
      "x = gauss_elim_x(Ab)\n",
      "x"
     ],
     "language": "python",
     "metadata": {},
     "outputs": [
      {
       "output_type": "stream",
       "stream": "stdout",
       "text": [
        "\u0160tevilo operacij je:  12\n"
       ]
      },
      {
       "metadata": {},
       "output_type": "pyout",
       "prompt_number": 434,
       "text": [
        "array([ 11.28571429,  -1.28571429,  -9.42857143])"
       ]
      }
     ],
     "prompt_number": 434
    },
    {
     "cell_type": "heading",
     "level": 3,
     "metadata": {},
     "source": [
      "8. Definirajte sistem 4 linearnih ena\u010db in ga re\u0161ite z zgoraj definiranimi funkcijami."
     ]
    },
    {
     "cell_type": "code",
     "collapsed": false,
     "input": [
      "C = np.array([[4, 8, 1, 2],\n",
      "              [-1, 2, -3, 5],\n",
      "              [1, 4, -3, -5],\n",
      "              [2, -9, 7, 2]], dtype=float)\n",
      "b = np.array([23, -17, -5, 24])\n",
      "\n",
      "Cb = gauss_elim(C, b)\n",
      "print(Cb)\n",
      "x = gauss_elim_x(Cb)\n",
      "x"
     ],
     "language": "python",
     "metadata": {},
     "outputs": [
      {
       "output_type": "stream",
       "stream": "stdout",
       "text": [
        "\u0160tevilo operacij je:  78\n",
        "[[  4.      8.      1.      2.     23.   ]\n",
        " [  0.      4.     -2.75    5.5   -11.25 ]\n",
        " [  0.      0.     -1.875  -8.25   -5.125]\n",
        " [  0.      0.      0.     29.6   -17.4  ]]\n",
        "\u0160tevilo operacij je:  16\n"
       ]
      },
      {
       "metadata": {},
       "output_type": "pyout",
       "prompt_number": 424,
       "text": [
        "array([ 1.40765766,  1.65315315,  5.31981982, -0.58783784])"
       ]
      }
     ],
     "prompt_number": 424
    },
    {
     "cell_type": "heading",
     "level": 3,
     "metadata": {},
     "source": [
      "9. Za v predhodno definirani sistem: s pomo\u010djo numpy modula preverite pogojenost (za dve razli\u010dni cenilki norme) in najdite re\u0161itev."
     ]
    },
    {
     "cell_type": "code",
     "collapsed": false,
     "input": [
      "np.linalg.cond(Cb)"
     ],
     "language": "python",
     "metadata": {},
     "outputs": [
      {
       "latex": [
        "$$47.2130924589$$"
       ],
       "metadata": {},
       "output_type": "pyout",
       "png": "[encoded data removed]",
       "prompt_number": 145,
       "text": [
        "47.2130924589"
       ]
      }
     ],
     "prompt_number": 145
    },
    {
     "cell_type": "code",
     "collapsed": false,
     "input": [
      "x = np.linalg.solve(C,b)\n",
      "x"
     ],
     "language": "python",
     "metadata": {},
     "outputs": [
      {
       "metadata": {},
       "output_type": "pyout",
       "prompt_number": 152,
       "text": [
        "array([ 1.40765766,  1.65315315,  5.31981982, -0.58783784])"
       ]
      }
     ],
     "prompt_number": 152
    },
    {
     "cell_type": "code",
     "collapsed": false,
     "input": [
      "np.dot(C, x)"
     ],
     "language": "python",
     "metadata": {},
     "outputs": [
      {
       "metadata": {},
       "output_type": "pyout",
       "prompt_number": 153,
       "text": [
        "array([ 23., -17.,  -5.,  24.])"
       ]
      }
     ],
     "prompt_number": 153
    },
    {
     "cell_type": "code",
     "collapsed": false,
     "input": [
      "A_oo = max(abs(C).sum(axis=1))\n",
      "A_oo"
     ],
     "language": "python",
     "metadata": {},
     "outputs": [
      {
       "latex": [
        "$$20.0$$"
       ],
       "metadata": {},
       "output_type": "pyout",
       "png": "[encoded data removed]",
       "prompt_number": 435,
       "text": [
        "20.0"
       ]
      }
     ],
     "prompt_number": 435
    },
    {
     "cell_type": "code",
     "collapsed": false,
     "input": [
      "A_evk = np.sqrt(np.sum(C**2))\n",
      "A_evk"
     ],
     "language": "python",
     "metadata": {},
     "outputs": [
      {
       "latex": [
        "$$17.691806013$$"
       ],
       "metadata": {},
       "output_type": "pyout",
       "png": "[encoded data removed]",
       "prompt_number": 436,
       "text": [
        "17.691806013"
       ]
      }
     ],
     "prompt_number": 436
    },
    {
     "cell_type": "heading",
     "level": 3,
     "metadata": {},
     "source": [
      "10.  Na sliki je prikazan sistem mas:\n",
      "<img src=\"others/mase na klancu.jpg.png\" width=600>\n",
      "    Predpostavite, da se sistem zaradi te\u017ee giblje po klancu navzdol z neznanim pospe\u0161kom $a$ in da so vrvi napete z neznanimi silami $F_i$. Znane veli\u010dine so (sami jih dolo\u010dite): posami\u010dno telo ima maso $m_i$, koeficient trenja s podlago $\\mu_i$, $g=9,81$m/s$^2$, $\\varphi=55^{\\circ}$.\n",
      "    Dolo\u010dite sistem ena\u010db v primeru dveh teles. Dolo\u010dite matriko koeficientov $\\mathbf{A}$, in vektorja $\\mathbf{x}$ ter $\\mathbf{x}$."
     ]
    },
    {
     "cell_type": "code",
     "collapsed": false,
     "input": [
      "F1, a = symbols('F1 a')\n",
      "m1 = 2\n",
      "m2 = 4\n",
      "mi1 = 0.1\n",
      "mi2 = 0.3\n",
      "g = 9.81\n",
      "phi = 55*(pi / 180) \n",
      "\n",
      "A = Matrix([[-1, -m1],\n",
      "            [1, -m2]])\n",
      "b = Matrix([[-m1*g*(math.sin(phi) - math.cos(phi)*mi1)],\n",
      "            [-m2*g*(math.sin(phi) - math.cos(phi)*mi2)]])\n",
      "x = Matrix([[F1],\n",
      "            [a]])\n",
      "enacba = Eq(A*x,b)\n",
      "resitev = solve(enacba,[F1, a])\n",
      "resitev"
     ],
     "language": "python",
     "metadata": {},
     "outputs": [
      {
       "latex": [
        "$$\\begin{Bmatrix}F_{1} : 1.50047595749437, & a : 6.72296509166747\\end{Bmatrix}$$"
       ],
       "metadata": {},
       "output_type": "pyout",
       "prompt_number": 471,
       "text": [
        "{F\u2081: 1.50047595749437, a: 6.72296509166747}"
       ]
      }
     ],
     "prompt_number": 471
    },
    {
     "cell_type": "heading",
     "level": 3,
     "metadata": {},
     "source": [
      "11. Za zgoraj definiran sistem mas predpostavite, da je mas 4 (ali ve\u010d) ter dolo\u010dite matriko koeficientov A, in vektorja x ter x. Re\u0161ite sistem (12. \u010ce je negativna sila, spremeni koeficiente trenja)."
     ]
    },
    {
     "cell_type": "code",
     "collapsed": false,
     "input": [
      "\n",
      "m1 = 4\n",
      "m2 = 3\n",
      "m3 = 2\n",
      "m4 = 1\n",
      "mi1 = 0.1\n",
      "mi2 = 0.2\n",
      "mi3 = 0.3\n",
      "mi4 = 0.4\n",
      "g = 9.81\n",
      "phi = 55 * (pi / 180)  \n",
      "\n",
      "F1, F2, F3, a = symbols('F1, F2, F3, a')\n",
      "A = Matrix([[-1, 0, 0, -m1],\n",
      "            [1, -1, 0, -m2],\n",
      "            [0, 1, -1, -m3],\n",
      "            [0, 0, 1, -m4]])\n",
      "b = Matrix([[-m1*g*(math.sin(phi) - math.cos(phi)*mi1)],\n",
      "            [-m2*g*(math.sin(phi) - math.cos(phi)*mi2)],\n",
      "            [-m3*g*(math.sin(phi) - math.cos(phi)*mi3)],\n",
      "            [-m4*g*(math.sin(phi) - math.cos(phi)*mi4)]])\n",
      "x = Matrix([[F1],\n",
      "            [F2],\n",
      "            [F3],\n",
      "            [a]])\n",
      "enacba = Eq(A*x,b)\n",
      "resitev = solve(enacba,[F1, F2, F3, a])\n",
      "resitev"
     ],
     "language": "python",
     "metadata": {},
     "outputs": [
      {
       "latex": [
        "$$\\begin{Bmatrix}F_{1} : 2.25071393624146, & F_{2} : 2.25071393624148, & F_{3} : 1.12535696812076, & a : 6.91052458635426\\end{Bmatrix}$$"
       ],
       "metadata": {},
       "output_type": "pyout",
       "prompt_number": 474,
       "text": [
        "{F\u2081: 2.25071393624146, F\u2082: 2.25071393624148, F\u2083: 1.12535696812076, a: 6.910524\n",
        "58635426}"
       ]
      }
     ],
     "prompt_number": 474
    },
    {
     "cell_type": "code",
     "collapsed": false,
     "input": [],
     "language": "python",
     "metadata": {},
     "outputs": []
    }
   ],
   "metadata": {}
  }
 ]
}