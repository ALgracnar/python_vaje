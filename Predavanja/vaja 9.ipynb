{
 "metadata": {
  "name": "",
  "signature": "sha256:e89721e22479e92706bdd87bb6458f6ee4985d4acec679bebf65826a9ccf8da6"
 },
 "nbformat": 3,
 "nbformat_minor": 0,
 "worksheets": [
  {
   "cells": [
    {
     "cell_type": "markdown",
     "metadata": {},
     "source": [
      "Na podatkih:\n",
      "$$x = [-1.00, -0.50, 0.00, 0.50, 1.00]$$\n",
      "$$y = [\u22121.00, \u22120.55, 0.00, 0.45, 1.00]$$\n",
      "uporabite linearne zlepke in dolo\u010dite prvi odvod."
     ]
    },
    {
     "cell_type": "code",
     "collapsed": false,
     "input": [
      "#1\n",
      "import numpy as np\n",
      "from scipy.interpolate import InterpolatedUnivariateSpline\n",
      "import matplotlib.pyplot as plt\n",
      "%matplotlib inline"
     ],
     "language": "python",
     "metadata": {},
     "outputs": [],
     "prompt_number": 5
    },
    {
     "cell_type": "code",
     "collapsed": false,
     "input": [
      "x =np.asarray( [-1.00, -0.50, 0.00, 0.50, 1.00], dtype=float)\n",
      "y =np.asarray( [-1.00, -0.55, 0.00, 0.45, 1.00], dtype=float)\n",
      "\n",
      "spl_lin = InterpolatedUnivariateSpline(x, y, k=1)\n",
      "xint = np.linspace(np.min(x),np.max(x), 20)\n",
      "\n",
      "spl_lin_d1 = spl_lin.derivative(1)\n",
      "\n",
      "plt.plot(x, y ,'ro')\n",
      "plt.plot(xint,spl_lin(xint), \"-g\")\n",
      "plt.plot(xint,spl_lin_d1(xint), \"--r\")\n",
      "plt.grid()"
     ],
     "language": "python",
     "metadata": {},
     "outputs": [
      {
       "metadata": {},
       "output_type": "display_data",
       "png": "[encoded data removed]",
       "text": [
        "<matplotlib.figure.Figure at 0x7761908>"
       ]
      }
     ],
     "prompt_number": 20
    },
    {
     "cell_type": "code",
     "collapsed": false,
     "input": [
      "spl_lin([0.3, 0.4])"
     ],
     "language": "python",
     "metadata": {},
     "outputs": [
      {
       "metadata": {},
       "output_type": "pyout",
       "prompt_number": 17,
       "text": [
        "array([ 0.27,  0.36])"
       ]
      }
     ],
     "prompt_number": 17
    },
    {
     "cell_type": "code",
     "collapsed": false,
     "input": [
      "#2"
     ],
     "language": "python",
     "metadata": {},
     "outputs": [],
     "prompt_number": 21
    },
    {
     "cell_type": "code",
     "collapsed": false,
     "input": [
      "konst = np.polyfit(x, y, deg=1)\n",
      "konst"
     ],
     "language": "python",
     "metadata": {},
     "outputs": [
      {
       "metadata": {},
       "output_type": "pyout",
       "prompt_number": 25,
       "text": [
        "array([ 1.  , -0.02])"
       ]
      }
     ],
     "prompt_number": 25
    },
    {
     "cell_type": "code",
     "collapsed": false,
     "input": [
      "konst = np.polyfit(x, y, deg=1)\n",
      "fun = np.poly1d(konst)\n",
      "\n",
      "plt.plot(xint, fun(xint), \"-k\", lw=2)\n",
      "plt.plot(x, y, \"ro\")"
     ],
     "language": "python",
     "metadata": {},
     "outputs": [
      {
       "metadata": {},
       "output_type": "pyout",
       "prompt_number": 31,
       "text": [
        "[<matplotlib.lines.Line2D at 0x7aefcf8>]"
       ]
      },
      {
       "metadata": {},
       "output_type": "display_data",
       "png": "[encoded data removed]",
       "text": [
        "<matplotlib.figure.Figure at 0x7b72f28>"
       ]
      }
     ],
     "prompt_number": 31
    },
    {
     "cell_type": "code",
     "collapsed": false,
     "input": [
      "#3"
     ],
     "language": "python",
     "metadata": {},
     "outputs": [],
     "prompt_number": 32
    },
    {
     "cell_type": "code",
     "collapsed": false,
     "input": [
      "sigma = np.asarray([34.5, 69.0, 103.5, 138.0])\n",
      "eps_1 = np.asarray([0.46, 0.95, 1.48, 1.93])\n",
      "eps_2 = np.asarray([0.34, 1.02, 1.51, 2.09])\n",
      "eps_3 = np.asarray([0.37, 1.00, 1.51, 2.05])"
     ],
     "language": "python",
     "metadata": {},
     "outputs": [],
     "prompt_number": 33
    },
    {
     "cell_type": "code",
     "collapsed": false,
     "input": [
      "koef = np.polyfit(eps_1, sigma, deg=1)\n",
      "print(\"el. modul: \", koef[0], \"GPa\")\n",
      "\n",
      "koef3 = np.polyfit(eps_3, sigma, deg=1)\n",
      "koef2 =  np.polyfit(eps_2, sigma, deg=1)\n",
      "\n",
      "fun2 = np.poly1d(koef2)\n",
      "fun = np.poly1d(koef)\n",
      "fun3 = np.poly1d(koef3)\n",
      "\n",
      "xvek = np.linspace(np.min(eps_1), np.max(eps_1), 200)\n",
      "plt.plot(eps_1, sigma, \"ro\")\n",
      "\n",
      "plt.plot(xvek, fun(xvek), \"-k\", lw=2)\n",
      "plt.plot(xvek, fun2(xvek), \"-g\", lw=2)\n",
      "plt.plot(xvek, fun3(xvek), \"-r\", lw=2)"
     ],
     "language": "python",
     "metadata": {},
     "outputs": [
      {
       "output_type": "stream",
       "stream": "stdout",
       "text": [
        "el. modul:  69.7740112994 GPa\n"
       ]
      },
      {
       "metadata": {},
       "output_type": "pyout",
       "prompt_number": 41,
       "text": [
        "[<matplotlib.lines.Line2D at 0x8faef98>]"
       ]
      },
      {
       "metadata": {},
       "output_type": "display_data",
       "png": "[encoded data removed]",
       "text": [
        "<matplotlib.figure.Figure at 0x7d94908>"
       ]
      }
     ],
     "prompt_number": 41
    },
    {
     "cell_type": "code",
     "collapsed": false,
     "input": [
      "#4"
     ],
     "language": "python",
     "metadata": {},
     "outputs": [],
     "prompt_number": 42
    },
    {
     "cell_type": "code",
     "collapsed": false,
     "input": [
      "eps_v"
     ],
     "language": "python",
     "metadata": {},
     "outputs": [
      {
       "metadata": {},
       "output_type": "pyout",
       "prompt_number": 49,
       "text": [
        "array([ 0.46,  0.95,  1.48,  1.93,  0.34,  1.02,  1.51,  2.09,  0.37,\n",
        "        1.  ,  1.51,  2.05])"
       ]
      }
     ],
     "prompt_number": 49
    },
    {
     "cell_type": "code",
     "collapsed": false,
     "input": [
      "eps_v = np.asarray([eps_1, eps_2, eps_3])\n",
      "eps_v = eps_v.flatten()\n",
      "sig_v = np.asarray([sigma, sigma, sigma]).flatten()\n",
      "\n",
      "utezi = np.asarray([ [0.5, 0.5, 0.5, 0.5], [1., 1., 1., 1.] ,np.ones(4) ]).flatten()\n",
      "\n",
      "konst = np.polyfit(eps_v, sig_v, deg=1, w=utezi)\n",
      "fun = np.poly1d(konst)\n",
      "xvek = np.linspace(np.min(eps_v), np.max(eps_v), 200)\n",
      "\n",
      "plt.plot(eps_v, sig_v, \"ro\")\n",
      "plt.plot(xvek, fun(xvek), \"-k\", lw=2)\n",
      "plt.plot(eps_1, sigma, \"ob\")"
     ],
     "language": "python",
     "metadata": {},
     "outputs": [
      {
       "metadata": {},
       "output_type": "pyout",
       "prompt_number": 50,
       "text": [
        "[<matplotlib.lines.Line2D at 0x91b49e8>]"
       ]
      },
      {
       "metadata": {},
       "output_type": "display_data",
       "png": "[encoded data removed]",
       "text": [
        "<matplotlib.figure.Figure at 0x911f940>"
       ]
      }
     ],
     "prompt_number": 50
    },
    {
     "cell_type": "code",
     "collapsed": false,
     "input": [
      "#7, #8"
     ],
     "language": "python",
     "metadata": {},
     "outputs": [],
     "prompt_number": 51
    },
    {
     "cell_type": "code",
     "collapsed": false,
     "input": [
      "x = np.linspace(0, 10, 50)\n",
      "y = 2 * x**2 + 0.5 * x + - 1 + 20*np.random.rand(50)\n",
      "\n",
      "plt.plot(x, y, \"ro\")"
     ],
     "language": "python",
     "metadata": {},
     "outputs": [
      {
       "metadata": {},
       "output_type": "pyout",
       "prompt_number": 75,
       "text": [
        "[<matplotlib.lines.Line2D at 0xa935da0>]"
       ]
      },
      {
       "metadata": {},
       "output_type": "display_data",
       "png": "[encoded data removed]",
       "text": [
        "<matplotlib.figure.Figure at 0xa8b35f8>"
       ]
      }
     ],
     "prompt_number": 75
    },
    {
     "cell_type": "code",
     "collapsed": false,
     "input": [
      "koef=np.polyfit(x, y, deg=2)\n",
      "\n",
      "fun=np.poly1d(koef)\n",
      "print(fun)\n",
      "vekx=np.linspace(np.min(x), np.max(x), 200)\n",
      "\n",
      "plt.plot(vekx, fun(vekx))\n",
      "\n",
      "plt.plot(x, y, \"ro\")"
     ],
     "language": "python",
     "metadata": {},
     "outputs": [
      {
       "output_type": "stream",
       "stream": "stdout",
       "text": [
        "       2\n",
        "1.924 x + 0.9068 x + 9.618\n"
       ]
      },
      {
       "metadata": {},
       "output_type": "pyout",
       "prompt_number": 78,
       "text": [
        "[<matplotlib.lines.Line2D at 0xa9cff98>]"
       ]
      },
      {
       "metadata": {},
       "output_type": "display_data",
       "png": "[encoded data removed]",
       "text": [
        "<matplotlib.figure.Figure at 0xa9cf0b8>"
       ]
      }
     ],
     "prompt_number": 78
    },
    {
     "cell_type": "code",
     "collapsed": false,
     "input": [
      "odstop = np.asarray([fun(x[i]) - y[i] for i in range(len(x))])\n",
      "np.std(odstop)"
     ],
     "language": "python",
     "metadata": {},
     "outputs": [
      {
       "metadata": {},
       "output_type": "pyout",
       "prompt_number": 66,
       "text": [
        "0.60371979505092221"
       ]
      }
     ],
     "prompt_number": 66
    },
    {
     "cell_type": "code",
     "collapsed": false,
     "input": [],
     "language": "python",
     "metadata": {},
     "outputs": []
    }
   ],
   "metadata": {}
  }
 ]
}