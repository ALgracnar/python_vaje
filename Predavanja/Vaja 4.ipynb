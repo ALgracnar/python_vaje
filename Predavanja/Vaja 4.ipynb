{
 "metadata": {
  "name": "",
  "signature": "sha256:915fedc45cffa6408e2083922a32d73ad159f9f8ef47f3e3ad8f5510a3ca8ee9"
 },
 "nbformat": 3,
 "nbformat_minor": 0,
 "worksheets": [
  {
   "cells": [
    {
     "cell_type": "heading",
     "level": 2,
     "metadata": {},
     "source": [
      "6"
     ]
    },
    {
     "cell_type": "code",
     "collapsed": false,
     "input": [
      "k = 5\n",
      "g = 7\n",
      "j = k**g\n",
      "print(j)"
     ],
     "language": "python",
     "metadata": {},
     "outputs": [
      {
       "output_type": "stream",
       "stream": "stdout",
       "text": [
        "78125\n"
       ]
      }
     ],
     "prompt_number": 1
    },
    {
     "cell_type": "heading",
     "level": 2,
     "metadata": {},
     "source": [
      "7"
     ]
    },
    {
     "cell_type": "code",
     "collapsed": false,
     "input": [
      "def deli(a, b):\n",
      "    return a/b\n",
      "deli(10,2)"
     ],
     "language": "python",
     "metadata": {},
     "outputs": [
      {
       "metadata": {},
       "output_type": "pyout",
       "prompt_number": 2,
       "text": [
        "5.0"
       ]
      }
     ],
     "prompt_number": 2
    },
    {
     "cell_type": "code",
     "collapsed": false,
     "input": [
      "def zmnozi(m, n):\n",
      "    if m*n>0:\n",
      "        return m*n\n",
      "    else:\n",
      "        return'negativno'\n",
      "print(zmnozi(-4,5))"
     ],
     "language": "python",
     "metadata": {},
     "outputs": [
      {
       "output_type": "stream",
       "stream": "stdout",
       "text": [
        "negativno\n"
       ]
      }
     ],
     "prompt_number": 5
    },
    {
     "cell_type": "heading",
     "level": 2,
     "metadata": {},
     "source": [
      "8"
     ]
    },
    {
     "cell_type": "code",
     "collapsed": false,
     "input": [
      "class Rectangle:\n",
      "    def _init_(self,width=1,height=1):\n",
      "        self.width = width\n",
      "        self.height = height\n",
      "    def set_width(self, width=1):\n",
      "        self.width = width\n",
      "    \n",
      "    def surface(self):\n",
      "        return self.width * self.height\n",
      "        \n",
      "    "
     ],
     "language": "python",
     "metadata": {},
     "outputs": [],
     "prompt_number": 10
    },
    {
     "cell_type": "code",
     "collapsed": false,
     "input": [
      "rec = Rectangle(height =5)\n",
      "rec.set_width(width=6)\n",
      "rec.surface()"
     ],
     "language": "python",
     "metadata": {},
     "outputs": [
      {
       "ename": "TypeError",
       "evalue": "object() takes no parameters",
       "output_type": "pyerr",
       "traceback": [
        "\u001b[1;31m---------------------------------------------------------------------------\u001b[0m\n\u001b[1;31mTypeError\u001b[0m                                 Traceback (most recent call last)",
        "\u001b[1;32m<ipython-input-11-dfb27014f129>\u001b[0m in \u001b[0;36m<module>\u001b[1;34m()\u001b[0m\n\u001b[1;32m----> 1\u001b[1;33m \u001b[0mrec\u001b[0m \u001b[1;33m=\u001b[0m \u001b[0mRectangle\u001b[0m\u001b[1;33m(\u001b[0m\u001b[0mheight\u001b[0m \u001b[1;33m=\u001b[0m\u001b[1;36m5\u001b[0m\u001b[1;33m)\u001b[0m\u001b[1;33m\u001b[0m\u001b[0m\n\u001b[0m\u001b[0;32m      2\u001b[0m \u001b[0mrec\u001b[0m\u001b[1;33m.\u001b[0m\u001b[0mset_width\u001b[0m\u001b[1;33m(\u001b[0m\u001b[0mwidth\u001b[0m\u001b[1;33m=\u001b[0m\u001b[1;36m6\u001b[0m\u001b[1;33m)\u001b[0m\u001b[1;33m\u001b[0m\u001b[0m\n\u001b[0;32m      3\u001b[0m \u001b[0mrec\u001b[0m\u001b[1;33m.\u001b[0m\u001b[0msurface\u001b[0m\u001b[1;33m(\u001b[0m\u001b[1;33m)\u001b[0m\u001b[1;33m\u001b[0m\u001b[0m\n",
        "\u001b[1;31mTypeError\u001b[0m: object() takes no parameters"
       ]
      }
     ],
     "prompt_number": 11
    },
    {
     "cell_type": "heading",
     "level": 2,
     "metadata": {},
     "source": [
      "9"
     ]
    },
    {
     "cell_type": "code",
     "collapsed": false,
     "input": [
      "import numpy as np\n",
      "class stetje:\n",
      "    def __init__(self, n=1):\n",
      "        self.dolzina = n\n",
      "        self.data = np.arange(n)\n",
      "    def izpis(self):\n",
      "        print(self.data)"
     ],
     "language": "python",
     "metadata": {},
     "outputs": [],
     "prompt_number": 14
    },
    {
     "cell_type": "code",
     "collapsed": false,
     "input": [
      "s = stetje(5)"
     ],
     "language": "python",
     "metadata": {},
     "outputs": [],
     "prompt_number": 15
    },
    {
     "cell_type": "code",
     "collapsed": false,
     "input": [
      "s.izpis()"
     ],
     "language": "python",
     "metadata": {},
     "outputs": [
      {
       "output_type": "stream",
       "stream": "stdout",
       "text": [
        "[0 1 2 3 4]\n"
       ]
      }
     ],
     "prompt_number": 16
    },
    {
     "cell_type": "heading",
     "level": 2,
     "metadata": {},
     "source": [
      "10"
     ]
    },
    {
     "cell_type": "code",
     "collapsed": false,
     "input": [
      "import numpy as np\n",
      "class NakljucnaStevila:\n",
      "    \n",
      "    def __init__(self, n = 1):\n",
      "        self.dolzina = n\n",
      "        self.data = np.random.rand(n)\n",
      "    def izpis(self):\n",
      "        print(self.data)"
     ],
     "language": "python",
     "metadata": {},
     "outputs": [],
     "prompt_number": 19
    },
    {
     "cell_type": "code",
     "collapsed": false,
     "input": [
      "c = NakljucnaStevila(15)\n",
      "c.izpis()"
     ],
     "language": "python",
     "metadata": {},
     "outputs": [
      {
       "output_type": "stream",
       "stream": "stdout",
       "text": [
        "[ 0.46417745  0.12149864  0.82237521  0.57472777  0.81253672  0.41641428\n",
        "  0.41462358  0.05360645  0.71048151  0.200229    0.69797301  0.56258084\n",
        "  0.86569473  0.75904278  0.31496508]\n"
       ]
      }
     ],
     "prompt_number": 20
    },
    {
     "cell_type": "heading",
     "level": 2,
     "metadata": {},
     "source": [
      "11"
     ]
    },
    {
     "cell_type": "code",
     "collapsed": false,
     "input": [
      "import numpy as np\n",
      "import matplotlib.pyplot as plt\n",
      "%matplotlib inline\n",
      "class NakljucnaStevila:\n",
      "    \n",
      "    def __init__(self, n = 1):\n",
      "        self.dolzina = n\n",
      "        self.data = np.random.rand(n)\n",
      "    def izpis(self):\n",
      "        print(self.data)\n",
      "    def izris(self):\n",
      "        plt.plot(self.data)\n",
      "        plt.ylim(0.1, 1.1)"
     ],
     "language": "python",
     "metadata": {},
     "outputs": [],
     "prompt_number": 21
    },
    {
     "cell_type": "code",
     "collapsed": false,
     "input": [
      "c = NakljucnaStevila(15)\n",
      "c.izris()\n"
     ],
     "language": "python",
     "metadata": {},
     "outputs": [
      {
       "metadata": {},
       "output_type": "display_data",
       "png": "[encoded data removed]",
       "text": [
        "<matplotlib.figure.Figure at 0x74d8128>"
       ]
      }
     ],
     "prompt_number": 23
    },
    {
     "cell_type": "heading",
     "level": 2,
     "metadata": {},
     "source": [
      "12 in 13"
     ]
    },
    {
     "cell_type": "code",
     "collapsed": false,
     "input": [
      "import numpy as np\n",
      "import matplotlib.pyplot as plt\n",
      "import pickle\n",
      "%matplotlib inline\n",
      "class NakljucnaStevila:\n",
      "    \n",
      "    def __init__(self, n = 1):\n",
      "        self.dolzina = n\n",
      "        self.data = np.random.rand(n)\n",
      "    def izpis(self):\n",
      "        print(self.data)\n",
      "    def izris(self):\n",
      "        plt.plot(self.data)\n",
      "        plt.ylim(0.1, 1.1)\n",
      "    \n",
      "    def zapisVDatoteko(self):\n",
      "        np.savetxt('shranjene_vrednosti.txt',self.data, fmt='%.5f', delimiter=' ')\n",
      "        \n",
      "    def zapisBinarno(self):\n",
      "        datoteka = open('shranjene_vrednosti_bin.pkl', mode = 'wb')\n",
      "        pickle.dump(self.data, datoteka, protocol=-1)\n",
      "        datoteka.close()\n",
      "    \n",
      "    def beri(self):\n",
      "        print(np.genfromtxt('shranjene_vrednosti.txt', delimiter='\\t'))"
     ],
     "language": "python",
     "metadata": {},
     "outputs": [],
     "prompt_number": 35
    },
    {
     "cell_type": "code",
     "collapsed": false,
     "input": [
      "c = NakljucnaStevila(5)\n",
      "c.izpis()\n",
      "c.zapisBinarno()\n",
      "c.beri()"
     ],
     "language": "python",
     "metadata": {},
     "outputs": [
      {
       "output_type": "stream",
       "stream": "stdout",
       "text": [
        "[ 0.24305506  0.02790093  0.31680477  0.06910827  0.61880847]\n",
        "[ 0.81136  0.95998  0.69559  0.81895  0.41764]\n"
       ]
      }
     ],
     "prompt_number": 36
    },
    {
     "cell_type": "heading",
     "level": 2,
     "metadata": {},
     "source": [
      "15"
     ]
    },
    {
     "cell_type": "code",
     "collapsed": false,
     "input": [],
     "language": "python",
     "metadata": {},
     "outputs": []
    }
   ],
   "metadata": {}
  }
 ]
}