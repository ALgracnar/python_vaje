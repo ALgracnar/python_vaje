{
 "metadata": {
  "name": "",
  "signature": "sha256:7b342d8d4019afaeb0a11e8bf26b37470de0b7ad66e5d6097dc5c29c05d1fdb2"
 },
 "nbformat": 3,
 "nbformat_minor": 0,
 "worksheets": [
  {
   "cells": [
    {
     "cell_type": "heading",
     "level": 2,
     "metadata": {},
     "source": [
      "1. Odprite datoteko za zapis in vanjo vpi\u0161ite formatirani (skupaj 7 mest, 3 decimalna mesta) seznam v dveh stolpcih. Razlo\u010devalni znak med stolpci naj bo prazen znak ' '."
     ]
    },
    {
     "cell_type": "code",
     "collapsed": false,
     "input": [
      "file = open('vpis.txt', mode='w')"
     ],
     "language": "python",
     "metadata": {},
     "outputs": [],
     "prompt_number": 73
    },
    {
     "cell_type": "code",
     "collapsed": false,
     "input": [
      "file.write('enajst\\n')"
     ],
     "language": "python",
     "metadata": {},
     "outputs": [
      {
       "metadata": {},
       "output_type": "pyout",
       "prompt_number": 74,
       "text": [
        "7"
       ]
      }
     ],
     "prompt_number": 74
    },
    {
     "cell_type": "code",
     "collapsed": false,
     "input": [
      "for n in range(7):\n",
      "    file.write('{vp1:7.3f}\\t {vp1:7.3f}\\n'.format(vp1=n))"
     ],
     "language": "python",
     "metadata": {},
     "outputs": [],
     "prompt_number": 75
    },
    {
     "cell_type": "code",
     "collapsed": false,
     "input": [
      "file.close()"
     ],
     "language": "python",
     "metadata": {},
     "outputs": [],
     "prompt_number": 76
    },
    {
     "cell_type": "code",
     "collapsed": false,
     "input": [
      "file = open('vpis.txt', mode='r+')"
     ],
     "language": "python",
     "metadata": {},
     "outputs": [],
     "prompt_number": 77
    },
    {
     "cell_type": "code",
     "collapsed": false,
     "input": [
      "for line in file:\n",
      "    print(line, end='')"
     ],
     "language": "python",
     "metadata": {},
     "outputs": [
      {
       "output_type": "stream",
       "stream": "stdout",
       "text": [
        "enajst\n",
        "  0.000\t   0.000\n",
        "  1.000\t   1.000\n",
        "  2.000\t   2.000\n",
        "  3.000\t   3.000\n",
        "  4.000\t   4.000\n",
        "  5.000\t   5.000\n",
        "  6.000\t   6.000\n"
       ]
      }
     ],
     "prompt_number": 79
    },
    {
     "cell_type": "heading",
     "level": 2,
     "metadata": {},
     "source": [
      "2. Odprite pripeto datoteko zapis_labview.lvm (gre za zapis iz programa LabView) in preberite glavo v obliki slovarja ('ime polja': vrednost)"
     ]
    },
    {
     "cell_type": "code",
     "collapsed": false,
     "input": [
      "file = open('zapis_labview.lvm', mode='r+')\n",
      "slovar = dict()\n",
      "for line in file:\n",
      "    list = line.split()\n",
      "    if list[0] == '***End_of_Header***':\n",
      "        break\n",
      "    slovar[list[0]] = list[1]\n",
      "for key, value in slovar.items():\n",
      "    print(key, ':', value)"
     ],
     "language": "python",
     "metadata": {},
     "outputs": [
      {
       "output_type": "stream",
       "stream": "stdout",
       "text": [
        "Time : 09:51:39,1970510124996275989\n",
        "LabVIEW : Measurement\n",
        "Decimal_Separator : ,\n",
        "Date : 2013/02/19\n",
        "Separator : Tab\n",
        "Writer_Version : 2\n",
        "Reader_Version : 2\n",
        "Multi_Headings : Yes\n",
        "Time_Pref : Absolute\n",
        "Operator : JS\n",
        "X_Columns : No\n"
       ]
      }
     ],
     "prompt_number": 3
    },
    {
     "cell_type": "markdown",
     "metadata": {},
     "source": [
      "da ne dodajamo : v print funkcijo uporabimo print slovarja"
     ]
    },
    {
     "cell_type": "code",
     "collapsed": false,
     "input": [
      "print(slovar)"
     ],
     "language": "python",
     "metadata": {},
     "outputs": [
      {
       "output_type": "stream",
       "stream": "stdout",
       "text": [
        "{'Reader_Version': '2', 'Operator': 'JS', 'Time': '09:51:39,1970510124996275989', 'Decimal_Separator': ',', 'Time_Pref': 'Absolute', 'Date': '2013/02/19', 'Separator': 'Tab', 'Writer_Version': '2', 'LabVIEW': 'Measurement', 'Multi_Headings': 'Yes', 'X_Columns': 'No'}\n"
       ]
      }
     ],
     "prompt_number": 2
    },
    {
     "cell_type": "markdown",
     "metadata": {},
     "source": [
      "preverimo delovanje ali je to slovar"
     ]
    },
    {
     "cell_type": "code",
     "collapsed": false,
     "input": [
      "slovar['Operator']"
     ],
     "language": "python",
     "metadata": {},
     "outputs": [
      {
       "metadata": {},
       "output_type": "pyout",
       "prompt_number": 9,
       "text": [
        "'JS'"
       ]
      }
     ],
     "prompt_number": 9
    },
    {
     "cell_type": "markdown",
     "metadata": {},
     "source": [
      "ali pa za line split le kli\u010demo slovar"
     ]
    },
    {
     "cell_type": "code",
     "collapsed": false,
     "input": [
      "slovar"
     ],
     "language": "python",
     "metadata": {},
     "outputs": [
      {
       "metadata": {},
       "output_type": "pyout",
       "prompt_number": 6,
       "text": [
        "{'Reader_Version': '2',\n",
        " 'Operator': 'JS',\n",
        " 'Time': '09:51:39,1970510124996275989',\n",
        " 'Decimal_Separator': ',',\n",
        " 'Time_Pref': 'Absolute',\n",
        " 'Date': '2013/02/19',\n",
        " 'Separator': 'Tab',\n",
        " 'Writer_Version': '2',\n",
        " 'LabVIEW': 'Measurement',\n",
        " 'Multi_Headings': 'Yes',\n",
        " 'X_Columns': 'No'}"
       ]
      }
     ],
     "prompt_number": 6
    },
    {
     "cell_type": "heading",
     "level": 2,
     "metadata": {},
     "source": [
      "3. V datoteki iz prej\u0161nje to\u010dke preberiet podatke (uporabite funkcijo replace() za zamenjavo decimalne vejice v piko in nato pretvorite niz v \u0161tevilo. Najdite ustrezno dokumentacijo/help)."
     ]
    },
    {
     "cell_type": "code",
     "collapsed": false,
     "input": [
      "i = 1\n",
      "#seznam = []\n",
      "zapis = open('zapis_labview.lvm', mode='r+')\n",
      "for line in zapis:\n",
      "    i += 1\n",
      "    if i > 24:\n",
      "        linija = line.replace(',', '.')\n",
      "        g = linija.split()\n",
      "        print('{0:8} : {1:8}'.format(float(g[0]), float(g[1])))\n",
      "        #seznam.append(float(g[0]))\n",
      "        #seznam.append(float(g[1]))\n",
      "zapis.close()"
     ],
     "language": "python",
     "metadata": {},
     "outputs": [
      {
       "output_type": "stream",
       "stream": "stdout",
       "text": [
        "0.914018 : 1.204792\n",
        "0.537321 : 1.208403\n",
        "0.616905 : 1.213915\n",
        "0.895449 : 1.212205\n",
        " 0.57446 : 1.222088\n",
        "0.516099 : 1.218223\n",
        "1.046658 : 1.213408\n",
        " 0.39407 : 1.221011\n",
        "0.741586 : 1.211888\n",
        "0.680572 : 1.212775\n"
       ]
      }
     ],
     "prompt_number": 55
    },
    {
     "cell_type": "heading",
     "level": 1,
     "metadata": {},
     "source": [
      "3. drugi primer"
     ]
    },
    {
     "cell_type": "code",
     "collapsed": false,
     "input": [
      "dat = open('zapis_labview.lvm')\n",
      "for line in dat:\n",
      "    lin = line.replace(',', '.')\n",
      "    split = lin.split()\n",
      "    print(split)"
     ],
     "language": "python",
     "metadata": {},
     "outputs": [
      {
       "output_type": "stream",
       "stream": "stdout",
       "text": [
        "['LabVIEW', 'Measurement']\n",
        "['Writer_Version', '2']\n",
        "['Reader_Version', '2']\n",
        "['Separator', 'Tab']\n",
        "['Decimal_Separator', '.']\n",
        "['Multi_Headings', 'Yes']\n",
        "['X_Columns', 'No']\n",
        "['Time_Pref', 'Absolute']\n",
        "['Operator', 'JS']\n",
        "['Date', '2013/02/19']\n",
        "['Time', '09:51:39.1970510124996275989']\n",
        "['***End_of_Header***']\n",
        "[]\n",
        "['Channels', '2']\n",
        "['Samples', '10', '10']\n",
        "['Date', '2013/02/19', '2013/02/19']\n",
        "['Time', '09:51:40.7271890640258789063', '09:51:40.7271890640258789063']\n",
        "['Y_Unit_Label', 'Newtons', 'm/s^2']\n",
        "['X_Dimension', 'Time', 'Time']\n",
        "['X0', '0.0000000000000000E+0', '0.0000000000000000E+0']\n",
        "['Delta_X', '3.906250E-5', '3.906250E-5']\n",
        "['***End_of_Header***']\n",
        "['X_Value', 'Vzbujanje', '(Trigger)', 'Odziv1', '(Trigger)', 'Comment']\n",
        "['0.914018', '1.204792']\n",
        "['0.537321', '1.208403']\n",
        "['0.616905', '1.213915']\n",
        "['0.895449', '1.212205']\n",
        "['0.574460', '1.222088']\n",
        "['0.516099', '1.218223']\n",
        "['1.046658', '1.213408']\n",
        "['0.394070', '1.221011']\n",
        "['0.741586', '1.211888']\n",
        "['0.680572', '1.212775']\n"
       ]
      }
     ],
     "prompt_number": 19
    },
    {
     "cell_type": "heading",
     "level": 2,
     "metadata": {},
     "source": [
      "4. Na poljubnem seznamu besed prika\u017eite uporabo izpeljevanja seznamov tako, da zamenjate poljuben samoglasnik."
     ]
    },
    {
     "cell_type": "code",
     "collapsed": false,
     "input": [
      "[p.replace('a', 'h') for p in ['a', 'o', 'u']]"
     ],
     "language": "python",
     "metadata": {},
     "outputs": [
      {
       "metadata": {},
       "output_type": "pyout",
       "prompt_number": 37,
       "text": [
        "['h', 'o', 'u']"
       ]
      }
     ],
     "prompt_number": 37
    },
    {
     "cell_type": "heading",
     "level": 2,
     "metadata": {},
     "source": [
      "5. Napi\u0161ite funkcijo. \u010ce se v funkcijo vstavi seznam besed, potem naj vrne dol\u017eino besed. \u010ce se v funkcjo vstavi seznam numeri\u010dnih vrednosti, potem naj vrne njihovo vrednost pove\u010dano za ena."
     ]
    },
    {
     "cell_type": "code",
     "collapsed": false,
     "input": [
      "def ena(g):\n",
      "    for _ in g:\n",
      "        if type(_) is str:\n",
      "            print(len(_))\n",
      "        else:\n",
      "            print(_ + 1)"
     ],
     "language": "python",
     "metadata": {},
     "outputs": [],
     "prompt_number": 4
    },
    {
     "cell_type": "code",
     "collapsed": false,
     "input": [
      "g = ['afasf', 'asdf', 'fhfdh']\n",
      "ena(g)"
     ],
     "language": "python",
     "metadata": {},
     "outputs": [
      {
       "output_type": "stream",
       "stream": "stdout",
       "text": [
        "5\n",
        "4\n",
        "5\n"
       ]
      }
     ],
     "prompt_number": 5
    },
    {
     "cell_type": "code",
     "collapsed": false,
     "input": [
      "g = [1, 4, 6, 9]\n",
      "ena(g)"
     ],
     "language": "python",
     "metadata": {},
     "outputs": [
      {
       "output_type": "stream",
       "stream": "stdout",
       "text": [
        "2\n",
        "5\n",
        "7\n",
        "10\n"
       ]
      }
     ],
     "prompt_number": 3
    },
    {
     "cell_type": "heading",
     "level": 2,
     "metadata": {},
     "source": [
      "6. Zgornjo funkcijo nadgradite: \u010de se v funkcijo vstavi prazen seznam (dol\u017eine 0), potem naj spro\u017ei izjemo Exception z ustreznim opisom."
     ]
    },
    {
     "cell_type": "code",
     "collapsed": false,
     "input": [
      "def fun(m):\n",
      "    if type(m) is list:\n",
      "        if len(m) == 0:\n",
      "            raise Exception('Prazen seznam!')\n",
      "        elif type(m) is str:\n",
      "            for _ in m:\n",
      "                print(len(_))\n",
      "        else:\n",
      "            for _ in m:\n",
      "                print(_ + 1)"
     ],
     "language": "python",
     "metadata": {},
     "outputs": [],
     "prompt_number": 4
    },
    {
     "cell_type": "code",
     "collapsed": false,
     "input": [
      "m = []\n",
      "fun(m)"
     ],
     "language": "python",
     "metadata": {},
     "outputs": [
      {
       "ename": "Exception",
       "evalue": "Prazen seznam!",
       "output_type": "pyerr",
       "traceback": [
        "\u001b[1;31m---------------------------------------------------------------------------\u001b[0m\n\u001b[1;31mException\u001b[0m                                 Traceback (most recent call last)",
        "\u001b[1;32m<ipython-input-6-b0945f1825ed>\u001b[0m in \u001b[0;36m<module>\u001b[1;34m()\u001b[0m\n\u001b[0;32m      1\u001b[0m \u001b[0mm\u001b[0m \u001b[1;33m=\u001b[0m \u001b[1;33m[\u001b[0m\u001b[1;33m]\u001b[0m\u001b[1;33m\u001b[0m\u001b[0m\n\u001b[1;32m----> 2\u001b[1;33m \u001b[0mfun\u001b[0m\u001b[1;33m(\u001b[0m\u001b[0mm\u001b[0m\u001b[1;33m)\u001b[0m\u001b[1;33m\u001b[0m\u001b[0m\n\u001b[0m",
        "\u001b[1;32m<ipython-input-4-28cb83a3075a>\u001b[0m in \u001b[0;36mfun\u001b[1;34m(m)\u001b[0m\n\u001b[0;32m      2\u001b[0m     \u001b[1;32mif\u001b[0m \u001b[0mtype\u001b[0m\u001b[1;33m(\u001b[0m\u001b[0mm\u001b[0m\u001b[1;33m)\u001b[0m \u001b[1;32mis\u001b[0m \u001b[0mlist\u001b[0m\u001b[1;33m:\u001b[0m\u001b[1;33m\u001b[0m\u001b[0m\n\u001b[0;32m      3\u001b[0m         \u001b[1;32mif\u001b[0m \u001b[0mlen\u001b[0m\u001b[1;33m(\u001b[0m\u001b[0mm\u001b[0m\u001b[1;33m)\u001b[0m \u001b[1;33m==\u001b[0m \u001b[1;36m0\u001b[0m\u001b[1;33m:\u001b[0m\u001b[1;33m\u001b[0m\u001b[0m\n\u001b[1;32m----> 4\u001b[1;33m             \u001b[1;32mraise\u001b[0m \u001b[0mException\u001b[0m\u001b[1;33m(\u001b[0m\u001b[1;34m'Prazen seznam!'\u001b[0m\u001b[1;33m)\u001b[0m\u001b[1;33m\u001b[0m\u001b[0m\n\u001b[0m\u001b[0;32m      5\u001b[0m         \u001b[1;32melif\u001b[0m \u001b[0mtype\u001b[0m\u001b[1;33m(\u001b[0m\u001b[0mm\u001b[0m\u001b[1;33m)\u001b[0m \u001b[1;32mis\u001b[0m \u001b[0mstr\u001b[0m\u001b[1;33m:\u001b[0m\u001b[1;33m\u001b[0m\u001b[0m\n\u001b[0;32m      6\u001b[0m             \u001b[1;32mfor\u001b[0m \u001b[0m_\u001b[0m \u001b[1;32min\u001b[0m \u001b[0mm\u001b[0m\u001b[1;33m:\u001b[0m\u001b[1;33m\u001b[0m\u001b[0m\n",
        "\u001b[1;31mException\u001b[0m: Prazen seznam!"
       ]
      }
     ],
     "prompt_number": 6
    },
    {
     "cell_type": "heading",
     "level": 2,
     "metadata": {},
     "source": [
      "7. Pripravite novo funkcijo, ki bo klicala funkcijo iz to\u010dke 6 in lovila izjeme."
     ]
    },
    {
     "cell_type": "code",
     "collapsed": false,
     "input": [
      "def fun(m):\n",
      "    if type(m) is list:\n",
      "        if len(m) == 0:\n",
      "            try:\n",
      "                p = dolzina\n",
      "                print(p)\n",
      "            except: #Exception:\n",
      "                print('Ne bo slo, seznam je prazen!')\n",
      "        elif type(m) is str:\n",
      "            for _ in m:\n",
      "                print(len(_))\n",
      "        else:\n",
      "            for _ in m:\n",
      "                print(_ + 1)"
     ],
     "language": "python",
     "metadata": {},
     "outputs": [],
     "prompt_number": 19
    },
    {
     "cell_type": "code",
     "collapsed": false,
     "input": [
      "m = []\n",
      "fun(m)"
     ],
     "language": "python",
     "metadata": {},
     "outputs": [
      {
       "output_type": "stream",
       "stream": "stdout",
       "text": [
        "Ne bo slo, seznam je prazen!\n"
       ]
      }
     ],
     "prompt_number": 20
    },
    {
     "cell_type": "heading",
     "level": 2,
     "metadata": {},
     "source": [
      "8. Za obe funkciji pripravite docstring"
     ]
    },
    {
     "cell_type": "code",
     "collapsed": false,
     "input": [
      "def fun(m):\n",
      "    \"\"\"Dolzina besed ali stevilo\n",
      "    \"\"\"\n",
      "    return m"
     ],
     "language": "python",
     "metadata": {},
     "outputs": [],
     "prompt_number": 4
    },
    {
     "cell_type": "code",
     "collapsed": false,
     "input": [
      "?fun"
     ],
     "language": "python",
     "metadata": {},
     "outputs": [],
     "prompt_number": 5
    },
    {
     "cell_type": "heading",
     "level": 2,
     "metadata": {},
     "source": [
      "9. Prika\u017eite uporabo argumentov s privzetimi vrednostmi."
     ]
    },
    {
     "cell_type": "code",
     "collapsed": false,
     "input": [
      "def obseg(dolzina = 18, sirina = 24):\n",
      "    return dolzina + sirina"
     ],
     "language": "python",
     "metadata": {},
     "outputs": [],
     "prompt_number": 12
    },
    {
     "cell_type": "code",
     "collapsed": false,
     "input": [
      "obseg()"
     ],
     "language": "python",
     "metadata": {},
     "outputs": [
      {
       "metadata": {},
       "output_type": "pyout",
       "prompt_number": 13,
       "text": [
        "42"
       ]
      }
     ],
     "prompt_number": 13
    },
    {
     "cell_type": "code",
     "collapsed": false,
     "input": [
      "print(obseg(17, 12)) #privzete vrednosti po vrstnem redu"
     ],
     "language": "python",
     "metadata": {},
     "outputs": [
      {
       "output_type": "stream",
       "stream": "stdout",
       "text": [
        "29\n"
       ]
      }
     ],
     "prompt_number": 15
    },
    {
     "cell_type": "heading",
     "level": 2,
     "metadata": {},
     "source": [
      "10. Prika\u017eite uporabo argumentov glede na mesto in glede na ime.\n",
      "11. V funkcijo po\u0161ljite nepredvidene vrednosti (nize in numeri\u010dne vrednosti).\n",
      "12. V funkcijo po\u0161ljite nepredvidene poimenske vrednosti."
     ]
    },
    {
     "cell_type": "code",
     "collapsed": false,
     "input": [
      "def argumenti(ime, ocena , poizkus, datum):\n",
      "    print(ime,':','ocena:', ocena) #kli\u010demo po imenu\n",
      "    if ocena >= 5:\n",
      "        print('opravil')\n",
      "    print('st poizkusa:', poizkus) #kli\u010demo glede na mesto\n",
      "    print('datum:',datum) #kli\u010demo poimenske vrednosti\n",
      "   #if 'showFigure' in datum:\n",
      "      #  print('slika')"
     ],
     "language": "python",
     "metadata": {},
     "outputs": [],
     "prompt_number": 63
    },
    {
     "cell_type": "code",
     "collapsed": false,
     "input": [
      "argumenti('Luka Numrik', 8, 2,'22.3.2015') #po\u0161ljemo nepredvidene vrednosti"
     ],
     "language": "python",
     "metadata": {},
     "outputs": [
      {
       "output_type": "stream",
       "stream": "stdout",
       "text": [
        "Luka Numrik : ocena: 8\n",
        "opravil\n",
        "st poizkusa: 2\n",
        "datum: 22.3.2015\n"
       ]
      }
     ],
     "prompt_number": 64
    },
    {
     "cell_type": "heading",
     "level": 2,
     "metadata": {},
     "source": [
      "13. Definirajte lambda funkcijo, ki spremenljivki spremeni predznak in pri\u0161teje vrednost 1. Prika\u017eite uporabo map in/ali filter funkcije"
     ]
    },
    {
     "cell_type": "code",
     "collapsed": false,
     "input": [
      "function = lambda cifra: -cifra+1\n",
      "function(4)"
     ],
     "language": "python",
     "metadata": {},
     "outputs": [
      {
       "metadata": {},
       "output_type": "pyout",
       "prompt_number": 65,
       "text": [
        "-3"
       ]
      }
     ],
     "prompt_number": 65
    },
    {
     "cell_type": "code",
     "collapsed": false,
     "input": [
      "papir = [1, 2, 3, 4, 5, 6]"
     ],
     "language": "python",
     "metadata": {},
     "outputs": [],
     "prompt_number": 66
    },
    {
     "cell_type": "code",
     "collapsed": false,
     "input": [
      "kroh = list(map(lambda x: x*2, papir))\n",
      "kroh"
     ],
     "language": "python",
     "metadata": {},
     "outputs": [
      {
       "metadata": {},
       "output_type": "pyout",
       "prompt_number": 67,
       "text": [
        "[2, 4, 6, 8, 10, 12]"
       ]
      }
     ],
     "prompt_number": 67
    },
    {
     "cell_type": "code",
     "collapsed": false,
     "input": [
      "kroh2 = list(filter(lambda x: x**9 > 0, range(-18,9)))\n",
      "kroh2"
     ],
     "language": "python",
     "metadata": {},
     "outputs": [
      {
       "metadata": {},
       "output_type": "pyout",
       "prompt_number": 93,
       "text": [
        "[1, 2, 3, 4, 5, 6, 7, 8]"
       ]
      }
     ],
     "prompt_number": 93
    },
    {
     "cell_type": "heading",
     "level": 2,
     "metadata": {},
     "source": [
      "14. Zgornji funkciji shranite v modul poljubnega imena (npr.: prve_funkcije.py)."
     ]
    },
    {
     "cell_type": "markdown",
     "metadata": {},
     "source": [
      "v pychramu definiramo funkcije ki jih potem lahko uvozimo"
     ]
    },
    {
     "cell_type": "code",
     "collapsed": false,
     "input": [
      "import start"
     ],
     "language": "python",
     "metadata": {},
     "outputs": [],
     "prompt_number": 1
    },
    {
     "cell_type": "code",
     "collapsed": false,
     "input": [
      "start.kroh(9)"
     ],
     "language": "python",
     "metadata": {},
     "outputs": [
      {
       "metadata": {},
       "output_type": "pyout",
       "prompt_number": 3,
       "text": [
        "18"
       ]
      }
     ],
     "prompt_number": 3
    },
    {
     "cell_type": "code",
     "collapsed": false,
     "input": [
      "start.zvezek(4)"
     ],
     "language": "python",
     "metadata": {},
     "outputs": [
      {
       "metadata": {},
       "output_type": "pyout",
       "prompt_number": 4,
       "text": [
        "262144"
       ]
      }
     ],
     "prompt_number": 4
    },
    {
     "cell_type": "heading",
     "level": 2,
     "metadata": {},
     "source": [
      "15. Uvozite samo eno od funkcij kot funkcijo z novim imenom (druga\u010dno ime od izvornega)"
     ]
    },
    {
     "cell_type": "code",
     "collapsed": false,
     "input": [
      "import start"
     ],
     "language": "python",
     "metadata": {},
     "outputs": [],
     "prompt_number": 136
    },
    {
     "cell_type": "code",
     "collapsed": false,
     "input": [
      "from start import kroh as kugla\n",
      "kugla(2)"
     ],
     "language": "python",
     "metadata": {},
     "outputs": [
      {
       "metadata": {},
       "output_type": "pyout",
       "prompt_number": 137,
       "text": [
        "4"
       ]
      }
     ],
     "prompt_number": 137
    },
    {
     "cell_type": "heading",
     "level": 2,
     "metadata": {},
     "source": [
      "16. Najdite vse datoteke v trenutni mapi in le-ta shranite v obliki seznama."
     ]
    },
    {
     "cell_type": "code",
     "collapsed": false,
     "input": [
      "import os"
     ],
     "language": "python",
     "metadata": {},
     "outputs": [],
     "prompt_number": 2
    },
    {
     "cell_type": "code",
     "collapsed": false,
     "input": [
      "#os.path.curdir"
     ],
     "language": "python",
     "metadata": {},
     "outputs": [],
     "prompt_number": 3
    },
    {
     "cell_type": "code",
     "collapsed": false,
     "input": [
      "#os.path.abspath(os.path.curdir)"
     ],
     "language": "python",
     "metadata": {},
     "outputs": [],
     "prompt_number": 4
    },
    {
     "cell_type": "code",
     "collapsed": true,
     "input": [
      "oblika_seznama = os.listdir()\n",
      "oblika_seznama"
     ],
     "language": "python",
     "metadata": {},
     "outputs": [
      {
       "metadata": {},
       "output_type": "pyout",
       "prompt_number": 16,
       "text": [
        "['.ipynb_checkpoints',\n",
        " 'data.pkl',\n",
        " 'Drugo predavanje.ipynb',\n",
        " 'others',\n",
        " 'podatki.txt',\n",
        " 'Predavanje 1 - Uvod v Python.ipynb',\n",
        " 'Predavanje 2 - Print, delo z datotekami, funkcije, moduli.ipynb',\n",
        " 'Predavanje 3 - Moduli, numpy, matplotlib.ipynb',\n",
        " 'prikaz vpisa.txt',\n",
        " 'prvi_modul.py',\n",
        " 'prvi_modul1.py',\n",
        " 'prvi_program.py',\n",
        " 'stanje1.pkl',\n",
        " 'Tretje predavanje-odgovori.ipynb',\n",
        " 'vaja.txt',\n",
        " 'Vaje 1 .ipynb',\n",
        " 'Vaje 2-ponovitev.ipynb',\n",
        " 'Vaje 2.ipynb',\n",
        " 'Vaje 3.ipynb',\n",
        " 'zapis_labview.lvm',\n",
        " '__init__py.py',\n",
        " '__pycache__']"
       ]
      }
     ],
     "prompt_number": 16
    },
    {
     "cell_type": "heading",
     "level": 2,
     "metadata": {},
     "source": [
      "17. Za seznam iz to\u010dke 16 preverite pod-funkcije os.path (npr. os.path.basename) in preverite z if stavkom ali datoteke obstajajo."
     ]
    },
    {
     "cell_type": "code",
     "collapsed": false,
     "input": [
      "for value in oblika_seznama:\n",
      "    ime = 'others'\n",
      "    if os.path.basename(ime) in value:\n",
      "        print('Mapa',ime,'obstaja')"
     ],
     "language": "python",
     "metadata": {},
     "outputs": [
      {
       "output_type": "stream",
       "stream": "stdout",
       "text": [
        "Mapa others obstaja\n"
       ]
      }
     ],
     "prompt_number": 19
    },
    {
     "cell_type": "heading",
     "level": 2,
     "metadata": {},
     "source": [
      "18. Z uporabo podfunkcij os.path dolo\u010dite ime in kon\u010dnico datotek iz to\u010dke 16."
     ]
    },
    {
     "cell_type": "code",
     "collapsed": false,
     "input": [
      "for name in oblika_seznama:\n",
      "    if os.path.isfile(name):\n",
      "        fajl = os.path.basename(name)\n",
      "        konc = os.path.splitext(fajl)\n",
      "        print(konc)"
     ],
     "language": "python",
     "metadata": {},
     "outputs": [
      {
       "output_type": "stream",
       "stream": "stdout",
       "text": [
        "('data', '.pkl')\n",
        "('Drugo predavanje', '.ipynb')\n",
        "('podatki', '.txt')\n",
        "('Predavanje 1 - Uvod v Python', '.ipynb')\n",
        "('Predavanje 2 - Print, delo z datotekami, funkcije, moduli', '.ipynb')\n",
        "('Predavanje 3 - Moduli, numpy, matplotlib', '.ipynb')\n",
        "('prikaz vpisa', '.txt')\n",
        "('prvi_modul', '.py')\n",
        "('prvi_modul1', '.py')\n",
        "('prvi_program', '.py')\n",
        "('stanje1', '.pkl')\n",
        "('Tretje predavanje-odgovori', '.ipynb')\n",
        "('vaja', '.txt')\n",
        "('Vaje 1 ', '.ipynb')\n",
        "('Vaje 2-ponovitev', '.ipynb')\n",
        "('Vaje 2', '.ipynb')\n",
        "('Vaje 3', '.ipynb')\n",
        "('zapis_labview', '.lvm')\n",
        "('__init__py', '.py')\n"
       ]
      }
     ],
     "prompt_number": 20
    },
    {
     "cell_type": "heading",
     "level": 2,
     "metadata": {},
     "source": [
      "19. Z izpeljevanjem seznama, naredite seznam imen in seznam kon\u010dnic datotek."
     ]
    },
    {
     "cell_type": "code",
     "collapsed": false,
     "input": [
      "names = []\n",
      "koncnice = []\n",
      "for name in oblika_seznama:\n",
      "    if os.path.isfile(name):\n",
      "        fajl = os.path.basename(name)\n",
      "        konc = os.path.splitext(fajl)\n",
      "        names.append(konc[0])\n",
      "        koncnice.append(konc[1])"
     ],
     "language": "python",
     "metadata": {},
     "outputs": [],
     "prompt_number": 36
    },
    {
     "cell_type": "code",
     "collapsed": false,
     "input": [
      "names"
     ],
     "language": "python",
     "metadata": {},
     "outputs": [
      {
       "metadata": {},
       "output_type": "pyout",
       "prompt_number": 37,
       "text": [
        "['35m - naj bi 45m',\n",
        " 'c_koda',\n",
        " 'data',\n",
        " 'data',\n",
        " 'drugi_program.cpython-34',\n",
        " 'drugi_program',\n",
        " 'Drugo predavanje-odgovori',\n",
        " 'mapa',\n",
        " 'mash_koda',\n",
        " 'matrike.cpython-34',\n",
        " 'matrike',\n",
        " 'odgovor',\n",
        " 'Odgovori 2',\n",
        " 'Predavanje 1 - Uvod v Python',\n",
        " 'Predavanje 2 - Print, delo z datotekami, funkcije, moduli',\n",
        " 'Predavanje 3 - Moduli, numpy, matplotlib',\n",
        " 'Predavanje 3 - Moduli, numpy, matplotlib',\n",
        " 'prikaz vpisa',\n",
        " 'Priprava na vaje 1',\n",
        " 'prva_funckija',\n",
        " 'prvi_modul',\n",
        " 'prvi_program.cpython-34',\n",
        " 'prvi_program',\n",
        " 'prvi_program_v_poddirektoriju.cpython-34',\n",
        " 'prvi_program_v_poddirektoriju',\n",
        " 'Prvo predavanje-odgovori',\n",
        " 'pyCharm_prvi_program',\n",
        " 'py_comparison',\n",
        " 'py_koda',\n",
        " 'schrodinger.cpython-34',\n",
        " 'stanje1',\n",
        " 'start',\n",
        " 'strojna_koda',\n",
        " 'Top39-700.4',\n",
        " 'Untitled0',\n",
        " 'vaja 1',\n",
        " 'vpis',\n",
        " 'zapis_labview',\n",
        " '__init__py']"
       ]
      }
     ],
     "prompt_number": 37
    },
    {
     "cell_type": "code",
     "collapsed": false,
     "input": [
      "koncnice"
     ],
     "language": "python",
     "metadata": {},
     "outputs": [
      {
       "metadata": {},
       "output_type": "pyout",
       "prompt_number": 38,
       "text": [
        "['.mp4',\n",
        " '.png',\n",
        " '.pkl',\n",
        " '.txt',\n",
        " '.pyc',\n",
        " '.py',\n",
        " '.ipynb',\n",
        " '.txt',\n",
        " '.png',\n",
        " '.pyc',\n",
        " '.py',\n",
        " '.txt',\n",
        " '.ipynb',\n",
        " '.ipynb',\n",
        " '.ipynb',\n",
        " '.ipynb',\n",
        " '.pdf',\n",
        " '.txt',\n",
        " '.ipynb',\n",
        " '.py',\n",
        " '.py',\n",
        " '.pyc',\n",
        " '.py',\n",
        " '.pyc',\n",
        " '.py',\n",
        " '.ipynb',\n",
        " '.png',\n",
        " '.png',\n",
        " '.png',\n",
        " '.pyc',\n",
        " '.pkl',\n",
        " '.py',\n",
        " '.png',\n",
        " '.png',\n",
        " '.ipynb',\n",
        " '.ipynb',\n",
        " '.txt',\n",
        " '.lvm',\n",
        " '.py']"
       ]
      }
     ],
     "prompt_number": 38
    },
    {
     "cell_type": "heading",
     "level": 2,
     "metadata": {},
     "source": [
      "20. Seznam imen in seznam kon\u010dnic shranite v obliki slovarja."
     ]
    },
    {
     "cell_type": "code",
     "collapsed": false,
     "input": [
      "nov_slovar = dict()\n",
      "for name in oblika_seznama:\n",
      "    if os.path.isfile(name):\n",
      "        fajl = os.path.basename(name)\n",
      "        konc = os.path.splitext(fajl)\n",
      "        nov_slovar[konc[0]] = konc[1]"
     ],
     "language": "python",
     "metadata": {},
     "outputs": [],
     "prompt_number": 44
    },
    {
     "cell_type": "code",
     "collapsed": false,
     "input": [
      "nov_slovar"
     ],
     "language": "python",
     "metadata": {},
     "outputs": [
      {
       "metadata": {},
       "output_type": "pyout",
       "prompt_number": 42,
       "text": [
        "{'data': '.txt',\n",
        " '35m - naj bi 45m': '.mp4',\n",
        " 'Predavanje 2 - Print, delo z datotekami, funkcije, moduli': '.ipynb',\n",
        " 'Predavanje 1 - Uvod v Python': '.ipynb',\n",
        " 'matrike': '.py',\n",
        " 'stanje1': '.pkl',\n",
        " 'prvi_program_v_poddirektoriju.cpython-34': '.pyc',\n",
        " 'py_koda': '.png',\n",
        " 'py_comparison': '.png',\n",
        " 'prvi_program.cpython-34': '.pyc',\n",
        " 'prvi_modul': '.py',\n",
        " 'Untitled0': '.ipynb',\n",
        " '__init__py': '.py',\n",
        " 'Drugo predavanje-odgovori': '.ipynb',\n",
        " 'pyCharm_prvi_program': '.png',\n",
        " 'vaja 1': '.ipynb',\n",
        " 'prva_funckija': '.py',\n",
        " 'c_koda': '.png',\n",
        " 'start': '.py',\n",
        " 'vpis': '.txt',\n",
        " 'Prvo predavanje-odgovori': '.ipynb',\n",
        " 'prvi_program': '.py',\n",
        " 'schrodinger.cpython-34': '.pyc',\n",
        " 'Priprava na vaje 1': '.ipynb',\n",
        " 'prikaz vpisa': '.txt',\n",
        " 'drugi_program.cpython-34': '.pyc',\n",
        " 'zapis_labview': '.lvm',\n",
        " 'strojna_koda': '.png',\n",
        " 'Odgovori 2': '.ipynb',\n",
        " 'mapa': '.txt',\n",
        " 'Top39-700.4': '.png',\n",
        " 'mash_koda': '.png',\n",
        " 'prvi_program_v_poddirektoriju': '.py',\n",
        " 'drugi_program': '.py',\n",
        " 'odgovor': '.txt',\n",
        " 'Predavanje 3 - Moduli, numpy, matplotlib': '.pdf',\n",
        " 'matrike.cpython-34': '.pyc'}"
       ]
      }
     ],
     "prompt_number": 42
    },
    {
     "cell_type": "heading",
     "level": 2,
     "metadata": {},
     "source": [
      "21. Slovar iz prej\u0161nje to\u010dke shranite in odprite s pickle."
     ]
    },
    {
     "cell_type": "code",
     "collapsed": false,
     "input": [
      "import pickle"
     ],
     "language": "python",
     "metadata": {},
     "outputs": [],
     "prompt_number": 45
    },
    {
     "cell_type": "code",
     "collapsed": false,
     "input": [
      "datoteka = open('pikel.pkl', 'wb')\n",
      "pickle.dump(oblika_seznama, datoteka, protocol=-1)\n",
      "datoteka = open('pikel.pkl', 'rb')\n",
      "b = pickle.load(datoteka)"
     ],
     "language": "python",
     "metadata": {},
     "outputs": [],
     "prompt_number": 49
    },
    {
     "cell_type": "code",
     "collapsed": false,
     "input": [
      "b"
     ],
     "language": "python",
     "metadata": {},
     "outputs": [
      {
       "metadata": {},
       "output_type": "pyout",
       "prompt_number": 50,
       "text": [
        "['.ipynb_checkpoints',\n",
        " '35m - naj bi 45m.mp4',\n",
        " 'c_koda.png',\n",
        " 'data.pkl',\n",
        " 'data.txt',\n",
        " 'drugi_program.cpython-34.pyc',\n",
        " 'drugi_program.py',\n",
        " 'Drugo predavanje-odgovori.ipynb',\n",
        " 'mapa.txt',\n",
        " 'mash_koda.png',\n",
        " 'matrike.cpython-34.pyc',\n",
        " 'matrike.py',\n",
        " 'odgovor.txt',\n",
        " 'Odgovori 2.ipynb',\n",
        " 'Predavanje 1 - Uvod v Python.ipynb',\n",
        " 'Predavanje 2 - Print, delo z datotekami, funkcije, moduli.ipynb',\n",
        " 'Predavanje 3 - Moduli, numpy, matplotlib.ipynb',\n",
        " 'Predavanje 3 - Moduli, numpy, matplotlib.pdf',\n",
        " 'prikaz vpisa.txt',\n",
        " 'Priprava na vaje 1.ipynb',\n",
        " 'prva_funckija.py',\n",
        " 'prvi_modul.py',\n",
        " 'prvi_program.cpython-34.pyc',\n",
        " 'prvi_program.py',\n",
        " 'prvi_program_v_poddirektoriju.cpython-34.pyc',\n",
        " 'prvi_program_v_poddirektoriju.py',\n",
        " 'Prvo predavanje-odgovori.ipynb',\n",
        " 'pyCharm_prvi_program.png',\n",
        " 'py_comparison.png',\n",
        " 'py_koda.png',\n",
        " 'schrodinger.cpython-34.pyc',\n",
        " 'stanje1.pkl',\n",
        " 'start.py',\n",
        " 'strojna_koda.png',\n",
        " 'Top39-700.4.png',\n",
        " 'Untitled0.ipynb',\n",
        " 'vaja 1.ipynb',\n",
        " 'vpis.txt',\n",
        " 'zapis_labview.lvm',\n",
        " '__init__py.py',\n",
        " '__pycache__']"
       ]
      }
     ],
     "prompt_number": 50
    },
    {
     "cell_type": "code",
     "collapsed": false,
     "input": [],
     "language": "python",
     "metadata": {},
     "outputs": []
    }
   ],
   "metadata": {}
  }
 ]
}