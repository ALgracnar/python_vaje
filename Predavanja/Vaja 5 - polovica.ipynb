{
 "metadata": {
  "name": "",
  "signature": "sha256:4420f0555b513fb057ff767cb55fa1652700c493782d74852189bee4e128ff7e"
 },
 "nbformat": 3,
 "nbformat_minor": 0,
 "worksheets": [
  {
   "cells": [
    {
     "cell_type": "markdown",
     "metadata": {},
     "source": [
      "Marec 2015, J.Slavi\u010d in L.Knez"
     ]
    },
    {
     "cell_type": "markdown",
     "metadata": {},
     "source": [
      "Vaja #5"
     ]
    },
    {
     "cell_type": "markdown",
     "metadata": {},
     "source": [
      "Vpra\u0161anje 1: Uvozite ves naslovni prostor iz ``SymPy``. Nastavite lep izpis rezultatov."
     ]
    },
    {
     "cell_type": "code",
     "collapsed": false,
     "input": [
      "from sympy import *\n",
      "init_printing()"
     ],
     "language": "python",
     "metadata": {},
     "outputs": [],
     "prompt_number": 1
    },
    {
     "cell_type": "markdown",
     "metadata": {},
     "source": [
      "Vpra\u0161anje 2: Za trikotnik na sliki definirajte funkcijo za izra\u010dun plo\u0161\u010dine in volumna.\n",
      "\n",
      "Vpra\u0161anje 3: Izra\u010dunajte \u0161tevil\u010dne vrednosti (podatki naj bodo definirani v slovarju in si jih izmislite)."
     ]
    },
    {
     "cell_type": "code",
     "collapsed": false,
     "input": [
      "a, b, c = symbols('a b c')\n",
      "podatki = {a: 1, b: 2, c: 0.01}"
     ],
     "language": "python",
     "metadata": {},
     "outputs": [],
     "prompt_number": 2
    },
    {
     "cell_type": "code",
     "collapsed": false,
     "input": [
      "ploscina = a*b/2\n",
      "volumen = ploscina*c"
     ],
     "language": "python",
     "metadata": {},
     "outputs": [],
     "prompt_number": 3
    },
    {
     "cell_type": "code",
     "collapsed": false,
     "input": [
      "ploscina.subs(podatki)  # Podatke vstavimo kar v obliki slovarja"
     ],
     "language": "python",
     "metadata": {},
     "outputs": [
      {
       "latex": [
        "$$1$$"
       ],
       "metadata": {},
       "output_type": "pyout",
       "png": "[encoded data removed]",
       "prompt_number": 4,
       "text": [
        "1"
       ]
      }
     ],
     "prompt_number": 4
    },
    {
     "cell_type": "code",
     "collapsed": false,
     "input": [
      "volumen.subs(podatki)  "
     ],
     "language": "python",
     "metadata": {},
     "outputs": [
      {
       "latex": [
        "$$0.01$$"
       ],
       "metadata": {},
       "output_type": "pyout",
       "png": "[encoded data removed]",
       "prompt_number": 5,
       "text": [
        "0.0100000000000000"
       ]
      }
     ],
     "prompt_number": 5
    },
    {
     "cell_type": "markdown",
     "metadata": {},
     "source": [
      "Vpra\u0161anje 4: Izra\u010dunajte stati\u010dni moment ploskve $S_{xx}=\\int_A y\\,dA=\\int_{0}^{b} y\\,x(y)\\,dy$, kjer je $x(y)=a-b\\,y/b$."
     ]
    },
    {
     "cell_type": "code",
     "collapsed": false,
     "input": [
      "x, y = symbols('x y')\n",
      "x = a - b*y/b\n",
      "Sxx = integrate(y*x,(y, 0, b))\n",
      "Sxx"
     ],
     "language": "python",
     "metadata": {},
     "outputs": [
      {
       "output_type": "stream",
       "stream": "stderr",
       "text": [
        "C:\\Users\\aljaz\\Anaconda3\\lib\\site-packages\\IPython\\core\\formatters.py:239: FormatterWarning: Exception in image/png formatter: [WinError 145] Imenik ni prazen: 'C:\\\\Users\\\\aljaz\\\\AppData\\\\Local\\\\Temp\\\\tmpspg91boo'\n",
        "  FormatterWarning,\n"
       ]
      },
      {
       "latex": [
        "$$\\frac{a b^{2}}{2} - \\frac{b^{3}}{3}$$"
       ],
       "metadata": {},
       "output_type": "pyout",
       "prompt_number": 6,
       "text": [
        "   2    3\n",
        "a\u22c5b    b \n",
        "\u2500\u2500\u2500\u2500 - \u2500\u2500\n",
        " 2     3 "
       ]
      }
     ],
     "prompt_number": 6
    },
    {
     "cell_type": "markdown",
     "metadata": {},
     "source": [
      "Vpra\u0161anje 5: Izra\u010dunajte vztrajnostni moment ploskve $I_{xx}=\\int_A y^2\\,dA$.\n",
      "\n",
      "Vpra\u0161anje 6: Prika\u017eite $I_{xx}$ v odvisnosti od parametra $b$ ($a$ definirate poljubno)."
     ]
    },
    {
     "cell_type": "code",
     "collapsed": false,
     "input": [
      "Ixx = integrate(y**2*x,(y, 0, b))   # Krat x ker integriramo po y. dA= dx*dy.\n",
      "Ixx"
     ],
     "language": "python",
     "metadata": {},
     "outputs": [
      {
       "output_type": "stream",
       "stream": "stderr",
       "text": [
        "C:\\Users\\aljaz\\Anaconda3\\lib\\site-packages\\IPython\\core\\formatters.py:239: FormatterWarning: Exception in image/png formatter: [WinError 145] Imenik ni prazen: 'C:\\\\Users\\\\aljaz\\\\AppData\\\\Local\\\\Temp\\\\tmpbj7znu83'\n",
        "  FormatterWarning,\n"
       ]
      },
      {
       "latex": [
        "$$b^{3} \\left(\\frac{e^{t}}{3} + \\frac{1}{3} \\sin{\\left (t + 5 \\right )}\\right)$$"
       ],
       "metadata": {},
       "output_type": "pyout",
       "prompt_number": 14,
       "text": [
        "   \u239b t             \u239e\n",
        " 3 \u239c\u212f    sin(t + 5)\u239f\n",
        "b \u22c5\u239c\u2500\u2500 + \u2500\u2500\u2500\u2500\u2500\u2500\u2500\u2500\u2500\u2500\u239f\n",
        "   \u239d3        3     \u23a0"
       ]
      }
     ],
     "prompt_number": 14
    },
    {
     "cell_type": "code",
     "collapsed": false,
     "input": [
      "Ixx_b = Ixx.subs('a', 2)\n",
      "Ixx_b"
     ],
     "language": "python",
     "metadata": {},
     "outputs": [
      {
       "latex": [
        "$$- \\frac{b^{4}}{4} + \\frac{2 b^{3}}{3}$$"
       ],
       "metadata": {},
       "output_type": "pyout",
       "png": "[encoded data removed]",
       "prompt_number": 8,
       "text": [
        "   4      3\n",
        "  b    2\u22c5b \n",
        "- \u2500\u2500 + \u2500\u2500\u2500\u2500\n",
        "  4     3  "
       ]
      }
     ],
     "prompt_number": 8
    },
    {
     "cell_type": "markdown",
     "metadata": {},
     "source": [
      "Vpra\u0161anje 7: Nedolo\u010deno in dolo\u010deno (v mejah od 0 do $\\tau$) integrirajte izraz: $\\sin(5+t)+e^t$."
     ]
    },
    {
     "cell_type": "code",
     "collapsed": false,
     "input": [
      "x, t, tau = symbols('x t tau')\n",
      "x = sin(5+t)+E**t\n",
      "\n",
      "# Nedolo\u010den integral\n",
      "A = integrate(x, t)\n",
      "A"
     ],
     "language": "python",
     "metadata": {},
     "outputs": [
      {
       "latex": [
        "$$e^{t} - \\cos{\\left (t + 5 \\right )}$$"
       ],
       "metadata": {},
       "output_type": "pyout",
       "png": "[encoded data removed]",
       "prompt_number": 9,
       "text": [
        " t             \n",
        "\u212f  - cos(t + 5)"
       ]
      }
     ],
     "prompt_number": 9
    },
    {
     "cell_type": "code",
     "collapsed": false,
     "input": [
      "# Dolo\u010den integral\n",
      "B = integrate(x, (t, 0, tau))\n",
      "B"
     ],
     "language": "python",
     "metadata": {},
     "outputs": [
      {
       "output_type": "stream",
       "stream": "stderr",
       "text": [
        "C:\\Users\\aljaz\\Anaconda3\\lib\\site-packages\\IPython\\core\\formatters.py:239: FormatterWarning: Exception in image/png formatter: [WinError 145] Imenik ni prazen: 'C:\\\\Users\\\\aljaz\\\\AppData\\\\Local\\\\Temp\\\\tmp60fw4lyo'\n",
        "  FormatterWarning,\n"
       ]
      },
      {
       "latex": [
        "$$e^{\\tau} - \\cos{\\left (\\tau + 5 \\right )} - 1 + \\cos{\\left (5 \\right )}$$"
       ],
       "metadata": {},
       "output_type": "pyout",
       "prompt_number": 10,
       "text": [
        " \u03c4                          \n",
        "\u212f  - cos(\u03c4 + 5) - 1 + cos(5)"
       ]
      }
     ],
     "prompt_number": 10
    },
    {
     "cell_type": "code",
     "collapsed": false,
     "input": [
      "# Ra\u010dunanje integrala na 40 decimalk\n",
      "C = integrate(x, (t, 0, 1))\n",
      "N(C, 40)"
     ],
     "language": "python",
     "metadata": {},
     "outputs": [
      {
       "output_type": "stream",
       "stream": "stderr",
       "text": [
        "C:\\Users\\aljaz\\Anaconda3\\lib\\site-packages\\IPython\\core\\formatters.py:239: FormatterWarning: Exception in image/png formatter: [WinError 145] Imenik ni prazen: 'C:\\\\Users\\\\aljaz\\\\AppData\\\\Local\\\\Temp\\\\tmp_m5pn5fu'\n",
        "  FormatterWarning,\n"
       ]
      },
      {
       "latex": [
        "$$1.04177372727190547928127434494329540064$$"
       ],
       "metadata": {},
       "output_type": "pyout",
       "prompt_number": 11,
       "text": [
        "1.041773727271905479281274344943295400640"
       ]
      }
     ],
     "prompt_number": 11
    },
    {
     "cell_type": "markdown",
     "metadata": {},
     "source": [
      "Vpra\u0161anje 8: Z odvajanjem poka\u017eite pravilnost nedolo\u010denega integrala iz predhodnega koraka."
     ]
    },
    {
     "cell_type": "code",
     "collapsed": false,
     "input": [
      "x_f = diff(A, t)\n",
      "x_f"
     ],
     "language": "python",
     "metadata": {},
     "outputs": [
      {
       "latex": [
        "$$e^{t} + \\sin{\\left (t + 5 \\right )}$$"
       ],
       "metadata": {},
       "output_type": "pyout",
       "png": "[encoded data removed]",
       "prompt_number": 12,
       "text": [
        " t             \n",
        "\u212f  + sin(t + 5)"
       ]
      }
     ],
     "prompt_number": 12
    }
   ],
   "metadata": {}
  }
 ]
}