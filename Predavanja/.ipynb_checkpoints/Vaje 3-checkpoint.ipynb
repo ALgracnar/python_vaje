{
 "metadata": {
  "name": "",
  "signature": "sha256:481857e93d8795373ecc78d3eb31bfc703be8d769e768a0a9b5e8102f73e2015"
 },
 "nbformat": 3,
 "nbformat_minor": 0,
 "worksheets": []
}