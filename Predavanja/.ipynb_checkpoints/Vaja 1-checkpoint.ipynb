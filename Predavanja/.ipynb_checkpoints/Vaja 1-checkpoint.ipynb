{
 "cells": [
  {
   "cell_type": "markdown",
   "id": "3c6ea6e2",
   "metadata": {},
   "source": [
    "# Seznam nalog:"
   ]
  },
  {
   "cell_type": "markdown",
   "id": "cadcd323",
   "metadata": {},
   "source": [
    "1. Namestite *Anaconda*.\n",
    "2. Namestite *pyCharm Community Edition*.\n",
    "3. V poljubnem delovnem direktoriju zaženite ipython notebook.\n",
    "4. Prikažite uporabo stilov, uporabo poudarjenega, poševnega teksta, uporabo seznamov, enačbe...\n",
    "5. Definirajte razliko med statičnim in dinamičnim definiranjem spremenljivk.\n",
    "6. Poiščite pomoč poljubega ukaza (znotraj Pythona in na uradni domači strani).\n",
    "7. Prikažite uporabo *niza*, *celega števila* in *števila z uporabo plavajoče vejice*.\n",
    "8. Prikažite uporabo *terke* in njenih bistvenih lastnosti.\n",
    "9. Prikažite uporabo *seznama* in njegovih bistvenih lastnosti.\n",
    "10. Komentirajte tipične operacije nad seznami.\n",
    "11. Komentirajte uporabo *množic* in tipične uporabe.\n",
    "12. Prikažite uporabo slovarjev.\n",
    "13. Katere aritmetične operatorje poznamo v Pythonu? Prikažite uporabo.\n",
    "14. Katere primerjalne operatorje poznamo v Pythonu? Prikažite uporabo.\n",
    "15. Katere logične operatorje poznamo v Pythonu? Prikažite uporabo.\n",
    "16. Prikažite uporabo ``if`` stavka.\n",
    "17. Kakšna je razlika med ``if`` stavkov in ``if`` izrazom. Prikažite!\n",
    "18. Prikažite uporabo zanke ``while``.\n",
    "19. Prikažite uporabo zanke ``for``.\n",
    "20. Prikažite uporabo zanke ``for`` v povezavi s funkcijami ``range``, ``enumerate``, ``zip``     "
   ]
  },
  {
   "cell_type": "markdown",
   "id": "acd556bf",
   "metadata": {},
   "source": [
    "## 1. Namestite *Anaconda*."
   ]
  },
  {
   "cell_type": "markdown",
   "id": "0d0f3d01",
   "metadata": {},
   "source": [
    "Anakonda nameščena!"
   ]
  },
  {
   "cell_type": "markdown",
   "id": "a0440c8f",
   "metadata": {},
   "source": [
    "## 2. Namestite *pyCharm Community Edition*."
   ]
  },
  {
   "cell_type": "markdown",
   "id": "bd467e53",
   "metadata": {},
   "source": [
    "pyCharm Community Edition nameščen!"
   ]
  },
  {
   "cell_type": "markdown",
   "id": "35d111f3",
   "metadata": {},
   "source": [
    "## 3. V poljubnem delovnem direktoriju zaženite ipython notebook."
   ]
  },
  {
   "cell_type": "code",
   "execution_count": 1,
   "id": "346b2875",
   "metadata": {},
   "outputs": [
    {
     "name": "stdout",
     "output_type": "stream",
     "text": [
      " Volume in drive C is OS\n",
      " Volume Serial Number is D0A1-AB70\n",
      "\n",
      " Directory of C:\\Aljaz_storage_pit\\Studij\\2_letnik\\pinm\\PiNM 2014-15\\Predavanja\n",
      "\n",
      "14/08/2022  18:15    <DIR>          .\n",
      "14/08/2022  18:15    <DIR>          ..\n",
      "09/07/2021  19:13    <DIR>          .ipynb_checkpoints\n",
      "17/04/2015  14:35            20,980 8_predavanje(1-14).ipynb\n",
      "02/03/2015  13:05           149,876 data.pkl\n",
      "03/04/2015  13:25            33,569 Domaca-vaja-6.ipynb\n",
      "07/11/2017  18:39            30,997 Drugo predavanje.ipynb\n",
      "09/07/2021  19:13    <DIR>          others\n",
      "09/03/2015  13:45                90 podatki.txt\n",
      "14/08/2022  18:15            47,613 Predavanje 1 - Uvod v Python.ipynb\n",
      "10/05/2015  16:31           235,745 Predavanje 11 - Numericno odvajanje.ipynb\n",
      "23/05/2015  02:42           259,268 Predavanje 12 - Numericno integriranje.ipynb\n",
      "28/03/2017  10:40            40,153 Predavanje 2 - Print, delo z datotekami, funkcije, moduli.ipynb\n",
      "28/03/2017  10:42           302,128 Predavanje 3 - Moduli, numpy, matplotlib.ipynb\n",
      "26/11/2017  21:39            23,469 Predavanje 4 - Moduli, uporabniski vmesnik.ipynb\n",
      "25/03/2017  10:58           294,157 Predavanje 5 - Simbolno racunanje.ipynb\n",
      "08/06/2015  21:44            34,066 Predavanje 8 - Interpolacija.ipynb\n",
      "07/04/2017  21:22           228,507 Predavanje 9 - Aproksimacija.ipynb\n",
      "23/05/2015  18:28               130 prikaz vpisa.txt\n",
      "02/03/2015  13:03                67 prvi_modul.py\n",
      "16/03/2015  13:00                85 prvi_modul1.py\n",
      "16/03/2015  12:51                58 prvi_program.py\n",
      "20/03/2015  15:28                40 shranjene_vrednosti.txt\n",
      "20/03/2015  15:38               195 shranjene_vrednosti_bin.pkl\n",
      "02/03/2015  13:05                42 stanje1.pkl\n",
      "13/03/2015  09:56           243,171 Tretje predavanje-odgovori.ipynb\n",
      "26/11/2017  21:36                 0 untitled\n",
      "03/11/2015  18:12             3,142 Untitled0.ipynb\n",
      "27/02/2015  15:49            33,286 Vaja 1.ipynb\n",
      "20/04/2015  02:44            37,172 Vaja 10 - polovica.ipynb\n",
      "04/05/2015  01:15           181,577 Vaja 11 - polovica.ipynb\n",
      "23/05/2015  01:57            29,463 Vaja 12 - polovica.ipynb\n",
      "14/05/2015  22:35           173,350 Vaja 12.ipynb\n",
      "11/05/2015  04:57            45,241 Vaja 13 - polovica.ipynb\n",
      "16/03/2015  13:42            32,727 Vaja 2-ponovitev.ipynb\n",
      "16/03/2015  13:24            36,942 Vaja 2.ipynb\n",
      "09/03/2015  11:46               399 Vaja 3.ipynb\n",
      "20/03/2015  15:38            24,190 Vaja 4.ipynb\n",
      "23/05/2015  01:06            15,500 Vaja 5 - polovica.ipynb\n",
      "09/04/2015  23:40           162,144 Vaja 8 - polovica.ipynb\n",
      "23/04/2015  21:30            83,553 vaja 9.ipynb\n",
      "02/03/2015  13:03               776 zapis_labview.lvm\n",
      "02/03/2015  13:05                29 __init__py.py\n",
      "09/07/2021  19:13    <DIR>          __pycache__\n",
      "              39 File(s)      2,803,897 bytes\n",
      "               5 Dir(s)  126,083,858,432 bytes free\n"
     ]
    }
   ],
   "source": [
    "#Ipython zagnan v C:\\Users\\aljaz\\Desktop\\pinm\\PiNM 2014-15!\n",
    "!dir"
   ]
  },
  {
   "cell_type": "markdown",
   "id": "9007ad76",
   "metadata": {},
   "source": [
    "## 4. Prikažite uporabo stilov, uporabo poudarjenega, poševnega teksta, uporabo seznamov, enačbe..."
   ]
  },
  {
   "cell_type": "markdown",
   "id": "8c3d97f0",
   "metadata": {},
   "source": [
    "*poševno* - Poševni tekst znakovno označimo takole:\n"
   ]
  },
  {
   "cell_type": "raw",
   "id": "f340ec75",
   "metadata": {},
   "source": [
    "*poševno*"
   ]
  },
  {
   "cell_type": "markdown",
   "id": "8fde5136",
   "metadata": {},
   "source": [
    "**krepko**-Krepki tekst znakovno označimo takole:"
   ]
  },
  {
   "cell_type": "raw",
   "id": "0e132475",
   "metadata": {},
   "source": [
    "**krepko**"
   ]
  },
  {
   "cell_type": "markdown",
   "id": "960541d7",
   "metadata": {},
   "source": [
    "$a=\\sqrt(b^2+1)$ "
   ]
  },
  {
   "cell_type": "markdown",
   "metadata": {},
   "source": [
    "$a(t)=\\sqrt{\\frac{1}{1-r^3}}$"
   ]
  },
  {
   "cell_type": "code",
   "execution_count": 7,
   "id": "3e766fd3",
   "metadata": {},
   "outputs": [
    {
     "name": "stdout",
     "output_type": "stream",
     "text": [
      "[5, 4, 3, 2, 1]\n",
      "15\n",
      "20\n"
     ]
    }
   ],
   "source": [
    "seznam = [1, 2, 3, 4, 5,]\n",
    "a = seznam[4]*seznam[2]\n",
    "c = seznam[-2]*seznam[4]\n",
    "seznam_obratno=seznam[:: -1]\n",
    "print (seznam_obratno)\n",
    "print (a)\n",
    "print (c)"
   ]
  },
  {
   "cell_type": "markdown",
   "id": "d1e3446b",
   "metadata": {},
   "source": [
    "## 5. Definirajte razliko med statičnim in dinamičnim definiranjem spremenljivk."
   ]
  },
  {
   "cell_type": "markdown",
   "id": "cbd1252c",
   "metadata": {},
   "source": [
    "Statično definirane spremenljivke nosijo vrednost, ki smo jim dodelili sozi vso kodo, dinamično definiranje spremenljivk pa pomeni, da lahko skozi kodo spremenljivki dodelimo drugo vrednost. Obvelja vrednost zadnjega vnosa."
   ]
  },
  {
   "cell_type": "markdown",
   "id": "bd902dfc",
   "metadata": {},
   "source": [
    "## 6. Poiščite pomoč poljubega ukaza (znotraj Pythona in na uradni domači strani)."
   ]
  },
  {
   "cell_type": "code",
   "execution_count": null,
   "id": "4c55f0b2",
   "metadata": {},
   "outputs": [],
   "source": []
  },
  {
   "cell_type": "markdown",
   "id": "38459a18",
   "metadata": {},
   "source": [
    "## 7. Prikažite uporabo *niza*, *celega števila* in *števila z uporabo plavajoče vejice*."
   ]
  },
  {
   "cell_type": "code",
   "execution_count": 15,
   "id": "4d06ae7b",
   "metadata": {},
   "outputs": [
    {
     "name": "stdout",
     "output_type": "stream",
     "text": [
      "----------------------------------------------------------------------------------------------------\n",
      "sestevek nizov: Programiranje in numericne metode\n",
      "----------------------------------------------------------------------------------------------------\n",
      "sestevek nizov, pisan z velikimi tiskanimi črkami: PROGRAMIRANJE IN NUMERICNE METODE\n",
      "----------------------------------------------------------------------------------------------------\n",
      "niz1 pretvorjen v seznam crk: ['P', 'r', 'o', 'g', 'r', 'a', 'm', 'i', 'r', 'a', 'n', 'j', 'e']\n",
      "----------------------------------------------------------------------------------------------------\n",
      "seznam besed v niz5: ['Programiranje', 'in', 'numericne', 'metode']\n",
      "----------------------------------------------------------------------------------------------------\n",
      "stevilo besed v seznamu_besed je enako 4\n",
      "----------------------------------------------------------------------------------------------------\n"
     ]
    }
   ],
   "source": [
    "#Uporaba niza\n",
    "\n",
    "niz1 = 'Programiranje'\n",
    "niz2 = ' in'\n",
    "niz3 = ' numericne'\n",
    "niz4 = ' metode' \n",
    "niz5 = niz1+niz2+niz3+niz4\n",
    "print (100*'-')\n",
    "print ('sestevek nizov:', niz5)\n",
    "print (100*'-')\n",
    "print ('sestevek nizov, pisan z velikimi tiskanimi črkami:', niz5.upper())\n",
    "print (100*'-')\n",
    "print ('niz1 pretvorjen v seznam crk:', list(niz1))\n",
    "print (100*'-')\n",
    "print ('seznam besed v niz5:', niz5.split())\n",
    "print (100*'-')\n",
    "print ('stevilo besed v seznamu_besed je enako', len(niz5.split()))\n",
    "print (100*'-')"
   ]
  },
  {
   "cell_type": "code",
   "execution_count": 30,
   "id": "a23c2ae3",
   "metadata": {},
   "outputs": [
    {
     "name": "stdout",
     "output_type": "stream",
     "text": [
      " rešitev enačbe z celoštevilskim deljenjem (intiger) 2\n",
      "rešitev enačbe z deljenjem s plavajočo vejico(float) 2.5\n"
     ]
    }
   ],
   "source": [
    "#celo število in število s plavajočo vejico:\n",
    "\n",
    "a = 5\n",
    "b = 2\n",
    "c = a/b\n",
    "print 'rešitev enačbe z celoštevilskim deljenjem (intiger)', (c)\n",
    "a = 5.\n",
    "b = 2.\n",
    "c = a/b\n",
    "print 'rešitev enačbe z deljenjem s plavajočo vejico(float)', (c)"
   ]
  },
  {
   "cell_type": "markdown",
   "id": "c04eaaf2",
   "metadata": {},
   "source": [
    "## 8. Prikažite uporabo *terke* in njenih bistvenih lastnosti."
   ]
  },
  {
   "cell_type": "markdown",
   "id": "fd6f98c2",
   "metadata": {},
   "source": []
  },
  {
   "cell_type": "code",
   "execution_count": 31,
   "id": "652a8726",
   "metadata": {},
   "outputs": [
    {
     "name": "stdout",
     "output_type": "stream",
     "text": [
      "88888\n",
      "(54321, 12345, 22222)\n"
     ]
    },
    {
     "ename": "TypeError",
     "evalue": "'tuple' object does not support item assignment",
     "output_type": "error",
     "traceback": [
      "\u001b[1;31m---------------------------------------------------------------------------\u001b[0m\n\u001b[1;31mTypeError\u001b[0m                                 Traceback (most recent call last)",
      "\u001b[1;32m<ipython-input-31-17953e00ad47>\u001b[0m in \u001b[0;36m<module>\u001b[1;34m()\u001b[0m\n\u001b[0;32m      4\u001b[0m \u001b[1;32mprint\u001b[0m \u001b[0mterka\u001b[0m\u001b[1;33m[\u001b[0m\u001b[1;36m0\u001b[0m\u001b[1;33m]\u001b[0m\u001b[1;33m+\u001b[0m\u001b[0mterka\u001b[0m\u001b[1;33m[\u001b[0m\u001b[1;36m1\u001b[0m\u001b[1;33m]\u001b[0m\u001b[1;33m+\u001b[0m\u001b[0mterka\u001b[0m\u001b[1;33m[\u001b[0m\u001b[1;36m2\u001b[0m\u001b[1;33m]\u001b[0m\u001b[1;33m\u001b[0m\u001b[0m\n\u001b[0;32m      5\u001b[0m \u001b[1;32mprint\u001b[0m \u001b[0mterka\u001b[0m\u001b[1;33m\u001b[0m\u001b[0m\n\u001b[1;32m----> 6\u001b[1;33m \u001b[0mterka\u001b[0m\u001b[1;33m[\u001b[0m\u001b[1;36m2\u001b[0m\u001b[1;33m]\u001b[0m \u001b[1;33m=\u001b[0m \u001b[1;36m00000\u001b[0m\u001b[1;33m\u001b[0m\u001b[0m\n\u001b[0m\u001b[0;32m      7\u001b[0m \u001b[1;32mprint\u001b[0m \u001b[1;34m'komponent terke ne moremo spreminjati!!!'\u001b[0m\u001b[1;33m,\u001b[0m \u001b[0mterka\u001b[0m\u001b[1;33m\u001b[0m\u001b[0m\n",
      "\u001b[1;31mTypeError\u001b[0m: 'tuple' object does not support item assignment"
     ]
    }
   ],
   "source": [
    "#terka ali tuple\n",
    "\n",
    "terka = 54321, 12345, 22222,\n",
    "print terka[0]+terka[1]+terka[2]\n",
    "print terka\n",
    "terka[2] = 00000\n",
    "print 'komponent terke ne moremo spreminjati!!!', terka"
   ]
  },
  {
   "cell_type": "code",
   "execution_count": 32,
   "id": "6f92bc75",
   "metadata": {},
   "outputs": [],
   "source": [
    "def funkcija(kaj_sem_delal):\n",
    "    return 'vzlet', kaj_sem_delal*2 \n"
   ]
  },
  {
   "cell_type": "markdown",
   "id": "5e4de34b",
   "metadata": {},
   "source": [
    "## 9. Prikažite uporabo *seznama* in njegovih bistvenih lastnosti."
   ]
  },
  {
   "cell_type": "code",
   "execution_count": 33,
   "id": "5e5ddbc0",
   "metadata": {},
   "outputs": [],
   "source": [
    "seznam = [1, 2, 3, 4]\n"
   ]
  },
  {
   "cell_type": "code",
   "execution_count": 34,
   "id": "c3865d1d",
   "metadata": {},
   "outputs": [
    {
     "data": {
      "text/plain": [
       "[1, 2, 5, 4]"
      ]
     },
     "execution_count": 34,
     "metadata": {},
     "output_type": "execute_result"
    }
   ],
   "source": [
    "#vsebina seznama se lahko spreminja\n",
    "seznam[2] =5\n",
    "seznam"
   ]
  },
  {
   "cell_type": "markdown",
   "id": "ea570761",
   "metadata": {},
   "source": [
    "## 10. Komentirajte tipične operacije nad seznami."
   ]
  },
  {
   "cell_type": "code",
   "execution_count": 35,
   "id": "70c58dff",
   "metadata": {},
   "outputs": [
    {
     "data": {
      "text/plain": [
       "[1, 2, 5, 4, 'JS']"
      ]
     },
     "execution_count": 35,
     "metadata": {},
     "output_type": "execute_result"
    }
   ],
   "source": [
    "#dodajanje \n",
    "seznam.append('JS')\n",
    "seznam"
   ]
  },
  {
   "cell_type": "code",
   "execution_count": 36,
   "id": "d8efdd98",
   "metadata": {},
   "outputs": [
    {
     "data": {
      "text/plain": [
       "[1, 2, 'plus 3 je', 5, 4, 'JS']"
      ]
     },
     "execution_count": 36,
     "metadata": {},
     "output_type": "execute_result"
    }
   ],
   "source": [
    "#dodajanje na določeno mesto\n",
    "seznam.insert(2, 'plus 3 je')\n",
    "seznam"
   ]
  },
  {
   "cell_type": "code",
   "execution_count": 37,
   "id": "6c0f5d0a",
   "metadata": {},
   "outputs": [
    {
     "data": {
      "text/plain": [
       "[1, 2, 'plus 3 je', 5, 'JS']"
      ]
     },
     "execution_count": 37,
     "metadata": {},
     "output_type": "execute_result"
    }
   ],
   "source": [
    "#izločitev 4. komponente iz seznama\n",
    "seznam.pop(4)\n",
    "seznam"
   ]
  },
  {
   "cell_type": "code",
   "execution_count": 38,
   "id": "c59c8aad",
   "metadata": {},
   "outputs": [
    {
     "data": {
      "text/plain": [
       "1"
      ]
     },
     "execution_count": 38,
     "metadata": {},
     "output_type": "execute_result"
    }
   ],
   "source": [
    "# kolikokrat se petica v seznamu ponovi\n",
    "seznam.count(5)"
   ]
  },
  {
   "cell_type": "markdown",
   "id": "47fe3be6",
   "metadata": {},
   "source": [
    "## 11. Komentirajte uporabo *množic* in tipične uporabe."
   ]
  },
  {
   "cell_type": "code",
   "execution_count": 39,
   "id": "383f8964",
   "metadata": {},
   "outputs": [
    {
     "data": {
      "text/plain": [
       "{1, 2, 3, 4, 5}"
      ]
     },
     "execution_count": 39,
     "metadata": {},
     "output_type": "execute_result"
    }
   ],
   "source": [
    "# ne dovoljujejo podvojenih vrednosti\n",
    "A = {1, 2, 3, 4, 5, 5, 5}\n",
    "A"
   ]
  },
  {
   "cell_type": "code",
   "execution_count": 40,
   "id": "569afb1e",
   "metadata": {},
   "outputs": [
    {
     "data": {
      "text/plain": [
       "{3, 4, 5, 6, 7, 8, 9}"
      ]
     },
     "execution_count": 40,
     "metadata": {},
     "output_type": "execute_result"
    }
   ],
   "source": [
    "#sezname spremenimo v množice in se znebimo dvojnih vrednosti\n",
    "seznam = [9, 8, 7, 6, 5, 4, 3, 3, 3, 3]\n",
    "B = set(seznam)\n",
    "B"
   ]
  },
  {
   "cell_type": "code",
   "execution_count": 41,
   "id": "9d3d2a5f",
   "metadata": {},
   "outputs": [
    {
     "name": "stdout",
     "output_type": "stream",
     "text": [
      "set([1, 2])\n",
      "set([1, 2, 3, 4, 5, 6, 7, 8, 9])\n",
      "set([3, 4, 5])\n",
      "set([1, 2, 6, 7, 8, 9])\n"
     ]
    }
   ],
   "source": [
    "#operacije\n",
    "print A-B #A brez B\n",
    "print A|B # A in B skupaj\n",
    "print A&B # Skupno A in B\n",
    "print A^B # Kar ni skupnega"
   ]
  },
  {
   "cell_type": "markdown",
   "id": "5e69e41c",
   "metadata": {},
   "source": [
    "## 12. Prikažite uporabo slovarjev."
   ]
  },
  {
   "cell_type": "code",
   "execution_count": 42,
   "id": "90870396",
   "metadata": {},
   "outputs": [],
   "source": [
    "podatki = {'visina': 4, 'sirina': 2, 'dolzina': 3}"
   ]
  },
  {
   "cell_type": "code",
   "execution_count": 43,
   "id": "5300905f",
   "metadata": {},
   "outputs": [
    {
     "name": "stdout",
     "output_type": "stream",
     "text": [
      "{'dolzina': 3, 'sirina': 2, 'visina': 4}\n"
     ]
    }
   ],
   "source": [
    "print podatki"
   ]
  },
  {
   "cell_type": "code",
   "execution_count": 44,
   "id": "9e5e0f5b",
   "metadata": {},
   "outputs": [
    {
     "data": {
      "text/plain": [
       "2"
      ]
     },
     "execution_count": 44,
     "metadata": {},
     "output_type": "execute_result"
    }
   ],
   "source": [
    "podatki['sirina']#klicanje possmeznega parametra\n"
   ]
  },
  {
   "cell_type": "code",
   "execution_count": 45,
   "id": "3ffc1b1e",
   "metadata": {},
   "outputs": [
    {
     "data": {
      "text/plain": [
       "['dolzina', 'sirina', 'visina']"
      ]
     },
     "execution_count": 45,
     "metadata": {},
     "output_type": "execute_result"
    }
   ],
   "source": [
    "podatki.keys() # ključi v slovarju"
   ]
  },
  {
   "cell_type": "code",
   "execution_count": 46,
   "id": "cb2fa6ba",
   "metadata": {},
   "outputs": [
    {
     "data": {
      "text/plain": [
       "{'dolzina': 3, 'g': 9.81, 'sirina': 2, 'visina': 4}"
      ]
     },
     "execution_count": 46,
     "metadata": {},
     "output_type": "execute_result"
    }
   ],
   "source": [
    "podatki['g']=9.81 #dodajanje elementov\n",
    "podatki"
   ]
  },
  {
   "cell_type": "code",
   "execution_count": 47,
   "id": "7753115a",
   "metadata": {},
   "outputs": [
    {
     "data": {
      "text/plain": [
       "{'dolzina': 3, 'sirina': 2, 'visina': 4}"
      ]
     },
     "execution_count": 47,
     "metadata": {},
     "output_type": "execute_result"
    }
   ],
   "source": [
    "podatki.pop('g')# odstranjevanje elemntov\n",
    "podatki"
   ]
  },
  {
   "cell_type": "markdown",
   "id": "bfbeeef0",
   "metadata": {},
   "source": [
    "## 13. Katere aritmetične operatorje poznamo v Pythonu? Prikažite uporabo."
   ]
  },
  {
   "cell_type": "code",
   "execution_count": 48,
   "id": "a528d782",
   "metadata": {},
   "outputs": [
    {
     "data": {
      "text/plain": [
       "3.0"
      ]
     },
     "execution_count": 48,
     "metadata": {},
     "output_type": "execute_result"
    }
   ],
   "source": [
    "1.+2. #seštevanje"
   ]
  },
  {
   "cell_type": "code",
   "execution_count": 49,
   "id": "27a31a2b",
   "metadata": {},
   "outputs": [
    {
     "data": {
      "text/plain": [
       "-2.0"
      ]
     },
     "execution_count": 49,
     "metadata": {},
     "output_type": "execute_result"
    }
   ],
   "source": [
    "1.-3. # odštevanje"
   ]
  },
  {
   "cell_type": "code",
   "execution_count": 50,
   "id": "5b08fcf6",
   "metadata": {},
   "outputs": [
    {
     "data": {
      "text/plain": [
       "2.34"
      ]
     },
     "execution_count": 50,
     "metadata": {},
     "output_type": "execute_result"
    }
   ],
   "source": [
    "234.*0.01# množenje"
   ]
  },
  {
   "cell_type": "code",
   "execution_count": 51,
   "id": "17105a65",
   "metadata": {},
   "outputs": [
    {
     "data": {
      "text/plain": [
       "2.3333333333333335"
      ]
     },
     "execution_count": 51,
     "metadata": {},
     "output_type": "execute_result"
    }
   ],
   "source": [
    "7./3 # deljenje"
   ]
  },
  {
   "cell_type": "code",
   "execution_count": 52,
   "id": "8c892165",
   "metadata": {},
   "outputs": [
    {
     "name": "stdout",
     "output_type": "stream",
     "text": [
      "2\n",
      "ostanek 1\n"
     ]
    }
   ],
   "source": [
    "print 7//3 #celoštevilsko deljenje\n",
    "print 'ostanek', 7%3 #ostanek pri deljenju"
   ]
  },
  {
   "cell_type": "code",
   "execution_count": 53,
   "id": "9fd2ba6b",
   "metadata": {},
   "outputs": [
    {
     "data": {
      "text/plain": [
       "8"
      ]
     },
     "execution_count": 53,
     "metadata": {},
     "output_type": "execute_result"
    }
   ],
   "source": [
    "2**3 #eksponent"
   ]
  },
  {
   "cell_type": "markdown",
   "id": "a6b5d968",
   "metadata": {},
   "source": [
    "## 14. Katere primerjalne operatorje poznamo v Pythonu? Prikažite uporabo."
   ]
  },
  {
   "cell_type": "code",
   "execution_count": 54,
   "id": "e29970fe",
   "metadata": {},
   "outputs": [
    {
     "data": {
      "text/plain": [
       "False"
      ]
     },
     "execution_count": 54,
     "metadata": {},
     "output_type": "execute_result"
    }
   ],
   "source": [
    "5>6"
   ]
  },
  {
   "cell_type": "code",
   "execution_count": 55,
   "id": "1cdc57c0",
   "metadata": {},
   "outputs": [
    {
     "data": {
      "text/plain": [
       "True"
      ]
     },
     "execution_count": 55,
     "metadata": {},
     "output_type": "execute_result"
    }
   ],
   "source": [
    "5<6"
   ]
  },
  {
   "cell_type": "code",
   "execution_count": 56,
   "id": "96873704",
   "metadata": {},
   "outputs": [
    {
     "data": {
      "text/plain": [
       "True"
      ]
     },
     "execution_count": 56,
     "metadata": {},
     "output_type": "execute_result"
    }
   ],
   "source": [
    "5<=6"
   ]
  },
  {
   "cell_type": "code",
   "execution_count": 57,
   "id": "c399b1ae",
   "metadata": {},
   "outputs": [
    {
     "data": {
      "text/plain": [
       "False"
      ]
     },
     "execution_count": 57,
     "metadata": {},
     "output_type": "execute_result"
    }
   ],
   "source": [
    "5>=6"
   ]
  },
  {
   "cell_type": "code",
   "execution_count": 58,
   "id": "6ec55233",
   "metadata": {},
   "outputs": [
    {
     "data": {
      "text/plain": [
       "True"
      ]
     },
     "execution_count": 58,
     "metadata": {},
     "output_type": "execute_result"
    }
   ],
   "source": [
    "5!=6"
   ]
  },
  {
   "cell_type": "code",
   "execution_count": 59,
   "id": "cedfb3be",
   "metadata": {},
   "outputs": [
    {
     "data": {
      "text/plain": [
       "False"
      ]
     },
     "execution_count": 59,
     "metadata": {},
     "output_type": "execute_result"
    }
   ],
   "source": [
    "5==6"
   ]
  },
  {
   "cell_type": "markdown",
   "id": "0c45b4af",
   "metadata": {},
   "source": [
    "## 15. Katere logične operatorje poznamo v Pythonu? Prikažite uporabo."
   ]
  },
  {
   "cell_type": "code",
   "execution_count": 60,
   "id": "e8ea0027",
   "metadata": {},
   "outputs": [
    {
     "data": {
      "text/plain": [
       "False"
      ]
     },
     "execution_count": 60,
     "metadata": {},
     "output_type": "execute_result"
    }
   ],
   "source": [
    "a=2\n",
    "a is 3# primerja istost"
   ]
  },
  {
   "cell_type": "code",
   "execution_count": 61,
   "id": "adb96b6e",
   "metadata": {},
   "outputs": [
    {
     "data": {
      "text/plain": [
       "{'dolzina': 3, 'sirina': 2, 'visina': 4}"
      ]
     },
     "execution_count": 61,
     "metadata": {},
     "output_type": "execute_result"
    }
   ],
   "source": [
    "podatki"
   ]
  },
  {
   "cell_type": "code",
   "execution_count": 62,
   "id": "95fd3ada",
   "metadata": {},
   "outputs": [
    {
     "data": {
      "text/plain": [
       "True"
      ]
     },
     "execution_count": 62,
     "metadata": {},
     "output_type": "execute_result"
    }
   ],
   "source": [
    "'dolzina' in podatki# primerja ali je element v danem nizu, seznamu, slovarju...\n"
   ]
  },
  {
   "cell_type": "code",
   "execution_count": 64,
   "id": "f82f6fb3",
   "metadata": {},
   "outputs": [
    {
     "data": {
      "text/plain": [
       "True"
      ]
     },
     "execution_count": 64,
     "metadata": {},
     "output_type": "execute_result"
    }
   ],
   "source": [
    "1 == 2 and 1 in [1, 2, 3] or 2 is not 1"
   ]
  },
  {
   "cell_type": "markdown",
   "id": "a1dd70d9",
   "metadata": {},
   "source": [
    "## 16. Prikažite uporabo ``if`` stavka."
   ]
  },
  {
   "cell_type": "code",
   "execution_count": null,
   "id": "536b0b29",
   "metadata": {},
   "outputs": [],
   "source": [
    "rezultat = 5\n",
    "rezultat"
   ]
  },
  {
   "cell_type": "code",
   "execution_count": 73,
   "id": "6adb3cc2",
   "metadata": {},
   "outputs": [
    {
     "name": "stdout",
     "output_type": "stream",
     "text": [
      "ne ustreza pogojem\n"
     ]
    }
   ],
   "source": [
    "if rezultat == 3: #ce je rezultat enak 3 prikaži dolzina...\n",
    "    print 'dolzina'\n",
    "elif rezultat == 2:\n",
    "    print 'sirina'\n",
    "elif rezultat == 4:\n",
    "    print 'visina'\n",
    "else :\n",
    "    print 'ne ustreza pogojem'# če ni nič od tega napiši..."
   ]
  },
  {
   "cell_type": "code",
   "execution_count": 6,
   "id": "dc6b76ee",
   "metadata": {},
   "outputs": [
    {
     "name": "stdout",
     "output_type": "stream",
     "text": [
      "še enkrat poglej kva s napisou\n"
     ]
    }
   ],
   "source": [
    "Tvoje_ime = 'maša'\n",
    "if Tvoje_ime == 'žan':\n",
    "    print 'Vrsta človeka: kmet'\n",
    "elif Tvoje_ime == 'Aljaž':\n",
    "    print 'ste morda mislili peder'\n",
    "else:\n",
    "    print 'še enkrat poglej kva s napisou'"
   ]
  },
  {
   "cell_type": "markdown",
   "id": "83812218",
   "metadata": {},
   "source": [
    "## 17. Kakšna je razlika med ``if`` stavkov in ``if`` izrazom. Prikažite!"
   ]
  },
  {
   "cell_type": "code",
   "execution_count": null,
   "id": "e66a71fa",
   "metadata": {},
   "outputs": [],
   "source": [
    "a = 5\n",
    "b = False\n",
    "c = 2\n",
    "a if b else c# vrjetno: a če je b pravilen, drugače c. "
   ]
  },
  {
   "cell_type": "markdown",
   "id": "180786f1",
   "metadata": {},
   "source": [
    "## 18. Prikažite uporabo zanke ``while``."
   ]
  },
  {
   "cell_type": "code",
   "execution_count": 19,
   "id": "4d9d75b4",
   "metadata": {},
   "outputs": [
    {
     "name": "stdout",
     "output_type": "stream",
     "text": [
      "-1\n",
      "-0.5\n",
      "0.0\n",
      "0.5\n",
      "1.0\n",
      "1.5\n",
      "2.0\n",
      "2.5\n"
     ]
    }
   ],
   "source": [
    "a = -1\n",
    "while a < 3:\n",
    "    print(a)\n",
    "    a += 0.5"
   ]
  },
  {
   "cell_type": "markdown",
   "id": "353cbdfa",
   "metadata": {},
   "source": [
    "## 19. Prikažite uporabo zanke ``for``."
   ]
  },
  {
   "cell_type": "code",
   "execution_count": 77,
   "id": "dac63a4c",
   "metadata": {},
   "outputs": [
    {
     "name": "stdout",
     "output_type": "stream",
     "text": [
      "1\n",
      "4\n",
      "9\n",
      "16\n",
      "25\n",
      "36\n"
     ]
    }
   ],
   "source": [
    "#ideja: vsako komponento A kvadriraj\n",
    "A = [1, 2, 3, 4, 5, 6]\n",
    "\n",
    "for rezultat in A:\n",
    "    print rezultat**2\n"
   ]
  },
  {
   "cell_type": "markdown",
   "id": "6ec2f771",
   "metadata": {},
   "source": [
    "## 20. Prikažite uporabo zanke ``for`` v povezavi s funkcijami ``range``, ``enumerate``, ``zip``  "
   ]
  },
  {
   "cell_type": "code",
   "execution_count": 65,
   "id": "32bfa9ec",
   "metadata": {},
   "outputs": [
    {
     "name": "stdout",
     "output_type": "stream",
     "text": [
      "0\n",
      "1\n",
      "2\n",
      "3\n",
      "4\n"
     ]
    }
   ],
   "source": [
    "for i in range(5):\n",
    "    print(i)"
   ]
  },
  {
   "cell_type": "code",
   "execution_count": 66,
   "id": "398dd0fa",
   "metadata": {},
   "outputs": [
    {
     "name": "stdout",
     "output_type": "stream",
     "text": [
      "(0, 'Matej')\n",
      "(1, 'Andrej')\n",
      "(2, 'Klemen')\n"
     ]
    }
   ],
   "source": [
    "imena = ['Matej', 'Andrej', 'Klemen']\n",
    "for i, ime in enumerate(imena):\n",
    "    print(i, ime)"
   ]
  },
  {
   "cell_type": "code",
   "execution_count": null,
   "id": "e95f9856",
   "metadata": {},
   "outputs": [],
   "source": []
  }
 ],
 "metadata": {
  "kernelspec": {
   "display_name": "Python 3 (ipykernel)",
   "language": "python",
   "name": "python3"
  },
  "language_info": {
   "codemirror_mode": {
    "name": "ipython",
    "version": 3
   },
   "file_extension": ".py",
   "mimetype": "text/x-python",
   "name": "python",
   "nbconvert_exporter": "python",
   "pygments_lexer": "ipython3",
   "version": "3.8.8"
  }
 },
 "nbformat": 4,
 "nbformat_minor": 1
}
