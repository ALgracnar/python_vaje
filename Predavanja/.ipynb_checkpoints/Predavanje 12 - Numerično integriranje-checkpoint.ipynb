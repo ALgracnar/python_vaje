{
 "metadata": {
  "name": "",
  "signature": "sha256:5daa9bc78781e6fba63cac56e85db8209726095e4fb52adaf736829cfdbd0b4d"
 },
 "nbformat": 3,
 "nbformat_minor": 0,
 "worksheets": [
  {
   "cells": [
    {
     "cell_type": "markdown",
     "metadata": {},
     "source": [
      "Maj 2015, J. Slavi\u010d\n",
      "\n",
      "Predavanje 12"
     ]
    },
    {
     "cell_type": "code",
     "collapsed": false,
     "input": [
      "from sympy import *\n",
      "init_printing()"
     ],
     "language": "python",
     "metadata": {},
     "outputs": [],
     "prompt_number": 1
    },
    {
     "cell_type": "heading",
     "level": 1,
     "metadata": {},
     "source": [
      "Numeri\u010dno integriranje"
     ]
    },
    {
     "cell_type": "markdown",
     "metadata": {},
     "source": [
      "V okviru tega poglavja \u017eelimo za dano funkcijo $f(x)$ izra\u010dunati dolo\u010deni integral:\n",
      "$$\\int_a^b\\,f(x)\\,\\textrm{d}x.$$\n",
      "*Numeri\u010dno integriranje* imenujemo tudi *kvadratura* (ang. *quadrature*); zgornji analiti\u010dni izraz zamenjamo z diskretno vsoto:\n",
      "$$I=\\sum_{i=0}^nA_i\\,f(x_i),$$\n",
      "kjer je $A_i$ ute\u017e, $x_i$ pa vrednosti vozli\u0161\u010d. Numeri\u010dno integracijo delimo na dva razli\u010dna pristopa:\n",
      "1. *Newton-Cotles pristop*, ki temelji na ekvidistan\u010dnih vozli\u0161\u010dih in \n",
      "* *Gaussov integracijski pristop*, kjer so vozli\u0161\u010da postavljena tako, da se dose\u017ee najve\u010dji red natan\u010dnosti."
     ]
    },
    {
     "cell_type": "heading",
     "level": 1,
     "metadata": {},
     "source": [
      "Newton-Cotles pristop"
     ]
    },
    {
     "cell_type": "markdown",
     "metadata": {},
     "source": [
      "Poglejmo si analiti\u010dni primer:"
     ]
    },
    {
     "cell_type": "code",
     "collapsed": false,
     "input": [
      "x, a, b = symbols('x, a, b')\n",
      "f = sin(x)\n",
      "I = integrate(f, (x, a, b))\n",
      "I"
     ],
     "language": "python",
     "metadata": {},
     "outputs": [
      {
       "latex": [
        "$$\\cos{\\left (a \\right )} - \\cos{\\left (b \\right )}$$"
       ],
       "metadata": {},
       "output_type": "pyout",
       "png": "[encoded data removed]",
       "prompt_number": 2,
       "text": [
        "cos(a) - cos(b)"
       ]
      }
     ],
     "prompt_number": 2
    },
    {
     "cell_type": "code",
     "collapsed": false,
     "input": [
      "podatki = {a: 0, b: 2}"
     ],
     "language": "python",
     "metadata": {},
     "outputs": [],
     "prompt_number": 3
    },
    {
     "cell_type": "code",
     "collapsed": false,
     "input": [
      "I_analiticno = I.subs(podatki).evalf()\n",
      "I_analiticno"
     ],
     "language": "python",
     "metadata": {},
     "outputs": [
      {
       "latex": [
        "$$1.41614683654714$$"
       ],
       "metadata": {},
       "output_type": "pyout",
       "png": "[encoded data removed]",
       "prompt_number": 4,
       "text": [
        "1.41614683654714"
       ]
      }
     ],
     "prompt_number": 4
    },
    {
     "cell_type": "markdown",
     "metadata": {},
     "source": [
      "Pripravimo si sedaj numeri\u010dni primer:"
     ]
    },
    {
     "cell_type": "code",
     "collapsed": false,
     "input": [
      "f_d = np.sin # funkcija\n",
      "a_d = float(a.evalf(subs=podatki))     # meje\n",
      "b_d = float(b.evalf(subs=podatki))\n",
      "x_d = np.asarray([a_d, b_d])\n",
      "y_d = f_d(x_d)\n",
      "x_d_polno = np.linspace(a_d-0.25, b_d+0.25, 100) # \"zvezni\" prikaz\n",
      "y_d_polno = f_d(x_d_polno)\n",
      "izberi = np.logical_and(a_d <= x_d_polno, x_d_polno <= b_d)\n",
      "# prikaz\n",
      "plt.fill_between(x_d_polno[izberi], y_d_polno[izberi], alpha=0.25, facecolor='r')\n",
      "plt.plot(x_d_polno, y_d_polno, 'r', lw=3, alpha=0.5, label='Zvezno')\n",
      "plt.plot(x_d, y_d, 'ro', label='Meje odseka')\n",
      "plt.annotate('$\\int_a^b f(x)\\,dx$', (.8, 0.2))\n",
      "plt.ylim(-0.3, 1.1)\n",
      "plt.legend(loc=4);"
     ],
     "language": "python",
     "metadata": {},
     "outputs": [
      {
       "metadata": {},
       "output_type": "display_data",
       "png": "[encoded data removed]",
       "text": [
        "<matplotlib.figure.Figure at 0x8430780>"
       ]
      }
     ],
     "prompt_number": 5
    },
    {
     "cell_type": "code",
     "collapsed": false,
     "input": [
      "print('Vozli\u0161\u010da:', x_d)\n",
      "h = b_d - a_d\n",
      "print('Razdalja:', h)"
     ],
     "language": "python",
     "metadata": {},
     "outputs": [
      {
       "output_type": "stream",
       "stream": "stdout",
       "text": [
        "Vozli\u0161\u010da: [ 0.  2.]\n",
        "Razdalja: 2.0\n"
       ]
      }
     ],
     "prompt_number": 6
    },
    {
     "cell_type": "markdown",
     "metadata": {},
     "source": [
      "V nadaljevanju bomo posku\u0161ali za prikazani odsek \u010dimbolj natan\u010dno izra\u010dunati povr\u0161ino. Pri tem se bomo v okviru *Newton-Cotlesovega* pristopa omejili na ekvidistantno \u0161irino odsekov. Najbolj preprosta metoda je *pravokotna*."
     ]
    },
    {
     "cell_type": "heading",
     "level": 2,
     "metadata": {},
     "source": [
      "Pravokotno pravilo integriranja"
     ]
    },
    {
     "cell_type": "markdown",
     "metadata": {},
     "source": [
      "Najbolj preprosta metoda za izra\u010dun integrala je *pravokotno pravilo*; po tem pravilu na polovici intervala $x^*=(a+b)/2$ izra\u010dunamo vrednost funkcije $f(x^*)$ in nato mno\u017eimo s \u0161irino intervala $h$:"
     ]
    },
    {
     "cell_type": "code",
     "collapsed": false,
     "input": [
      "x_pravo = (x_d+h/2)[:-1]\n",
      "y_pravo = f_d(x_pravo)\n",
      "plt.fill_between(x_d_polno[izberi], y_d_polno[izberi], alpha=0.25, facecolor='r')\n",
      "plt.plot(x_d_polno, y_d_polno, 'r', lw=3, alpha=0.5, label='Zvezno')\n",
      "plt.plot(x_d, y_d, 'ro', label='Meje odseka')\n",
      "plt.plot(x_pravo, y_pravo, 'bo', label='Pravokotno pravilo')\n",
      "plt.bar(x_d[:-1], y_pravo, width=h, alpha=0.5)\n",
      "plt.annotate('Pravokotno pravilo', (.8, 0.2))\n",
      "plt.ylim(-0.3, 1.1)\n",
      "plt.legend(loc=4);"
     ],
     "language": "python",
     "metadata": {},
     "outputs": [
      {
       "metadata": {},
       "output_type": "display_data",
       "png": "[encoded data removed]",
       "text": [
        "<matplotlib.figure.Figure at 0x8c26eb8>"
       ]
      }
     ],
     "prompt_number": 7
    },
    {
     "cell_type": "heading",
     "level": 3,
     "metadata": {},
     "source": [
      "Numeri\u010dna implementacija"
     ]
    },
    {
     "cell_type": "code",
     "collapsed": false,
     "input": [
      "def pravokotno(y, h):\n",
      "    return np.sum(y)*h"
     ],
     "language": "python",
     "metadata": {},
     "outputs": [],
     "prompt_number": 8
    },
    {
     "cell_type": "code",
     "collapsed": false,
     "input": [
      "I_pravokotno = pravokotno(y_pravo, h)\n",
      "I_pravokotno"
     ],
     "language": "python",
     "metadata": {},
     "outputs": [
      {
       "latex": [
        "$$1.68294196962$$"
       ],
       "metadata": {},
       "output_type": "pyout",
       "png": "[encoded data removed]",
       "prompt_number": 9,
       "text": [
        "1.68294196962"
       ]
      }
     ],
     "prompt_number": 9
    },
    {
     "cell_type": "code",
     "collapsed": false,
     "input": [
      "I_analiticno"
     ],
     "language": "python",
     "metadata": {},
     "outputs": [
      {
       "latex": [
        "$$1.41614683654714$$"
       ],
       "metadata": {},
       "output_type": "pyout",
       "png": "[encoded data removed]",
       "prompt_number": 10,
       "text": [
        "1.41614683654714"
       ]
      }
     ],
     "prompt_number": 10
    },
    {
     "cell_type": "heading",
     "level": 2,
     "metadata": {},
     "source": [
      "Trapezno pravilo"
     ]
    },
    {
     "cell_type": "markdown",
     "metadata": {},
     "source": [
      "Trapezno pravilo vrednosti na podintervalu interpolira z linearno funkcijo. To v bistvu pomeni, da pov\u0161ino izra\u010duno kot:\n",
      "\n",
      "$$I=\\sum_{i=0}^nA_i\\,f(x_i)=\\frac{(f(a)+f(b))\\,h}{2}.$$\n",
      "\n",
      "To tudi pomeni, da so ute\u017ei:\n",
      "\n",
      "$$A_0 = A_1 = \\frac{1}{2}\\,h.$$"
     ]
    },
    {
     "cell_type": "code",
     "collapsed": false,
     "input": [
      "plt.fill_between(x_d_polno[izberi], y_d_polno[izberi], alpha=0.25, facecolor='r')\n",
      "plt.plot(x_d_polno, y_d_polno, 'r', lw=3, alpha=0.5, label='Zvezno')\n",
      "plt.plot(x_d, y_d, 'ro', label='Diskretno')\n",
      "plt.fill_between(x_d, y_d, alpha=0.25, facecolor='b')\n",
      "plt.annotate('Trapezno pravilo', (.8, 0.2))\n",
      "plt.ylim(-0.3, 1.1)\n",
      "plt.legend(loc=4);"
     ],
     "language": "python",
     "metadata": {},
     "outputs": [
      {
       "metadata": {},
       "output_type": "display_data",
       "png": "[encoded data removed]",
       "text": [
        "<matplotlib.figure.Figure at 0x8c602e8>"
       ]
      }
     ],
     "prompt_number": 11
    },
    {
     "cell_type": "heading",
     "level": 3,
     "metadata": {},
     "source": [
      "Numeri\u010dna implementacija"
     ]
    },
    {
     "cell_type": "code",
     "collapsed": false,
     "input": [
      "def trapezno(y, h):\n",
      "    return (y[0] + y[-1])*h/2"
     ],
     "language": "python",
     "metadata": {},
     "outputs": [],
     "prompt_number": 12
    },
    {
     "cell_type": "code",
     "collapsed": false,
     "input": [
      "I_trapezno = trapezno(y_d, h)\n",
      "I_trapezno"
     ],
     "language": "python",
     "metadata": {},
     "outputs": [
      {
       "latex": [
        "$$0.909297426826$$"
       ],
       "metadata": {},
       "output_type": "pyout",
       "png": "[encoded data removed]",
       "prompt_number": 13,
       "text": [
        "0.909297426826"
       ]
      }
     ],
     "prompt_number": 13
    },
    {
     "cell_type": "code",
     "collapsed": false,
     "input": [
      "I_analiticno"
     ],
     "language": "python",
     "metadata": {},
     "outputs": [
      {
       "latex": [
        "$$1.41614683654714$$"
       ],
       "metadata": {},
       "output_type": "pyout",
       "png": "[encoded data removed]",
       "prompt_number": 14,
       "text": [
        "1.41614683654714"
       ]
      }
     ],
     "prompt_number": 14
    },
    {
     "cell_type": "heading",
     "level": 2,
     "metadata": {},
     "source": [
      "Napaka trapeznega pravila"
     ]
    },
    {
     "cell_type": "markdown",
     "metadata": {},
     "source": [
      "Napaka trapeznega pravila (in tudi drugih) je definirana kot:\n",
      "\n",
      "$$E = \\int_a^bf(x)\\,d x-I,$$\n",
      "\n",
      "kjer je $I$ ocena integrala. V kolikor ima funkcija $f(x)$ odvod drugega in vi\u0161jih redov enak ni\u010d, potem je ocena integrala to\u010dna vrednosti in napake ni.\n",
      "\n",
      "V kolikor ima funkcija $f(x)$ tudi drugi in vi\u0161je odvode, potem se lahko (glejte npr. vir: Burden, Faires, Burden: Numerical Analysis 10th Ed) izpelje ocena napake:\n",
      "$$E=-\\frac{h^3}{12}f''(\\xi),$$\n",
      "kjer je $\\xi$ neznana vrednost na intervalu $[a, b]$."
     ]
    },
    {
     "cell_type": "heading",
     "level": 1,
     "metadata": {},
     "source": [
      "Sestavljeno trapezno pravilo"
     ]
    },
    {
     "cell_type": "markdown",
     "metadata": {},
     "source": [
      "\u010ce trapezno pravilo uporabimo \u010dez ve\u010d ($n$) odsekov, potem govorimo o sestavljenem trapeznem pravilu (ang. *composite trapezoidal rule*). Poglejmo si primer:"
     ]
    },
    {
     "cell_type": "code",
     "collapsed": false,
     "input": [
      "n = 4\n",
      "x_d_sestav = np.linspace(a_d, b_d, n+1) # ve\u010d intervalov\n",
      "y_d_sestav = f_d(x_d_sestav)\n",
      "izberi = np.logical_and(a_d <= x_d_polno, x_d_polno <= b_d)\n",
      "# prikaz\n",
      "plt.fill_between(x_d_polno[izberi], y_d_polno[izberi], alpha=0.25, facecolor='r')\n",
      "plt.plot(x_d_polno, y_d_polno, 'r', lw=3, alpha=0.5, label='Zvezno')\n",
      "plt.plot(x_d_sestav, y_d_sestav, 'ro', label='Meje odseka')\n",
      "plt.fill_between(x_d_sestav, y_d_sestav, alpha=0.25, facecolor='b')\n",
      "plt.annotate('Sestavljeno trapezno pravilo', (.4, 0.2))\n",
      "plt.ylim(-0.3, 1.1)\n",
      "plt.legend(loc=4);"
     ],
     "language": "python",
     "metadata": {},
     "outputs": [
      {
       "metadata": {},
       "output_type": "display_data",
       "png": "[encoded data removed]",
       "text": [
        "<matplotlib.figure.Figure at 0x8cd19b0>"
       ]
      }
     ],
     "prompt_number": 15
    },
    {
     "cell_type": "markdown",
     "metadata": {},
     "source": [
      "Prikazali smo torej $n$ odsekov z vozli\u0161\u010di in vrednostmi:"
     ]
    },
    {
     "cell_type": "code",
     "collapsed": false,
     "input": [
      "print('Vozli\u0161\u010da:  ', x_d_sestav)\n",
      "print('Vrednosti: ', y_d_sestav)"
     ],
     "language": "python",
     "metadata": {},
     "outputs": [
      {
       "output_type": "stream",
       "stream": "stdout",
       "text": [
        "Vozli\u0161\u010da:   [ 0.   0.5  1.   1.5  2. ]\n",
        "Vrednosti:  [ 0.          0.47942554  0.84147098  0.99749499  0.90929743]\n"
       ]
      }
     ],
     "prompt_number": 16
    },
    {
     "cell_type": "markdown",
     "metadata": {},
     "source": [
      "\u010ce sedaj na posameznem odseku $i$ uporabimo trapezno pravilo, moramo za meje odseka $x_i$ in $x_{i+1}$ uporabiti ute\u017ei $A_i=A_{i+i}=h/2$. \u010ce ute\u017ei izra\u010dunamo za vse odseke in jih se\u0161tejemo izra\u010dunamo ute\u017ei:\n",
      "$$A_0=A_{n}=\\frac{h}{2}\\quad\\textrm{in za ostale vozle:}\\quad A_i=h.$$\n",
      "Sledi torej:\n",
      "$$I=\\sum_{i=0}^{n}A_i\\,f(x_i)=\\left(\\frac{y_0}{2} + y_1+y_2+\\cdots+y_{n-1}+\\frac{y_{n}}{2}\\right)\\,h.$$\n",
      "\n",
      "Ocena napake (vir: Jaan Kiusalaas: Numerical Methods in Engineering With Python 3, 3rd Ed) za sestavljeno trapezno pravilo je vsota napak na posameznih odsekih:\n",
      "$$E=-n\\,\\frac{h^3}{12}f''(\\xi)=-\\frac{(b - a)\\,h^2}{12}f''(\\xi),$$\n",
      "kjer je $\\xi$ neznana vrednost na intervalu $[a, b]$."
     ]
    },
    {
     "cell_type": "heading",
     "level": 3,
     "metadata": {},
     "source": [
      "Numeri\u010dna implementacija"
     ]
    },
    {
     "cell_type": "code",
     "collapsed": false,
     "input": [
      "def trapezno(y, h):\n",
      "    return (np.sum(y) - 0.5*y[0] - 0.5*y[-1])*h"
     ],
     "language": "python",
     "metadata": {},
     "outputs": [],
     "prompt_number": 17
    },
    {
     "cell_type": "code",
     "collapsed": false,
     "input": [
      "#%%timeit\n",
      "h = x_d_sestav[1] - x_d_sestav[0]\n",
      "I_trapezno_sestav = trapezno(y_d_sestav, h)\n",
      "I_trapezno_sestav"
     ],
     "language": "python",
     "metadata": {},
     "outputs": [
      {
       "latex": [
        "$$1.38652011171$$"
       ],
       "metadata": {},
       "output_type": "pyout",
       "png": "[encoded data removed]",
       "prompt_number": 18,
       "text": [
        "1.38652011171"
       ]
      }
     ],
     "prompt_number": 18
    },
    {
     "cell_type": "code",
     "collapsed": false,
     "input": [
      "I_analiticno"
     ],
     "language": "python",
     "metadata": {},
     "outputs": [
      {
       "latex": [
        "$$1.41614683654714$$"
       ],
       "metadata": {},
       "output_type": "pyout",
       "png": "[encoded data removed]",
       "prompt_number": 19,
       "text": [
        "1.41614683654714"
       ]
      }
     ],
     "prompt_number": 19
    },
    {
     "cell_type": "heading",
     "level": 3,
     "metadata": {},
     "source": [
      "``numpy`` implementacija"
     ]
    },
    {
     "cell_type": "markdown",
     "metadata": {},
     "source": [
      "Implementacija ``numpy`` omogo\u010da sicer tudi variabilni razmak med vozli\u0161\u010di. Primer zgoraj izra\u010dunamo zelo enostavno:"
     ]
    },
    {
     "cell_type": "code",
     "collapsed": false,
     "input": [
      "#%%timeit\n",
      "np.trapz(y_d_sestav, dx=h)"
     ],
     "language": "python",
     "metadata": {},
     "outputs": [
      {
       "latex": [
        "$$1.38652011171$$"
       ],
       "metadata": {},
       "output_type": "pyout",
       "png": "[encoded data removed]",
       "prompt_number": 20,
       "text": [
        "1.38652011171"
       ]
      }
     ],
     "prompt_number": 20
    },
    {
     "cell_type": "heading",
     "level": 2,
     "metadata": {},
     "source": [
      "Simpsonova in druge metode"
     ]
    },
    {
     "cell_type": "markdown",
     "metadata": {},
     "source": [
      "Zgoraj smo si pogledal trapezno pravilo, ki temelji na linearni interpolaciji odseka. Z interpolacijo vi\u0161jega reda, lahko izpeljemo \u0161e druge interpolacijske metode.\n",
      "\n",
      "Izpeljavo za\u010dnemo z analiti\u010dnim izrazom za integriranje $f(x)$:\n",
      "$$\\int_{a}^b f(x)\\,dx.$$\n",
      "Sedaj $f(x)$ interpoliramo z Lagrangevo krivuljo $P_n(x)$ stopnje $n$:\n",
      "$$P_n(x)=\\sum_{i=0}^{n}\\,f(x_i)\\,l_i(x),$$\n",
      "kjer $n$ definira stopnjo Lagrangevega polinoma:\n",
      "$$l_i(x)=\\prod_{j=0, j\\ne i}^n \\frac{x-x_j}{x_i-x_j}.$$\n",
      "Za oceno numeri\u010dnega integrala, torej namesto funkcije $f(x)$ vstavimo v integral interpolacijski polinom $P_n(x)$:\n",
      "$$I=\\int_{a}^b P_n(x)\\,dx=\\int_{a}^b \\sum_{i=0}^{n}\\,f(x_i)\\,l_i(x)\\,dx.$$\n",
      "Sedaj lahko zamenjamo integriranje in vsoto:\n",
      "$$I=\\sum_{i=0}^{n}\\,f(x_i)\\,\\underbrace{\\int_{a}^b l_i(x)\\,dx}_{A_i}.$$\n",
      "Opazimo, da lahko Lagrangev polinom integriramo *v naprej* in da v bistvu predstavlja (zgoraj definirane) ute\u017ei $A_i$."
     ]
    },
    {
     "cell_type": "markdown",
     "metadata": {},
     "source": [
      "Za poznej\u0161e potrebe si dajmo pripraviti definicijo Lagrangevega polinoma:"
     ]
    },
    {
     "cell_type": "code",
     "collapsed": false,
     "input": [
      "def lagrange(n, x, X='x'):\n",
      "    if isinstance(X, str):\n",
      "        X = symbols('{0:s}:{1:g}'.format(X, n))\n",
      "    coeffs = []\n",
      "    for i in range(0, n):\n",
      "        numer = []\n",
      "        denom = []\n",
      "\n",
      "        for j in range(0, n):\n",
      "            if i == j:\n",
      "                continue\n",
      "\n",
      "            numer.append(x    - X[j])\n",
      "            denom.append(X[i] - X[j])\n",
      "        \n",
      "        numer = Mul(*numer)\n",
      "        denom = Mul(*denom)\n",
      "\n",
      "        coeffs.append(numer/denom)\n",
      "    return coeffs    "
     ],
     "language": "python",
     "metadata": {},
     "outputs": [],
     "prompt_number": 21
    },
    {
     "cell_type": "heading",
     "level": 3,
     "metadata": {},
     "source": [
      "Izpeljava trapeznega pravila z uporabo Lagrangevih polinomov"
     ]
    },
    {
     "cell_type": "markdown",
     "metadata": {},
     "source": [
      "Najprej poglejmo Lagrangeva polinoma za linearno aproksimacijo ($n=2$):"
     ]
    },
    {
     "cell_type": "code",
     "collapsed": false,
     "input": [
      "x, x0, x1, h = symbols('x x0, x1, h')\n",
      "lag = lagrange(2, x)\n",
      "lag"
     ],
     "language": "python",
     "metadata": {},
     "outputs": [
      {
       "latex": [
        "$$\\left [ \\frac{x - x_{1}}{x_{0} - x_{1}}, \\quad \\frac{x - x_{0}}{- x_{0} + x_{1}}\\right ]$$"
       ],
       "metadata": {},
       "output_type": "pyout",
       "png": "[encoded data removed]",
       "prompt_number": 22,
       "text": [
        "\u23a1 x - x\u2081   x - x\u2080 \u23a4\n",
        "\u23a2\u2500\u2500\u2500\u2500\u2500\u2500\u2500, \u2500\u2500\u2500\u2500\u2500\u2500\u2500\u2500\u23a5\n",
        "\u23a3x\u2080 - x\u2081  -x\u2080 + x\u2081\u23a6"
       ]
      }
     ],
     "prompt_number": 22
    },
    {
     "cell_type": "markdown",
     "metadata": {},
     "source": [
      "Poglejmo si najprej prvi Lagrangev polinom in ga integrirajmo:"
     ]
    },
    {
     "cell_type": "code",
     "collapsed": false,
     "input": [
      "int0 = integrate(lag[0], (x, x0, x1))\n",
      "int0"
     ],
     "language": "python",
     "metadata": {},
     "outputs": [
      {
       "latex": [
        "$$- \\frac{x_{0}^{2}}{2 x_{0} - 2 x_{1}} + \\frac{x_{0} x_{1}}{x_{0} - x_{1}} + \\frac{x_{1}^{2}}{2 x_{0} - 2 x_{1}} - \\frac{x_{1}^{2}}{x_{0} - x_{1}}$$"
       ],
       "metadata": {},
       "output_type": "pyout",
       "png": "[encoded data removed]",
       "prompt_number": 23,
       "text": [
        "        2                       2           2  \n",
        "      x\u2080         x\u2080\u22c5x\u2081        x\u2081          x\u2081   \n",
        "- \u2500\u2500\u2500\u2500\u2500\u2500\u2500\u2500\u2500\u2500\u2500 + \u2500\u2500\u2500\u2500\u2500\u2500\u2500 + \u2500\u2500\u2500\u2500\u2500\u2500\u2500\u2500\u2500\u2500\u2500 - \u2500\u2500\u2500\u2500\u2500\u2500\u2500\n",
        "  2\u22c5x\u2080 - 2\u22c5x\u2081   x\u2080 - x\u2081   2\u22c5x\u2080 - 2\u22c5x\u2081   x\u2080 - x\u2081"
       ]
      }
     ],
     "prompt_number": 23
    },
    {
     "cell_type": "markdown",
     "metadata": {},
     "source": [
      "Izvedemo sedaj razcep polinoma:"
     ]
    },
    {
     "cell_type": "code",
     "collapsed": false,
     "input": [
      "int1 = int0.factor()\n",
      "int1"
     ],
     "language": "python",
     "metadata": {},
     "outputs": [
      {
       "latex": [
        "$$- \\frac{1}{2} \\left(x_{0} - x_{1}\\right)$$"
       ],
       "metadata": {},
       "output_type": "pyout",
       "png": "[encoded data removed]",
       "prompt_number": 24,
       "text": [
        "-(x\u2080 - x\u2081) \n",
        "\u2500\u2500\u2500\u2500\u2500\u2500\u2500\u2500\u2500\u2500\u2500\n",
        "     2     "
       ]
      }
     ],
     "prompt_number": 24
    },
    {
     "cell_type": "markdown",
     "metadata": {},
     "source": [
      "Ker je \u0161irina odseka konstantna $h$, izvedemo zamenjavo:"
     ]
    },
    {
     "cell_type": "code",
     "collapsed": false,
     "input": [
      "zamenjave = {x1: x0+h}\n",
      "int1.subs(zamenjave)"
     ],
     "language": "python",
     "metadata": {},
     "outputs": [
      {
       "latex": [
        "$$\\frac{h}{2}$$"
       ],
       "metadata": {},
       "output_type": "pyout",
       "png": "[encoded data removed]",
       "prompt_number": 25,
       "text": [
        "h\n",
        "\u2500\n",
        "2"
       ]
      }
     ],
     "prompt_number": 25
    },
    {
     "cell_type": "markdown",
     "metadata": {},
     "source": [
      "Podobno bi sedaj lahko naredili \u0161e za drugi Lagrangev polinov, vendar si bomo raje v nadaljevanju pogledali strnjeno obliko postopka za oba polinoma."
     ]
    },
    {
     "cell_type": "heading",
     "level": 3,
     "metadata": {},
     "source": [
      "Strnjen izra\u010dun ute\u017ei za trapezno metodo"
     ]
    },
    {
     "cell_type": "code",
     "collapsed": false,
     "input": [
      "x, x0, x1, h = symbols('x, x0, x1, h')\n",
      "zamenjave = {x1: x0+h}\n",
      "A_trapez = [integrate(_, (x, x0, x1)).factor().subs(zamenjave) \n",
      "            for _ in lagrange(2, x)]\n",
      "A_trapez"
     ],
     "language": "python",
     "metadata": {},
     "outputs": [
      {
       "latex": [
        "$$\\left [ \\frac{h}{2}, \\quad \\frac{h}{2}\\right ]$$"
       ],
       "metadata": {},
       "output_type": "pyout",
       "png": "[encoded data removed]",
       "prompt_number": 26,
       "text": [
        "\u23a1h  h\u23a4\n",
        "\u23a2\u2500, \u2500\u23a5\n",
        "\u23a32  2\u23a6"
       ]
      }
     ],
     "prompt_number": 26
    },
    {
     "cell_type": "heading",
     "level": 3,
     "metadata": {},
     "source": [
      "Strnjen izra\u010dun ute\u017ei za Simpsonovo 1/3 pravilo"
     ]
    },
    {
     "cell_type": "markdown",
     "metadata": {},
     "source": [
      "Potem, ko smo zgoraj pokazali strnjen izra\u010dun za trapezno pravilo lahko podobno izvedemo za kvadratno interpolacijo \u010dez tri to\u010dke.\n",
      "\n",
      "Izra\u010dun ute\u017ei je skoraj analogen zgornjemu in skoraj trivialen:"
     ]
    },
    {
     "cell_type": "code",
     "collapsed": false,
     "input": [
      "x, x0, x1, x2, h = symbols('x, x0, x1, x2, h')\n",
      "zamenjave = {x1: x0+h, x2: x0+2*h}\n",
      "A_Simpson1_3 = [integrate(_, (x, x0, x2)).factor().subs(zamenjave).factor() \n",
      "             for _ in lagrange(3, x)]\n",
      "A_Simpson1_3"
     ],
     "language": "python",
     "metadata": {},
     "outputs": [
      {
       "latex": [
        "$$\\left [ \\frac{h}{3}, \\quad \\frac{4 h}{3}, \\quad \\frac{h}{3}\\right ]$$"
       ],
       "metadata": {},
       "output_type": "pyout",
       "png": "[encoded data removed]",
       "prompt_number": 27,
       "text": [
        "\u23a1h  4\u22c5h  h\u23a4\n",
        "\u23a2\u2500, \u2500\u2500\u2500, \u2500\u23a5\n",
        "\u23a33   3   3\u23a6"
       ]
      }
     ],
     "prompt_number": 27
    },
    {
     "cell_type": "heading",
     "level": 3,
     "metadata": {},
     "source": [
      "Strnjen izra\u010dun ute\u017ei za Simpsonovo 3/8 pravilo"
     ]
    },
    {
     "cell_type": "code",
     "collapsed": false,
     "input": [
      "x, x0, x1, x2, x3, h = symbols('x, x0, x1, x2, x3, h')\n",
      "zamenjave = {x1: x0+h, x2: x0+2*h, x3: x0+3*h}\n",
      "A_Simpson3_8 = [integrate(_, (x, x0, x3)).factor().subs(zamenjave).factor() \n",
      "                for _ in lagrange(4, x)]\n",
      "A_Simpson3_8"
     ],
     "language": "python",
     "metadata": {},
     "outputs": [
      {
       "latex": [
        "$$\\left [ \\frac{3 h}{8}, \\quad \\frac{9 h}{8}, \\quad \\frac{9 h}{8}, \\quad \\frac{3 h}{8}\\right ]$$"
       ],
       "metadata": {},
       "output_type": "pyout",
       "png": "[encoded data removed]",
       "prompt_number": 28,
       "text": [
        "\u23a13\u22c5h  9\u22c5h  9\u22c5h  3\u22c5h\u23a4\n",
        "\u23a2\u2500\u2500\u2500, \u2500\u2500\u2500, \u2500\u2500\u2500, \u2500\u2500\u2500\u23a5\n",
        "\u23a3 8    8    8    8 \u23a6"
       ]
      }
     ],
     "prompt_number": 28
    },
    {
     "cell_type": "heading",
     "level": 3,
     "metadata": {},
     "source": [
      "Strnjen izra\u010dun za interpolacijski polinom 4 stopnje"
     ]
    },
    {
     "cell_type": "code",
     "collapsed": false,
     "input": [
      "x, x0, x1, x2, x3, x4, h = symbols('x, x0, x1, x2, x3, x4, h')\n",
      "zamenjave = {x1: x0+h, x2: x0+2*h, x3: x0+3*h, x4: x0+4*h}\n",
      "A_Pretiravanje = [integrate(_, (x, x0, x4)).factor().subs(zamenjave).factor() \n",
      "                for _ in lagrange(5, x)]\n",
      "A_Pretiravanje"
     ],
     "language": "python",
     "metadata": {},
     "outputs": [
      {
       "latex": [
        "$$\\left [ \\frac{14 h}{45}, \\quad \\frac{64 h}{45}, \\quad \\frac{8 h}{15}, \\quad \\frac{64 h}{45}, \\quad \\frac{14 h}{45}\\right ]$$"
       ],
       "metadata": {},
       "output_type": "pyout",
       "png": "[encoded data removed]",
       "prompt_number": 29,
       "text": [
        "\u23a114\u22c5h  64\u22c5h  8\u22c5h  64\u22c5h  14\u22c5h\u23a4\n",
        "\u23a2\u2500\u2500\u2500\u2500, \u2500\u2500\u2500\u2500, \u2500\u2500\u2500, \u2500\u2500\u2500\u2500, \u2500\u2500\u2500\u2500\u23a5\n",
        "\u23a3 45    45    15   45    45 \u23a6"
       ]
      }
     ],
     "prompt_number": 29
    },
    {
     "cell_type": "heading",
     "level": 3,
     "metadata": {},
     "source": [
      "Prikaz uporabe Simpsonove 1/3 metode"
     ]
    },
    {
     "cell_type": "code",
     "collapsed": false,
     "input": [
      "from scipy import interpolate"
     ],
     "language": "python",
     "metadata": {},
     "outputs": [],
     "prompt_number": 31
    },
    {
     "cell_type": "code",
     "collapsed": false,
     "input": [
      "n = 4\n",
      "x_d_Simpson1_3 = np.linspace(a_d, b_d, n+1) # ve\u010d intervalov\n",
      "y_d_Simpson1_3 = f_d(x_d_Simpson1_3)\n",
      "y_interpolate = interpolate.lagrange(x_d_Simpson1_3, y_d_Simpson1_3)\n",
      "\n",
      "izberi = np.logical_and(a_d <= x_d_polno, x_d_polno <= b_d)\n",
      "# prikaz\n",
      "plt.fill_between(x_d_polno[izberi], y_d_polno[izberi], alpha=0.25, facecolor='r')\n",
      "plt.plot(x_d_polno, y_d_polno, 'r', lw=3, alpha=0.5, label='Zvezno')\n",
      "plt.plot(x_d_Simpson1_3, y_d_Simpson1_3, 'ro', label='Meje odseka')\n",
      "plt.plot(x_d_polno, y_interpolate(x_d_polno), 'b', label='Interpolacija')\n",
      "plt.fill_between(x_d_polno[izberi], y_interpolate(x_d_polno[izberi]), \n",
      "                 alpha=0.25, facecolor='b')\n",
      "plt.annotate('Simpsonovo 1/3 pravilo', (.4, 0.2))\n",
      "plt.ylim(-0.3, 1.1)\n",
      "plt.legend(loc=4);"
     ],
     "language": "python",
     "metadata": {},
     "outputs": [
      {
       "metadata": {},
       "output_type": "display_data",
       "png": "[encoded data removed]",
       "text": [
        "<matplotlib.figure.Figure at 0x8d35d30>"
       ]
      }
     ],
     "prompt_number": 41
    },
    {
     "cell_type": "heading",
     "level": 3,
     "metadata": {},
     "source": [
      "Numeri\u010dna implementacija sestavljenega Simpsonovega 1/3 pravila"
     ]
    },
    {
     "cell_type": "markdown",
     "metadata": {},
     "source": [
      "Spomnimo se ute\u017ei za Simpsonovo 1/3 pravilo:"
     ]
    },
    {
     "cell_type": "code",
     "collapsed": false,
     "input": [
      "A_Simpson1_3"
     ],
     "language": "python",
     "metadata": {},
     "outputs": [
      {
       "latex": [
        "$$\\left [ \\frac{h}{3}, \\quad \\frac{4 h}{3}, \\quad \\frac{h}{3}\\right ]$$"
       ],
       "metadata": {},
       "output_type": "pyout",
       "png": "[encoded data removed]",
       "prompt_number": 42,
       "text": [
        "\u23a1h  4\u22c5h  h\u23a4\n",
        "\u23a2\u2500, \u2500\u2500\u2500, \u2500\u23a5\n",
        "\u23a33   3   3\u23a6"
       ]
      }
     ],
     "prompt_number": 42
    },
    {
     "cell_type": "markdown",
     "metadata": {},
     "source": [
      "V kolikor \u017eelimo to uporabiti na ne ve\u010d kot treh to\u010dkah, lahko to naredimo na podoben na\u010din kakor smo pri trapeznem pravilo, vendar moramo tukaj malenkost bolj paziti. Potrebujemo najmanj tri to\u010dke, \u0161tevilo to\u010dk pa mora biti liho saj interpoliramo \u010dez tri to\u010dke. Ker je med odseki ena to\u010dka skupna imajo te to\u010dke v bistvu dvojno ute\u017e. Numeri\u010dna implementacija je tukaj:"
     ]
    },
    {
     "cell_type": "code",
     "collapsed": true,
     "input": [
      "def simpson1_3(y, h=1., izpis=True):\n",
      "    utezi = np.array([1., 4., 1.])/3*h\n",
      "    if len(y)%2 == 0:\n",
      "        raise Exception('Ne morem uporabiti Simpsonovega 1/3 pravila. Pri\u010dakovano liho \u0161tevilo vrednosti.')\n",
      "    utezi_arr = np.zeros_like(y)\n",
      "    for i in range(len(y)//2):\n",
      "        utezi_arr[2*i:2*i+3] = utezi_arr[2*i:2*i+3] + utezi\n",
      "    if izpis:\n",
      "        print(utezi_arr)\n",
      "    return utezi_arr.dot(y)"
     ],
     "language": "python",
     "metadata": {},
     "outputs": [],
     "prompt_number": 43
    },
    {
     "cell_type": "markdown",
     "metadata": {},
     "source": [
      "Primer uporabe:"
     ]
    },
    {
     "cell_type": "code",
     "collapsed": false,
     "input": [
      "#%%timeit\n",
      "h = x_d_Simpson1_3[1]-x_d_Simpson1_3[0]\n",
      "I_Simpson1_3 = simpson1_3(y_d_Simpson1_3, h, izpis=False)\n",
      "I_Simpson1_3"
     ],
     "language": "python",
     "metadata": {},
     "outputs": [
      {
       "latex": [
        "$$1.41665358288$$"
       ],
       "metadata": {},
       "output_type": "pyout",
       "png": "[encoded data removed]",
       "prompt_number": 46,
       "text": [
        "1.41665358288"
       ]
      }
     ],
     "prompt_number": 46
    },
    {
     "cell_type": "code",
     "collapsed": false,
     "input": [
      "I_analiticno"
     ],
     "language": "python",
     "metadata": {},
     "outputs": [
      {
       "latex": [
        "$$1.41614683654714$$"
       ],
       "metadata": {},
       "output_type": "pyout",
       "png": "[encoded data removed]",
       "prompt_number": 47,
       "text": [
        "1.41614683654714"
       ]
      }
     ],
     "prompt_number": 47
    },
    {
     "cell_type": "code",
     "collapsed": false,
     "input": [
      "I_trapezno_sestav"
     ],
     "language": "python",
     "metadata": {},
     "outputs": [
      {
       "latex": [
        "$$1.38652011171$$"
       ],
       "metadata": {},
       "output_type": "pyout",
       "png": "[encoded data removed]",
       "prompt_number": 48,
       "text": [
        "1.38652011171"
       ]
      }
     ],
     "prompt_number": 48
    },
    {
     "cell_type": "markdown",
     "metadata": {},
     "source": [
      "Ocena napake (vir: Jaan Kiusalaas: Numerical Methods in Engineering With Python 3, 3rd Ed) za sestavljeno Simpsonov 1/3 pravilo je:\n",
      "$$E=-\\frac{(b - a)\\,h^4}{180}f^{(4)}(\\xi),$$\n",
      "kjer je $\\xi$ neznana vrednost na intervalu $[a, b]$."
     ]
    },
    {
     "cell_type": "heading",
     "level": 3,
     "metadata": {},
     "source": [
      "``scipy`` implementacija"
     ]
    },
    {
     "cell_type": "code",
     "collapsed": false,
     "input": [
      "from scipy import integrate"
     ],
     "language": "python",
     "metadata": {},
     "outputs": [],
     "prompt_number": 49
    },
    {
     "cell_type": "code",
     "collapsed": false,
     "input": [
      "#%%timeit\n",
      "integrate.simps(y_d_sestav, dx=h)"
     ],
     "language": "python",
     "metadata": {},
     "outputs": [
      {
       "latex": [
        "$$1.41665358288$$"
       ],
       "metadata": {},
       "output_type": "pyout",
       "png": "[encoded data removed]",
       "prompt_number": 52,
       "text": [
        "1.41665358288"
       ]
      }
     ],
     "prompt_number": 52
    },
    {
     "cell_type": "markdown",
     "metadata": {},
     "source": [
      "Sicer lahko ute\u017ei razli\u010dnih *Newton-Cotesovih* pristopov pridobimo takole:"
     ]
    },
    {
     "cell_type": "code",
     "collapsed": false,
     "input": [
      "integrate.newton_cotes(3)"
     ],
     "language": "python",
     "metadata": {},
     "outputs": [
      {
       "metadata": {},
       "output_type": "pyout",
       "prompt_number": 58,
       "text": [
        "(array([ 0.375,  1.125,  1.125,  0.375]), -0.0375)"
       ]
      }
     ],
     "prompt_number": 58
    },
    {
     "cell_type": "markdown",
     "metadata": {},
     "source": [
      "Poglejmo si \u0161e eno funkcijo; tipi\u010dno nas pri integriranju zanima kon\u010dna vrednost:"
     ]
    },
    {
     "cell_type": "code",
     "collapsed": false,
     "input": [
      "I_trapezno_sestav"
     ],
     "language": "python",
     "metadata": {},
     "outputs": [
      {
       "latex": [
        "$$1.38652011171$$"
       ],
       "metadata": {},
       "output_type": "pyout",
       "png": "[encoded data removed]",
       "prompt_number": 59,
       "text": [
        "1.38652011171"
       ]
      }
     ],
     "prompt_number": 59
    },
    {
     "cell_type": "markdown",
     "metadata": {},
     "source": [
      "\u010ce nas pa na vsakem odseku zanima rezultat, pa lahko uporabimo funkcijo ``integrate.cumtrapz``:"
     ]
    },
    {
     "cell_type": "code",
     "collapsed": false,
     "input": [
      "I_po_korakih = integrate.cumtrapz(y_d_sestav, dx=h, initial=0)\n",
      "print(I_po_korakih)\n",
      "plt.plot(x_d_sestav, y_d_sestav, 'ro-', x_d_sestav, I_po_korakih, 'bo-');"
     ],
     "language": "python",
     "metadata": {},
     "outputs": [
      {
       "output_type": "stream",
       "stream": "stdout",
       "text": [
        "[ 0.          0.11985638  0.45008052  0.90982201  1.38652011]\n"
       ]
      },
      {
       "metadata": {},
       "output_type": "display_data",
       "png": "[encoded data removed]",
       "text": [
        "<matplotlib.figure.Figure at 0x8d1a208>"
       ]
      }
     ],
     "prompt_number": 61
    },
    {
     "cell_type": "heading",
     "level": 1,
     "metadata": {},
     "source": [
      "Gaussov integracijski pristop - Gaussova kvadratura"
     ]
    },
    {
     "cell_type": "markdown",
     "metadata": {},
     "source": [
      "Pristop k integriranju zgoraj je temeljil na konstantnem koraku in izbrano pravilo (pravokotno, trapezno, Simpsonovo,...) rezultira v to\u010den rezultat v kolikor je integrirana funkcija $f(x)$ polinom enake ali ni\u017eje stopnje kakor je uporabljena interpolacija posameznega Newton-Cotesovega pristopa (npr. trapezno pravilo izra\u010duna to\u010dno linearne funkcije).\n",
      "\n",
      "Ideja *Gaussove integracije / kvadrature* je v principu druga\u010dna. Da jo spoznamo, si poglejmo spodnjo sliko:"
     ]
    },
    {
     "cell_type": "code",
     "collapsed": false,
     "input": [
      "#poljubno izbrane to\u010dke na intervalu [a, b]\n",
      "x_izbrane = np.mean(x_d)* [1/3, 5/3]\n",
      "y_izbrane = f_d(x_izbrane)\n",
      "lin_inter = interpolate.lagrange(x_izbrane, y_izbrane)\n",
      "#\n",
      "plt.fill_between(x_d_polno[izberi], y_d_polno[izberi], alpha=0.25, facecolor='r')\n",
      "plt.plot(x_d_polno, y_d_polno, 'r', lw=3, alpha=0.5, label='Zvezno')\n",
      "plt.plot(x_d, y_d, 'ro', label='Diskretno')\n",
      "plt.fill_between(x_d, y_d, alpha=0.25, facecolor='b')\n",
      "plt.plot(x_izbrane, y_izbrane, 'go', label='Poljubno izbrane')\n",
      "plt.fill_between(x_d, lin_inter(x_d), alpha=0.25, facecolor='g')\n",
      "plt.annotate('Trapezno pravilo', (.8, 0.2))\n",
      "plt.annotate('Poljubno izbrana vozli\u0161\u010da', (.8, 0.90), rotation=30)\n",
      "plt.ylim(-0.3, 1.3)\n",
      "plt.legend(loc=4);"
     ],
     "language": "python",
     "metadata": {},
     "outputs": [
      {
       "metadata": {},
       "output_type": "display_data",
       "png": "[encoded data removed]",
       "text": [
        "<matplotlib.figure.Figure at 0xa34d358>"
       ]
      }
     ],
     "prompt_number": 62
    },
    {
     "cell_type": "markdown",
     "metadata": {},
     "source": [
      "Iz slike opazimo, da bi lahko z druga\u010dno izbiro vozli\u0161\u010d tudi s trapeznim pravilom bolje aproksimirali integral. In ravno v tem je ideja Gaussovega pristopa k aproksimaciji integrala; cilj je integral funkcije $f(x)$ nadomestiti z ute\u017eeno vsoto vrednosti funkcije pri diskretnih vrednostih $f(x_i)$:\n",
      "$$\\int_a^bf(x)\\,dx\\approx \\sum_i^{n-1} w_i\\, f(x_i).$$\n",
      "Pri tem je neznana ute\u017e $w_i$ in tudi lega vozli\u0161\u010da $x_i$. Z ve\u010danjem \u0161tevila ute\u017ei $n$ bomo pa lahko pove\u010dali tudi stopnjo interpolacijskega polinoma.\n",
      "\n",
      "V nadaljevanju si bomo torej pogledali Gaussovo kvadraturo in spoznali, da lahko zelo u\u010dinkovito izra\u010dunamo to\u010den integral. Prednost Gaussove kvadrature je tudi, da lahko izra\u010duna integral funkcij s singularnostmi (npr: $\\int_0^1\\sin(x)/\\sqrt{(x)}\\,dx$)"
     ]
    },
    {
     "cell_type": "heading",
     "level": 3,
     "metadata": {},
     "source": [
      "Gaussova kvadratura z enim vozli\u0161\u010dem"
     ]
    },
    {
     "cell_type": "markdown",
     "metadata": {},
     "source": [
      "Predpostavimo, da \u017eelimo integrirati polinom stopnje $n=1$ (linearna funkcija):\n",
      "$$f(x)=P_1(x)=A_0+A_1\\,x.$$\n",
      "To\u010den rezultat integrala $\\int_a^bP_1(x)dx$ je:"
     ]
    },
    {
     "cell_type": "code",
     "collapsed": false,
     "input": [
      "A0, A1, x, a, b, w0, x0 = symbols('A0, A1, x, a, b, w0, x0')\n",
      "P1 = A0 + A1*x\n",
      "P1.integrate((x, a, b))"
     ],
     "language": "python",
     "metadata": {},
     "outputs": [
      {
       "latex": [
        "$$- A_{0} a + A_{0} b - \\frac{A_{1} a^{2}}{2} + \\frac{A_{1} b^{2}}{2}$$"
       ],
       "metadata": {},
       "output_type": "pyout",
       "png": "[encoded data removed]",
       "prompt_number": 64,
       "text": [
        "                   2       2\n",
        "               A\u2081\u22c5a    A\u2081\u22c5b \n",
        "-A\u2080\u22c5a + A\u2080\u22c5b - \u2500\u2500\u2500\u2500\u2500 + \u2500\u2500\u2500\u2500\u2500\n",
        "                 2       2  "
       ]
      }
     ],
     "prompt_number": 64
    },
    {
     "cell_type": "markdown",
     "metadata": {},
     "source": [
      "\u010ce bi \u017eeleli integral izra\u010dunati glede na vrednostjo funkcije $f$ v neznanem vozli\u0161\u010du $x_0$:\n",
      "$$\\int_a^bP_1(x)dx = w_0\\,P_1(x_0),$$\n",
      "potem moramo najti tudi ustrezno ute\u017e $w_0$. \n",
      "Zapi\u0161imo ena\u010dbo simbolno:"
     ]
    },
    {
     "cell_type": "code",
     "collapsed": false,
     "input": [
      "Eq(P1.integrate((x, a, b)).expand(),w0*P1.subs(x, x0))"
     ],
     "language": "python",
     "metadata": {},
     "outputs": [
      {
       "latex": [
        "$$- A_{0} a + A_{0} b - \\frac{A_{1} a^{2}}{2} + \\frac{A_{1} b^{2}}{2} = w_{0} \\left(A_{0} + A_{1} x_{0}\\right)$$"
       ],
       "metadata": {},
       "output_type": "pyout",
       "png": "[encoded data removed]",
       "prompt_number": 65,
       "text": [
        "                   2       2                  \n",
        "               A\u2081\u22c5a    A\u2081\u22c5b                   \n",
        "-A\u2080\u22c5a + A\u2080\u22c5b - \u2500\u2500\u2500\u2500\u2500 + \u2500\u2500\u2500\u2500\u2500 = w\u2080\u22c5(A\u2080 + A\u2081\u22c5x\u2080)\n",
        "                 2       2                    "
       ]
      }
     ],
     "prompt_number": 65
    },
    {
     "cell_type": "markdown",
     "metadata": {},
     "source": [
      "Spomnimo, da so $a$ in $b$ znane meje, $A_i$ konstante poljubne linearne funkcije, $w_0$ in $x_0$ pa neznani vrednosti. Ker sta $A_i$ poljubni, lahko iz zgornje ena\u010dbe izpeljemo dve ena\u010dbi:"
     ]
    },
    {
     "cell_type": "code",
     "collapsed": false,
     "input": [
      "eqs = [Eq(P1.integrate((x, a, b)).expand().coeff(A_),w0*P1.subs(x, x0).coeff(A_)) for A_ in [A0, A1]]\n",
      "eqs"
     ],
     "language": "python",
     "metadata": {},
     "outputs": [
      {
       "latex": [
        "$$\\left [ - a + b = w_{0}, \\quad - \\frac{a^{2}}{2} + \\frac{b^{2}}{2} = w_{0} x_{0}\\right ]$$"
       ],
       "metadata": {},
       "output_type": "pyout",
       "png": "[encoded data removed]",
       "prompt_number": 67,
       "text": [
        "\u23a1                2    2        \u23a4\n",
        "\u23a2               a    b         \u23a5\n",
        "\u23a2-a + b = w\u2080, - \u2500\u2500 + \u2500\u2500 = w\u2080\u22c5x\u2080\u23a5\n",
        "\u23a3               2    2         \u23a6"
       ]
      }
     ],
     "prompt_number": 67
    },
    {
     "cell_type": "markdown",
     "metadata": {},
     "source": [
      "Izpeljali smo dve ena\u010dbi in dve neznanki, sistem lahko re\u0161imo:"
     ]
    },
    {
     "cell_type": "code",
     "collapsed": false,
     "input": [
      "solve(eqs, [w0, x0])"
     ],
     "language": "python",
     "metadata": {},
     "outputs": [
      {
       "latex": [
        "$$\\left [ \\left ( - a + b, \\quad \\frac{a}{2} + \\frac{b}{2}\\right )\\right ]$$"
       ],
       "metadata": {},
       "output_type": "pyout",
       "png": "[encoded data removed]",
       "prompt_number": 68,
       "text": [
        "\u23a1\u239b        a   b\u239e\u23a4\n",
        "\u23a2\u239c-a + b, \u2500 + \u2500\u239f\u23a5\n",
        "\u23a3\u239d        2   2\u23a0\u23a6"
       ]
      }
     ],
     "prompt_number": 68
    },
    {
     "cell_type": "markdown",
     "metadata": {},
     "source": [
      "Zaradi la\u017eje splo\u0161ne uporabe, pri Gaussovi kvadraturi tipi\u010dno uporabljamo meje $a=-1$ in $b=1$.\n",
      "\n",
      "Poljubne meje $x\\in[a,b]$ lahko vedno transformiramo v meje $\\xi\\in[-1, +1]$ s pomo\u010djo:\n",
      "$$x=\\frac{b+a}{2}+\\frac{b-a}{2}\\xi$$\n",
      "posledi\u010dno je Gaussova kvadratura potem:\n",
      "$$\\int_a^bf(x)\\,dx\\approx\\frac{b-a}{2}\\sum_i A_i\\,f(x_i).$$\n",
      "\n",
      "V primeru standardiziranih mej, je ute\u017e $w_0=2$ in $x_0=0$ vrednost pri kateri moramo izra\u010dunati funkcijo $f$. \u010ce je integrirana funkcija linearna, bomo torej samo na podlagi vrednosti v eni to\u010dki izra\u010dunali pravo vrednost!"
     ]
    },
    {
     "cell_type": "markdown",
     "metadata": {},
     "source": [
      "\u010ce vam je bila razlaga tukaj prehitra ali premalo jasna, vam priporo\u010dam ogled tega video posnetka:\n",
      "https://www.youtube.com/watch?v=iQ5-4hx25Rw"
     ]
    },
    {
     "cell_type": "heading",
     "level": 3,
     "metadata": {},
     "source": [
      "Gaussova kvadratura z ve\u010d vozli\u0161\u010di"
     ]
    },
    {
     "cell_type": "markdown",
     "metadata": {},
     "source": [
      "Tukaj \u017eelimo zgornji pristop posplo\u0161iti na $n$ vozli\u0161\u010d:\n",
      "$$\\int_a^bP_{2n-1}(x)dx = \\sum_i^n w_i\\,P_{2n-1}(x_i),$$\n",
      "kakor zgornja ena\u010dba nakazuje, je treba za Gaussovo kvadraturo z $n$ vozli\u0161\u010di uporabiti polinom stopnje $2n-1$:\n",
      "$$f(x)=P_{2n-1}(x)=\\sum_{i=0}^{2n-1} A_i\\,x^i.$$\n",
      "To je v bistvu zelo dobro, saj z dvema Gaussovima vozli\u0161\u010dema to\u010dno izra\u010dunamo integral polinoma do 3 reda, s tremi Gausovimi vozli\u0161\u010di pa to\u010dno izra\u010dunamo integral polinoma do 5 reda!"
     ]
    },
    {
     "cell_type": "markdown",
     "metadata": {},
     "source": [
      "Pripravimo si najprej simbolni zapis polinoma in ustreznih spremenljivk:"
     ]
    },
    {
     "cell_type": "code",
     "collapsed": false,
     "input": [
      "def P_etc(n=1, A='A', X='X'):\n",
      "    A = symbols('{0:s}:{1:g}'.format(A, n))\n",
      "    X = symbols(X)\n",
      "    return A, X, sum([A[i]*X**i for i in range(n)])"
     ],
     "language": "python",
     "metadata": {},
     "outputs": [],
     "prompt_number": 69
    },
    {
     "cell_type": "code",
     "collapsed": false,
     "input": [
      "stevilo_tock = 2\n",
      "A, X, P = P_etc(n=2*stevilo_tock)\n",
      "x = symbols('x:{0:g}'.format(stevilo_tock))\n",
      "w = symbols('w:{0:g}'.format(stevilo_tock))"
     ],
     "language": "python",
     "metadata": {},
     "outputs": [],
     "prompt_number": 70
    },
    {
     "cell_type": "code",
     "collapsed": false,
     "input": [
      "P"
     ],
     "language": "python",
     "metadata": {},
     "outputs": [
      {
       "latex": [
        "$$A_{0} + A_{1} X + A_{2} X^{2} + A_{3} X^{3}$$"
       ],
       "metadata": {},
       "output_type": "pyout",
       "png": "[encoded data removed]",
       "prompt_number": 71,
       "text": [
        "                2       3\n",
        "A\u2080 + A\u2081\u22c5X + A\u2082\u22c5X  + A\u2083\u22c5X "
       ]
      }
     ],
     "prompt_number": 71
    },
    {
     "cell_type": "markdown",
     "metadata": {},
     "source": [
      "Definirajmo ena\u010dbe:"
     ]
    },
    {
     "cell_type": "code",
     "collapsed": false,
     "input": [
      "eqs = [Eq(P.integrate((X, -1, 1)).coeff(A_), \n",
      "          sum([w[i]*P.subs(X, x[i]) for i in range(stevilo_tock)]).expand().coeff(A_)) for A_ in A]\n",
      "eqs"
     ],
     "language": "python",
     "metadata": {},
     "outputs": [
      {
       "latex": [
        "$$\\left [ 2 = w_{0} + w_{1}, \\quad 0 = w_{0} x_{0} + w_{1} x_{1}, \\quad \\frac{2}{3} = w_{0} x_{0}^{2} + w_{1} x_{1}^{2}, \\quad 0 = w_{0} x_{0}^{3} + w_{1} x_{1}^{3}\\right ]$$"
       ],
       "metadata": {},
       "output_type": "pyout",
       "png": "[encoded data removed]",
       "prompt_number": 73,
       "text": [
        "\u23a1                                           2        2           3        3\u23a4\n",
        "\u23a32 = w\u2080 + w\u2081, 0 = w\u2080\u22c5x\u2080 + w\u2081\u22c5x\u2081, 2/3 = w\u2080\u22c5x\u2080  + w\u2081\u22c5x\u2081 , 0 = w\u2080\u22c5x\u2080  + w\u2081\u22c5x\u2081 \u23a6"
       ]
      }
     ],
     "prompt_number": 73
    },
    {
     "cell_type": "markdown",
     "metadata": {},
     "source": [
      "In jih re\u0161imo"
     ]
    },
    {
     "cell_type": "code",
     "collapsed": false,
     "input": [
      "sol = solve(eqs, flatten((w, x)))\n",
      "sol"
     ],
     "language": "python",
     "metadata": {},
     "outputs": [
      {
       "latex": [
        "$$\\left [ \\left ( 1, \\quad 1, \\quad - \\frac{\\sqrt{3}}{3}, \\quad \\frac{\\sqrt{3}}{3}\\right ), \\quad \\left ( 1, \\quad 1, \\quad \\frac{\\sqrt{3}}{3}, \\quad - \\frac{\\sqrt{3}}{3}\\right )\\right ]$$"
       ],
       "metadata": {},
       "output_type": "pyout",
       "png": "[encoded data removed]",
       "prompt_number": 74,
       "text": [
        "\u23a1\u239b         ___     ___\u239e  \u239b        ___     ___ \u239e\u23a4\n",
        "\u23a2\u239c      -\u2572\u2571 3    \u2572\u2571 3 \u239f  \u239c      \u2572\u2571 3   -\u2572\u2571 3  \u239f\u23a5\n",
        "\u23a2\u239c1, 1, \u2500\u2500\u2500\u2500\u2500\u2500\u2500, \u2500\u2500\u2500\u2500\u2500\u239f, \u239c1, 1, \u2500\u2500\u2500\u2500\u2500, \u2500\u2500\u2500\u2500\u2500\u2500\u2500\u239f\u23a5\n",
        "\u23a3\u239d         3       3  \u23a0  \u239d        3       3   \u23a0\u23a6"
       ]
      }
     ],
     "prompt_number": 74
    },
    {
     "cell_type": "markdown",
     "metadata": {},
     "source": [
      "Re\u0161evanje zgornjega problema je nelinearno zato dobimo ve\u010d re\u0161itev in simbolno ima smisel do treh vozli\u0161\u010d.\n",
      "\n",
      "| \u0160tevilo to\u010dk | Vozli\u0161\u010de  $x_i$ | Ute\u017e $w_i$ |\n",
      "|:------------:|:------------:|:------------:|\n",
      "||||\n",
      "|1 | 0 | 2 |\n",
      "||||\n",
      "|2 | $-\\frac{\\sqrt{3}}{3}$ | 1 |\n",
      "| | $+\\frac{\\sqrt{3}}{3}$ | 1 |\n",
      "||||\n",
      "| | $-\\frac{\\sqrt{15}}{5}$ | $\\frac{5}{9}$ |\n",
      "|3 | $0$ | $\\frac{8}{9}$ |\n",
      "| | $\\frac{\\sqrt{15}}{5}$ | $\\frac{5}{9}$ |\n"
     ]
    },
    {
     "cell_type": "markdown",
     "metadata": {},
     "source": [
      "Vsebino bi tukaj lahko nadaljevali s pregledom razli\u010dnih pravokotnih (tukaj se ne bomo spustili podrobneje v pomen termina *pravokotnih polinomov*) polinomov (npr. *Legendre*, *Chebyshev*, *Leguerre*, *Hermite*). \n",
      "\n",
      "Naprej bi lahko nadaljevali v smeri Gaussove integracije v ve\u010d dimenzijah, ki se pogosto uporablja npr. pri kon\u010dnih elementih.\n",
      "\n",
      "Ker pa bi s tem bistveno presegli namen tega predmeta in ker je za osnovno uporabo v praksi zavedanje predhodno navedene teorije dovolj, se s teorijo numeri\u010dnega integriranja tukaj ustavimo."
     ]
    },
    {
     "cell_type": "heading",
     "level": 3,
     "metadata": {},
     "source": [
      "Uporaba ``scipy.integrate`` modula"
     ]
    },
    {
     "cell_type": "markdown",
     "metadata": {},
     "source": [
      "Uporaba vgrajenih funkcij je zelo enostavna; tudi meje so samodejno transformirane."
     ]
    },
    {
     "cell_type": "code",
     "collapsed": false,
     "input": [
      "I_analiticno"
     ],
     "language": "python",
     "metadata": {},
     "outputs": [
      {
       "latex": [
        "$$1.41614683654714$$"
       ],
       "metadata": {},
       "output_type": "pyout",
       "png": "[encoded data removed]",
       "prompt_number": 75,
       "text": [
        "1.41614683654714"
       ]
      }
     ],
     "prompt_number": 75
    },
    {
     "cell_type": "code",
     "collapsed": false,
     "input": [
      "integrate.quadrature(f_d, 0, 2, maxiter=2)"
     ],
     "language": "python",
     "metadata": {},
     "outputs": [
      {
       "latex": [
        "$$\\left ( 1.41015698167, \\quad 0.27278498795\\right )$$"
       ],
       "metadata": {},
       "output_type": "pyout",
       "png": "[encoded data removed]",
       "prompt_number": 82,
       "text": [
        "(1.41015698167, 0.27278498795)"
       ]
      }
     ],
     "prompt_number": 82
    },
    {
     "cell_type": "code",
     "collapsed": false,
     "input": [
      "integrate.quadrature(f_d, 0, 2, maxiter=3)"
     ],
     "language": "python",
     "metadata": {},
     "outputs": [
      {
       "latex": [
        "$$\\left ( 1.41619865274, \\quad 0.00604167107557\\right )$$"
       ],
       "metadata": {},
       "output_type": "pyout",
       "png": "[encoded data removed]",
       "prompt_number": 83,
       "text": [
        "(1.41619865274, 0.00604167107557)"
       ]
      }
     ],
     "prompt_number": 83
    },
    {
     "cell_type": "code",
     "collapsed": false,
     "input": [
      "#%%timeit\n",
      "integrate.quadrature(f_d, 0, 2)"
     ],
     "language": "python",
     "metadata": {},
     "outputs": [
      {
       "latex": [
        "$$\\left ( 1.41614683655, \\quad 6.67212951555e-10\\right )$$"
       ],
       "metadata": {},
       "output_type": "pyout",
       "png": "[encoded data removed]",
       "prompt_number": 87,
       "text": [
        "(1.41614683655, 6.67212951555e-10)"
       ]
      }
     ],
     "prompt_number": 87
    },
    {
     "cell_type": "code",
     "collapsed": false,
     "input": [
      "#%%timeit\n",
      "integrate.quad(f_d, 0, 2)"
     ],
     "language": "python",
     "metadata": {},
     "outputs": [
      {
       "latex": [
        "$$\\left ( 1.4161468365471424, \\quad 1.5722388241847156e-14\\right )$$"
       ],
       "metadata": {},
       "output_type": "pyout",
       "png": "[encoded data removed]",
       "prompt_number": 89,
       "text": [
        "(1.4161468365471424, 1.5722388241847156e-14)"
       ]
      }
     ],
     "prompt_number": 89
    },
    {
     "cell_type": "heading",
     "level": 1,
     "metadata": {},
     "source": [
      "Do naslednjih vaj pre\u0161tudirajte slede\u010de:"
     ]
    },
    {
     "cell_type": "markdown",
     "metadata": {},
     "source": [
      "1. Na sliki (vir: J. Slavi\u010d: Dinamika, meh. nihanja..., 2014) je prikazan trikotnik s stranicami dol\u017eine $a$, $b$, debelino $h$ in gostoto $\\rho$.\n",
      "<img src=\"others/Slavic 2014 str 242 slika 5.4.png\" width=200>\n",
      "V simbolni obliki dolo\u010dite masni vztrajnostni moment glede na prikazano os $y$:\n",
      "$$J_{yy}=\\int_0^b y^2\\,\\rho\\,h\\,(a-a/b\\,y)\\,dy.$$\n",
      "Upo\u0161tevajte tudi: $m=a\\,b\\,h\\,\\rho/2$. Za izmi\u0161ljene vrednosti izra\u010dunajte numeri\u010dni rezultat.\n",
      "* Izra\u010dunajte integral tudi numeri\u010dno. Uporabite ``scipy.integrate`` in integrirajte glede na pravila: trapezno, Simpsonovo 1/3. Rezultat primerjajte tudi z Gaussovo kvadraturo.\n",
      "Razi\u0161\u010dite natan\u010dnost in hitrost metod.\n",
      "* Pre\u0161tudirajte ``scipy.special.legendre``, ki vam vrne objekt ``orthopoly1d``. Ta objekt ima metodo ``weights``, ki vrne seznam ``[x, w, mu0]`` vrednosti, ki jih uporabimo pri Gaussovi kvadraturi. (\u010ce tukaj vsega ne razumete, ne skrbite preve\u010d, bo asistent pokazal/komentiral). Opazite lahko, da smo vrednosti izpeljali na predavanjih!\n",
      "* S pomo\u010djo zgoraj pridobljenih ute\u017ei in vozli\u0161\u010d izra\u010dunajte integral s pomo\u010djo Gaussove kvadrature: $\\sum_iw_i\\,f(x_i)$. Pazite na transformacijo mej:\n",
      "$$x=\\frac{b+a}{2}+\\frac{b-a}{2}\\xi$$\n",
      "$$\\int_a^bf(x)\\,dx\\approx\\frac{b-a}{2}\\sum_i A_i\\,f(x_i).$$\n",
      "* Preprosti integral $\\int_0^2x^2\\,dx$ izrabite za prikaz trapeznega in Simpsonovega 1/3 pravila (osnovno pravilo, ne sestavljeno). Ute\u017ei izra\u010dunajte z uporabo ``scipy``.\n",
      "* Integral predhodne to\u010dke raz\u0161irite za sestavljeno trapezno pravilo (lastna koda). Prika\u017eite vpliv \u0161tevila odsekov, primerjte napako izra\u010duna s predhodnim \u0161tevilom odsekov in prika\u017eite konvergenco.\n",
      "* Integral predhodne to\u010dke raz\u0161irite za sestavljeno Simpsonovo 1/3 pravilo (lastna koda). Prika\u017eite vpliv \u0161tevila odsekov, primerjte napako izra\u010duna s predhodnim \u0161tevilom odsekov in prika\u017eite konvergenco.\n",
      "* Z razli\u010dnimi metodami izra\u010dunajte integrala:\n",
      "$$\\int_1^2\\frac{\\sin(x)}{\\sqrt{x}}$$\n",
      "in\n",
      "$$\\int_0^1\\frac{\\sin(x)}{\\sqrt{x}}.$$\n"
     ]
    }
   ],
   "metadata": {}
  }
 ]
}