{
 "metadata": {
  "name": "",
  "signature": "sha256:22052dd80c8628ff247997646d8e0c5a2a0f7e2cb0587c28b33f002332c6702f"
 },
 "nbformat": 3,
 "nbformat_minor": 0,
 "worksheets": [
  {
   "cells": [
    {
     "cell_type": "heading",
     "level": 2,
     "metadata": {},
     "source": [
      "1. Odprite datoteko za zapis in vanjo vpi\u0161ite formatirani (skupaj 7 mest, 3 decimalna mesta) seznam v dveh stolpcih. Razlo\u010devalni znak med stolpci naj bo prazen znak ' '."
     ]
    },
    {
     "cell_type": "code",
     "collapsed": false,
     "input": [
      "sez = [\n",
      "[5465.65465, 6546.65465],\n",
      "[8498.848, 984.84],\n",
      "[8345.848, 784.9874],\n",
      "[8837.848, 65621.5]\n",
      "]"
     ],
     "language": "python",
     "metadata": {},
     "outputs": [],
     "prompt_number": 50
    },
    {
     "cell_type": "code",
     "collapsed": false,
     "input": [
      "for i in sez:\n",
      "    print(i)"
     ],
     "language": "python",
     "metadata": {},
     "outputs": [
      {
       "output_type": "stream",
       "stream": "stdout",
       "text": [
        "[5465.65465, 6546.65465]\n",
        "[8498.848, 984.84]\n",
        "[845.848, 784.9874]\n",
        "[887.848, 65621.5]\n"
       ]
      }
     ],
     "prompt_number": 6
    },
    {
     "cell_type": "code",
     "collapsed": false,
     "input": [],
     "language": "python",
     "metadata": {},
     "outputs": [],
     "prompt_number": 42
    },
    {
     "cell_type": "code",
     "collapsed": false,
     "input": [
      "dat = open(\"podatki.txt\", mode=\"w+\")\n",
      "\n",
      "dat.write(\"test\\n\")\n",
      "for i in sez:\n",
      "    dat.write('{0:4.3f}\\t{1:4.4f}\\n'.format(i[0],i[1]))\n",
      "dat.write('konec')\n",
      "dat.close()"
     ],
     "language": "python",
     "metadata": {},
     "outputs": [],
     "prompt_number": 52
    },
    {
     "cell_type": "code",
     "collapsed": false,
     "input": [
      "a = 434.34"
     ],
     "language": "python",
     "metadata": {},
     "outputs": [],
     "prompt_number": 7
    },
    {
     "cell_type": "code",
     "collapsed": false,
     "input": [
      "print(\"vrednost je {0:5.1f} in druga vrednost {1:4.3f}\".format(a, 554.454))"
     ],
     "language": "python",
     "metadata": {},
     "outputs": [
      {
       "output_type": "stream",
       "stream": "stdout",
       "text": [
        "vrednost je 434.3 in druga vrednost 554.454\n"
       ]
      }
     ],
     "prompt_number": 23
    },
    {
     "cell_type": "heading",
     "level": 2,
     "metadata": {},
     "source": [
      "2. Odprite pripeto datoteko zapis_labview.lvm (gre za zapis iz programa LabView) in preberite glavo v obliki slovarja ('ime polja': vrednost)."
     ]
    },
    {
     "cell_type": "code",
     "collapsed": false,
     "input": [
      "dat = open('zapis_labview.lvm')\n",
      "aa = {} # aa = dict()\n",
      "for line in dat:\n",
      "    sez = line.split()\n",
      "    \n",
      "    if \"***End_of_Header***\" in sez[0]:\n",
      "        break\n",
      "    aa[sez[0]] = sez[1] \n",
      "    \n",
      "dat.close()"
     ],
     "language": "python",
     "metadata": {},
     "outputs": [],
     "prompt_number": 48
    },
    {
     "cell_type": "code",
     "collapsed": false,
     "input": [
      "\n",
      "LabVIEW"
     ],
     "language": "python",
     "metadata": {},
     "outputs": [
      {
       "ename": "SyntaxError",
       "evalue": "invalid syntax (<ipython-input-65-b064af869f32>, line 1)",
       "output_type": "pyerr",
       "traceback": [
        "\u001b[1;36m  File \u001b[1;32m\"<ipython-input-65-b064af869f32>\"\u001b[1;36m, line \u001b[1;32m1\u001b[0m\n\u001b[1;33m    LabVIEW in line:\u001b[0m\n\u001b[1;37m                   ^\u001b[0m\n\u001b[1;31mSyntaxError\u001b[0m\u001b[1;31m:\u001b[0m invalid syntax\n"
       ]
      }
     ],
     "prompt_number": 65
    },
    {
     "cell_type": "code",
     "collapsed": false,
     "input": [
      "LabVIEW in"
     ],
     "language": "python",
     "metadata": {},
     "outputs": []
    },
    {
     "cell_type": "code",
     "collapsed": false,
     "input": [
      "type(aa)"
     ],
     "language": "python",
     "metadata": {},
     "outputs": [
      {
       "metadata": {},
       "output_type": "pyout",
       "prompt_number": 4,
       "text": [
        "dict"
       ]
      }
     ],
     "prompt_number": 4
    },
    {
     "cell_type": "heading",
     "level": 2,
     "metadata": {},
     "source": [
      "3. V datoteki iz prej\u0161nje to\u010dke preberiet podatke (uporabite funkcijo replace() za zamenjavo decimalne vejice v piko in nato pretvorite niz v \u0161tevilo. Najdite ustrezno dokumentacijo/help)."
     ]
    },
    {
     "cell_type": "code",
     "collapsed": false,
     "input": [
      "dat = open('zapis_labview.lvm')\n",
      "i = 1\n",
      "for line in dat:\n",
      "    i += 1\n",
      "    if i > 24:\n",
      "        sez = line.replace(',','.')\n",
      "        \n",
      "        print(i, sez)\n",
      "        \n",
      "dat.close()"
     ],
     "language": "python",
     "metadata": {},
     "outputs": [
      {
       "output_type": "stream",
       "stream": "stdout",
       "text": [
        "25 \t0.914018\t1.204792\n",
        "\n",
        "26 \t0.537321\t1.208403\n",
        "\n",
        "27 \t0.616905\t1.213915\n",
        "\n",
        "28 \t0.895449\t1.212205\n",
        "\n",
        "29 \t0.574460\t1.222088\n",
        "\n",
        "30 \t0.516099\t1.218223\n",
        "\n",
        "31 \t1.046658\t1.213408\n",
        "\n",
        "32 \t0.394070\t1.221011\n",
        "\n",
        "33 \t0.741586\t1.211888\n",
        "\n",
        "34 \t0.680572\t1.212775\n",
        "\n"
       ]
      }
     ],
     "prompt_number": 66
    },
    {
     "cell_type": "heading",
     "level": 2,
     "metadata": {},
     "source": [
      "4. Na poljubnem seznamu besed prika\u017eite uporabo izpeljevanja seznamov tako, da zamenjate poljuben samoglasnik."
     ]
    },
    {
     "cell_type": "code",
     "collapsed": false,
     "input": [
      "imena = ['Aljaz', 'Masha', 'Lea', 'Miha']\n",
      "[i.replace('a','o') and i.replace('A','O')for i in imena]"
     ],
     "language": "python",
     "metadata": {},
     "outputs": [
      {
       "metadata": {},
       "output_type": "pyout",
       "prompt_number": 98,
       "text": [
        "['Oljaz', 'Masha', 'Lea', 'Miha']"
       ]
      }
     ],
     "prompt_number": 98
    },
    {
     "cell_type": "markdown",
     "metadata": {},
     "source": [
      "ALI"
     ]
    },
    {
     "cell_type": "code",
     "collapsed": false,
     "input": [
      "imena = ['Aljaz', 'Masa', 'Lea', 'Miha']\n",
      "for i in imena:\n",
      "    zamenjava = i.replace('a', 'e')\n",
      "    print(zamenjava)"
     ],
     "language": "python",
     "metadata": {},
     "outputs": [
      {
       "output_type": "stream",
       "stream": "stdout",
       "text": [
        "Aljez\n",
        "Mese\n",
        "Lee\n",
        "Mihe\n"
       ]
      }
     ],
     "prompt_number": 103
    },
    {
     "cell_type": "heading",
     "level": 2,
     "metadata": {},
     "source": [
      "5. Napi\u0161ite funkcijo. \u010ce se v funkcijo vstavi seznam besed, potem naj vrne dol\u017eino besed. \u010ce se v funkcjo vstavi seznam numeri\u010dnih vrednosti, potem naj vrne njihovo vrednost pove\u010dano za ena."
     ]
    },
    {
     "cell_type": "code",
     "collapsed": false,
     "input": [
      "def funkcija1(i):\n",
      "    for i in seznam:\n",
      "        if type(i) is int:\n",
      "            print(i+1)\n",
      "        if type(i) is str:\n",
      "            print(len(i))"
     ],
     "language": "python",
     "metadata": {},
     "outputs": [],
     "prompt_number": 119
    },
    {
     "cell_type": "markdown",
     "metadata": {},
     "source": [
      "ALI bolj\u0161e!!"
     ]
    },
    {
     "cell_type": "code",
     "collapsed": false,
     "input": [
      "for i in seznam:\n",
      "    if type(i) is str:\n",
      "        print(len(i))\n",
      "    else:\n",
      "        print(i+1)"
     ],
     "language": "python",
     "metadata": {},
     "outputs": [
      {
       "output_type": "stream",
       "stream": "stdout",
       "text": [
        "13\n",
        "5\n"
       ]
      }
     ],
     "prompt_number": 118
    },
    {
     "cell_type": "code",
     "collapsed": false,
     "input": [
      "seznam = [5, 'Aljaz']\n",
      "funkcija1(i)"
     ],
     "language": "python",
     "metadata": {},
     "outputs": [
      {
       "output_type": "stream",
       "stream": "stdout",
       "text": [
        "6\n",
        "5\n"
       ]
      }
     ],
     "prompt_number": 126
    },
    {
     "cell_type": "heading",
     "level": 2,
     "metadata": {},
     "source": [
      "6. Zgornjo funkcijo nadgradite: \u010de se v funkcijo vstavi prazen seznam (dol\u017eine 0), potem naj spro\u017ei izjemo Exception z ustreznim opisom."
     ]
    },
    {
     "cell_type": "code",
     "collapsed": false,
     "input": [
      " def nadgradnja(jeba):\n",
      "        #for i in jeba:\n",
      "           # if type(i) is int:\n",
      "            #    print(i+1)\n",
      "            #elif type(i) is str:\n",
      "            #    print(len(i))\n",
      "        if len(jeba) == 0:\n",
      "            raise Exception('prazn seznam')"
     ],
     "language": "python",
     "metadata": {},
     "outputs": [],
     "prompt_number": 174
    },
    {
     "cell_type": "code",
     "collapsed": false,
     "input": [
      "jeba = []\n",
      "nadgradnja(jeba)"
     ],
     "language": "python",
     "metadata": {},
     "outputs": [
      {
       "ename": "Exception",
       "evalue": "prazn seznam",
       "output_type": "pyerr",
       "traceback": [
        "\u001b[1;31m---------------------------------------------------------------------------\u001b[0m\n\u001b[1;31mException\u001b[0m                                 Traceback (most recent call last)",
        "\u001b[1;32m<ipython-input-175-adeb55824d48>\u001b[0m in \u001b[0;36m<module>\u001b[1;34m()\u001b[0m\n\u001b[0;32m      1\u001b[0m \u001b[0mjeba\u001b[0m \u001b[1;33m=\u001b[0m \u001b[1;33m[\u001b[0m\u001b[1;33m]\u001b[0m\u001b[1;33m\u001b[0m\u001b[0m\n\u001b[1;32m----> 2\u001b[1;33m \u001b[0mnadgradnja\u001b[0m\u001b[1;33m(\u001b[0m\u001b[0mjeba\u001b[0m\u001b[1;33m)\u001b[0m\u001b[1;33m\u001b[0m\u001b[0m\n\u001b[0m",
        "\u001b[1;32m<ipython-input-174-a85cf0b2b319>\u001b[0m in \u001b[0;36mnadgradnja\u001b[1;34m(jeba)\u001b[0m\n\u001b[0;32m      6\u001b[0m            \u001b[1;31m#    print(len(i))\u001b[0m\u001b[1;33m\u001b[0m\u001b[1;33m\u001b[0m\u001b[0m\n\u001b[0;32m      7\u001b[0m        \u001b[1;32mif\u001b[0m \u001b[0mlen\u001b[0m\u001b[1;33m(\u001b[0m\u001b[0mjeba\u001b[0m\u001b[1;33m)\u001b[0m \u001b[1;33m==\u001b[0m \u001b[1;36m0\u001b[0m\u001b[1;33m:\u001b[0m\u001b[1;33m\u001b[0m\u001b[0m\n\u001b[1;32m----> 8\u001b[1;33m            \u001b[1;32mraise\u001b[0m \u001b[0mException\u001b[0m\u001b[1;33m(\u001b[0m\u001b[1;34m'prazn seznam'\u001b[0m\u001b[1;33m)\u001b[0m\u001b[1;33m\u001b[0m\u001b[0m\n\u001b[0m",
        "\u001b[1;31mException\u001b[0m: prazn seznam"
       ]
      }
     ],
     "prompt_number": 175
    },
    {
     "cell_type": "code",
     "collapsed": false,
     "input": [
      "a =[]\n",
      "if len(a)== 0:\n",
      "    print('tema')\n",
      "else:\n",
      "    print ('something')"
     ],
     "language": "python",
     "metadata": {},
     "outputs": [
      {
       "output_type": "stream",
       "stream": "stdout",
       "text": [
        "tema\n"
       ]
      }
     ],
     "prompt_number": 176
    },
    {
     "cell_type": "heading",
     "level": 2,
     "metadata": {},
     "source": [
      "7. Pripravite novo funkcijo, ki bo klicala funkcijo iz to\u010dke 6 in lovila izjeme."
     ]
    },
    {
     "cell_type": "code",
     "collapsed": false,
     "input": [
      "def funkcija():\n",
      "    print(len(a))\n",
      "    nadgradnja(a)\n"
     ],
     "language": "python",
     "metadata": {},
     "outputs": [],
     "prompt_number": 203
    },
    {
     "cell_type": "code",
     "collapsed": false,
     "input": [
      "a = []\n",
      "funkcija()\n"
     ],
     "language": "python",
     "metadata": {},
     "outputs": [
      {
       "output_type": "stream",
       "stream": "stdout",
       "text": [
        "0\n"
       ]
      },
      {
       "ename": "Exception",
       "evalue": "prazn seznam",
       "output_type": "pyerr",
       "traceback": [
        "\u001b[1;31m---------------------------------------------------------------------------\u001b[0m\n\u001b[1;31mException\u001b[0m                                 Traceback (most recent call last)",
        "\u001b[1;32m<ipython-input-206-ba27842de738>\u001b[0m in \u001b[0;36m<module>\u001b[1;34m()\u001b[0m\n\u001b[0;32m      1\u001b[0m \u001b[0ma\u001b[0m \u001b[1;33m=\u001b[0m \u001b[1;33m[\u001b[0m\u001b[1;33m]\u001b[0m\u001b[1;33m\u001b[0m\u001b[0m\n\u001b[1;32m----> 2\u001b[1;33m \u001b[0mfunkcija\u001b[0m\u001b[1;33m(\u001b[0m\u001b[1;33m)\u001b[0m\u001b[1;33m\u001b[0m\u001b[0m\n\u001b[0m",
        "\u001b[1;32m<ipython-input-203-379f538792a0>\u001b[0m in \u001b[0;36mfunkcija\u001b[1;34m()\u001b[0m\n\u001b[0;32m      1\u001b[0m \u001b[1;32mdef\u001b[0m \u001b[0mfunkcija\u001b[0m\u001b[1;33m(\u001b[0m\u001b[1;33m)\u001b[0m\u001b[1;33m:\u001b[0m\u001b[1;33m\u001b[0m\u001b[0m\n\u001b[0;32m      2\u001b[0m     \u001b[0mprint\u001b[0m\u001b[1;33m(\u001b[0m\u001b[0mlen\u001b[0m\u001b[1;33m(\u001b[0m\u001b[0ma\u001b[0m\u001b[1;33m)\u001b[0m\u001b[1;33m)\u001b[0m\u001b[1;33m\u001b[0m\u001b[0m\n\u001b[1;32m----> 3\u001b[1;33m     \u001b[0mnadgradnja\u001b[0m\u001b[1;33m(\u001b[0m\u001b[0ma\u001b[0m\u001b[1;33m)\u001b[0m\u001b[1;33m\u001b[0m\u001b[0m\n\u001b[0m",
        "\u001b[1;32m<ipython-input-174-a85cf0b2b319>\u001b[0m in \u001b[0;36mnadgradnja\u001b[1;34m(jeba)\u001b[0m\n\u001b[0;32m      6\u001b[0m            \u001b[1;31m#    print(len(i))\u001b[0m\u001b[1;33m\u001b[0m\u001b[1;33m\u001b[0m\u001b[0m\n\u001b[0;32m      7\u001b[0m        \u001b[1;32mif\u001b[0m \u001b[0mlen\u001b[0m\u001b[1;33m(\u001b[0m\u001b[0mjeba\u001b[0m\u001b[1;33m)\u001b[0m \u001b[1;33m==\u001b[0m \u001b[1;36m0\u001b[0m\u001b[1;33m:\u001b[0m\u001b[1;33m\u001b[0m\u001b[0m\n\u001b[1;32m----> 8\u001b[1;33m            \u001b[1;32mraise\u001b[0m \u001b[0mException\u001b[0m\u001b[1;33m(\u001b[0m\u001b[1;34m'prazn seznam'\u001b[0m\u001b[1;33m)\u001b[0m\u001b[1;33m\u001b[0m\u001b[0m\n\u001b[0m",
        "\u001b[1;31mException\u001b[0m: prazn seznam"
       ]
      }
     ],
     "prompt_number": 206
    },
    {
     "cell_type": "heading",
     "level": 2,
     "metadata": {},
     "source": [
      "8. Za obe funkciji pripravite docstring"
     ]
    },
    {
     "cell_type": "code",
     "collapsed": false,
     "input": [
      "kaj je to docstring?\n"
     ],
     "language": "python",
     "metadata": {},
     "outputs": [
      {
       "output_type": "stream",
       "stream": "stdout",
       "text": [
        "Object `docstring` not found.\n"
       ]
      }
     ],
     "prompt_number": 207
    },
    {
     "cell_type": "code",
     "collapsed": false,
     "input": [
      "kaj je to docstring"
     ],
     "language": "python",
     "metadata": {},
     "outputs": []
    },
    {
     "cell_type": "heading",
     "level": 2,
     "metadata": {},
     "source": [
      "9. Prika\u017eite uporabo argumentov s privzetimi vrednostmi."
     ]
    },
    {
     "cell_type": "code",
     "collapsed": false,
     "input": [
      "def povrsina(a=5,b=6):\n",
      "    return a*b"
     ],
     "language": "python",
     "metadata": {},
     "outputs": [],
     "prompt_number": 220
    },
    {
     "cell_type": "code",
     "collapsed": false,
     "input": [
      "print(povrsina())"
     ],
     "language": "python",
     "metadata": {},
     "outputs": [
      {
       "output_type": "stream",
       "stream": "stdout",
       "text": [
        "30\n"
       ]
      }
     ],
     "prompt_number": 222
    },
    {
     "cell_type": "code",
     "collapsed": false,
     "input": [
      "print(povrsina(2,3))"
     ],
     "language": "python",
     "metadata": {},
     "outputs": [
      {
       "output_type": "stream",
       "stream": "stdout",
       "text": [
        "6\n"
       ]
      }
     ],
     "prompt_number": 224
    },
    {
     "cell_type": "heading",
     "level": 2,
     "metadata": {},
     "source": [
      "10. Prika\u017eite uporabo argumentov glede na mesto in glede na ime.\n",
      "11. V funkcijo po\u0161ljite nepredvidene vrednosti (nize in numeri\u010dne vrednosti).\n",
      "12. V funkcijo po\u0161ljite nepredvidene poimenske vrednosti."
     ]
    },
    {
     "cell_type": "code",
     "collapsed": false,
     "input": [
      "def argumenti(ime, ocena , poizkus, datum):\n",
      "    print(ime,':','ocena:', ocena) #kli\u010demo po imenu\n",
      "    if ocena >= 5:\n",
      "        print('opravil')\n",
      "    print('st poizkusa:', poizkus) #kli\u010demo glede na mesto\n",
      "    print('datum:',datum) #kli\u010demo poimenske vrednosti\n",
      "   #if 'showFigure' in datum:\n",
      "      #  print('slika')"
     ],
     "language": "python",
     "metadata": {},
     "outputs": [],
     "prompt_number": 225
    },
    {
     "cell_type": "code",
     "collapsed": false,
     "input": [
      "argumenti('Luka Numrik', 8, 2,'22.3.2015') #krneki=s"
     ],
     "language": "python",
     "metadata": {},
     "outputs": [
      {
       "output_type": "stream",
       "stream": "stdout",
       "text": [
        "Luka Numrik : ocena: 8\n",
        "opravil\n",
        "st poizkusa: 2\n",
        "datum: 22.3.2015\n"
       ]
      }
     ],
     "prompt_number": 227
    },
    {
     "cell_type": "heading",
     "level": 2,
     "metadata": {},
     "source": [
      "ali"
     ]
    },
    {
     "cell_type": "code",
     "collapsed": false,
     "input": [
      "def argumenti(ime, ocena , *poizkus, **datum):\n",
      "    print(ime,':','ocena:', ocena) #kli\u010demo po imenu\n",
      "    if ocena >= 5:\n",
      "        print('opravil')\n",
      "    print('argument:', poizkus) #kli\u010demo glede na mesto\n",
      "    print(datum) #kli\u010demo poimenske vrednosti\n",
      "    if 'showFigure' in datum:\n",
      "        print('slika')"
     ],
     "language": "python",
     "metadata": {},
     "outputs": [],
     "prompt_number": 229
    },
    {
     "cell_type": "code",
     "collapsed": false,
     "input": [
      "argumenti('Luka Numrik', 8, 'manjka znanje o funkcijah', oddaja = 'prepozno')"
     ],
     "language": "python",
     "metadata": {},
     "outputs": [
      {
       "output_type": "stream",
       "stream": "stdout",
       "text": [
        "Luka Numrik : ocena: 8\n",
        "opravil\n",
        "argument: ('manjka znanje o funkcijah',)\n",
        "{'oddaja': 'prepozno'}\n"
       ]
      }
     ],
     "prompt_number": 234
    },
    {
     "cell_type": "heading",
     "level": 2,
     "metadata": {},
     "source": [
      "13. Definirajte lambda funkcijo, ki spremenljivki spremeni predznak in pri\u0161teje vrednost 1. Prika\u017eite uporabo map in/ali filter funkcije"
     ]
    },
    {
     "cell_type": "code",
     "collapsed": false,
     "input": [
      "f = lambda a: -a+1\n",
      "f(5)"
     ],
     "language": "python",
     "metadata": {},
     "outputs": [
      {
       "metadata": {},
       "output_type": "pyout",
       "prompt_number": 236,
       "text": [
        "-4"
       ]
      }
     ],
     "prompt_number": 236
    },
    {
     "cell_type": "code",
     "collapsed": false,
     "input": [
      "y = [1,2,3,4]"
     ],
     "language": "python",
     "metadata": {},
     "outputs": [],
     "prompt_number": 239
    },
    {
     "cell_type": "code",
     "collapsed": false,
     "input": [
      "list(map(lambda x:x*3, y))"
     ],
     "language": "python",
     "metadata": {},
     "outputs": [
      {
       "metadata": {},
       "output_type": "pyout",
       "prompt_number": 240,
       "text": [
        "[3, 6, 9, 12]"
       ]
      }
     ],
     "prompt_number": 240
    },
    {
     "cell_type": "code",
     "collapsed": false,
     "input": [
      "kroh2 = list(filter(lambda x: x*(-9) >= 0, range(-8,9)))\n",
      "kroh2"
     ],
     "language": "python",
     "metadata": {},
     "outputs": [
      {
       "metadata": {},
       "output_type": "pyout",
       "prompt_number": 244,
       "text": [
        "[-8, -7, -6, -5, -4, -3, -2, -1, 0]"
       ]
      }
     ],
     "prompt_number": 244
    },
    {
     "cell_type": "code",
     "collapsed": false,
     "input": [],
     "language": "python",
     "metadata": {},
     "outputs": []
    },
    {
     "cell_type": "heading",
     "level": 2,
     "metadata": {},
     "source": [
      "14. Zgornji funkciji shranite v modul poljubnega imena (npr.: prve_funkcije.py)."
     ]
    },
    {
     "cell_type": "code",
     "collapsed": false,
     "input": [
      "y = [2,3]"
     ],
     "language": "python",
     "metadata": {},
     "outputs": [],
     "prompt_number": 11
    },
    {
     "cell_type": "code",
     "collapsed": false,
     "input": [
      "import prvi_modul1"
     ],
     "language": "python",
     "metadata": {},
     "outputs": [],
     "prompt_number": 14
    },
    {
     "cell_type": "code",
     "collapsed": false,
     "input": [
      "prvi_modul1.kr_nek(y)"
     ],
     "language": "python",
     "metadata": {},
     "outputs": [
      {
       "metadata": {},
       "output_type": "pyout",
       "prompt_number": 15,
       "text": [
        "[6, 9]"
       ]
      }
     ],
     "prompt_number": 15
    },
    {
     "cell_type": "heading",
     "level": 2,
     "metadata": {},
     "source": [
      "15. Uvozite samo eno od funkcij kot funkcijo z novim imenom (druga\u010dno ime od izvornega)"
     ]
    },
    {
     "cell_type": "code",
     "collapsed": false,
     "input": [
      "import prvi_modul1 as zacetek\n",
      "zacetek.kr_nek(y)\n"
     ],
     "language": "python",
     "metadata": {},
     "outputs": [
      {
       "metadata": {},
       "output_type": "pyout",
       "prompt_number": 20,
       "text": [
        "[6, 9]"
       ]
      }
     ],
     "prompt_number": 20
    },
    {
     "cell_type": "heading",
     "level": 2,
     "metadata": {},
     "source": [
      "16. Najdite vse datoteke v trenutni mapi in le-ta shranite v obliki seznama."
     ]
    },
    {
     "cell_type": "code",
     "collapsed": false,
     "input": [
      "import os"
     ],
     "language": "python",
     "metadata": {},
     "outputs": [],
     "prompt_number": 21
    },
    {
     "cell_type": "code",
     "collapsed": false,
     "input": [
      "seznam_datotek = os.listdir()\n",
      "seznam_datotek"
     ],
     "language": "python",
     "metadata": {},
     "outputs": [
      {
       "metadata": {},
       "output_type": "pyout",
       "prompt_number": 25,
       "text": [
        "['.ipynb_checkpoints',\n",
        " 'data.pkl',\n",
        " 'Drugo predavanje.ipynb',\n",
        " 'others',\n",
        " 'podatki.txt',\n",
        " 'Predavanje 1 - Uvod v Python.ipynb',\n",
        " 'Predavanje 2 - Print, delo z datotekami, funkcije, moduli.ipynb',\n",
        " 'Predavanje 3 - Moduli, numpy, matplotlib.ipynb',\n",
        " 'prikaz vpisa.txt',\n",
        " 'prvi_modul.py',\n",
        " 'prvi_modul1.py',\n",
        " 'prvi_program.py',\n",
        " 'stanje1.pkl',\n",
        " 'Tretje predavanje-odgovori.ipynb',\n",
        " 'vaja.txt',\n",
        " 'Vaje 1 .ipynb',\n",
        " 'Vaje 2-ponovitev.ipynb',\n",
        " 'Vaje 2.ipynb',\n",
        " 'Vaje 3.ipynb',\n",
        " 'zapis_labview.lvm',\n",
        " '__init__py.py',\n",
        " '__pycache__']"
       ]
      }
     ],
     "prompt_number": 25
    },
    {
     "cell_type": "heading",
     "level": 2,
     "metadata": {},
     "source": [
      "17. Za seznam iz to\u010dke 16 preverite pod-funkcije os.path (npr. os.path.basename) in preverite z if stavkom ali datoteke obstajajo."
     ]
    },
    {
     "cell_type": "code",
     "collapsed": false,
     "input": [
      "for value in seznam_datotek:\n",
      "    ime = 'others'\n",
      "    if os.path.basename(ime) in value:\n",
      "        print('Mapa',ime,'obstaja')"
     ],
     "language": "python",
     "metadata": {},
     "outputs": [
      {
       "output_type": "stream",
       "stream": "stdout",
       "text": [
        "Mapa others obstaja\n"
       ]
      }
     ],
     "prompt_number": 28
    },
    {
     "cell_type": "heading",
     "level": 2,
     "metadata": {},
     "source": [
      "18. Z uporabo podfunkcij os.path dolo\u010dite ime in kon\u010dnico datotek iz to\u010dke 16."
     ]
    },
    {
     "cell_type": "code",
     "collapsed": false,
     "input": [
      "for name in seznam_datotek:\n",
      "    if os.path.isfile(name):\n",
      "        fajl = os.path.basename(name)\n",
      "        konc = os.path.splitext(fajl)\n",
      "        print(konc)"
     ],
     "language": "python",
     "metadata": {},
     "outputs": [
      {
       "output_type": "stream",
       "stream": "stdout",
       "text": [
        "('data', '.pkl')\n",
        "('Drugo predavanje', '.ipynb')\n",
        "('podatki', '.txt')\n",
        "('Predavanje 1 - Uvod v Python', '.ipynb')\n",
        "('Predavanje 2 - Print, delo z datotekami, funkcije, moduli', '.ipynb')\n",
        "('Predavanje 3 - Moduli, numpy, matplotlib', '.ipynb')\n",
        "('prikaz vpisa', '.txt')\n",
        "('prvi_modul', '.py')\n",
        "('prvi_modul1', '.py')\n",
        "('prvi_program', '.py')\n",
        "('stanje1', '.pkl')\n",
        "('Tretje predavanje-odgovori', '.ipynb')\n",
        "('vaja', '.txt')\n",
        "('Vaje 1 ', '.ipynb')\n",
        "('Vaje 2-ponovitev', '.ipynb')\n",
        "('Vaje 2', '.ipynb')\n",
        "('Vaje 3', '.ipynb')\n",
        "('zapis_labview', '.lvm')\n",
        "('__init__py', '.py')\n"
       ]
      }
     ],
     "prompt_number": 32
    },
    {
     "cell_type": "heading",
     "level": 2,
     "metadata": {},
     "source": [
      "19. Z izpeljevanjem seznama, naredite seznam imen in seznam kon\u010dnic datotek."
     ]
    },
    {
     "cell_type": "code",
     "collapsed": false,
     "input": [
      "names = []\n",
      "koncnice = []\n",
      "for name in seznam_datotek:\n",
      "    if os.path.isfile(name):\n",
      "        fajl = os.path.basename(name)\n",
      "        konc = os.path.splitext(fajl)\n",
      "        names.append(konc[0])\n",
      "        koncnice.append(konc[1])\n",
      "print('imena datotek so',names)\n",
      "print('koncnice datotek so',koncnice)"
     ],
     "language": "python",
     "metadata": {},
     "outputs": [
      {
       "output_type": "stream",
       "stream": "stdout",
       "text": [
        "imena datotek so ['data', 'Drugo predavanje', 'podatki', 'Predavanje 1 - Uvod v Python', 'Predavanje 2 - Print, delo z datotekami, funkcije, moduli', 'Predavanje 3 - Moduli, numpy, matplotlib', 'prikaz vpisa', 'prvi_modul', 'prvi_modul1', 'prvi_program', 'stanje1', 'Tretje predavanje-odgovori', 'vaja', 'Vaje 1 ', 'Vaje 2-ponovitev', 'Vaje 2', 'Vaje 3', 'zapis_labview', '__init__py']\n",
        "koncnice datotek so ['.pkl', '.ipynb', '.txt', '.ipynb', '.ipynb', '.ipynb', '.txt', '.py', '.py', '.py', '.pkl', '.ipynb', '.txt', '.ipynb', '.ipynb', '.ipynb', '.ipynb', '.lvm', '.py']\n"
       ]
      }
     ],
     "prompt_number": 38
    },
    {
     "cell_type": "heading",
     "level": 2,
     "metadata": {},
     "source": [
      "20. Seznam imen in seznam kon\u010dnic shranite v obliki slovarja."
     ]
    },
    {
     "cell_type": "code",
     "collapsed": false,
     "input": [
      "slovar_prog = {\"data\": \".txt\", \"lkjlk\":\"deed\"} #dict([(\"kjkj\", 3343),(\"kjhkj\", \".txt\")])\n",
      "\n",
      "slovar_prog1 = {i: j for i, j in zip(names, koncnice)}\n",
      "slovar_prog1"
     ],
     "language": "python",
     "metadata": {},
     "outputs": [
      {
       "metadata": {},
       "output_type": "pyout",
       "prompt_number": 54,
       "text": [
        "{'Vaje 3': '.ipynb',\n",
        " 'Vaje 2-ponovitev': '.ipynb',\n",
        " '__init__py': '.py',\n",
        " 'prvi_modul': '.py',\n",
        " 'prvi_program': '.py',\n",
        " 'Predavanje 1 - Uvod v Python': '.ipynb',\n",
        " 'zapis_labview': '.lvm',\n",
        " 'podatki': '.txt',\n",
        " 'Drugo predavanje': '.ipynb',\n",
        " 'stanje1': '.pkl',\n",
        " 'data': '.pkl',\n",
        " 'Predavanje 3 - Moduli, numpy, matplotlib': '.ipynb',\n",
        " 'Predavanje 2 - Print, delo z datotekami, funkcije, moduli': '.ipynb',\n",
        " 'Vaje 1 ': '.ipynb',\n",
        " 'prikaz vpisa': '.txt',\n",
        " 'vaja': '.txt',\n",
        " 'prvi_modul1': '.py',\n",
        " 'Vaje 2': '.ipynb',\n",
        " 'Tretje predavanje-odgovori': '.ipynb'}"
       ]
      }
     ],
     "prompt_number": 54
    },
    {
     "cell_type": "heading",
     "level": 2,
     "metadata": {},
     "source": [
      "ali"
     ]
    },
    {
     "cell_type": "code",
     "collapsed": false,
     "input": [
      "slovar = dict(list(zip(names, koncnice)))\n",
      "slovar"
     ],
     "language": "python",
     "metadata": {},
     "outputs": [
      {
       "metadata": {},
       "output_type": "pyout",
       "prompt_number": 52,
       "text": [
        "{'Vaje 3': '.ipynb',\n",
        " 'Vaje 2-ponovitev': '.ipynb',\n",
        " '__init__py': '.py',\n",
        " 'prvi_modul': '.py',\n",
        " 'prvi_program': '.py',\n",
        " 'Predavanje 1 - Uvod v Python': '.ipynb',\n",
        " 'zapis_labview': '.lvm',\n",
        " 'podatki': '.txt',\n",
        " 'Drugo predavanje': '.ipynb',\n",
        " 'stanje1': '.pkl',\n",
        " 'data': '.pkl',\n",
        " 'Predavanje 3 - Moduli, numpy, matplotlib': '.ipynb',\n",
        " 'Predavanje 2 - Print, delo z datotekami, funkcije, moduli': '.ipynb',\n",
        " 'Vaje 1 ': '.ipynb',\n",
        " 'prikaz vpisa': '.txt',\n",
        " 'vaja': '.txt',\n",
        " 'prvi_modul1': '.py',\n",
        " 'Vaje 2': '.ipynb',\n",
        " 'Tretje predavanje-odgovori': '.ipynb'}"
       ]
      }
     ],
     "prompt_number": 52
    },
    {
     "cell_type": "heading",
     "level": 2,
     "metadata": {},
     "source": [
      "21. Slovar iz prej\u0161nje to\u010dke shranite in odprite s pickle."
     ]
    },
    {
     "cell_type": "code",
     "collapsed": false,
     "input": [
      "import pickle "
     ],
     "language": "python",
     "metadata": {},
     "outputs": [],
     "prompt_number": 56
    },
    {
     "cell_type": "heading",
     "level": 2,
     "metadata": {},
     "source": [
      "se pozanimaj!!!!"
     ]
    },
    {
     "cell_type": "code",
     "collapsed": false,
     "input": [
      "datoteka = open('pikel.pkl', 'wb')\n",
      "pickle.dump(oblika_seznama, datoteka, protocol=-1)\n",
      "datoteka = open('pikel.pkl', 'rb')\n",
      "b = pickle.load(datoteka)"
     ],
     "language": "python",
     "metadata": {},
     "outputs": []
    }
   ],
   "metadata": {}
  }
 ]
}