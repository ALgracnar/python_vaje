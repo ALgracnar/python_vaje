{
 "metadata": {
  "name": "",
  "signature": "sha256:81edd57538696a69c1581a4a8776857b1930a1df7c144c989d52adf2878e07d3"
 },
 "nbformat": 3,
 "nbformat_minor": 0,
 "worksheets": [
  {
   "cells": [
    {
     "cell_type": "markdown",
     "metadata": {},
     "source": [
      "Feb 2015, dr. J. Slavi\u010d\n",
      "\n",
      "Predavanje 2"
     ]
    },
    {
     "cell_type": "heading",
     "level": 1,
     "metadata": {},
     "source": [
      "Funkcija print"
     ]
    },
    {
     "cell_type": "markdown",
     "metadata": {},
     "source": [
      "``print`` predstavlja eno od najbolj pogosto uporabljenih funkcij. Poglejmo si najprej pomo\u010d:"
     ]
    },
    {
     "cell_type": "code",
     "collapsed": false,
     "input": [
      "?print"
     ],
     "language": "python",
     "metadata": {},
     "outputs": [],
     "prompt_number": 1
    },
    {
     "cell_type": "markdown",
     "metadata": {},
     "source": [
      "Primer (kako ponavadi ne programiramo):"
     ]
    },
    {
     "cell_type": "code",
     "collapsed": false,
     "input": [
      "print('a', 5, sep=';', end='\\t')"
     ],
     "language": "python",
     "metadata": {},
     "outputs": [
      {
       "output_type": "stream",
       "stream": "stdout",
       "text": [
        "a;5\t"
       ]
      }
     ],
     "prompt_number": 8
    },
    {
     "cell_type": "markdown",
     "metadata": {},
     "source": [
      "Ponavadi formatiramo nize s pomo\u010djo metod za formatiranje *fmt* (*format method*):\n",
      "\n",
      "'katero-koli besedilo{:fmt1}besedilo naprej{:fmt2}....'.format(arg1, arg2,....)\n",
      "\n",
      "kjer je znotraj zavitih oklepajev definirano kako formatirati \u0161tevilo (*fmt*). Poglejmo si najprej osnove; pogosto boste uporabili *fmt* oblike:\n",
      "* w.d**f** - predstavitev s plavajo\u010do vejico (f-float)\n",
      "* w.d**e** - predstavitev z eksponentom (e-exponent)\n",
      "* w.d**g** - splo\u0161ni format (g-general)\n",
      "\n",
      "``w`` predstavlja (minimalno) skupno \u0161irino, ``d`` pa \u0161tevilo mest za decimalno piko:"
     ]
    },
    {
     "cell_type": "code",
     "collapsed": false,
     "input": [
      "tekst = 'a= {0:7.3f} in b = {1:7.3e} in b = {0:g}'.format(12, 342235.5434666)\n",
      "tekst"
     ],
     "language": "python",
     "metadata": {},
     "outputs": [
      {
       "metadata": {},
       "output_type": "pyout",
       "prompt_number": 14,
       "text": [
        "'a=  12.000 in b = 3.422e+05 in b = 12'"
       ]
      }
     ],
     "prompt_number": 14
    },
    {
     "cell_type": "code",
     "collapsed": false,
     "input": [
      "print('a = {:7.3f} in b = {:7.3e}'.format(1, 342235.5434666))"
     ],
     "language": "python",
     "metadata": {},
     "outputs": [
      {
       "output_type": "stream",
       "stream": "stdout",
       "text": [
        "a =   1.000 in b = 3.422e+05\n"
       ]
      }
     ],
     "prompt_number": 8
    },
    {
     "cell_type": "markdown",
     "metadata": {},
     "source": [
      "Funkcija format je lahko bistveno bolj bogata. Celotna pomo\u010d tukaj: \n",
      "\n",
      "https://docs.python.org/3.4/library/string.html#formatspec\n",
      "\n",
      "Poglejmo si primer, kjer do spremenjliv dostopamo glede na zaporedno mesto:"
     ]
    },
    {
     "cell_type": "code",
     "collapsed": false,
     "input": [
      "print('a = {0:7.3f}, b = {1:7.3e} in spet a = {0:7.5f}'.format(1, 342235.5434666))"
     ],
     "language": "python",
     "metadata": {},
     "outputs": [
      {
       "output_type": "stream",
       "stream": "stdout",
       "text": [
        "a =   1.000, b = 3.422e+05 in spet a = 1.00000\n"
       ]
      }
     ],
     "prompt_number": 13
    },
    {
     "cell_type": "markdown",
     "metadata": {},
     "source": [
      "Dostopanje do spremenljivk z imeni"
     ]
    },
    {
     "cell_type": "code",
     "collapsed": false,
     "input": [
      "'a = {a:5.2f}, b = {b:7.3e} in spet a = {a:7g}'.format(a=500, b=10)"
     ],
     "language": "python",
     "metadata": {},
     "outputs": [
      {
       "metadata": {},
       "output_type": "pyout",
       "prompt_number": 35,
       "text": [
        "'a = 500.00, b = 1.000e+01 in spet a =     500'"
       ]
      }
     ],
     "prompt_number": 35
    },
    {
     "cell_type": "markdown",
     "metadata": {},
     "source": [
      "Ali z uporabo slovarjev"
     ]
    },
    {
     "cell_type": "code",
     "collapsed": false,
     "input": [
      "parametri = {'visina': 5., 'gostota':100.111}"
     ],
     "language": "python",
     "metadata": {},
     "outputs": [],
     "prompt_number": 18
    },
    {
     "cell_type": "code",
     "collapsed": false,
     "input": [
      "'vi\u0161ina = {visina:7.3f}, gostota = {gostota:7.3e}'.format(**parametri)"
     ],
     "language": "python",
     "metadata": {},
     "outputs": [
      {
       "metadata": {},
       "output_type": "pyout",
       "prompt_number": 20,
       "text": [
        "'vi\u0161ina =   5.000, gostota = 1.001e+02'"
       ]
      }
     ],
     "prompt_number": 20
    },
    {
     "cell_type": "markdown",
     "metadata": {},
     "source": [
      "Primer iz pomo\u010di"
     ]
    },
    {
     "cell_type": "code",
     "collapsed": false,
     "input": [
      "for align, text in zip('<^>', ['left', 'center', 'right']):\n",
      "     print('{0:{fill}{align}30}'.format(text, fill=align, align=align))"
     ],
     "language": "python",
     "metadata": {},
     "outputs": [
      {
       "output_type": "stream",
       "stream": "stdout",
       "text": [
        "left<<<<<<<<<<<<<<<<<<<<<<<<<<\n",
        "^^^^^^^^^^^^center^^^^^^^^^^^^\n",
        ">>>>>>>>>>>>>>>>>>>>>>>>>right\n"
       ]
      }
     ],
     "prompt_number": 25
    },
    {
     "cell_type": "code",
     "collapsed": false,
     "input": [
      "c = 4-2j\n",
      "'Kompleksno \u0161tevilo {0} je sestavljeno iz realnega ({0.real}) '\\\n",
      "'in imaginarnega (){0.imag}) dela.'.format(c)"
     ],
     "language": "python",
     "metadata": {},
     "outputs": [
      {
       "metadata": {},
       "output_type": "pyout",
       "prompt_number": 26,
       "text": [
        "'Kompleksno \u0161tevilo (4-2j) je sestavljeno iz realnega (4.0) in imaginarnega ()-2.0) dela.'"
       ]
      }
     ],
     "prompt_number": 26
    },
    {
     "cell_type": "heading",
     "level": 1,
     "metadata": {},
     "source": [
      "Delo z datotekami"
     ]
    },
    {
     "cell_type": "markdown",
     "metadata": {},
     "source": [
      "Preden lahko delate z datoteko je potrebno ustvariti ustrezen objekt:"
     ]
    },
    {
     "cell_type": "code",
     "collapsed": false,
     "input": [
      "datoteka = open('prikaz vpisa.txt', mode='w')"
     ],
     "language": "python",
     "metadata": {},
     "outputs": [],
     "prompt_number": 36
    },
    {
     "cell_type": "markdown",
     "metadata": {},
     "source": [
      "``mode`` je lahko:\n",
      "* 'r' - branje (read)\n",
      "* 'w' - pisanje (write). \u010ce datoteka ne obstaja jo ustvari.\n",
      "* 'a' - dodaj (append) na koncu datoteke\n",
      "* 'r+' - branje in pisanje iz obstoje\u010de datoteke\n",
      "* 'w+' - isto kot 'r+' ampak, \u010de ni datoteke, jo ustvari     \n",
      "* 'a+' - isto kot 'w+' ampak se podatki dodajo na koncu\n",
      " \n",
      "https://docs.python.org/3.4/tutorial/inputoutput.html#reading-and-writing-files"
     ]
    },
    {
     "cell_type": "code",
     "collapsed": false,
     "input": [
      "datoteka.write('test\\n')"
     ],
     "language": "python",
     "metadata": {},
     "outputs": [
      {
       "metadata": {},
       "output_type": "pyout",
       "prompt_number": 37,
       "text": [
        "5"
       ]
      }
     ],
     "prompt_number": 37
    },
    {
     "cell_type": "code",
     "collapsed": false,
     "input": [
      "for d in range(5):\n",
      "    datoteka.write('{ime1:7.2e}\\t {ime1:9.4e}\\n'.format(ime1=d))"
     ],
     "language": "python",
     "metadata": {},
     "outputs": [],
     "prompt_number": 38
    },
    {
     "cell_type": "code",
     "collapsed": false,
     "input": [
      "datoteka.close()"
     ],
     "language": "python",
     "metadata": {},
     "outputs": [],
     "prompt_number": 39
    },
    {
     "cell_type": "code",
     "collapsed": false,
     "input": [
      "datoteka = open('prikaz vpisa.txt', mode='r+')"
     ],
     "language": "python",
     "metadata": {},
     "outputs": [],
     "prompt_number": 40
    },
    {
     "cell_type": "code",
     "collapsed": false,
     "input": [
      "for line in datoteka:\n",
      "    print(line, end='')"
     ],
     "language": "python",
     "metadata": {},
     "outputs": [
      {
       "output_type": "stream",
       "stream": "stdout",
       "text": [
        "test\n",
        "0.00e+00\t 0.0000e+00\n",
        "1.00e+00\t 1.0000e+00\n",
        "2.00e+00\t 2.0000e+00\n",
        "3.00e+00\t 3.0000e+00\n",
        "4.00e+00\t 4.0000e+00\n"
       ]
      }
     ],
     "prompt_number": 41
    },
    {
     "cell_type": "markdown",
     "metadata": {},
     "source": [
      "Uporaba ``print`` stavka in sprememba cilja pisanja:"
     ]
    },
    {
     "cell_type": "code",
     "collapsed": false,
     "input": [
      "datoteka.write('jfhak\\n')"
     ],
     "language": "python",
     "metadata": {},
     "outputs": [
      {
       "metadata": {},
       "output_type": "pyout",
       "prompt_number": 42,
       "text": [
        "6"
       ]
      }
     ],
     "prompt_number": 42
    },
    {
     "cell_type": "code",
     "collapsed": false,
     "input": [
      "print('konec', file=datoteka)\n",
      "datoteka.close()"
     ],
     "language": "python",
     "metadata": {},
     "outputs": [],
     "prompt_number": 43
    },
    {
     "cell_type": "markdown",
     "metadata": {},
     "source": [
      "Branje datoteke in zapis v seznam"
     ]
    },
    {
     "cell_type": "code",
     "collapsed": false,
     "input": [
      "datoteka = open('prikaz vpisa.txt')\n",
      "for line in datoteka:\n",
      "    print(line.split()) # preverite funkcio split()!\n",
      "datoteka.close()"
     ],
     "language": "python",
     "metadata": {},
     "outputs": [
      {
       "output_type": "stream",
       "stream": "stdout",
       "text": [
        "['test']\n",
        "['0.00e+00', '0.0000e+00']\n",
        "['1.00e+00', '1.0000e+00']\n",
        "['2.00e+00', '2.0000e+00']\n",
        "['3.00e+00', '3.0000e+00']\n",
        "['4.00e+00', '4.0000e+00']\n",
        "['jfhak']\n",
        "['konec']\n"
       ]
      }
     ],
     "prompt_number": 48
    },
    {
     "cell_type": "code",
     "collapsed": false,
     "input": [
      "vrednosti = [] #prazen seznam\n",
      "datoteka = open('prikaz vpisa.txt')\n",
      "for line in datoteka:\n",
      "    pod = line.split()\n",
      "    if len(pod)==2:\n",
      "        vrednosti.append(float(pod[0])) # namesto float() bi tukaj lahko uporabili tudi po\u010dasnej\u0161o in splo\u0161nej\u0161o eval()\n",
      "datoteka.close()"
     ],
     "language": "python",
     "metadata": {},
     "outputs": [],
     "prompt_number": 49
    },
    {
     "cell_type": "code",
     "collapsed": false,
     "input": [
      "vrednosti"
     ],
     "language": "python",
     "metadata": {},
     "outputs": [
      {
       "metadata": {},
       "output_type": "pyout",
       "prompt_number": 53,
       "text": [
        "[0.0, 1.0, 2.0, 3.0, 4.0]"
       ]
      }
     ],
     "prompt_number": 53
    },
    {
     "cell_type": "code",
     "collapsed": false,
     "input": [
      "vrednosti[1]*2"
     ],
     "language": "python",
     "metadata": {},
     "outputs": [
      {
       "metadata": {},
       "output_type": "pyout",
       "prompt_number": 52,
       "text": [
        "2.0"
       ]
      }
     ],
     "prompt_number": 52
    },
    {
     "cell_type": "heading",
     "level": 2,
     "metadata": {},
     "source": [
      "Kontrola napak"
     ]
    },
    {
     "cell_type": "markdown",
     "metadata": {},
     "source": [
      "Kadar programiramo kaj bolj zahtevnega, je treba kontrolirati morebitne napake. \u010ce na primer uporabnik vnese v nekaj takega:"
     ]
    },
    {
     "cell_type": "code",
     "collapsed": false,
     "input": [
      "1/'0'"
     ],
     "language": "python",
     "metadata": {},
     "outputs": [
      {
       "ename": "TypeError",
       "evalue": "unsupported operand type(s) for /: 'int' and 'str'",
       "output_type": "pyerr",
       "traceback": [
        "\u001b[1;31m---------------------------------------------------------------------------\u001b[0m\n\u001b[1;31mTypeError\u001b[0m                                 Traceback (most recent call last)",
        "\u001b[1;32m<ipython-input-57-9627a5494c9a>\u001b[0m in \u001b[0;36m<module>\u001b[1;34m()\u001b[0m\n\u001b[1;32m----> 1\u001b[1;33m \u001b[1;36m1\u001b[0m\u001b[1;33m/\u001b[0m\u001b[1;34m'0'\u001b[0m\u001b[1;33m\u001b[0m\u001b[0m\n\u001b[0m",
        "\u001b[1;31mTypeError\u001b[0m: unsupported operand type(s) for /: 'int' and 'str'"
       ]
      }
     ],
     "prompt_number": 57
    },
    {
     "cell_type": "markdown",
     "metadata": {},
     "source": [
      "Python vrne ``ZeroDivisionError``. \u010ce ne \u017eelimo, da se program *sesuje*, se postopa takole:"
     ]
    },
    {
     "cell_type": "code",
     "collapsed": false,
     "input": [
      "a = 0\n",
      "#a = '0'\n",
      "try:\n",
      "    1/a\n",
      "except ZeroDivisionError:\n",
      "    print('Deljenje z ni\u010dlo! Vstavite \u0161tevilo, ki je razli\u010dno od ni\u010d.') # ali kak\u0161na druga akcija\n",
      "except:\n",
      "    print('Katera-koli napaka') # odsvetovano; dobro je predvideti napako!"
     ],
     "language": "python",
     "metadata": {},
     "outputs": [
      {
       "output_type": "stream",
       "stream": "stdout",
       "text": [
        "Deljenje z ni\u010dlo! Vstavite \u0161tevilo, ki je razli\u010dno od ni\u010d.\n"
       ]
      }
     ],
     "prompt_number": 60
    },
    {
     "cell_type": "markdown",
     "metadata": {},
     "source": [
      "Pametno je preverjati podatke in potem dvigniti izjeme, ki jih funkcija, ki izvaja trenutno kodo lahko ujame v ``try except`` stavku:"
     ]
    },
    {
     "cell_type": "code",
     "collapsed": false,
     "input": [
      "a = 5\n",
      "if a == 5:\n",
      "    raise Exception('Parameter a ne more biti {:g}'.format(a))"
     ],
     "language": "python",
     "metadata": {},
     "outputs": [
      {
       "ename": "Exception",
       "evalue": "Parameter a ne more biti 5",
       "output_type": "pyerr",
       "traceback": [
        "\u001b[1;31m---------------------------------------------------------------------------\u001b[0m\n\u001b[1;31mException\u001b[0m                                 Traceback (most recent call last)",
        "\u001b[1;32m<ipython-input-32-ed02b5311594>\u001b[0m in \u001b[0;36m<module>\u001b[1;34m()\u001b[0m\n\u001b[0;32m      1\u001b[0m \u001b[0ma\u001b[0m \u001b[1;33m=\u001b[0m \u001b[1;36m5\u001b[0m\u001b[1;33m\u001b[0m\u001b[0m\n\u001b[0;32m      2\u001b[0m \u001b[1;32mif\u001b[0m \u001b[0ma\u001b[0m \u001b[1;33m==\u001b[0m \u001b[1;36m5\u001b[0m\u001b[1;33m:\u001b[0m\u001b[1;33m\u001b[0m\u001b[0m\n\u001b[1;32m----> 3\u001b[1;33m     \u001b[1;32mraise\u001b[0m \u001b[0mException\u001b[0m\u001b[1;33m(\u001b[0m\u001b[1;34m'Parameter a ne more biti {:g}'\u001b[0m\u001b[1;33m.\u001b[0m\u001b[0mformat\u001b[0m\u001b[1;33m(\u001b[0m\u001b[0ma\u001b[0m\u001b[1;33m)\u001b[0m\u001b[1;33m)\u001b[0m\u001b[1;33m\u001b[0m\u001b[0m\n\u001b[0m",
        "\u001b[1;31mException\u001b[0m: Parameter a ne more biti 5"
       ]
      }
     ],
     "prompt_number": 32
    },
    {
     "cell_type": "markdown",
     "metadata": {},
     "source": [
      "Vklju\u010dimo izjemo sedaj v ``try except`` stavek:"
     ]
    },
    {
     "cell_type": "code",
     "collapsed": false,
     "input": [
      "def neka_funkcija(a):\n",
      "    if a >= 5:\n",
      "        raise Exception('Parameter a ne more biti ve\u010dji od {:g}'.format(a))\n",
      "    return a**2"
     ],
     "language": "python",
     "metadata": {},
     "outputs": [],
     "prompt_number": 64
    },
    {
     "cell_type": "code",
     "collapsed": false,
     "input": [
      "try:\n",
      "    neka_funkcija(a=5)\n",
      "except Exception as spremenljivka_napake:\n",
      "    print(spremenljivka_napake)"
     ],
     "language": "python",
     "metadata": {},
     "outputs": [
      {
       "output_type": "stream",
       "stream": "stdout",
       "text": [
        "Parameter a ne more biti ve\u010dji od 5\n"
       ]
      }
     ],
     "prompt_number": 65
    },
    {
     "cell_type": "markdown",
     "metadata": {},
     "source": [
      "Ve\u010d: https://docs.python.org/3.4/tutorial/errors.html"
     ]
    },
    {
     "cell_type": "heading",
     "level": 2,
     "metadata": {},
     "source": [
      "Izpeljevanje seznamov, slovarjev, mno\u017eic, terke"
     ]
    },
    {
     "cell_type": "markdown",
     "metadata": {},
     "source": [
      "Izvorni angle\u0161ki izraz za izpeljevanje seznamov je *list comprehensions*.\n",
      "\n",
      "Poglejmo si zakaj sploh gre. Za\u010dnimo s seznamom:"
     ]
    },
    {
     "cell_type": "code",
     "collapsed": false,
     "input": [
      "a = ['Tole', 'je', 'nek', 'niz']\n",
      "a[:7]"
     ],
     "language": "python",
     "metadata": {},
     "outputs": [
      {
       "metadata": {},
       "output_type": "pyout",
       "prompt_number": 81,
       "text": [
        "['Tole', 'je', 'nek', 'niz']"
       ]
      }
     ],
     "prompt_number": 81
    },
    {
     "cell_type": "markdown",
     "metadata": {},
     "source": [
      "Predstavljajmo si, da \u017eelimo za vsak element zgornjega seznama ugotoviti njegovo dol\u017eino. Klasi\u010dni programer bi naredil nekaj takega:"
     ]
    },
    {
     "cell_type": "code",
     "collapsed": false,
     "input": [
      "%%timeit\n",
      "out = [] # pripravimo prazen seznam\n",
      "for _ in a: # pod\u010drtaj pogosto uporbimo za spremenljivko, ki jo hitro zavr\u017eemo\n",
      "    out.append(len(_))\n",
      "out"
     ],
     "language": "python",
     "metadata": {},
     "outputs": [
      {
       "output_type": "stream",
       "stream": "stdout",
       "text": [
        "1000000 loops, best of 3: 684 ns per loop\n"
       ]
      }
     ],
     "prompt_number": 82
    },
    {
     "cell_type": "markdown",
     "metadata": {},
     "source": [
      "Podobne stavke pogosto pi\u0161emo in enostavno gre preve\u010d kode za zelo preprosti rezultat. Python zna isti rezultat podati z t.i. izpeljevanjem seznamov:"
     ]
    },
    {
     "cell_type": "code",
     "collapsed": false,
     "input": [
      "#%%timeit\n",
      "[len(_) for _ in a]"
     ],
     "language": "python",
     "metadata": {},
     "outputs": [
      {
       "metadata": {},
       "output_type": "pyout",
       "prompt_number": 95,
       "text": [
        "[4, 2, 3, 3]"
       ]
      }
     ],
     "prompt_number": 95
    },
    {
     "cell_type": "markdown",
     "metadata": {},
     "source": [
      "Lahko dodajamo tudi ``if`` stavke:"
     ]
    },
    {
     "cell_type": "code",
     "collapsed": false,
     "input": [
      "[len(_) for _ in a if 'e' in _]"
     ],
     "language": "python",
     "metadata": {},
     "outputs": [
      {
       "metadata": {},
       "output_type": "pyout",
       "prompt_number": 87,
       "text": [
        "[4, 2, 3]"
       ]
      }
     ],
     "prompt_number": 87
    },
    {
     "cell_type": "markdown",
     "metadata": {},
     "source": [
      "Podobno za mno\u017eice in slovarje:"
     ]
    },
    {
     "cell_type": "code",
     "collapsed": false,
     "input": [
      "{p+'h' for p in {'a', 'o', 'u'}} # mno\u017eice"
     ],
     "language": "python",
     "metadata": {},
     "outputs": [
      {
       "metadata": {},
       "output_type": "pyout",
       "prompt_number": 88,
       "text": [
        "{'ah', 'oh', 'uh'}"
       ]
      }
     ],
     "prompt_number": 88
    },
    {
     "cell_type": "code",
     "collapsed": false,
     "input": [
      "{p+'h' for p in {'dol\u017eina': 1, '\u0161irina': 3, 'vi\u0161ina': 5}} # slovarji - samo na klju\u010dih (keys)"
     ],
     "language": "python",
     "metadata": {},
     "outputs": [
      {
       "metadata": {},
       "output_type": "pyout",
       "prompt_number": 89,
       "text": [
        "{'dol\u017einah', 'vi\u0161inah', '\u0161irinah'}"
       ]
      }
     ],
     "prompt_number": 89
    },
    {
     "cell_type": "markdown",
     "metadata": {},
     "source": [
      "Pazi: pri terkah moramo izpeljevanje narediti takole (razlog je v tem, da se navadni oklepaj uporablja za t.i. generatorje - jih spoznamo pozneje): "
     ]
    },
    {
     "cell_type": "code",
     "collapsed": false,
     "input": [
      "tuple(p+'h' for p in ('a', 'o', 'u'))"
     ],
     "language": "python",
     "metadata": {},
     "outputs": [
      {
       "metadata": {},
       "output_type": "pyout",
       "prompt_number": 96,
       "text": [
        "('ah', 'oh', 'uh')"
       ]
      }
     ],
     "prompt_number": 96
    },
    {
     "cell_type": "heading",
     "level": 2,
     "metadata": {},
     "source": [
      "Funkcije"
     ]
    },
    {
     "cell_type": "markdown",
     "metadata": {},
     "source": [
      "Seznam vgrajenih funkcij:\n",
      "\n",
      "https://docs.python.org/3.4/library/functions.html"
     ]
    },
    {
     "cell_type": "heading",
     "level": 3,
     "metadata": {},
     "source": [
      "Kako definiramo svojo funkcijo?"
     ]
    },
    {
     "cell_type": "markdown",
     "metadata": {},
     "source": [
      "Funkcija se za\u010dne z besedo ``def``, tipi\u010dna oblika je:"
     ]
    },
    {
     "cell_type": "code",
     "collapsed": false,
     "input": [
      "def prva_funkcija(dolzina, sirina):\n",
      "    povrsina = dolzina * sirina\n",
      "    return povrsina"
     ],
     "language": "python",
     "metadata": {},
     "outputs": [],
     "prompt_number": 100
    },
    {
     "cell_type": "code",
     "collapsed": false,
     "input": [
      "prva_funkcija(1, 20)"
     ],
     "language": "python",
     "metadata": {},
     "outputs": [
      {
       "metadata": {},
       "output_type": "pyout",
       "prompt_number": 101,
       "text": [
        "20"
       ]
      }
     ],
     "prompt_number": 101
    },
    {
     "cell_type": "markdown",
     "metadata": {},
     "source": [
      "V kolikor ni ``return`` stavka, potem funkcija ne vrne ni\u010desar (oz vrne ``None`` objekt). \n",
      "\n",
      "Prvi stavek je lahko t.i. *docstring*: kratek - enosvrsti\u010dni - opis kaj naredi funkcija. Parametri imajo lahko tudi prvzete vrednosti."
     ]
    },
    {
     "cell_type": "code",
     "collapsed": false,
     "input": [
      "def povrsina(dolzina = 1, sirina = 10):\n",
      "    \"\"\"Izra\u010dun povr\u0161ine pravokotnika\n",
      "        \n",
      "    Parametra:\n",
      "    dolzina\n",
      "    sirina\n",
      "    \"\"\"\n",
      "    return dolzina*sirina"
     ],
     "language": "python",
     "metadata": {},
     "outputs": [],
     "prompt_number": 103
    },
    {
     "cell_type": "code",
     "collapsed": false,
     "input": [
      "?povrsina"
     ],
     "language": "python",
     "metadata": {},
     "outputs": [],
     "prompt_number": 91
    },
    {
     "cell_type": "code",
     "collapsed": true,
     "input": [
      "povrsina()"
     ],
     "language": "python",
     "metadata": {},
     "outputs": [
      {
       "metadata": {},
       "output_type": "pyout",
       "prompt_number": 92,
       "text": [
        "1"
       ]
      }
     ],
     "prompt_number": 92
    },
    {
     "cell_type": "code",
     "collapsed": false,
     "input": [
      "povrsina(sirina = 0.5)"
     ],
     "language": "python",
     "metadata": {},
     "outputs": [
      {
       "metadata": {},
       "output_type": "pyout",
       "prompt_number": 104,
       "text": [
        "0.5"
       ]
      }
     ],
     "prompt_number": 104
    },
    {
     "cell_type": "code",
     "collapsed": false,
     "input": [
      "povrsina(sirina = 0.5, dolzina = 10)"
     ],
     "language": "python",
     "metadata": {},
     "outputs": [
      {
       "metadata": {},
       "output_type": "pyout",
       "prompt_number": 105,
       "text": [
        "5.0"
       ]
      }
     ],
     "prompt_number": 105
    },
    {
     "cell_type": "markdown",
     "metadata": {},
     "source": [
      "**Lokalna / globalna spremenljivka** \n",
      "Spremenjljivke definirane znotraj funkcije, so dosegljive samo znotraj funkcije. \u010ce dolo\u010deni spremenljivki ne prirejamo vrednosti, potem se predpostavi, da je definirana zunaj funkcije. Spremenljivke so globalne, \u010de so definirane kot ``global`` (temu se izogibamo, glede na PEP8 se globalne spremenljivke pi\u0161ejo z veliko, primer: ``POMEMBEN_TEKST = \"a res?\"``)."
     ]
    },
    {
     "cell_type": "code",
     "collapsed": false,
     "input": [
      "dolzina = 3\n",
      "def kar_ena(a = 5):\n",
      "    notranja = a\n",
      "    zunanja = dolzina\n",
      "    #dolzina = notranja\n",
      "    return notranja, zunanja, dolzina"
     ],
     "language": "python",
     "metadata": {},
     "outputs": [],
     "prompt_number": 106
    },
    {
     "cell_type": "code",
     "collapsed": false,
     "input": [
      "kar_ena()"
     ],
     "language": "python",
     "metadata": {},
     "outputs": [
      {
       "metadata": {},
       "output_type": "pyout",
       "prompt_number": 108,
       "text": [
        "(5, 3, 3)"
       ]
      }
     ],
     "prompt_number": 108
    },
    {
     "cell_type": "markdown",
     "metadata": {},
     "source": [
      "Funkcije so v Pythonu objekt:"
     ]
    },
    {
     "cell_type": "code",
     "collapsed": false,
     "input": [
      "kar_ena"
     ],
     "language": "python",
     "metadata": {},
     "outputs": [
      {
       "metadata": {},
       "output_type": "pyout",
       "prompt_number": 115,
       "text": [
        "<function __main__.kar_ena>"
       ]
      }
     ],
     "prompt_number": 115
    },
    {
     "cell_type": "markdown",
     "metadata": {},
     "source": [
      "To imam pomembno posledico, da jih lahko podajamo drugim funkcijam v obliki argumenta:"
     ]
    },
    {
     "cell_type": "code",
     "collapsed": false,
     "input": [
      "def super_funkcija(uporabi_funkcijo, arg):\n",
      "    return uporabi_funkcijo(arg)"
     ],
     "language": "python",
     "metadata": {},
     "outputs": [],
     "prompt_number": 116
    },
    {
     "cell_type": "code",
     "collapsed": false,
     "input": [
      "super_funkcija(print, 6)"
     ],
     "language": "python",
     "metadata": {},
     "outputs": [
      {
       "output_type": "stream",
       "stream": "stdout",
       "text": [
        "6\n"
       ]
      }
     ],
     "prompt_number": 117
    },
    {
     "cell_type": "code",
     "collapsed": false,
     "input": [
      "super_funkcija(kar_ena, 6)"
     ],
     "language": "python",
     "metadata": {},
     "outputs": [
      {
       "metadata": {},
       "output_type": "pyout",
       "prompt_number": 118,
       "text": [
        "(6, 3, 3)"
       ]
      }
     ],
     "prompt_number": 118
    },
    {
     "cell_type": "markdown",
     "metadata": {},
     "source": [
      "``return`` funkcije je v bistvu objekt. Lahko torej tudi terko (tuple):"
     ]
    },
    {
     "cell_type": "code",
     "collapsed": false,
     "input": [
      "def vrnem_terko():\n",
      "    return (1, 'g')\n",
      "\n",
      "(a, b) = vrnem_terko()\n",
      "print(a)\n",
      "#ali kar tako\n",
      "a, b = vrnem_terko()\n",
      "print(b)"
     ],
     "language": "python",
     "metadata": {},
     "outputs": [
      {
       "output_type": "stream",
       "stream": "stdout",
       "text": [
        "1\n",
        "g\n"
       ]
      }
     ],
     "prompt_number": 119
    },
    {
     "cell_type": "heading",
     "level": 3,
     "metadata": {},
     "source": [
      "Posredovanje argumentov v funkcije"
     ]
    },
    {
     "cell_type": "markdown",
     "metadata": {},
     "source": [
      "Zgoraj smo spremenljivke poslali v funkcijo preko imena. To je samo ena od mo\u017enosti. Python pozna dva na\u010dina posredovanja argumentov:\n",
      "* glede na **mesto** (*positional*)\n",
      "* glede na **ime**\n",
      "    \n",
      "Zgornjo funkcijo lahko kli\u010demo:"
     ]
    },
    {
     "cell_type": "code",
     "collapsed": true,
     "input": [
      "print(povrsina(3, 6))\n",
      "print(povrsina(sirina = 3, dolzina = 6))\n",
      "print(povrsina(3, dolzina = 6)) # tako pa ne"
     ],
     "language": "python",
     "metadata": {},
     "outputs": [
      {
       "output_type": "stream",
       "stream": "stdout",
       "text": [
        "18\n",
        "18\n"
       ]
      },
      {
       "ename": "TypeError",
       "evalue": "povrsina() got multiple values for argument 'dolzina'",
       "output_type": "pyerr",
       "traceback": [
        "\u001b[1;31m---------------------------------------------------------------------------\u001b[0m\n\u001b[1;31mTypeError\u001b[0m                                 Traceback (most recent call last)",
        "\u001b[1;32m<ipython-input-121-1f476363412b>\u001b[0m in \u001b[0;36m<module>\u001b[1;34m()\u001b[0m\n\u001b[0;32m      1\u001b[0m \u001b[0mprint\u001b[0m\u001b[1;33m(\u001b[0m\u001b[0mpovrsina\u001b[0m\u001b[1;33m(\u001b[0m\u001b[1;36m3\u001b[0m\u001b[1;33m,\u001b[0m \u001b[1;36m6\u001b[0m\u001b[1;33m)\u001b[0m\u001b[1;33m)\u001b[0m\u001b[1;33m\u001b[0m\u001b[0m\n\u001b[0;32m      2\u001b[0m \u001b[0mprint\u001b[0m\u001b[1;33m(\u001b[0m\u001b[0mpovrsina\u001b[0m\u001b[1;33m(\u001b[0m\u001b[0msirina\u001b[0m \u001b[1;33m=\u001b[0m \u001b[1;36m3\u001b[0m\u001b[1;33m,\u001b[0m \u001b[0mdolzina\u001b[0m \u001b[1;33m=\u001b[0m \u001b[1;36m6\u001b[0m\u001b[1;33m)\u001b[0m\u001b[1;33m)\u001b[0m\u001b[1;33m\u001b[0m\u001b[0m\n\u001b[1;32m----> 3\u001b[1;33m \u001b[0mprint\u001b[0m\u001b[1;33m(\u001b[0m\u001b[0mpovrsina\u001b[0m\u001b[1;33m(\u001b[0m\u001b[1;36m3\u001b[0m\u001b[1;33m,\u001b[0m \u001b[0mdolzina\u001b[0m \u001b[1;33m=\u001b[0m \u001b[1;36m6\u001b[0m\u001b[1;33m)\u001b[0m\u001b[1;33m)\u001b[0m \u001b[1;31m# tako pa ne\u001b[0m\u001b[1;33m\u001b[0m\u001b[0m\n\u001b[0m",
        "\u001b[1;31mTypeError\u001b[0m: povrsina() got multiple values for argument 'dolzina'"
       ]
      }
     ],
     "prompt_number": 121
    },
    {
     "cell_type": "markdown",
     "metadata": {},
     "source": [
      "Zadnji primer vrne napako: \u010de ne podamo imena, potem se privzame ime glede na vrstni red argumenta!"
     ]
    },
    {
     "cell_type": "markdown",
     "metadata": {},
     "source": [
      "Pogosto funkcije dopolnjujemo in dodajamo nove argumente ali \u0161tevilo argumentov funkciji sploh ne moremo v naprej definirati!\n",
      "\n",
      "Python s tem nima te\u017eav. Argumente, ki niso eksplicitno definirani obvladamo takole:\n",
      "* \u010de uporabimo argument z zvezdico (npr \\*ime), potem bo Python preostale spremenljivke brez imena zapakiral v **terko**\n",
      "* \u010de uporabimo argument z dvema zvezdicama (npr \\*\\*ime), potem bo Python preostale spremenljike z imeni zapakiral v terko **slovar**\n",
      "\n",
      "Poglejmo primer:"
     ]
    },
    {
     "cell_type": "code",
     "collapsed": false,
     "input": [
      "def sprejmem_veliko_argumentov(student, izpit = True, *argumenti, **slovar):\n",
      "    print(student, izpit)\n",
      "    print('arg:', argumenti)\n",
      "    print('slovar:', slovar)\n",
      "    if 'showFigure' in slovar:\n",
      "        print('risem sliko')"
     ],
     "language": "python",
     "metadata": {},
     "outputs": [],
     "prompt_number": 122
    },
    {
     "cell_type": "code",
     "collapsed": false,
     "input": [
      "sprejmem_veliko_argumentov('Janez', 3, 4, 6, 't', sprejmem_veliko_argumentov)"
     ],
     "language": "python",
     "metadata": {},
     "outputs": [
      {
       "output_type": "stream",
       "stream": "stdout",
       "text": [
        "Janez 3\n",
        "arg: (4, 6, 't', <function sprejmem_veliko_argumentov at 0x0000000006F0DBF8>)\n",
        "slovar: {}\n"
       ]
      }
     ],
     "prompt_number": 124
    },
    {
     "cell_type": "code",
     "collapsed": false,
     "input": [
      "sprejmem_veliko_argumentov('Janez', 3, 4, predsednik = True)"
     ],
     "language": "python",
     "metadata": {},
     "outputs": [
      {
       "output_type": "stream",
       "stream": "stdout",
       "text": [
        "Janez 3\n",
        "arg: (4,)\n",
        "slovar: {'predsednik': True}\n"
       ]
      }
     ],
     "prompt_number": 125
    },
    {
     "cell_type": "markdown",
     "metadata": {},
     "source": [
      "Ve\u010d: https://docs.python.org/3.4/tutorial/controlflow.html#defining-functions"
     ]
    },
    {
     "cell_type": "heading",
     "level": 3,
     "metadata": {},
     "source": [
      "Anonimna funkcija / izraz"
     ]
    },
    {
     "cell_type": "markdown",
     "metadata": {},
     "source": [
      "https://docs.python.org/3.4/tutorial/controlflow.html#lambda-expressions\n",
      "\n",
      "Pogosto imamo potrebo po kratki funkciji, ki ne potrebuje niti imena (zato *anonimna*). Anonimno funkcjo definiramo z besedo ``lambda``:"
     ]
    },
    {
     "cell_type": "code",
     "collapsed": false,
     "input": [
      "funkcija = lambda par: par**2\n",
      "funkcija(4)"
     ],
     "language": "python",
     "metadata": {},
     "outputs": [
      {
       "metadata": {},
       "output_type": "pyout",
       "prompt_number": 127,
       "text": [
        "16"
       ]
      }
     ],
     "prompt_number": 127
    },
    {
     "cell_type": "markdown",
     "metadata": {},
     "source": [
      "Ve\u010d o anonimni funkciji na naslednjih predavanjih."
     ]
    },
    {
     "cell_type": "heading",
     "level": 4,
     "metadata": {},
     "source": [
      "Uporaba anonimne v ``map`` in ``filter`` funkciji"
     ]
    },
    {
     "cell_type": "markdown",
     "metadata": {},
     "source": [
      "Preden je bilo v verziji Python 2 vpeljano izpeljevanje seznamov, sta se pogosto uporabljali funkciji ``map`` in ``filter``. Danes ju uporabljamo redkeje saj sta manj pregledni in po\u010dasnej\u0161i. Help: https://docs.python.org/3.4/library/functions.html#map"
     ]
    },
    {
     "cell_type": "markdown",
     "metadata": {},
     "source": [
      "Verjetno te funcije ne boste uporabljali; vseeno tukaj primer:"
     ]
    },
    {
     "cell_type": "code",
     "collapsed": false,
     "input": [
      "#%%timeit\n",
      "kvadrat = list(map(lambda x: x**2, seznam))"
     ],
     "language": "python",
     "metadata": {},
     "outputs": [],
     "prompt_number": 163
    },
    {
     "cell_type": "heading",
     "level": 4,
     "metadata": {},
     "source": [
      "Uporaba anonimne funkcije v ``filter`` funkciji"
     ]
    },
    {
     "cell_type": "markdown",
     "metadata": {},
     "source": [
      "Help: https://docs.python.org/3.4/library/functions.html#filter"
     ]
    },
    {
     "cell_type": "code",
     "collapsed": false,
     "input": [
      "list(filter(lambda x: x**3 < 0, range(-5,5)))"
     ],
     "language": "python",
     "metadata": {},
     "outputs": [
      {
       "metadata": {},
       "output_type": "pyout",
       "prompt_number": 4,
       "text": [
        "[-5, -4, -3, -2, -1]"
       ]
      }
     ],
     "prompt_number": 4
    },
    {
     "cell_type": "heading",
     "level": 2,
     "metadata": {},
     "source": [
      "Moduli"
     ]
    },
    {
     "cell_type": "markdown",
     "metadata": {},
     "source": [
      "Z moduli lahko na enostaven na\u010din uporabimo \u017ee napisano kodo.\n",
      "\n",
      "Preprosto povedano, nam moduli v Pythonu omogo\u010dajo relativno enostavno ohranjanje preglednosti in reda. V bistvu gre za imenski prostor objektov.\n",
      "\n",
      "Poglejmo si primer modula: ``prvi_program.py``\n",
      "\n",
      "Modul uvozimo z ``import``. Ob uvozu se modul dejansko izvede:"
     ]
    },
    {
     "cell_type": "code",
     "collapsed": false,
     "input": [
      "import prvi_modul"
     ],
     "language": "python",
     "metadata": {},
     "outputs": [],
     "prompt_number": 10
    },
    {
     "cell_type": "code",
     "collapsed": false,
     "input": [
      "prvi_modul.kvadrat(5)"
     ],
     "language": "python",
     "metadata": {},
     "outputs": [
      {
       "metadata": {},
       "output_type": "pyout",
       "prompt_number": 12,
       "text": [
        "25"
       ]
      }
     ],
     "prompt_number": 12
    },
    {
     "cell_type": "markdown",
     "metadata": {},
     "source": [
      "Lahko uvozimo samo del modula:"
     ]
    },
    {
     "cell_type": "code",
     "collapsed": false,
     "input": [
      "from prvi_program import matrika"
     ],
     "language": "python",
     "metadata": {},
     "outputs": [],
     "prompt_number": 13
    },
    {
     "cell_type": "code",
     "collapsed": false,
     "input": [
      "matrika"
     ],
     "language": "python",
     "metadata": {},
     "outputs": [
      {
       "metadata": {},
       "output_type": "pyout",
       "prompt_number": 14,
       "text": [
        "[[1, 2, 3], [4, 5, 6], [7, 8, 9]]"
       ]
      }
     ],
     "prompt_number": 14
    },
    {
     "cell_type": "markdown",
     "metadata": {},
     "source": [
      "Ali del tudi preimenujemo"
     ]
    },
    {
     "cell_type": "code",
     "collapsed": false,
     "input": [
      "from prvi_program import matrika as mat\n",
      "mat"
     ],
     "language": "python",
     "metadata": {},
     "outputs": [
      {
       "metadata": {},
       "output_type": "pyout",
       "prompt_number": 15,
       "text": [
        "[[1, 2, 3], [4, 5, 6], [7, 8, 9]]"
       ]
      }
     ],
     "prompt_number": 15
    },
    {
     "cell_type": "markdown",
     "metadata": {},
     "source": [
      "**Pomembno**: dostikrat module hierarhi\u010dno razporejamo po direktorijih. \u010ce je v dolo\u010denem direktoriju datoteka (lahko tudi prazna) *\\_\\_init.py\\_\\_*, potem se tak direktorij obna\u0161a kot modul.\n"
     ]
    },
    {
     "cell_type": "code",
     "collapsed": false,
     "input": [
      "import moduli.drugi_program as drugi"
     ],
     "language": "python",
     "metadata": {},
     "outputs": [],
     "prompt_number": 17
    },
    {
     "cell_type": "code",
     "collapsed": false,
     "input": [
      "drugi.togostna_matrika"
     ],
     "language": "python",
     "metadata": {},
     "outputs": [
      {
       "metadata": {},
       "output_type": "pyout",
       "prompt_number": 18,
       "text": [
        "[[1, 2, 3], [4, 5, 6], [7, 8, 9]]"
       ]
      }
     ],
     "prompt_number": 18
    },
    {
     "cell_type": "markdown",
     "metadata": {},
     "source": [
      "**Kje Python i\u0161\u010de module?**\n",
      "1. lokalna mapa\n",
      "2. v mapah definiranih v ``PYTHONPATH``\n",
      "3. v mapah, kjer je instaliran Python"
     ]
    },
    {
     "cell_type": "heading",
     "level": 4,
     "metadata": {},
     "source": [
      "Modul ``sys``"
     ]
    },
    {
     "cell_type": "code",
     "collapsed": false,
     "input": [
      "import sys\n",
      "sys.path"
     ],
     "language": "python",
     "metadata": {},
     "outputs": [
      {
       "metadata": {},
       "output_type": "pyout",
       "prompt_number": 19,
       "text": [
        "['',\n",
        " 'c:\\\\_d\\\\prg\\\\py\\\\pyLadisk\\\\src',\n",
        " 'c:\\\\_d\\\\prg\\\\py\\\\openModal\\\\openModal',\n",
        " 'C:\\\\Anaconda3\\\\python34.zip',\n",
        " 'C:\\\\Anaconda3\\\\DLLs',\n",
        " 'C:\\\\Anaconda3\\\\lib',\n",
        " 'C:\\\\Anaconda3',\n",
        " 'C:\\\\Anaconda3\\\\lib\\\\site-packages',\n",
        " 'C:\\\\Anaconda3\\\\lib\\\\site-packages\\\\Sphinx-1.2.3-py3.4.egg',\n",
        " 'C:\\\\Anaconda3\\\\lib\\\\site-packages\\\\win32',\n",
        " 'C:\\\\Anaconda3\\\\lib\\\\site-packages\\\\win32\\\\lib',\n",
        " 'C:\\\\Anaconda3\\\\lib\\\\site-packages\\\\Pythonwin',\n",
        " 'C:\\\\Anaconda3\\\\lib\\\\site-packages\\\\runipy-0.1.1-py3.4.egg',\n",
        " 'C:\\\\Anaconda3\\\\lib\\\\site-packages\\\\setuptools-7.0-py3.4.egg',\n",
        " 'C:\\\\Anaconda3\\\\lib\\\\site-packages\\\\IPython\\\\extensions']"
       ]
      }
     ],
     "prompt_number": 19
    },
    {
     "cell_type": "markdown",
     "metadata": {},
     "source": [
      "Python ima veliko \u0161tevilo vgrajenih modulov (in \u0161e veliko, veliko ve\u010dje \u0161tevilo se jih lahko sname na spletu, npr. tukaj: https://pypi.python.org/pypi), ki dodajo razli\u010dne funkcionalnosti. \n",
      "\n",
      "``sys`` modul omogo\u010da dostop do objektov, ki jih uporablja interpreter (``?sys``). \u010ce \u017eelimo videti v katerih mapah i\u0161\u010de module, to naredimo takole:"
     ]
    },
    {
     "cell_type": "heading",
     "level": 4,
     "metadata": {},
     "source": [
      "Modul ``os``"
     ]
    },
    {
     "cell_type": "code",
     "collapsed": false,
     "input": [
      "import os\n",
      "?os"
     ],
     "language": "python",
     "metadata": {},
     "outputs": [],
     "prompt_number": 20
    },
    {
     "cell_type": "markdown",
     "metadata": {},
     "source": [
      "Modul ``os`` je namenjen delu z operacijskim sistemom in skrbi za zdru\u017eljivost z razli\u010dnimi operacijskimi sistemi."
     ]
    },
    {
     "cell_type": "code",
     "collapsed": false,
     "input": [
      "os.path.curdir"
     ],
     "language": "python",
     "metadata": {},
     "outputs": [
      {
       "metadata": {},
       "output_type": "pyout",
       "prompt_number": 21,
       "text": [
        "'.'"
       ]
      }
     ],
     "prompt_number": 21
    },
    {
     "cell_type": "code",
     "collapsed": false,
     "input": [
      "os.path.abspath(os.path.curdir)"
     ],
     "language": "python",
     "metadata": {},
     "outputs": [
      {
       "metadata": {},
       "output_type": "pyout",
       "prompt_number": 23,
       "text": [
        "'j:\\\\Work Janko\\\\Pedagosko delo\\\\_ predavanja\\\\Programiranje in numeri\u010dne metode\\\\_2014\\\\Lj'"
       ]
      }
     ],
     "prompt_number": 23
    },
    {
     "cell_type": "markdown",
     "metadata": {},
     "source": [
      "Kako najdemo vse datoteke in mape v direktoriju?"
     ]
    },
    {
     "cell_type": "code",
     "collapsed": false,
     "input": [
      "seznam = os.listdir()\n",
      "seznam"
     ],
     "language": "python",
     "metadata": {},
     "outputs": [
      {
       "metadata": {},
       "output_type": "pyout",
       "prompt_number": 24,
       "text": [
        "['.idea',\n",
        " '.ipynb_checkpoints',\n",
        " 'data.pkl',\n",
        " 'data.txt',\n",
        " 'moduli',\n",
        " 'others',\n",
        " 'Predavanje 1 - Uvod v Python.ipynb',\n",
        " 'Predavanje 2 - Print, delo z datotekami, funkcije, moduli.ipynb',\n",
        " 'prikaz vpisa.txt',\n",
        " 'prvi_modul.py',\n",
        " 'prvi_program.py',\n",
        " 'stanje1.pkl',\n",
        " 'zapis_labview.lvm',\n",
        " '__init__py.py',\n",
        " '__pycache__']"
       ]
      }
     ],
     "prompt_number": 24
    },
    {
     "cell_type": "code",
     "collapsed": false,
     "input": [
      "for vrednost in seznam:\n",
      "    if os.path.isfile(vrednost):\n",
      "        print('Na\u0161el sem mapo: {:s}'.format(vrednost))"
     ],
     "language": "python",
     "metadata": {},
     "outputs": [
      {
       "output_type": "stream",
       "stream": "stdout",
       "text": [
        "Na\u0161el sem mapo: data.pkl\n",
        "Na\u0161el sem mapo: data.txt\n",
        "Na\u0161el sem mapo: Predavanje 1 - Uvod v Python.ipynb\n",
        "Na\u0161el sem mapo: Predavanje 2 - Print, delo z datotekami, funkcije, moduli.ipynb\n",
        "Na\u0161el sem mapo: prikaz vpisa.txt\n",
        "Na\u0161el sem mapo: prvi_modul.py\n",
        "Na\u0161el sem mapo: prvi_program.py\n",
        "Na\u0161el sem mapo: stanje1.pkl\n",
        "Na\u0161el sem mapo: zapis_labview.lvm\n",
        "Na\u0161el sem mapo: __init__py.py\n"
       ]
      }
     ],
     "prompt_number": 26
    },
    {
     "cell_type": "heading",
     "level": 4,
     "metadata": {},
     "source": [
      "Modul ``pickle``"
     ]
    },
    {
     "cell_type": "code",
     "collapsed": false,
     "input": [
      "import pickle"
     ],
     "language": "python",
     "metadata": {},
     "outputs": [],
     "prompt_number": 28
    },
    {
     "cell_type": "markdown",
     "metadata": {},
     "source": [
      "Gre za zelo uporaben modul, ki celotno strukturo shrani v binarni obliki.\n",
      "Tako pisanje kot branje je zelo hitro (pozneje bomo tako shranjevali npr. velike matrike)\n",
      "\n",
      "https://docs.python.org/3.4/library/pickle.html"
     ]
    },
    {
     "cell_type": "markdown",
     "metadata": {},
     "source": [
      "Glejmo si npr primer:"
     ]
    },
    {
     "cell_type": "code",
     "collapsed": false,
     "input": [
      "a = {'\u0161tevilo': 1, 'velikost': 10}\n",
      "\n",
      "datoteka = open('stanje1.pkl', 'wb')\n",
      "pickle.dump(a, datoteka, protocol=-1) # pazite: uporabite protocol=-1, da boste uporabili zadnjo verzijo\n",
      "\n",
      "datoteka = open('stanje1.pkl', 'rb')\n",
      "b = pickle.load(datoteka)\n",
      "\n",
      "print(a == b)"
     ],
     "language": "python",
     "metadata": {},
     "outputs": [
      {
       "output_type": "stream",
       "stream": "stdout",
       "text": [
        "True\n"
       ]
      }
     ],
     "prompt_number": 30
    },
    {
     "cell_type": "code",
     "collapsed": false,
     "input": [
      "b"
     ],
     "language": "python",
     "metadata": {},
     "outputs": [
      {
       "metadata": {},
       "output_type": "pyout",
       "prompt_number": 32,
       "text": [
        "{'velikost': 10, '\u0161tevilo': 1}"
       ]
      }
     ],
     "prompt_number": 32
    },
    {
     "cell_type": "markdown",
     "metadata": {},
     "source": [
      "**Preverimo hitrost**"
     ]
    },
    {
     "cell_type": "code",
     "collapsed": false,
     "input": [
      "data = list(range(50000))"
     ],
     "language": "python",
     "metadata": {},
     "outputs": [],
     "prompt_number": 33
    },
    {
     "cell_type": "code",
     "collapsed": false,
     "input": [
      "%%timeit\n",
      "datoteka = open('data.txt', mode='w')\n",
      "for d in data:\n",
      "    datoteka.write('{ime1:7.2e}\\n'.format(ime1=d))\n",
      "datoteka.close()"
     ],
     "language": "python",
     "metadata": {},
     "outputs": [
      {
       "output_type": "stream",
       "stream": "stdout",
       "text": [
        "1 loops, best of 3: 166 ms per loop\n"
       ]
      }
     ],
     "prompt_number": 34
    },
    {
     "cell_type": "code",
     "collapsed": false,
     "input": [
      "%%timeit\n",
      "datoteka = open('data.pkl', 'wb')\n",
      "pickle.dump(data, datoteka, protocol=-1) "
     ],
     "language": "python",
     "metadata": {},
     "outputs": [
      {
       "output_type": "stream",
       "stream": "stdout",
       "text": [
        "100 loops, best of 3: 1.75 ms per loop\n"
       ]
      }
     ],
     "prompt_number": 35
    },
    {
     "cell_type": "heading",
     "level": 2,
     "metadata": {},
     "source": [
      "Do naslednjih vaj pre\u0161tudirajte slede\u010de:"
     ]
    },
    {
     "cell_type": "markdown",
     "metadata": {},
     "source": [
      "1. Odprite datoteko za zapis in vanjo vpi\u0161ite formatirani (skupaj 7 mest, 3 decimalna mesta) seznam v dveh stolpcih. Razlo\u010devalni znak med stolpci naj bo prazen znak ' '.\n",
      "2. Odprite pripeto datoteko ``zapis_labview.lvm`` (gre za zapis iz programa LabView) in preberite glavo v obliki slovarja ('ime polja': vrednost)\n",
      "3. V datoteki iz prej\u0161nje to\u010dke preberiet podatke (uporabite funkcijo ``replace()`` za zamenjavo decimalne vejice v piko in nato pretvorite niz v \u0161tevilo. Najdite ustrezno dokumentacijo/help).\n",
      "4. Na poljubnem seznamu besed prika\u017eite uporabo izpeljevanja seznamov tako, da zamenjate samoglasnik.\n",
      "5. Napi\u0161ite funkcijo. \u010ce se v funkcijo vstavi seznam besed, potem naj vrne dol\u017eino besed. \u010ce se v funkcjo vstavi seznam numeri\u010dnih vrednosti, potem naj vrne njihovo vrednost pove\u010dano za ena.\n",
      "6. Zgornjo funkcijo nadgradite: \u010de se v funkcijo vstavi prazen seznam (dol\u017eine 0), potem naj spro\u017ei izjemo ``Exception`` z ustreznim opisom.\n",
      "7. Pripravite novo funkcijo, ki bo klicala funkcijo iz to\u010dke 6 in lovila izjeme.\n",
      "8. Za obe funkciji pripravite *docstring*\n",
      "9. Prika\u017eite uporabo argumentov s privzetimi vrednostmi.\n",
      "10. Prika\u017eite uporabo argumentov glede na mesto in glede na ime.\n",
      "11. V funkcijo po\u0161ljite nepredvidene vrednosti (nize in numeri\u010dne vrednosti).\n",
      "12. V funkcijo po\u0161ljite nepredvidene poimenske vrednosti.\n",
      "13. Definirajte *lambda* funkcijo, ki spremenljivki spremeni predznak in pri\u0161teje vrednost 1. Prika\u017eite uporabo ``map`` in/ali ``filter`` funkcije.\n",
      "14. Zgornji funkciji shranite v modul poljubnega imena (npr.: prve_funkcije.py).\n",
      "15. Uvozite samo eno od funkcij kot funkcijo z novim imenom (druga\u010dno ime od izvornega)\n",
      "16. Najdite vse datoteke v trenutni mapi in le-ta shranite v obliki seznama.\n",
      "17. Za seznam iz to\u010dke 16 preverite pod-funkcije os.path (npr. os.path.basename) in preverite z ``if`` stavkom ali datoteke obstajajo.\n",
      "18. Z uporabo podfunkcij os.path dolo\u010dite ime in kon\u010dnico datotek iz to\u010dke 16.\n",
      "19. Z izpeljevanjem seznama, naredite seznam imen in sezna kon\u010dnic datotek.\n",
      "20. Seznam imen in seznam kon\u010dnic shranite v obliki slovarja.\n",
      "21. Slovar iz prej\u0161nje to\u010dke shranite in odprite s ``pickle``."
     ]
    },
    {
     "cell_type": "heading",
     "level": 1,
     "metadata": {},
     "source": [
      "Ekstra"
     ]
    },
    {
     "cell_type": "markdown",
     "metadata": {},
     "source": [
      "1. ``openpyxl`` za pisanje in branje Excel 2007 xlsx/xlsm datotek: http://openpyxl.readthedocs.org/en/latest/index.html#\n",
      "2. Delo z ActiveX. Primer pisanje v Excel z ActiveX: https://ucilnica.fri.uni-lj.si/mod/page/view.php?id=30964\n",
      "3. Regularni izrazi (zelo mo\u010dno orodje za iskanje po nizih): https://docs.python.org/3.4/library/re.html ali v Sloven\u0161\u010dini https://ucilnica.fri.uni-lj.si/mod/page/view.php?id=30963"
     ]
    },
    {
     "cell_type": "heading",
     "level": 1,
     "metadata": {},
     "source": [
      "Uporabljajte www.stackoverflow.com!"
     ]
    },
    {
     "cell_type": "markdown",
     "metadata": {},
     "source": [
      "http://www.stackoverflow.com"
     ]
    }
   ],
   "metadata": {}
  }
 ]
}