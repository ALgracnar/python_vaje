{
 "metadata": {
  "name": "",
  "signature": "sha256:cdcc674987bd57bd6d6a62e9a9e337a66f234c5e5a22d6f4a4673109986bc8c3"
 },
 "nbformat": 3,
 "nbformat_minor": 0,
 "worksheets": [
  {
   "cells": [
    {
     "cell_type": "heading",
     "level": 2,
     "metadata": {},
     "source": [
      "1. Odprite datoteko in vanjo vpi\u0161ite formatirani(skupaj 7 mest, 3 decimalna mesta) seznam v dveh stolpcih. Razlo\u010devalni znak med stolpci naj bo prazen znak ' '."
     ]
    },
    {
     "cell_type": "markdown",
     "metadata": {},
     "source": [
      "datoteka = open('prikaz vpisa.txt', mode = 'r+' )\n",
      "#print(datoteka.replace(',','.'))\n",
      "datoteka.replace(',','.')"
     ]
    },
    {
     "cell_type": "markdown",
     "metadata": {},
     "source": []
    },
    {
     "cell_type": "markdown",
     "metadata": {},
     "source": [
      "\n",
      "\n",
      "datoteka.replace(',','.')\n"
     ]
    },
    {
     "cell_type": "markdown",
     "metadata": {},
     "source": [
      "poravljena = (datoteka.replace(',','.'))\n",
      "print (poravljena)"
     ]
    },
    {
     "cell_type": "markdown",
     "metadata": {},
     "source": []
    },
    {
     "cell_type": "markdown",
     "metadata": {},
     "source": [
      "datoteka.close()"
     ]
    },
    {
     "cell_type": "markdown",
     "metadata": {},
     "source": [
      "dat = open('prikaz vpisa.txt', mode = 'a' )"
     ]
    },
    {
     "cell_type": "markdown",
     "metadata": {},
     "source": [
      "for line in dat:\n",
      "    print(line.write('{:7.2}\\n'.format(d))"
     ]
    },
    {
     "cell_type": "markdown",
     "metadata": {},
     "source": [
      "datoteka.close()"
     ]
    },
    {
     "cell_type": "markdown",
     "metadata": {},
     "source": [
      "datoteka = open('prikaz vpisa.txt',mode = 'r+')\n",
      "for line in datoteka:\n",
      "    print()"
     ]
    },
    {
     "cell_type": "markdown",
     "metadata": {},
     "source": [
      "2. Odprite pripeto datoteko ``zapis_labview.lvm`` (gre za zapis iz programa LabView) in preberite glavo v obliki slovarja ('ime polja': vrednost)\n",
      "3. V datoteki iz prej\u0161nje to\u010dke preberiet podatke (uporabite funkcijo ``replace()`` za zamenjavo decimalne vejice v piko in nato pretvorite niz v \u0161tevilo. Najdite ustrezno dokumentacijo/help)."
     ]
    },
    {
     "cell_type": "markdown",
     "metadata": {},
     "source": [
      " dat = open('zapis_labview.lvm', mode = 'r+')"
     ]
    },
    {
     "cell_type": "markdown",
     "metadata": {},
     "source": [
      " datoteka.close()"
     ]
    },
    {
     "cell_type": "code",
     "collapsed": false,
     "input": [
      "datoteka = open('zapis_labview.lvm', mode = 'w+')\n",
      "for line in datoteka:\n",
      "    datoteka.write(line.replace(',','.'))\n",
      "datoteka.close()"
     ],
     "language": "python",
     "metadata": {},
     "outputs": [],
     "prompt_number": 6
    },
    {
     "cell_type": "markdown",
     "metadata": {},
     "source": []
    },
    {
     "cell_type": "code",
     "collapsed": false,
     "input": [],
     "language": "python",
     "metadata": {},
     "outputs": []
    }
   ],
   "metadata": {}
  }
 ]
}