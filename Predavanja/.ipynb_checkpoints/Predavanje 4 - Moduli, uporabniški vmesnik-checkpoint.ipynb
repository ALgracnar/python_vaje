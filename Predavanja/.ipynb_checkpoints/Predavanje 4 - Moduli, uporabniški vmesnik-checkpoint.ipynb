{
 "metadata": {
  "name": "",
  "signature": "sha256:5b6e65f2859c674516b594cc016b9ea2b36b8a616988ae98be7b161843bab495"
 },
 "nbformat": 3,
 "nbformat_minor": 0,
 "worksheets": [
  {
   "cells": [
    {
     "cell_type": "markdown",
     "metadata": {},
     "source": [
      "Feb 2015, J. Slavi\u010d\n",
      "\n",
      "Predavanje 4"
     ]
    },
    {
     "cell_type": "heading",
     "level": 1,
     "metadata": {},
     "source": [
      "Moduli - nadaljevanje"
     ]
    },
    {
     "cell_type": "markdown",
     "metadata": {},
     "source": [
      "Zadnji\u010d smo spoznali najbolj pogosta modula: ``numpy``, ``matplotlib``. Tokrat se bomo najprej \u0161li v detajle pisanja svojega modula. Ena od doma\u010dih nalog je bila zamenjava stolpcev ali vrstic v matriki. To lahko naredimo takole: "
     ]
    },
    {
     "cell_type": "code",
     "collapsed": false,
     "input": [
      "a = np.arange(9).reshape(3, 3)\n",
      "a"
     ],
     "language": "python",
     "metadata": {},
     "outputs": [
      {
       "metadata": {},
       "output_type": "pyout",
       "prompt_number": 1,
       "text": [
        "array([[0, 1, 2],\n",
        "       [3, 4, 5],\n",
        "       [6, 7, 8]])"
       ]
      }
     ],
     "prompt_number": 1
    },
    {
     "cell_type": "code",
     "collapsed": false,
     "input": [
      "print('za\u010detno:\\n',a)\n",
      "tmp = a[:,1].copy()\n",
      "a[:,1] = a[:,0]\n",
      "print('vmesno:\\n',a)\n",
      "a[:,0] = tmp\n",
      "print('spremenjeno:\\n', a)"
     ],
     "language": "python",
     "metadata": {},
     "outputs": [
      {
       "output_type": "stream",
       "stream": "stdout",
       "text": [
        "za\u010detno:\n",
        " [[0 1 2]\n",
        " [3 4 5]\n",
        " [6 7 8]]\n",
        "vmesno:\n",
        " [[0 0 2]\n",
        " [3 3 5]\n",
        " [6 6 8]]\n",
        "spremenjeno:\n",
        " [[1 0 2]\n",
        " [4 3 5]\n",
        " [7 6 8]]\n"
       ]
      }
     ],
     "prompt_number": 2
    },
    {
     "cell_type": "markdown",
     "metadata": {},
     "source": [
      "To lahko naredimo tudi z uporabo naprednega rezanja (http://docs.scipy.org/doc/numpy/reference/arrays.indexing.html#advanced-indexing), ki ne vrne pogleda, pa\u010d pa kopijo!"
     ]
    },
    {
     "cell_type": "code",
     "collapsed": false,
     "input": [
      "def zamenjaj_stolpca(matrika, iz, na):\n",
      "    matrika[:,[iz, na]] = matrika[:,[na, iz]] # tukaj uporabimo napredno rezanje!\n",
      "    return matrika\n",
      "\n",
      "def zamenjaj_vrstici(matrika, iz, na):\n",
      "    matrika[[na, iz],:] = matrika[[iz, na],:]\n",
      "    return matrika"
     ],
     "language": "python",
     "metadata": {},
     "outputs": [],
     "prompt_number": 1
    },
    {
     "cell_type": "code",
     "collapsed": false,
     "input": [
      "a = np.arange(9).reshape(3, 3)\n",
      "print('za\u010detno:\\n',a)\n",
      "zamenjaj_stolpca(a,1,0)\n",
      "print('zamenjana stolpca:\\n',a)\n",
      "zamenjaj_vrstici(a,1,0)\n",
      "print('zamenjani vrstici:\\n',a)"
     ],
     "language": "python",
     "metadata": {},
     "outputs": [
      {
       "output_type": "stream",
       "stream": "stdout",
       "text": [
        "za\u010detno:\n",
        " [[0 1 2]\n",
        " [3 4 5]\n",
        " [6 7 8]]\n",
        "zamenjana stolpca:\n",
        " [[1 0 2]\n",
        " [4 3 5]\n",
        " [7 6 8]]\n",
        "zamenjani vrstici:\n",
        " [[4 3 5]\n",
        " [1 0 2]\n",
        " [7 6 8]]\n"
       ]
      }
     ],
     "prompt_number": 6
    },
    {
     "cell_type": "markdown",
     "metadata": {},
     "source": [
      "Ker bi zgornji funkciji lahko pozneje \u0161e uporabili, je smiselno, da si pripravimo svoj modul. Poimenujmo ga ``orodja.py``. Gremo sedaj v okolje pyCharm in si poglejmo:\n",
      "1. definiranje zgornjih funkcij\n",
      "2. code inspection\n",
      "3. dodajanje komentarjev\n",
      "4. izhod:\n",
      "```python\n",
      "    if __name__ == '__main__':\n",
      "```\n",
      "5. TODO opombe"
     ]
    },
    {
     "cell_type": "code",
     "collapsed": false,
     "input": [
      "import orodja_pred"
     ],
     "language": "python",
     "metadata": {},
     "outputs": [],
     "prompt_number": 7
    },
    {
     "cell_type": "code",
     "collapsed": false,
     "input": [
      "orodja_pred.zamenjaj_stolpca"
     ],
     "language": "python",
     "metadata": {},
     "outputs": []
    },
    {
     "cell_type": "code",
     "collapsed": false,
     "input": [
      "import orodja"
     ],
     "language": "python",
     "metadata": {},
     "outputs": [],
     "prompt_number": 5
    },
    {
     "cell_type": "code",
     "collapsed": false,
     "input": [
      "orodja.zamenjaj_stolpca(a, 1, 2)"
     ],
     "language": "python",
     "metadata": {},
     "outputs": [
      {
       "metadata": {},
       "output_type": "pyout",
       "prompt_number": 6,
       "text": [
        "array([[4, 5, 3],\n",
        "       [1, 2, 0],\n",
        "       [7, 8, 6]])"
       ]
      }
     ],
     "prompt_number": 6
    },
    {
     "cell_type": "code",
     "collapsed": false,
     "input": [
      "a"
     ],
     "language": "python",
     "metadata": {},
     "outputs": [
      {
       "metadata": {},
       "output_type": "pyout",
       "prompt_number": 7,
       "text": [
        "array([[4, 5, 3],\n",
        "       [1, 2, 0],\n",
        "       [7, 8, 6]])"
       ]
      }
     ],
     "prompt_number": 7
    },
    {
     "cell_type": "code",
     "collapsed": false,
     "input": [
      "import imp"
     ],
     "language": "python",
     "metadata": {},
     "outputs": [],
     "prompt_number": 8
    },
    {
     "cell_type": "code",
     "collapsed": false,
     "input": [
      "imp.reload(orodja)"
     ],
     "language": "python",
     "metadata": {},
     "outputs": [
      {
       "metadata": {},
       "output_type": "pyout",
       "prompt_number": 9,
       "text": [
        "<module 'orodja' from 'j:\\\\Work Janko\\\\Pedagosko delo\\\\_ predavanja\\\\Programiranje in numeri\u010dne metode\\\\src\\\\orodja.py'>"
       ]
      }
     ],
     "prompt_number": 9
    },
    {
     "cell_type": "code",
     "collapsed": false,
     "input": [
      "print(a)\n",
      "orodja.zamenjaj_stolpca(a, 1, 0)\n",
      "print(a)"
     ],
     "language": "python",
     "metadata": {},
     "outputs": [
      {
       "output_type": "stream",
       "stream": "stdout",
       "text": [
        "[[4 5 3]\n",
        " [1 2 0]\n",
        " [7 8 6]]\n",
        "[[5 4 3]\n",
        " [2 1 0]\n",
        " [8 7 6]]\n"
       ]
      }
     ],
     "prompt_number": 10
    },
    {
     "cell_type": "heading",
     "level": 2,
     "metadata": {},
     "source": [
      "Testiranje pravilnosti kode"
     ]
    },
    {
     "cell_type": "markdown",
     "metadata": {},
     "source": [
      "Standardno se v Pythonu uporabljajo t.i. ``unittest``:\n",
      "\n",
      "https://docs.python.org/3.4/library/unittest.html,\n",
      "\n",
      "ki pa je osredoto\u010den bolj na splo\u0161no programiranje, ne toliko na praverjanje numeri\u010dno orientirane kode. Iz tega razloga si bomo tukaj pogledali kako je testiranje podprto znotraj ``numpy.testing`` modula:\n",
      "\n",
      "http://docs.scipy.org/doc/numpy/reference/routines.testing.html#.\n",
      "\n",
      "Z tem namenom gremo v pyCharm in bomo tam ustvarili ``test_orodja.py``:\n",
      "\n",
      "1. potrebovali bomo \n",
      "```python\n",
      "    import orodja\n",
      "    import numpy as np\n",
      "    import numpy.testing as npt\n",
      "```\n",
      "\n",
      "2. nato definiramo tri matrike (npr. dimenzije (3, 3)): ``zacetna``, ``zamenjana_0_1_stolpca``, ``zamenjana_0_1_vrstica``\n",
      "\n",
      "3. za zamenjavo stolpcev definiramo funkcijo ``test_stolpec``, ki kli\u010de ``orodja.zamenjaj_stolpca``. Rezultat predhodnega klica s pomo\u010djo ``np.testing.assert_allclose`` preverimo glede na pri\u010dakovano vrednost  ``zamenjana_0_1_stolpca``.\n",
      "\n",
      "4. ponovimo to\u010dko 3 \u0161e za zamenjavo vrstic\n",
      "\n",
      "5. naredimo privzeti izhod\n",
      "```python\n",
      "    if __name__ == '__main__':\n",
      "        npt.run_module_suite()\n",
      "```"
     ]
    },
    {
     "cell_type": "heading",
     "level": 1,
     "metadata": {},
     "source": [
      "Objektno programiranje"
     ]
    },
    {
     "cell_type": "markdown",
     "metadata": {},
     "source": [
      "Python omogo\u010da tri tipe programiranja (https://docs.python.org/3/howto/functional.html):\n",
      "\n",
      "1. proceduralno: seznam instrukcij kaj je treba izvesti (npr.: ``C, Pascal``)\n",
      "2. funkcijsko: re\u0161evanje problema z uporabo funkcij (npr.: ``Mathematica, C++, Php`` )\n",
      "3. objektno: program bazira na objektih, ki imajo lastnosti, funkcije,... (npr.: ``C++, Java``)\n"
     ]
    },
    {
     "cell_type": "markdown",
     "metadata": {},
     "source": [
      "Doslej smo spoznali proceduralno in funkcijsko programiranje. Sledi objektno orientirano programiranje, ki ponavadi temelji na **razredih** (*class*), objekti so pa **instance** (*instance*) razreda. Tukaj si bomo pogledali zgolj nekatere osnove objektnega programiranja (da boste la\u017eje razumeli drugo kodo in jo prirejali).\n",
      "\n",
      "https://docs.python.org/3.4/tutorial/classes.html"
     ]
    },
    {
     "cell_type": "markdown",
     "metadata": {},
     "source": [
      "Poglejmo si preprosti primer:"
     ]
    },
    {
     "cell_type": "code",
     "collapsed": false,
     "input": [
      "# proceduralno\n",
      "a = 5\n",
      "b = 5 * a\n",
      "\n",
      "# funkcijsko\n",
      "def zmnozi(a, b):\n",
      "    return a*b\n",
      "\n",
      "# objektno\n",
      "class Studenti:\n",
      "    def __init__(self, st_studentov = 1):\n",
      "        self.st_studentov = st_studentov\n",
      "        #print('kar nekaj')"
     ],
     "language": "python",
     "metadata": {},
     "outputs": [],
     "prompt_number": 9
    },
    {
     "cell_type": "code",
     "collapsed": false,
     "input": [],
     "language": "python",
     "metadata": {},
     "outputs": []
    },
    {
     "cell_type": "code",
     "collapsed": false,
     "input": [
      "tile_tukaj = Studenti(10)\n",
      "tile_tukaj.st_studentov"
     ],
     "language": "python",
     "metadata": {},
     "outputs": [
      {
       "metadata": {},
       "output_type": "pyout",
       "prompt_number": 13,
       "text": [
        "10"
       ]
      }
     ],
     "prompt_number": 13
    },
    {
     "cell_type": "code",
     "collapsed": false,
     "input": [
      "class Pravokotnik:\n",
      "    \"\"\"Razred za objekt pravokotnik\"\"\"\n",
      "\n",
      "    def __init__(self, sirina=1, visina=1): # to je konstruktor objekta. Se izvede, \u010de kli\u010demo Pravokotni(sirina=1, visina=4)\n",
      "        self.sirina = sirina \n",
      "        self.visina = visina # visina je atribut objekta\n",
      "        \n",
      "    def povrsina(self):\n",
      "        return self.sirina * self.visina\n",
      "    \n",
      "    def set_sirina(self, sirina=1):\n",
      "        self.sirina = sirina"
     ],
     "language": "python",
     "metadata": {},
     "outputs": [],
     "prompt_number": 22
    },
    {
     "cell_type": "code",
     "collapsed": false,
     "input": [
      "p1 = Pravokotnik(visina=10)\n",
      "print(p1.povrsina())\n",
      "p1.set_sirina(sirina=30)\n",
      "p1.povrsina()"
     ],
     "language": "python",
     "metadata": {},
     "outputs": [
      {
       "output_type": "stream",
       "stream": "stdout",
       "text": [
        "10\n"
       ]
      },
      {
       "metadata": {},
       "output_type": "pyout",
       "prompt_number": 23,
       "text": [
        "300"
       ]
      }
     ],
     "prompt_number": 23
    },
    {
     "cell_type": "code",
     "collapsed": false,
     "input": [],
     "language": "python",
     "metadata": {},
     "outputs": []
    },
    {
     "cell_type": "markdown",
     "metadata": {},
     "source": [
      "Bodite pozorni za zamik, ki definira celotni blok, ki pripada razredu. Spremenljivka ``self`` je referenca na sam razred (nekateri drugi programski jeziki tukaj uporabijo npr. ``this``)."
     ]
    },
    {
     "cell_type": "markdown",
     "metadata": {},
     "source": [
      "Ustvarimo sedaj instanco objekta ``Pravokotnik``:"
     ]
    },
    {
     "cell_type": "code",
     "collapsed": false,
     "input": [
      "pravokotnik = Pravokotnik(sirina=5)"
     ],
     "language": "python",
     "metadata": {},
     "outputs": [],
     "prompt_number": 14
    },
    {
     "cell_type": "markdown",
     "metadata": {},
     "source": [
      "Vsi atributi so shranjeni v slovarju ``__dict__``:"
     ]
    },
    {
     "cell_type": "code",
     "collapsed": false,
     "input": [
      "pravokotnik.__dict__"
     ],
     "language": "python",
     "metadata": {},
     "outputs": [
      {
       "metadata": {},
       "output_type": "pyout",
       "prompt_number": 15,
       "text": [
        "{'sirina': 5, 'visina': 1}"
       ]
      }
     ],
     "prompt_number": 15
    },
    {
     "cell_type": "markdown",
     "metadata": {},
     "source": [
      "Do atributov praviloma ne dostopamo preko ``__dict__``, ampak takole:"
     ]
    },
    {
     "cell_type": "code",
     "collapsed": false,
     "input": [
      "pravokotnik.sirina"
     ],
     "language": "python",
     "metadata": {},
     "outputs": [
      {
       "metadata": {},
       "output_type": "pyout",
       "prompt_number": 16,
       "text": [
        "5"
       ]
      }
     ],
     "prompt_number": 16
    },
    {
     "cell_type": "markdown",
     "metadata": {},
     "source": [
      "Ali objekt ima dolo\u010deni atribut preverimo z ukazom ``hasattr``:"
     ]
    },
    {
     "cell_type": "code",
     "collapsed": false,
     "input": [
      "hasattr(p1, 'sirina')"
     ],
     "language": "python",
     "metadata": {},
     "outputs": [
      {
       "metadata": {},
       "output_type": "pyout",
       "prompt_number": 24,
       "text": [
        "True"
       ]
      }
     ],
     "prompt_number": 24
    },
    {
     "cell_type": "markdown",
     "metadata": {},
     "source": [
      "Pokli\u010dimo sedaj \u0161e metodo (funkcije v razredih dobijo ime metoda:)) objekta (seveda bi lahko imela tudi parametre):"
     ]
    },
    {
     "cell_type": "code",
     "collapsed": false,
     "input": [
      "pravokotnik.povrsina() #poskusite poklkcati brez oklepajev ()"
     ],
     "language": "python",
     "metadata": {},
     "outputs": [
      {
       "metadata": {},
       "output_type": "pyout",
       "prompt_number": 18,
       "text": [
        "5"
       ]
      }
     ],
     "prompt_number": 18
    },
    {
     "cell_type": "code",
     "collapsed": false,
     "input": [
      "pravokotnik.set_sirina(sirina=100)"
     ],
     "language": "python",
     "metadata": {},
     "outputs": [],
     "prompt_number": 19
    },
    {
     "cell_type": "code",
     "collapsed": false,
     "input": [
      "pravokotnik.povrsina()"
     ],
     "language": "python",
     "metadata": {},
     "outputs": [
      {
       "metadata": {},
       "output_type": "pyout",
       "prompt_number": 20,
       "text": [
        "100"
       ]
      }
     ],
     "prompt_number": 20
    },
    {
     "cell_type": "code",
     "collapsed": false,
     "input": [
      "pravokotnik.visina"
     ],
     "language": "python",
     "metadata": {},
     "outputs": [
      {
       "metadata": {},
       "output_type": "pyout",
       "prompt_number": 21,
       "text": [
        "1"
       ]
      }
     ],
     "prompt_number": 21
    },
    {
     "cell_type": "heading",
     "level": 4,
     "metadata": {},
     "source": [
      "Dedovanje"
     ]
    },
    {
     "cell_type": "markdown",
     "metadata": {},
     "source": [
      "Razredi se lahko dedujejo. Preprosti primer:"
     ]
    },
    {
     "cell_type": "code",
     "collapsed": false,
     "input": [
      "class Kvadrat(Pravokotnik):\n",
      "    \"Razred kvadrat\"\n",
      "    \n",
      "    def __init__(self, sirina=1):\n",
      "        super().__init__(sirina=sirina, visina=sirina)"
     ],
     "language": "python",
     "metadata": {},
     "outputs": [],
     "prompt_number": 30
    },
    {
     "cell_type": "code",
     "collapsed": false,
     "input": [
      "kvad = Kvadrat(sirina=10)\n",
      "kvad.povrsina()"
     ],
     "language": "python",
     "metadata": {},
     "outputs": [
      {
       "metadata": {},
       "output_type": "pyout",
       "prompt_number": 33,
       "text": [
        "100"
       ]
      }
     ],
     "prompt_number": 33
    },
    {
     "cell_type": "code",
     "collapsed": false,
     "input": [
      "class Kvadrat(Pravokotnik):\n",
      "    \"Razred kvadrat\"\n",
      "    \n",
      "    def __init__(self, sirina=1):\n",
      "        super().__init__(sirina=sirina, visina=sirina)\n",
      "        \n",
      "    def set_sirina(self, sirina):\n",
      "        self.sirina = sirina\n",
      "        self.visina = sirina"
     ],
     "language": "python",
     "metadata": {},
     "outputs": [],
     "prompt_number": 22
    },
    {
     "cell_type": "code",
     "collapsed": false,
     "input": [
      "kvadrat = Kvadrat(sirina=4)"
     ],
     "language": "python",
     "metadata": {},
     "outputs": [],
     "prompt_number": 23
    },
    {
     "cell_type": "code",
     "collapsed": false,
     "input": [
      "kvadrat.povrsina()"
     ],
     "language": "python",
     "metadata": {},
     "outputs": [
      {
       "metadata": {},
       "output_type": "pyout",
       "prompt_number": 24,
       "text": [
        "16"
       ]
      }
     ],
     "prompt_number": 24
    },
    {
     "cell_type": "code",
     "collapsed": false,
     "input": [
      "kvadrat.set_sirina(5)"
     ],
     "language": "python",
     "metadata": {},
     "outputs": [],
     "prompt_number": 25
    },
    {
     "cell_type": "code",
     "collapsed": false,
     "input": [
      "kvadrat.povrsina() # morali bi popraviti tudi to funkcijo"
     ],
     "language": "python",
     "metadata": {},
     "outputs": [
      {
       "metadata": {},
       "output_type": "pyout",
       "prompt_number": 26,
       "text": [
        "25"
       ]
      }
     ],
     "prompt_number": 26
    },
    {
     "cell_type": "markdown",
     "metadata": {},
     "source": [
      "Za vajo si sedaj poglejmo kako ra\u0161irimo en vgrajeni razred (npr. ``list``):"
     ]
    },
    {
     "cell_type": "code",
     "collapsed": false,
     "input": [
      "import numpy as np\n",
      "\n",
      "class Seznam(list):\n",
      "        \n",
      "    def narisi(self):\n",
      "        plt.plot(self, 'r.', label='Dolgo besedilo')\n",
      "        plt.legend()\n",
      "        plt.ylim(-5, 5)"
     ],
     "language": "python",
     "metadata": {},
     "outputs": [],
     "prompt_number": 58
    },
    {
     "cell_type": "code",
     "collapsed": false,
     "input": [
      "list()"
     ],
     "language": "python",
     "metadata": {},
     "outputs": [
      {
       "metadata": {},
       "output_type": "pyout",
       "prompt_number": 59,
       "text": [
        "[]"
       ]
      }
     ],
     "prompt_number": 59
    },
    {
     "cell_type": "code",
     "collapsed": false,
     "input": [
      "a = list([1,2,3])\n",
      "a"
     ],
     "language": "python",
     "metadata": {},
     "outputs": [
      {
       "metadata": {},
       "output_type": "pyout",
       "prompt_number": 60,
       "text": [
        "[1, 2, 3]"
       ]
      }
     ],
     "prompt_number": 60
    },
    {
     "cell_type": "code",
     "collapsed": false,
     "input": [
      "a.append(1)\n",
      "plt.plot(a);"
     ],
     "language": "python",
     "metadata": {},
     "outputs": [
      {
       "metadata": {},
       "output_type": "display_data",
       "png": "[encoded data removed]",
       "text": [
        "<matplotlib.figure.Figure at 0x7caa1d0>"
       ]
      }
     ],
     "prompt_number": 61
    },
    {
     "cell_type": "code",
     "collapsed": false,
     "input": [
      "moj_seznam = Seznam([1, 2, 3])"
     ],
     "language": "python",
     "metadata": {},
     "outputs": [],
     "prompt_number": 62
    },
    {
     "cell_type": "code",
     "collapsed": false,
     "input": [
      "moj_seznam"
     ],
     "language": "python",
     "metadata": {},
     "outputs": [
      {
       "metadata": {},
       "output_type": "pyout",
       "prompt_number": 63,
       "text": [
        "[1, 2, 3]"
       ]
      }
     ],
     "prompt_number": 63
    },
    {
     "cell_type": "code",
     "collapsed": false,
     "input": [
      "moj_seznam.append(20)"
     ],
     "language": "python",
     "metadata": {},
     "outputs": [],
     "prompt_number": 64
    },
    {
     "cell_type": "code",
     "collapsed": false,
     "input": [
      "moj_seznam"
     ],
     "language": "python",
     "metadata": {},
     "outputs": [
      {
       "metadata": {},
       "output_type": "pyout",
       "prompt_number": 65,
       "text": [
        "[1, 2, 3, 20]"
       ]
      }
     ],
     "prompt_number": 65
    },
    {
     "cell_type": "code",
     "collapsed": false,
     "input": [
      "moj_seznam.narisi()"
     ],
     "language": "python",
     "metadata": {},
     "outputs": [
      {
       "metadata": {},
       "output_type": "display_data",
       "png": "[encoded data removed]",
       "text": [
        "<matplotlib.figure.Figure at 0x7c74550>"
       ]
      }
     ],
     "prompt_number": 66
    },
    {
     "cell_type": "heading",
     "level": 1,
     "metadata": {},
     "source": [
      "Uporabni\u0161ki vmesnik"
     ]
    },
    {
     "cell_type": "markdown",
     "metadata": {},
     "source": [
      "Za programiranje uporbni\u0161kega vmesnika obstaja veliko razli\u010dnih modulov. \n",
      "\n",
      "Tukaj si bomo pogledali ``PySide`` (temelji na ``Qt`` http://qt-project.org/), ki ima licenco LGPL in ga je mogo\u010de brezpla\u010dno komercialno uporabljati:\n",
      "\n",
      "http://qt-project.org/wiki/PySide\n",
      "\n",
      "Pdf knjige o PySide: **Venkateshwaran Loganathan: PySide GUI Application Development**: http://goo.gl/qn5jOq)\n",
      "\n",
      "``PySide`` je sicer zelo podoben modulu ``pyQt``;  licenca slednjega ne omogo\u010da brezpla\u010dne komercialne uporabe. Za programiranje preprostih multi-touchuporabni\u0161kih vmesnikov (tablice in podobno) sicer zelo obetaven ``Kivy`` (http://kivy.org/)."
     ]
    },
    {
     "cell_type": "markdown",
     "metadata": {},
     "source": [
      "Velja omeniti, da uporabni\u0161ki vmesnik lahko *ri\u0161emo* (npr. s ``QtDesigner-jem``, glejte npr.: https://www.youtube.com/watch?v=GLqrzLIIW2E), tukaj bomo uporabni\u0161ki vmesnik *programirali*."
     ]
    },
    {
     "cell_type": "markdown",
     "metadata": {},
     "source": [
      "Za\u010dnimo s primerom"
     ]
    },
    {
     "cell_type": "code",
     "collapsed": false,
     "input": [
      "import sys\n",
      "from PySide import QtCore # za interakcijo \n",
      "from PySide import QtGui  # grafi\u010dni objekti\n",
      "#from PyQt4 import QtCore # za interakcijo \n",
      "#from PyQt4 import QtGui  # grafi\u010dni objekti"
     ],
     "language": "python",
     "metadata": {},
     "outputs": [],
     "prompt_number": 36
    },
    {
     "cell_type": "markdown",
     "metadata": {},
     "source": [
      "Ustvarimo najprej instanco objekta ``QApplication`` (vsak UV mora imeti eno tak\u0161no instanco)"
     ]
    },
    {
     "cell_type": "code",
     "collapsed": false,
     "input": [
      "app = QtGui.QApplication(sys.argv)"
     ],
     "language": "python",
     "metadata": {},
     "outputs": [],
     "prompt_number": 37
    },
    {
     "cell_type": "markdown",
     "metadata": {},
     "source": [
      "Dodajmo in prika\u017eimo preposti napis:"
     ]
    },
    {
     "cell_type": "code",
     "collapsed": false,
     "input": [
      "label = QtGui.QLabel(\"Dobrodo\u0161li\")\n",
      "label.show()"
     ],
     "language": "python",
     "metadata": {},
     "outputs": []
    },
    {
     "cell_type": "markdown",
     "metadata": {},
     "source": [
      "Vstopimo v aplikacijo"
     ]
    },
    {
     "cell_type": "code",
     "collapsed": false,
     "input": [
      "# Enter Qt application main loop\n",
      "app.exec_()"
     ],
     "language": "python",
     "metadata": {},
     "outputs": []
    },
    {
     "cell_type": "markdown",
     "metadata": {},
     "source": [
      "Sedaj gremo v pyCharm, ker tukaj ve\u010d nima smisla veliko delati na UV.\n",
      "\n",
      "Kaj bomo naredili:\n",
      "* ``MainWindow()`` razred, ki bo potomec ``QMainWindow``\n",
      "\n",
      "    http://srinikom.github.io/pyside-docs/PySide/QtGui/QMainWindow.html\n",
      "    <img src=\"http://srinikom.github.io/pyside-docs/_images/mainwindowlayout.png\">\n",
      "    \n",
      "* ``QStatusBar()``\n",
      "* ``QStatusBar()`` in ``QProgressBar()``\n",
      "* ``QCentralWidget()``\n",
      "* Ekstra: ``matplotlib``\n",
      "* Ekstra: **events** (dogodki, npr mouseDoubleClick, keyPress)"
     ]
    },
    {
     "cell_type": "heading",
     "level": 1,
     "metadata": {},
     "source": [
      "Do naslednjih vaj pre\u0161tudirajte slede\u010de:"
     ]
    },
    {
     "cell_type": "markdown",
     "metadata": {},
     "source": [
      "1. V pyCharm-u pripravite modul, ki bo imel dve funkciji:\n",
      "    * za mno\u017eenje matrike in vektorja\n",
      "    * za mno\u017eenje dveh matrik\n",
      "* Pripravite primere uporabe, \u010de se modul izvaja neposredno.\n",
      "* Funkcijam iz zgornje to\u010dke definirajte ``docstring``\n",
      "* Z uporabo ``Inspect Code`` po\u010distite kodo\n",
      "* Za modul zgoraj pripravite skripto za testiranje (uporabite ``numpy.testing``)\n",
      "* Pojasnite na primeru *proceduralno* programiranje\n",
      "* Pojasnite na primeru *funkcijsko* programiranje\n",
      "* Definirajte preprosti objekt, naredite nekaj funkcij temu objektu.\n",
      "* Definirajte objekt, ki ima argument ``data`` tipa ``np.array``. Pri kreiranju instance na bo potrebno podati dol\u017eino seznama.\n",
      "* Objektu iz prej\u0161nje to\u010dke naj pri inicializacii priredi argumentu ``data`` priredi naklju\u010dni seznam ustrezne dol\u017eine (glejte funkcijo ``np.random.rand``).\n",
      "* Objektu iz prej\u0161nje to\u010dke dodajte metodo za izris.\n",
      "* Objektu iz prej\u0161nje to\u010dke dodajte metodo za zapis vrednosti v datoteko s pomo\u010djo funkcije ``np.savetxt``.\n",
      "* Isto kakor prej\u0161nja to\u010dka, vendar naj se podatki shranijo v binarni obliki s pomo\u010djo modula ``pickle``\n",
      "* Dodajte metodo za branje iz datoteke (s pomo\u010djo ``np.genfromtxt``).\n",
      "* V ``uporabniski_vmesnik_simple.py`` inicializijski metodi ``__init__`` zakomentirajte vse klice na metode ``self.init...`` razen na metodo: ``self.init_status_bar()``. Po\u017eenite program v navadnem na\u010dinu. Nastavite *break* to\u010dko na ``self.setGeometry(50, 50, 600, 400)`` in po\u017eenite program v *debug* na\u010dinu.\n",
      "* Nadaljujte prej\u0161njo to\u010dko in poi\u0161\u010dite bli\u017enjico za pomikanje po vrsticah:\n",
      "    * s preskokom vrstice\n",
      "    * z vstopom v vrstico\n",
      "\n",
      "    Vstopite v ``init_status_bar(self)`` in se ustavite pri vrstici ``self.setStatusBar(self.status_bar)``. Odprite konzolo (*console*) in preko ukazne vrstice spremenite vrednost ``self.status_bar.showMessage()``.\n",
      "* Odkomentirajte prej (zgoraj) zakomentirane vrstice. Dodajte tretji gumb, ki naj program zapre.\n",
      "* Dodajte \u0161e kak\u0161en *widget* iz seznama: http://doc.qt.io/qt-5/gallery-windows.html \n"
     ]
    },
    {
     "cell_type": "heading",
     "level": 2,
     "metadata": {},
     "source": [
      "Ekstra"
     ]
    },
    {
     "cell_type": "markdown",
     "metadata": {},
     "source": [
      "Poglejte primer ``uporabniski_vmesnik.py`` in ga pre\u0161tudirajte. Nekaj to\u010dk za raziskovanje:\n",
      "1. Poglejte prepis dogodka ``mouseDoubleClickEvent`` in prepi\u0161ite podedovan dogodek ``keyPressEvent``, ki naj ob pritisku katere-koli tipke zapre program (\u010de se nahajate v TextEdit polju, potem seveda pritisk tipke izpi\u0161e vrednost te tipke).\n",
      "* Odkomentirajte prej (zgoraj) zakomentirane vrstice. Dodajte tretji gumb, ki naj program zapre.\n",
      "* Dodajte \u0161e kak\u0161en *widget* iz seznama: http://doc.qt.io/qt-5/gallery-windows.html \n",
      "* Preprogramirajte program, da se bo vedno izrisoval sinus, v vpisno polje ``function_text`` pa boste zapisali \u0161tevilo diskretnih to\u010dk (sedaj je to\u010dk 100).  Pove\u017eite polje z ustreznimi funkcijami.\n",
      "* Uredite lovljenje napak pri zgornji spremembi."
     ]
    },
    {
     "cell_type": "markdown",
     "metadata": {},
     "source": [
      "\u017delite ve\u010d? Glejte vire (npr. zgoraj navedeno knjigo) in primere. Veliko primerov je tukaj: http://qt-project.org/wiki/PySide_Example_Applications\n",
      "\n",
      "Kako hitro lahko naredimo svoj brskalnik, si poglejte v ``brskalnik.py``"
     ]
    }
   ],
   "metadata": {}
  }
 ]
}