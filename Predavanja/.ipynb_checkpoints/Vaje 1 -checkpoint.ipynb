{
 "metadata": {
  "name": "",
  "signature": "sha256:24fdbaa12d5dd7a16baceb185eb5c3a0c987cdc906d80d42e76e6053c8e1446f"
 },
 "nbformat": 3,
 "nbformat_minor": 0,
 "worksheets": [
  {
   "cells": [
    {
     "cell_type": "heading",
     "level": 1,
     "metadata": {},
     "source": [
      "Seznam nalog:"
     ]
    },
    {
     "cell_type": "markdown",
     "metadata": {},
     "source": [
      "1. Namestite *Anaconda*.\n",
      "2. Namestite *pyCharm Community Edition*.\n",
      "3. V poljubnem delovnem direktoriju za\u017eenite ipython notebook.\n",
      "4. Prika\u017eite uporabo stilov, uporabo poudarjenega, po\u0161evnega teksta, uporabo seznamov, ena\u010dbe...\n",
      "5. Definirajte razliko med stati\u010dnim in dinami\u010dnim definiranjem spremenljivk.\n",
      "6. Poi\u0161\u010dite pomo\u010d poljubega ukaza (znotraj Pythona in na uradni doma\u010di strani).\n",
      "7. Prika\u017eite uporabo *niza*, *celega \u0161tevila* in *\u0161tevila z uporabo plavajo\u010de vejice*.\n",
      "8. Prika\u017eite uporabo *terke* in njenih bistvenih lastnosti.\n",
      "9. Prika\u017eite uporabo *seznama* in njegovih bistvenih lastnosti.\n",
      "10. Komentirajte tipi\u010dne operacije nad seznami.\n",
      "11. Komentirajte uporabo *mno\u017eic* in tipi\u010dne uporabe.\n",
      "12. Prika\u017eite uporabo slovarjev.\n",
      "13. Katere aritmeti\u010dne operatorje poznamo v Pythonu? Prika\u017eite uporabo.\n",
      "14. Katere primerjalne operatorje poznamo v Pythonu? Prika\u017eite uporabo.\n",
      "15. Katere logi\u010dne operatorje poznamo v Pythonu? Prika\u017eite uporabo.\n",
      "16. Prika\u017eite uporabo ``if`` stavka.\n",
      "17. Kak\u0161na je razlika med ``if`` stavkov in ``if`` izrazom. Prika\u017eite!\n",
      "18. Prika\u017eite uporabo zanke ``while``.\n",
      "19. Prika\u017eite uporabo zanke ``for``.\n",
      "20. Prika\u017eite uporabo zanke ``for`` v povezavi s funkcijami ``range``, ``enumerate``, ``zip``     "
     ]
    },
    {
     "cell_type": "heading",
     "level": 2,
     "metadata": {},
     "source": [
      "1. Namestite *Anaconda*."
     ]
    },
    {
     "cell_type": "markdown",
     "metadata": {},
     "source": [
      "Anakonda name\u0161\u010dena!"
     ]
    },
    {
     "cell_type": "heading",
     "level": 2,
     "metadata": {},
     "source": [
      "2. Namestite *pyCharm Community Edition*."
     ]
    },
    {
     "cell_type": "markdown",
     "metadata": {},
     "source": [
      "pyCharm Community Edition name\u0161\u010den!"
     ]
    },
    {
     "cell_type": "heading",
     "level": 2,
     "metadata": {},
     "source": [
      "3. V poljubnem delovnem direktoriju za\u017eenite ipython notebook."
     ]
    },
    {
     "cell_type": "code",
     "collapsed": false,
     "input": [
      "#Ipython zagnan v C:\\Users\\aljaz\\Desktop\\pinm\\PiNM 2014-15!\n",
      "!dir"
     ],
     "language": "python",
     "metadata": {},
     "outputs": [
      {
       "output_type": "stream",
       "stream": "stdout",
       "text": [
        " Volume in drive C has no label.\n",
        " Volume Serial Number is 9041-C766\n",
        "\n",
        " Directory of C:\\Users\\aljaz\\Desktop\\pinm\\PiNM 2014-15\\Predavanja\n",
        "\n",
        "23.02.2015  14:29    <DIR>          .\n",
        "23.02.2015  14:29    <DIR>          ..\n",
        "23.02.2015  14:31    <DIR>          .ipynb_checkpoints\n",
        "23.02.2015  13:39    <DIR>          others\n",
        "27.02.2015  14:15            57.874 Predavanje 1 - Uvod v Python.ipynb\n",
        "23.02.2015  14:07               124 prvi_program.py\n",
        "27.02.2015  14:22            29.039 Uvod v python-priprava na vaje.ipynb\n",
        "               3 File(s)         87.037 bytes\n",
        "               4 Dir(s)  267.633.520.640 bytes free\n"
       ]
      }
     ],
     "prompt_number": 26
    },
    {
     "cell_type": "heading",
     "level": 2,
     "metadata": {},
     "source": [
      "4. Prika\u017eite uporabo stilov, uporabo poudarjenega, po\u0161evnega teksta, uporabo seznamov, ena\u010dbe..."
     ]
    },
    {
     "cell_type": "markdown",
     "metadata": {},
     "source": [
      "*po\u0161evno* - Po\u0161evni tekst znakovno ozna\u010dimo takole:\n"
     ]
    },
    {
     "cell_type": "raw",
     "metadata": {},
     "source": [
      "*po\u0161evno*"
     ]
    },
    {
     "cell_type": "markdown",
     "metadata": {},
     "source": [
      "**krepko**-Krepki tekst znakovno ozna\u010dimo takole:"
     ]
    },
    {
     "cell_type": "raw",
     "metadata": {},
     "source": [
      "**krepko**"
     ]
    },
    {
     "cell_type": "markdown",
     "metadata": {},
     "source": [
      "$a=\\sqrt(b^2+1)$ # ne\u0161to nee\u0107e raditi...."
     ]
    },
    {
     "cell_type": "code",
     "collapsed": false,
     "input": [
      "$a(t)=\\sqrt{\\frac{1}{1-r^3}}$"
     ],
     "language": "python",
     "metadata": {},
     "outputs": [
      {
       "ename": "SyntaxError",
       "evalue": "invalid syntax (<ipython-input-27-7ed27e50ed26>, line 1)",
       "output_type": "pyerr",
       "traceback": [
        "\u001b[1;36m  File \u001b[1;32m\"<ipython-input-27-7ed27e50ed26>\"\u001b[1;36m, line \u001b[1;32m1\u001b[0m\n\u001b[1;33m    $a(t)=\\sqrt{\\frac{1}{1-r^3}}$\u001b[0m\n\u001b[1;37m    ^\u001b[0m\n\u001b[1;31mSyntaxError\u001b[0m\u001b[1;31m:\u001b[0m invalid syntax\n"
       ]
      }
     ],
     "prompt_number": 27
    },
    {
     "cell_type": "code",
     "collapsed": false,
     "input": [
      "seznam = [1, 2, 3, 4, 5,]\n",
      "a = seznam[4]*seznam[2]\n",
      "c = seznam[-2]*seznam[4]\n",
      "seznam_obratno=seznam[:: -1]\n",
      "print seznam_obratno\n",
      "print (a)\n",
      "print (c)"
     ],
     "language": "python",
     "metadata": {},
     "outputs": [
      {
       "output_type": "stream",
       "stream": "stdout",
       "text": [
        "[5, 4, 3, 2, 1]\n",
        "15\n",
        "20\n"
       ]
      }
     ],
     "prompt_number": 28
    },
    {
     "cell_type": "heading",
     "level": 2,
     "metadata": {},
     "source": [
      "5. Definirajte razliko med stati\u010dnim in dinami\u010dnim definiranjem spremenljivk."
     ]
    },
    {
     "cell_type": "markdown",
     "metadata": {},
     "source": [
      "Stati\u010dno definirane spremenljivke nosijo vrednost, ki smo jim dodelili sozi vso kodo, dinami\u010dno definiranje spremenljivk pa pomeni, da lahko skozi kodo spremenljivki dodelimo drugo vrednost. Obvelja vrednost zadnjega vnosa."
     ]
    },
    {
     "cell_type": "heading",
     "level": 2,
     "metadata": {},
     "source": [
      "6. Poi\u0161\u010dite pomo\u010d poljubega ukaza (znotraj Pythona in na uradni doma\u010di strani)."
     ]
    },
    {
     "cell_type": "code",
     "collapsed": false,
     "input": [],
     "language": "python",
     "metadata": {},
     "outputs": [],
     "prompt_number": 28
    },
    {
     "cell_type": "heading",
     "level": 2,
     "metadata": {},
     "source": [
      "7. Prika\u017eite uporabo *niza*, *celega \u0161tevila* in *\u0161tevila z uporabo plavajo\u010de vejice*."
     ]
    },
    {
     "cell_type": "code",
     "collapsed": false,
     "input": [
      "#Uporaba niza\n",
      "\n",
      "niz1 = 'Programiranje'\n",
      "niz2 = ' in'\n",
      "niz3 = ' numericne'\n",
      "niz4 = ' metode'\n",
      "niz5 = niz1+niz2+niz3+niz4\n",
      "print (100*'-')\n",
      "print 'sestevek nizov:', niz5\n",
      "print (100*'-')\n",
      "print 'sestevek nizov, pisan z velikimi tiskanimi \u010drkami:', niz5.upper()\n",
      "print (100*'-')\n",
      "print 'niz1 pretvorjen v seznam crk:', list(niz1)\n",
      "print (100*'-')\n",
      "print 'seznam besed v niz5:', niz5.split()\n",
      "print (100*'-')\n",
      "print 'stevilo besed v seznamu_besed je enako', len(seznam_besed)\n",
      "print (100*'-')"
     ],
     "language": "python",
     "metadata": {},
     "outputs": [
      {
       "output_type": "stream",
       "stream": "stdout",
       "text": [
        "----------------------------------------------------------------------------------------------------\n",
        "sestevek nizov: Programiranje in numericne metode\n",
        "----------------------------------------------------------------------------------------------------\n",
        "sestevek nizov, pisan z velikimi tiskanimi \u010drkami: PROGRAMIRANJE IN NUMERICNE METODE\n",
        "----------------------------------------------------------------------------------------------------\n",
        "niz1 pretvorjen v seznam crk: ['P', 'r', 'o', 'g', 'r', 'a', 'm', 'i', 'r', 'a', 'n', 'j', 'e']\n",
        "----------------------------------------------------------------------------------------------------\n",
        "seznam besed v niz5: ['Programiranje', 'in', 'numericne', 'metode']\n",
        "----------------------------------------------------------------------------------------------------\n",
        "stevilo besed v seznamu_besed je enako"
       ]
      },
      {
       "ename": "NameError",
       "evalue": "name 'seznam_besed' is not defined",
       "output_type": "pyerr",
       "traceback": [
        "\u001b[1;31m---------------------------------------------------------------------------\u001b[0m\n\u001b[1;31mNameError\u001b[0m                                 Traceback (most recent call last)",
        "\u001b[1;32m<ipython-input-29-531aa0f09a59>\u001b[0m in \u001b[0;36m<module>\u001b[1;34m()\u001b[0m\n\u001b[0;32m     15\u001b[0m \u001b[1;32mprint\u001b[0m \u001b[1;34m'seznam besed v niz5:'\u001b[0m\u001b[1;33m,\u001b[0m \u001b[0mniz5\u001b[0m\u001b[1;33m.\u001b[0m\u001b[0msplit\u001b[0m\u001b[1;33m(\u001b[0m\u001b[1;33m)\u001b[0m\u001b[1;33m\u001b[0m\u001b[0m\n\u001b[0;32m     16\u001b[0m \u001b[1;32mprint\u001b[0m \u001b[1;33m(\u001b[0m\u001b[1;36m100\u001b[0m\u001b[1;33m*\u001b[0m\u001b[1;34m'-'\u001b[0m\u001b[1;33m)\u001b[0m\u001b[1;33m\u001b[0m\u001b[0m\n\u001b[1;32m---> 17\u001b[1;33m \u001b[1;32mprint\u001b[0m \u001b[1;34m'stevilo besed v seznamu_besed je enako'\u001b[0m\u001b[1;33m,\u001b[0m \u001b[0mlen\u001b[0m\u001b[1;33m(\u001b[0m\u001b[0mseznam_besed\u001b[0m\u001b[1;33m)\u001b[0m\u001b[1;33m\u001b[0m\u001b[0m\n\u001b[0m\u001b[0;32m     18\u001b[0m \u001b[1;32mprint\u001b[0m \u001b[1;33m(\u001b[0m\u001b[1;36m100\u001b[0m\u001b[1;33m*\u001b[0m\u001b[1;34m'-'\u001b[0m\u001b[1;33m)\u001b[0m\u001b[1;33m\u001b[0m\u001b[0m\n",
        "\u001b[1;31mNameError\u001b[0m: name 'seznam_besed' is not defined"
       ]
      }
     ],
     "prompt_number": 29
    },
    {
     "cell_type": "code",
     "collapsed": false,
     "input": [
      "#celo \u0161tevilo in \u0161tevilo s plavajo\u010do vejico:\n",
      "\n",
      "a = 5\n",
      "b = 2\n",
      "c = a/b\n",
      "print 're\u0161itev ena\u010dbe z celo\u0161tevilskim deljenjem (intiger)', (c)\n",
      "a = 5.\n",
      "b = 2.\n",
      "c = a/b\n",
      "print 're\u0161itev ena\u010dbe z deljenjem s plavajo\u010do vejico(float)', (c)"
     ],
     "language": "python",
     "metadata": {},
     "outputs": [
      {
       "output_type": "stream",
       "stream": "stdout",
       "text": [
        " re\u0161itev ena\u010dbe z celo\u0161tevilskim deljenjem (intiger) 2\n",
        "re\u0161itev ena\u010dbe z deljenjem s plavajo\u010do vejico(float) 2.5\n"
       ]
      }
     ],
     "prompt_number": 30
    },
    {
     "cell_type": "heading",
     "level": 2,
     "metadata": {},
     "source": [
      "8. Prika\u017eite uporabo *terke* in njenih bistvenih lastnosti."
     ]
    },
    {
     "cell_type": "markdown",
     "metadata": {},
     "source": []
    },
    {
     "cell_type": "code",
     "collapsed": false,
     "input": [
      "#terka ali tuple\n",
      "\n",
      "terka = 54321, 12345, 22222,\n",
      "print terka[0]+terka[1]+terka[2]\n",
      "print terka\n",
      "terka[2] = 00000\n",
      "print 'komponent terke ne moremo spreminjati!!!', terka"
     ],
     "language": "python",
     "metadata": {},
     "outputs": [
      {
       "output_type": "stream",
       "stream": "stdout",
       "text": [
        "88888\n",
        "(54321, 12345, 22222)\n"
       ]
      },
      {
       "ename": "TypeError",
       "evalue": "'tuple' object does not support item assignment",
       "output_type": "pyerr",
       "traceback": [
        "\u001b[1;31m---------------------------------------------------------------------------\u001b[0m\n\u001b[1;31mTypeError\u001b[0m                                 Traceback (most recent call last)",
        "\u001b[1;32m<ipython-input-31-17953e00ad47>\u001b[0m in \u001b[0;36m<module>\u001b[1;34m()\u001b[0m\n\u001b[0;32m      4\u001b[0m \u001b[1;32mprint\u001b[0m \u001b[0mterka\u001b[0m\u001b[1;33m[\u001b[0m\u001b[1;36m0\u001b[0m\u001b[1;33m]\u001b[0m\u001b[1;33m+\u001b[0m\u001b[0mterka\u001b[0m\u001b[1;33m[\u001b[0m\u001b[1;36m1\u001b[0m\u001b[1;33m]\u001b[0m\u001b[1;33m+\u001b[0m\u001b[0mterka\u001b[0m\u001b[1;33m[\u001b[0m\u001b[1;36m2\u001b[0m\u001b[1;33m]\u001b[0m\u001b[1;33m\u001b[0m\u001b[0m\n\u001b[0;32m      5\u001b[0m \u001b[1;32mprint\u001b[0m \u001b[0mterka\u001b[0m\u001b[1;33m\u001b[0m\u001b[0m\n\u001b[1;32m----> 6\u001b[1;33m \u001b[0mterka\u001b[0m\u001b[1;33m[\u001b[0m\u001b[1;36m2\u001b[0m\u001b[1;33m]\u001b[0m \u001b[1;33m=\u001b[0m \u001b[1;36m00000\u001b[0m\u001b[1;33m\u001b[0m\u001b[0m\n\u001b[0m\u001b[0;32m      7\u001b[0m \u001b[1;32mprint\u001b[0m \u001b[1;34m'komponent terke ne moremo spreminjati!!!'\u001b[0m\u001b[1;33m,\u001b[0m \u001b[0mterka\u001b[0m\u001b[1;33m\u001b[0m\u001b[0m\n",
        "\u001b[1;31mTypeError\u001b[0m: 'tuple' object does not support item assignment"
       ]
      }
     ],
     "prompt_number": 31
    },
    {
     "cell_type": "code",
     "collapsed": false,
     "input": [
      "def funkcija(kaj_sem_delal):\n",
      "    return 'vzlet', kaj_sem_delal*2 \n"
     ],
     "language": "python",
     "metadata": {},
     "outputs": [],
     "prompt_number": 32
    },
    {
     "cell_type": "heading",
     "level": 2,
     "metadata": {},
     "source": [
      "9. Prika\u017eite uporabo *seznama* in njegovih bistvenih lastnosti."
     ]
    },
    {
     "cell_type": "code",
     "collapsed": false,
     "input": [
      "seznam = [1, 2, 3, 4]\n"
     ],
     "language": "python",
     "metadata": {},
     "outputs": [],
     "prompt_number": 33
    },
    {
     "cell_type": "code",
     "collapsed": false,
     "input": [
      "#vsebina seznama se lahko spreminja\n",
      "seznam[2] =5\n",
      "seznam"
     ],
     "language": "python",
     "metadata": {},
     "outputs": [
      {
       "metadata": {},
       "output_type": "pyout",
       "prompt_number": 34,
       "text": [
        "[1, 2, 5, 4]"
       ]
      }
     ],
     "prompt_number": 34
    },
    {
     "cell_type": "heading",
     "level": 2,
     "metadata": {},
     "source": [
      "10. Komentirajte tipi\u010dne operacije nad seznami."
     ]
    },
    {
     "cell_type": "code",
     "collapsed": false,
     "input": [
      "#dodajanje \n",
      "seznam.append('JS')\n",
      "seznam"
     ],
     "language": "python",
     "metadata": {},
     "outputs": [
      {
       "metadata": {},
       "output_type": "pyout",
       "prompt_number": 35,
       "text": [
        "[1, 2, 5, 4, 'JS']"
       ]
      }
     ],
     "prompt_number": 35
    },
    {
     "cell_type": "code",
     "collapsed": false,
     "input": [
      "#dodajanje na dolo\u010deno mesto\n",
      "seznam.insert(2, 'plus 3 je')\n",
      "seznam"
     ],
     "language": "python",
     "metadata": {},
     "outputs": [
      {
       "metadata": {},
       "output_type": "pyout",
       "prompt_number": 36,
       "text": [
        "[1, 2, 'plus 3 je', 5, 4, 'JS']"
       ]
      }
     ],
     "prompt_number": 36
    },
    {
     "cell_type": "code",
     "collapsed": false,
     "input": [
      "#izlo\u010ditev 4. komponente iz seznama\n",
      "seznam.pop(4)\n",
      "seznam"
     ],
     "language": "python",
     "metadata": {},
     "outputs": [
      {
       "metadata": {},
       "output_type": "pyout",
       "prompt_number": 37,
       "text": [
        "[1, 2, 'plus 3 je', 5, 'JS']"
       ]
      }
     ],
     "prompt_number": 37
    },
    {
     "cell_type": "code",
     "collapsed": false,
     "input": [
      "# kolikokrat se petica v seznamu ponovi\n",
      "seznam.count(5)"
     ],
     "language": "python",
     "metadata": {},
     "outputs": [
      {
       "metadata": {},
       "output_type": "pyout",
       "prompt_number": 38,
       "text": [
        "1"
       ]
      }
     ],
     "prompt_number": 38
    },
    {
     "cell_type": "heading",
     "level": 2,
     "metadata": {},
     "source": [
      "11. Komentirajte uporabo *mno\u017eic* in tipi\u010dne uporabe."
     ]
    },
    {
     "cell_type": "code",
     "collapsed": false,
     "input": [
      "# ne dovoljujejo podvojenih vrednosti\n",
      "A = {1, 2, 3, 4, 5, 5, 5}\n",
      "A"
     ],
     "language": "python",
     "metadata": {},
     "outputs": [
      {
       "metadata": {},
       "output_type": "pyout",
       "prompt_number": 39,
       "text": [
        "{1, 2, 3, 4, 5}"
       ]
      }
     ],
     "prompt_number": 39
    },
    {
     "cell_type": "code",
     "collapsed": false,
     "input": [
      "#sezname spremenimo v mno\u017eice in se znebimo dvojnih vrednosti\n",
      "seznam = [9, 8, 7, 6, 5, 4, 3, 3, 3, 3]\n",
      "B = set(seznam)\n",
      "B"
     ],
     "language": "python",
     "metadata": {},
     "outputs": [
      {
       "metadata": {},
       "output_type": "pyout",
       "prompt_number": 40,
       "text": [
        "{3, 4, 5, 6, 7, 8, 9}"
       ]
      }
     ],
     "prompt_number": 40
    },
    {
     "cell_type": "code",
     "collapsed": false,
     "input": [
      "#operacije\n",
      "print A-B #A brez B\n",
      "print A|B # A in B skupaj\n",
      "print A&B # Skupno A in B\n",
      "print A^B # Kar ni skupnega"
     ],
     "language": "python",
     "metadata": {},
     "outputs": [
      {
       "output_type": "stream",
       "stream": "stdout",
       "text": [
        "set([1, 2])\n",
        "set([1, 2, 3, 4, 5, 6, 7, 8, 9])\n",
        "set([3, 4, 5])\n",
        "set([1, 2, 6, 7, 8, 9])\n"
       ]
      }
     ],
     "prompt_number": 41
    },
    {
     "cell_type": "heading",
     "level": 2,
     "metadata": {},
     "source": [
      "12. Prika\u017eite uporabo slovarjev."
     ]
    },
    {
     "cell_type": "code",
     "collapsed": false,
     "input": [
      "podatki = {'visina': 4, 'sirina': 2, 'dolzina': 3}"
     ],
     "language": "python",
     "metadata": {},
     "outputs": [],
     "prompt_number": 42
    },
    {
     "cell_type": "code",
     "collapsed": false,
     "input": [
      "print podatki"
     ],
     "language": "python",
     "metadata": {},
     "outputs": [
      {
       "output_type": "stream",
       "stream": "stdout",
       "text": [
        "{'dolzina': 3, 'sirina': 2, 'visina': 4}\n"
       ]
      }
     ],
     "prompt_number": 43
    },
    {
     "cell_type": "code",
     "collapsed": false,
     "input": [
      "podatki['sirina']#klicanje possmeznega parametra\n"
     ],
     "language": "python",
     "metadata": {},
     "outputs": [
      {
       "metadata": {},
       "output_type": "pyout",
       "prompt_number": 44,
       "text": [
        "2"
       ]
      }
     ],
     "prompt_number": 44
    },
    {
     "cell_type": "code",
     "collapsed": false,
     "input": [
      "podatki.keys() # klju\u010di v slovarju"
     ],
     "language": "python",
     "metadata": {},
     "outputs": [
      {
       "metadata": {},
       "output_type": "pyout",
       "prompt_number": 45,
       "text": [
        "['dolzina', 'sirina', 'visina']"
       ]
      }
     ],
     "prompt_number": 45
    },
    {
     "cell_type": "code",
     "collapsed": false,
     "input": [
      "podatki['g']=9.81 #dodajanje elementov\n",
      "podatki"
     ],
     "language": "python",
     "metadata": {},
     "outputs": [
      {
       "metadata": {},
       "output_type": "pyout",
       "prompt_number": 46,
       "text": [
        "{'dolzina': 3, 'g': 9.81, 'sirina': 2, 'visina': 4}"
       ]
      }
     ],
     "prompt_number": 46
    },
    {
     "cell_type": "code",
     "collapsed": false,
     "input": [
      "podatki.pop('g')# odstranjevanje elemntov\n",
      "podatki"
     ],
     "language": "python",
     "metadata": {},
     "outputs": [
      {
       "metadata": {},
       "output_type": "pyout",
       "prompt_number": 47,
       "text": [
        "{'dolzina': 3, 'sirina': 2, 'visina': 4}"
       ]
      }
     ],
     "prompt_number": 47
    },
    {
     "cell_type": "heading",
     "level": 2,
     "metadata": {},
     "source": [
      "13. Katere aritmeti\u010dne operatorje poznamo v Pythonu? Prika\u017eite uporabo."
     ]
    },
    {
     "cell_type": "code",
     "collapsed": false,
     "input": [
      "1.+2. #se\u0161tevanje"
     ],
     "language": "python",
     "metadata": {},
     "outputs": [
      {
       "metadata": {},
       "output_type": "pyout",
       "prompt_number": 48,
       "text": [
        "3.0"
       ]
      }
     ],
     "prompt_number": 48
    },
    {
     "cell_type": "code",
     "collapsed": false,
     "input": [
      "1.-3. # od\u0161tevanje"
     ],
     "language": "python",
     "metadata": {},
     "outputs": [
      {
       "metadata": {},
       "output_type": "pyout",
       "prompt_number": 49,
       "text": [
        "-2.0"
       ]
      }
     ],
     "prompt_number": 49
    },
    {
     "cell_type": "code",
     "collapsed": false,
     "input": [
      "234.*0.01# mno\u017eenje"
     ],
     "language": "python",
     "metadata": {},
     "outputs": [
      {
       "metadata": {},
       "output_type": "pyout",
       "prompt_number": 50,
       "text": [
        "2.34"
       ]
      }
     ],
     "prompt_number": 50
    },
    {
     "cell_type": "code",
     "collapsed": false,
     "input": [
      "7./3 # deljenje"
     ],
     "language": "python",
     "metadata": {},
     "outputs": [
      {
       "metadata": {},
       "output_type": "pyout",
       "prompt_number": 51,
       "text": [
        "2.3333333333333335"
       ]
      }
     ],
     "prompt_number": 51
    },
    {
     "cell_type": "code",
     "collapsed": false,
     "input": [
      "print 7//3 #celo\u0161tevilsko deljenje\n",
      "print 'ostanek', 7%3 #ostanek pri deljenju"
     ],
     "language": "python",
     "metadata": {},
     "outputs": [
      {
       "output_type": "stream",
       "stream": "stdout",
       "text": [
        "2\n",
        "ostanek 1\n"
       ]
      }
     ],
     "prompt_number": 52
    },
    {
     "cell_type": "code",
     "collapsed": false,
     "input": [
      "2**3 #eksponent"
     ],
     "language": "python",
     "metadata": {},
     "outputs": [
      {
       "metadata": {},
       "output_type": "pyout",
       "prompt_number": 53,
       "text": [
        "8"
       ]
      }
     ],
     "prompt_number": 53
    },
    {
     "cell_type": "heading",
     "level": 2,
     "metadata": {},
     "source": [
      "14. Katere primerjalne operatorje poznamo v Pythonu? Prika\u017eite uporabo."
     ]
    },
    {
     "cell_type": "code",
     "collapsed": false,
     "input": [
      "5>6"
     ],
     "language": "python",
     "metadata": {},
     "outputs": [
      {
       "metadata": {},
       "output_type": "pyout",
       "prompt_number": 54,
       "text": [
        "False"
       ]
      }
     ],
     "prompt_number": 54
    },
    {
     "cell_type": "code",
     "collapsed": false,
     "input": [
      "5<6"
     ],
     "language": "python",
     "metadata": {},
     "outputs": [
      {
       "metadata": {},
       "output_type": "pyout",
       "prompt_number": 55,
       "text": [
        "True"
       ]
      }
     ],
     "prompt_number": 55
    },
    {
     "cell_type": "code",
     "collapsed": false,
     "input": [
      "5<=6"
     ],
     "language": "python",
     "metadata": {},
     "outputs": [
      {
       "metadata": {},
       "output_type": "pyout",
       "prompt_number": 56,
       "text": [
        "True"
       ]
      }
     ],
     "prompt_number": 56
    },
    {
     "cell_type": "code",
     "collapsed": false,
     "input": [
      "5>=6"
     ],
     "language": "python",
     "metadata": {},
     "outputs": [
      {
       "metadata": {},
       "output_type": "pyout",
       "prompt_number": 57,
       "text": [
        "False"
       ]
      }
     ],
     "prompt_number": 57
    },
    {
     "cell_type": "code",
     "collapsed": false,
     "input": [
      "5!=6"
     ],
     "language": "python",
     "metadata": {},
     "outputs": [
      {
       "metadata": {},
       "output_type": "pyout",
       "prompt_number": 58,
       "text": [
        "True"
       ]
      }
     ],
     "prompt_number": 58
    },
    {
     "cell_type": "code",
     "collapsed": false,
     "input": [
      "5==6"
     ],
     "language": "python",
     "metadata": {},
     "outputs": [
      {
       "metadata": {},
       "output_type": "pyout",
       "prompt_number": 59,
       "text": [
        "False"
       ]
      }
     ],
     "prompt_number": 59
    },
    {
     "cell_type": "heading",
     "level": 2,
     "metadata": {},
     "source": [
      "15. Katere logi\u010dne operatorje poznamo v Pythonu? Prika\u017eite uporabo."
     ]
    },
    {
     "cell_type": "code",
     "collapsed": false,
     "input": [
      "a=2\n",
      "a is 3# primerja istost"
     ],
     "language": "python",
     "metadata": {},
     "outputs": [
      {
       "metadata": {},
       "output_type": "pyout",
       "prompt_number": 60,
       "text": [
        "False"
       ]
      }
     ],
     "prompt_number": 60
    },
    {
     "cell_type": "code",
     "collapsed": false,
     "input": [
      "podatki"
     ],
     "language": "python",
     "metadata": {},
     "outputs": [
      {
       "metadata": {},
       "output_type": "pyout",
       "prompt_number": 61,
       "text": [
        "{'dolzina': 3, 'sirina': 2, 'visina': 4}"
       ]
      }
     ],
     "prompt_number": 61
    },
    {
     "cell_type": "code",
     "collapsed": false,
     "input": [
      "'dolzina' in podatki# primerja ali je element v danem nizu, seznamu, slovarju...\n"
     ],
     "language": "python",
     "metadata": {},
     "outputs": [
      {
       "metadata": {},
       "output_type": "pyout",
       "prompt_number": 62,
       "text": [
        "True"
       ]
      }
     ],
     "prompt_number": 62
    },
    {
     "cell_type": "code",
     "collapsed": false,
     "input": [
      "1 == 2 and 1 in [1, 2, 3] or 2 is not 1"
     ],
     "language": "python",
     "metadata": {},
     "outputs": [
      {
       "metadata": {},
       "output_type": "pyout",
       "prompt_number": 64,
       "text": [
        "True"
       ]
      }
     ],
     "prompt_number": 64
    },
    {
     "cell_type": "heading",
     "level": 2,
     "metadata": {},
     "source": [
      "16. Prika\u017eite uporabo ``if`` stavka."
     ]
    },
    {
     "cell_type": "code",
     "collapsed": false,
     "input": [
      "rezultat = 5\n",
      "rezultat"
     ],
     "language": "python",
     "metadata": {},
     "outputs": []
    },
    {
     "cell_type": "code",
     "collapsed": false,
     "input": [
      "if rezultat == 3: #ce je rezultat enak 3 prika\u017ei dolzina...\n",
      "    print 'dolzina'\n",
      "elif rezultat == 2:\n",
      "    print 'sirina'\n",
      "elif rezultat == 4:\n",
      "    print 'visina'\n",
      "else :\n",
      "    print 'ne ustreza pogojem'# \u010de ni ni\u010d od tega napi\u0161i..."
     ],
     "language": "python",
     "metadata": {},
     "outputs": [
      {
       "output_type": "stream",
       "stream": "stdout",
       "text": [
        "ne ustreza pogojem\n"
       ]
      }
     ],
     "prompt_number": 73
    },
    {
     "cell_type": "code",
     "collapsed": false,
     "input": [
      "Tvoje_ime = 'ma\u0161a'\n",
      "if Tvoje_ime == '\u017ean':\n",
      "    print 'Vrsta \u010dloveka: kmet'\n",
      "elif Tvoje_ime == 'Alja\u017e':\n",
      "    print 'ste morda mislili peder'\n",
      "else:\n",
      "    print '\u0161e enkrat poglej kva s napisou'"
     ],
     "language": "python",
     "metadata": {},
     "outputs": [
      {
       "output_type": "stream",
       "stream": "stdout",
       "text": [
        "\u0161e enkrat poglej kva s napisou\n"
       ]
      }
     ],
     "prompt_number": 6
    },
    {
     "cell_type": "heading",
     "level": 2,
     "metadata": {},
     "source": [
      "17. Kak\u0161na je razlika med ``if`` stavkov in ``if`` izrazom. Prika\u017eite!"
     ]
    },
    {
     "cell_type": "code",
     "collapsed": false,
     "input": [
      "a = 5\n",
      "b = False\n",
      "c = 2\n",
      "a if b else c# vrjetno: a \u010de je b pravilen, druga\u010de c. "
     ],
     "language": "python",
     "metadata": {},
     "outputs": []
    },
    {
     "cell_type": "heading",
     "level": 2,
     "metadata": {},
     "source": [
      "18. Prika\u017eite uporabo zanke ``while``."
     ]
    },
    {
     "cell_type": "code",
     "collapsed": false,
     "input": [
      "a = -1\n",
      "while a < 3:\n",
      "    print(a)\n",
      "    a += 0.5"
     ],
     "language": "python",
     "metadata": {},
     "outputs": [
      {
       "output_type": "stream",
       "stream": "stdout",
       "text": [
        "-1\n",
        "-0.5\n",
        "0.0\n",
        "0.5\n",
        "1.0\n",
        "1.5\n",
        "2.0\n",
        "2.5\n"
       ]
      }
     ],
     "prompt_number": 19
    },
    {
     "cell_type": "heading",
     "level": 2,
     "metadata": {},
     "source": [
      "19. Prika\u017eite uporabo zanke ``for``."
     ]
    },
    {
     "cell_type": "code",
     "collapsed": false,
     "input": [
      "#ideja: vsako komponento A kvadriraj\n",
      "A = [1, 2, 3, 4, 5, 6]\n",
      "\n",
      "for rezultat in A:\n",
      "    print rezultat**2\n"
     ],
     "language": "python",
     "metadata": {},
     "outputs": [
      {
       "output_type": "stream",
       "stream": "stdout",
       "text": [
        "1\n",
        "4\n",
        "9\n",
        "16\n",
        "25\n",
        "36\n"
       ]
      }
     ],
     "prompt_number": 77
    },
    {
     "cell_type": "heading",
     "level": 2,
     "metadata": {},
     "source": [
      "20. Prika\u017eite uporabo zanke ``for`` v povezavi s funkcijami ``range``, ``enumerate``, ``zip``  "
     ]
    },
    {
     "cell_type": "code",
     "collapsed": false,
     "input": [
      "for i in range(5):\n",
      "    print(i)"
     ],
     "language": "python",
     "metadata": {},
     "outputs": [
      {
       "output_type": "stream",
       "stream": "stdout",
       "text": [
        "0\n",
        "1\n",
        "2\n",
        "3\n",
        "4\n"
       ]
      }
     ],
     "prompt_number": 65
    },
    {
     "cell_type": "code",
     "collapsed": false,
     "input": [
      "imena = ['Matej', 'Andrej', 'Klemen']\n",
      "for i, ime in enumerate(imena):\n",
      "    print(i, ime)"
     ],
     "language": "python",
     "metadata": {},
     "outputs": [
      {
       "output_type": "stream",
       "stream": "stdout",
       "text": [
        "(0, 'Matej')\n",
        "(1, 'Andrej')\n",
        "(2, 'Klemen')\n"
       ]
      }
     ],
     "prompt_number": 66
    },
    {
     "cell_type": "code",
     "collapsed": false,
     "input": [],
     "language": "python",
     "metadata": {},
     "outputs": []
    }
   ],
   "metadata": {}
  }
 ]
}