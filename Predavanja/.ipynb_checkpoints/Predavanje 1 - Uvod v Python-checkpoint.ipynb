{
 "metadata": {
  "name": "",
  "signature": "sha256:ee214903fe6f16ffa2cea5eb3062f16ab9c165be6439b58e284f54c939a35968"
 },
 "nbformat": 3,
 "nbformat_minor": 0,
 "worksheets": [
  {
   "cells": [
    {
     "cell_type": "markdown",
     "metadata": {},
     "source": [
      "Feb 2015, dr. J. Slavi\u010d\n",
      "\n",
      "Predavanje 1"
     ]
    },
    {
     "cell_type": "heading",
     "level": 1,
     "metadata": {},
     "source": [
      "Uvod v Python"
     ]
    },
    {
     "cell_type": "markdown",
     "metadata": {},
     "source": [
      "Python je **visoko-nivojski** programski jezik, nivo abstrakcije je velik. V nasprotju z **nizko-nivojskimi** programskimi jeziki, ki imajo nivo abstrakcije nizek (npr. strojna koda).\n",
      "\n",
      "Primer: izra\u010dun **Fibonaccijevega \u0161tevila** (http://sl.wikipedia.org/wiki/Fibonaccijevo_%C5%A1tevilo):\n",
      "\n",
      "$F_1 = F_2 = 1$ in $F_n = F_{n-1} + F_{n-2}$\n",
      "\n",
      "Izra\u010dun $F_n$ v strojni kodi (http://en.wikipedia.org/wiki/Low-level_programming_language):\n",
      "<img width=300 src=\"others/strojna_koda.png\">\n",
      "Mach koda\n",
      "<img width=300 src=\"others/mash_koda.png\">\n",
      "C\n",
      "<img width=300 src=\"others/c_koda.png\">\n",
      "Python\n",
      "<img width=300 src=\"others/py_koda.png\">\n",
      "\n",
      "Kratek pregled za\u010detkov nekaterih programskih jezikov:\n",
      "* 1957 Fortran\n",
      "* 1970 Pascal\n",
      "* 1972 C\n",
      "* 1980 C++\n",
      "* 1984 Matlab\n",
      "* 1986 Objective-C\n",
      "* **1991 Pyhon**\n",
      "* 1995 Java\n",
      "* 1995 Delphi\n",
      "* 2009 Go"
     ]
    },
    {
     "cell_type": "heading",
     "level": 2,
     "metadata": {},
     "source": [
      "Kdo se u\u010di Python?"
     ]
    },
    {
     "cell_type": "markdown",
     "metadata": {},
     "source": [
      "**ZDA**\n",
      "\n",
      "http://goo.gl/mJC1P8\n",
      "<img width=400 src=\"others/Top39-700.4.png\">\n",
      "\n",
      "**Slovenija**\n",
      "* FRI: Programiranje 1 (https://ucilnica.fri.uni-lj.si/course/view.php?id=166)\n",
      "* FMF: Uvod v Python 1 in 2 (https://tomo.fmf.uni-lj.si/problem_set/7/)\n",
      "\n",
      "**FS**\n",
      "* Poletna \u0161ola HPC: http://hpc.fs.uni-lj.si/python-intro"
     ]
    },
    {
     "cell_type": "markdown",
     "metadata": {},
     "source": [
      "**Pregled raz\u0161irjenosti razli\u010dnih programskih jezikov**\n",
      "\n",
      "Tukaj en pregled: http://goo.gl/vtn2Vr"
     ]
    },
    {
     "cell_type": "heading",
     "level": 2,
     "metadata": {},
     "source": [
      "Uporaba Pythona?"
     ]
    },
    {
     "cell_type": "markdown",
     "metadata": {},
     "source": [
      "Nekatera mednarodna podjetja: Nasa, Google, Cern,... nekatera v Sloveniji: Kolektor, Iskra Mehanizmi, Hidria, Ydria Motors, Cimos.\n",
      "\n",
      "Nekateri programi, ki imajo vgrajeno skripno podporo za Python?\n",
      "* Abaqus\n",
      "* Ansys Workbench\n",
      "* MSC (Adams, SimXpert)\n",
      "* ParaView\n",
      "* LMS Siemens\n",
      "* AVL\n",
      "\n",
      "Nekateri komercialni programi v Pythonu\n",
      "* BitTorrent\n",
      "* Dropbox\n",
      "\n",
      "Polnej\u0161i seznam je tukaj: http://en.wikipedia.org/wiki/List_of_Python_software"
     ]
    },
    {
     "cell_type": "heading",
     "level": 2,
     "metadata": {},
     "source": [
      "Python vs Matlab"
     ]
    },
    {
     "cell_type": "markdown",
     "metadata": {},
     "source": [
      "Na spletu boste na\u0161li ogromno primerjav. Tukaj ne npr. ena:\n",
      "http://www.pyzo.org/python_vs_matlab.html\n",
      "\n",
      "<img width=400 src=\"others/py_comparison.png\">\n",
      "Vir: http://www.southampton.ac.uk/~fangohr/training/python/pdfs/Python-for-Computational-Science-and-Engineering-slides.pdf\n",
      "\n",
      "Sintaksa je na\u010deloma zelo podobna. Pomembna razlika je, da se seznam pri **Matlabu** za\u010dne z 1, v **Pythonu** pa z 0.\n",
      "\n"
     ]
    },
    {
     "cell_type": "heading",
     "level": 2,
     "metadata": {},
     "source": [
      "Namestitev Python verzije 3.4"
     ]
    },
    {
     "cell_type": "heading",
     "level": 3,
     "metadata": {},
     "source": [
      "The hard way (64 bit, Window)"
     ]
    },
    {
     "cell_type": "markdown",
     "metadata": {},
     "source": [
      "Kaj potrebujete:\n",
      "\n",
      "* https://www.python.org/: Python 3.4\n",
      "* http://www.lfd.uci.edu/~gohlke/pythonlibs/:\n",
      "    * **Setuptools**: za instaliranje paketov (za win64 glejte i\u0161\u010dite win\u2011amd64py3.4)\n",
      "    * **Numpy**: knji\u017enica za delo z matrikami\n",
      "    * **SciPy**: numeri\u010dna knji\u017enica (raz\u0161iri numpy)\n",
      "    * **Matplotlib**: za risanje grafov podobnih matlab-u\n",
      "    * **IPython**: interaktivna uporaba Pythona\n",
      "* https://www.jetbrains.com/pycharm/download/\n",
      "    * **pyCharm**: integrirano razvojno okolje (glejte Community Edition)\n",
      "    \n",
      "Postopek namestitve:\n",
      "    1. namesti python\n",
      "    2. dodaj path v environment variables (sistemske spremenljivke):\n",
      "        C:\\Python34\\Scripts;C:\\Python34\\Lib\\site-packages;c:\\python34;\n",
      "    3. namest numpy, scipy, matplotlib, easy_install, pyCharm\n",
      "    4. namesti iPython"
     ]
    },
    {
     "cell_type": "heading",
     "level": 3,
     "metadata": {},
     "source": [
      "The easy way"
     ]
    },
    {
     "cell_type": "markdown",
     "metadata": {},
     "source": [
      "Pojdite na https://store.continuum.io/cshop/anaconda/ in namestite `Anaconda`.\n",
      "\n",
      "Namestite \u0161e pyCharm integrirano razvojno okolje (glejte Community Edition): https://www.jetbrains.com/pycharm/download/\n"
     ]
    },
    {
     "cell_type": "heading",
     "level": 3,
     "metadata": {},
     "source": [
      "Namestitev dodatnih paketov"
     ]
    },
    {
     "cell_type": "markdown",
     "metadata": {},
     "source": [
      "Na naslovu https://pypi.python.org/pypi se nahaja ve\u010d kot 55 tiso\u010d razli\u010dnih paketov! Namestimo jih z:\n",
      "* ukazom **conda** ali \n",
      "* easy_setup ali pip ali\n",
      "* namestitveni program iz strani http://www.lfd.uci.edu/~gohlke/pythonlibs/"
     ]
    },
    {
     "cell_type": "heading",
     "level": 2,
     "metadata": {},
     "source": [
      "IPython nootebook"
     ]
    },
    {
     "cell_type": "markdown",
     "metadata": {},
     "source": [
      "IPython notebook za\u017eenete z ukazom (v komandni vrstici / command prompt):\n",
      "``ipython notebook`` (pozneje boste morebiti hoteli tako: ``ipython notebook --pylab=inline``)\n",
      "\n",
      "**Opomba**: \u010ce \u017eelite komandno vrstico spro\u017eiti v poljubni mapi, potem v *explorerju* pridr\u017eite ``shift`` in kliknite mapo z desnim gumbom; nato izberite *Open command window here*.\n",
      "\n",
      "IPython omogo\u010da zapis v *markdown* na\u010dinu: <http://daringfireball.net/projects/markdown/>\n",
      "\n",
      "Na kratko:\n",
      "* lahko se pi\u0161ejo seznami\n",
      "     - razli\u010dnih nivojev\n",
      "         - tretji nivo\n",
      "     - drugi nivo\n",
      "* lahko se pi\u0161e *po\u0161evno*\n",
      "* lahko se pi\u0161e **krepko**\n",
      "* ni te\u017eav s poljubno *te\u017ekimi* izrazi (LaTeX sintaxa): $a(t)=\\sqrt{\\frac{1}{1-r^3}}$\n",
      "* primer kako se vklju\u010di slike ali spletne povezave je zgoraj/spodaj\n",
      "* primer vklju\u010ditve lokalnega video posnetka: \n",
      "<video controls src=\"others/35m - naj bi 45m.mp4\"/></video>"
     ]
    },
    {
     "cell_type": "heading",
     "level": 2,
     "metadata": {},
     "source": [
      "Prvi program"
     ]
    },
    {
     "cell_type": "markdown",
     "metadata": {},
     "source": [
      "Interaktivno"
     ]
    },
    {
     "cell_type": "code",
     "collapsed": true,
     "input": [
      "a = 5\n",
      "b = a\n",
      "print(b)"
     ],
     "language": "python",
     "metadata": {},
     "outputs": [
      {
       "output_type": "stream",
       "stream": "stdout",
       "text": [
        "5\n"
       ]
      }
     ],
     "prompt_number": 3
    },
    {
     "cell_type": "markdown",
     "metadata": {},
     "source": [
      "Klasi\u010dno"
     ]
    },
    {
     "cell_type": "markdown",
     "metadata": {},
     "source": [
      "<a href=\"prvi_program.py\">prvi_program.py</a>\n",
      "<img src=\"others/pyCharm_prvi_program.png\">"
     ]
    },
    {
     "cell_type": "markdown",
     "metadata": {},
     "source": [
      "Stil pisanje: PEP8 https://www.python.org/dev/peps/pep-0008/"
     ]
    },
    {
     "cell_type": "markdown",
     "metadata": {},
     "source": [
      "* zamik: 4 presledki\n",
      "* en presledek pri = operatorju: ``a = 5`` in ne ``a=5``\n",
      "* spremenljivke in imena funkcij naj bodo opisne, pi\u0161emo jih s podr\u010dtajem: ``sirina_valja = 5``\n",
      "* za razrede uporabljamo t.i. CamelCase format\n",
      "* presledki okoli aritmeri\u010dni operaterjev so lahko: ``x = 3*a + 4*b`` ali ``x = 3 * a + 4 * b``.\n",
      "* prez presledka pred in po oklepaju: ``x = sin(x)``, ne pa ``x = sin( x )``\n",
      "* presledek po vejici: ``range(5, 10)`` in ne ``range(5,10)``.\n",
      "* brez presledkov na koncu vrstice ali v prazni vrstici\n",
      "* ena ali brez prazne vrstice znotraj funkcije\n",
      "* dve vrstici med funkcijami\n",
      "* en import stavek na vrstico\n",
      "* najprej import standardnih python knji\u017enic, nato druge knji\u017enice (npr. numpy) in na koncu lastne\n",
      "\n",
      "Nujno: uporabite *inspect code* v pyCharm!"
     ]
    },
    {
     "cell_type": "heading",
     "level": 2,
     "metadata": {},
     "source": [
      "Python - osnove"
     ]
    },
    {
     "cell_type": "heading",
     "level": 3,
     "metadata": {},
     "source": [
      "Spremenljivke"
     ]
    },
    {
     "cell_type": "markdown",
     "metadata": {},
     "source": [
      "Spremenjivke so v Pythonu **dinami\u010dnega tipa**. Kaj to pomeni:"
     ]
    },
    {
     "cell_type": "code",
     "collapsed": true,
     "input": [
      "a = 1       # to je komentar: a je celo \u0161tevilo (integer)\n",
      "print(a)\n",
      "a = 1.0     # a je sedaj \u0161tevilo s plavajo\u010do vejijnjco (float)\n",
      "print(a)\n",
      "type(a)"
     ],
     "language": "python",
     "metadata": {},
     "outputs": [
      {
       "output_type": "stream",
       "stream": "stdout",
       "text": [
        "1\n",
        "1.0\n"
       ]
      },
      {
       "metadata": {},
       "output_type": "pyout",
       "prompt_number": 1,
       "text": [
        "float"
       ]
      }
     ],
     "prompt_number": 1
    },
    {
     "cell_type": "markdown",
     "metadata": {},
     "source": [
      "Zgoraj smo uporabili funkcijo ``print``. Poglejmo si njen opis: za\u010dnete pisati ``print`` in pritisnete *shift+tab* ali pa izvedete ukaz ``?print`` (\u010de \u017eelite \u0161e ve\u010d podatkov: ``??`` posku\u0161a najti tudi izvorno kodo):"
     ]
    },
    {
     "cell_type": "code",
     "collapsed": true,
     "input": [
      "?print"
     ],
     "language": "python",
     "metadata": {},
     "outputs": [],
     "prompt_number": 8
    },
    {
     "cell_type": "heading",
     "level": 3,
     "metadata": {},
     "source": [
      "Niz (string)"
     ]
    },
    {
     "cell_type": "markdown",
     "metadata": {},
     "source": [
      "Niz se za\u010dne in zaklju\u010di z dvojnim \" ali enojnim ' narekovajem."
     ]
    },
    {
     "cell_type": "code",
     "collapsed": true,
     "input": [
      "b = 'tekst' # b je niz (string)\n",
      "print(b)"
     ],
     "language": "python",
     "metadata": {},
     "outputs": [
      {
       "output_type": "stream",
       "stream": "stdout",
       "text": [
        "tekst\n"
       ]
      }
     ],
     "prompt_number": 2
    },
    {
     "cell_type": "markdown",
     "metadata": {},
     "source": [
      "Nekatere operacije nad nizi:"
     ]
    },
    {
     "cell_type": "code",
     "collapsed": true,
     "input": [
      "print('kratek ' + b) # se\u0161tevanje\n",
      "print(30 * '-')      # dolga \u010drta\n",
      "print('Celo \u0161tevilo:', int('5') + int('5'))      # pretvorba niza '5' v celo \u0161tevilo\n",
      "print('\u0160tevilo s plavajo\u010do vejico:', float('5') + float('5'))  # pretvorba niza '5' v \u0161tevilo s plavajo vejico"
     ],
     "language": "python",
     "metadata": {},
     "outputs": [
      {
       "output_type": "stream",
       "stream": "stdout",
       "text": [
        "kratek tekst\n",
        "------------------------------\n",
        "Celo \u0161tevilo: 10\n",
        "\u0160tevilo s plavajo\u010do vejico: 10.0\n"
       ]
      }
     ],
     "prompt_number": 10
    },
    {
     "cell_type": "heading",
     "level": 3,
     "metadata": {},
     "source": [
      "Terka (tuple)"
     ]
    },
    {
     "cell_type": "markdown",
     "metadata": {},
     "source": [
      "https://docs.python.org/3.4/tutorial/datastructures.html#tuples-and-sequences\n",
      "\n",
      "Tuples ali po slovensko terke so seznami poljubnih **objektov**, ki jih lo\u010dimo z vejico in pi\u0161emo znotraj okroglih oklepajev:"
     ]
    },
    {
     "cell_type": "code",
     "collapsed": true,
     "input": [
      "terka_1 = (1, 'programiranje', 5.0)"
     ],
     "language": "python",
     "metadata": {},
     "outputs": [],
     "prompt_number": 11
    },
    {
     "cell_type": "code",
     "collapsed": true,
     "input": [
      "terka_1"
     ],
     "language": "python",
     "metadata": {},
     "outputs": [
      {
       "metadata": {},
       "output_type": "pyout",
       "prompt_number": 15,
       "text": [
        "(1, 'programiranje', 5.0)"
       ]
      }
     ],
     "prompt_number": 15
    },
    {
     "cell_type": "markdown",
     "metadata": {},
     "source": [
      "\u010ce ima terka samo en objekt, potem jo moramo zaklju\u010diti z vejico (sicer se ne lo\u010di od objekta v oklepaju):"
     ]
    },
    {
     "cell_type": "code",
     "collapsed": true,
     "input": [
      "terka_2 = (1,)\n",
      "type(terka_2)"
     ],
     "language": "python",
     "metadata": {},
     "outputs": [
      {
       "metadata": {},
       "output_type": "pyout",
       "prompt_number": 18,
       "text": [
        "tuple"
       ]
      }
     ],
     "prompt_number": 18
    },
    {
     "cell_type": "markdown",
     "metadata": {},
     "source": [
      "Terke lahko zapi\u0161emo tudi brez okroglih oklepajev:"
     ]
    },
    {
     "cell_type": "code",
     "collapsed": true,
     "input": [
      "terka_3 = 1, 'brez oklepajev', 5."
     ],
     "language": "python",
     "metadata": {},
     "outputs": [],
     "prompt_number": 2
    },
    {
     "cell_type": "code",
     "collapsed": true,
     "input": [
      "terka_3"
     ],
     "language": "python",
     "metadata": {},
     "outputs": [
      {
       "metadata": {},
       "output_type": "pyout",
       "prompt_number": 3,
       "text": [
        "(1, 'brez oklepajev', 5.0)"
       ]
      }
     ],
     "prompt_number": 3
    },
    {
     "cell_type": "code",
     "collapsed": false,
     "input": [
      "def funkcija(dolzina):\n",
      "    return True, dolzina*2, 'jupi'"
     ],
     "language": "python",
     "metadata": {},
     "outputs": [],
     "prompt_number": 11
    },
    {
     "cell_type": "code",
     "collapsed": false,
     "input": [
      "(stanje, vrednost, preverjanja) = funkcija(5)"
     ],
     "language": "python",
     "metadata": {},
     "outputs": [],
     "prompt_number": 12
    },
    {
     "cell_type": "code",
     "collapsed": false,
     "input": [
      "stanje\n"
     ],
     "language": "python",
     "metadata": {},
     "outputs": [
      {
       "metadata": {},
       "output_type": "pyout",
       "prompt_number": 13,
       "text": [
        "True"
       ]
      }
     ],
     "prompt_number": 13
    },
    {
     "cell_type": "markdown",
     "metadata": {},
     "source": [
      "Do objektov v terki dostopamo preko indeksa (**se za\u010dnejo z 0**):"
     ]
    },
    {
     "cell_type": "code",
     "collapsed": true,
     "input": [
      "terka_1[0]"
     ],
     "language": "python",
     "metadata": {},
     "outputs": [
      {
       "metadata": {},
       "output_type": "pyout",
       "prompt_number": 27,
       "text": [
        "1"
       ]
      }
     ],
     "prompt_number": 27
    },
    {
     "cell_type": "markdown",
     "metadata": {},
     "source": [
      "Terke **ni mogo\u010de spreminjati** (ang: *immutable*), elementov ne moremo odstranjevati ali dodajati."
     ]
    },
    {
     "cell_type": "code",
     "collapsed": true,
     "input": [
      "terka_1[0] = 3"
     ],
     "language": "python",
     "metadata": {},
     "outputs": [
      {
       "ename": "TypeError",
       "evalue": "'tuple' object does not support item assignment",
       "output_type": "pyerr",
       "traceback": [
        "\u001b[1;31m---------------------------------------------------------------------------\u001b[0m\n\u001b[1;31mTypeError\u001b[0m                                 Traceback (most recent call last)",
        "\u001b[1;32m<ipython-input-28-2213536a3ac0>\u001b[0m in \u001b[0;36m<module>\u001b[1;34m()\u001b[0m\n\u001b[1;32m----> 1\u001b[1;33m \u001b[0mterka_1\u001b[0m\u001b[1;33m[\u001b[0m\u001b[1;36m0\u001b[0m\u001b[1;33m]\u001b[0m \u001b[1;33m=\u001b[0m \u001b[1;36m3\u001b[0m\u001b[1;33m\u001b[0m\u001b[0m\n\u001b[0m",
        "\u001b[1;31mTypeError\u001b[0m: 'tuple' object does not support item assignment"
       ]
      }
     ],
     "prompt_number": 28
    },
    {
     "cell_type": "heading",
     "level": 3,
     "metadata": {},
     "source": [
      "Seznam (list)"
     ]
    },
    {
     "cell_type": "markdown",
     "metadata": {},
     "source": [
      "https://docs.python.org/3.4/tutorial/datastructures.html#more-on-lists\n",
      "\n",
      "Seznami se zapi\u0161ejo podobno kakor terke, vendar se uporabijo oglati oklepaji in jih je mogo\u010de spreminjati:"
     ]
    },
    {
     "cell_type": "code",
     "collapsed": true,
     "input": [
      "seznam = [1., 2, 'd']"
     ],
     "language": "python",
     "metadata": {},
     "outputs": [],
     "prompt_number": 1
    },
    {
     "cell_type": "code",
     "collapsed": true,
     "input": [
      "seznam"
     ],
     "language": "python",
     "metadata": {},
     "outputs": [
      {
       "metadata": {},
       "output_type": "pyout",
       "prompt_number": 34,
       "text": [
        "[1.0, 2, 'd']"
       ]
      }
     ],
     "prompt_number": 34
    },
    {
     "cell_type": "markdown",
     "metadata": {},
     "source": [
      "Za razliko od terk, se sezname lahko spreminja:"
     ]
    },
    {
     "cell_type": "code",
     "collapsed": true,
     "input": [
      "seznam[0] = 10\n",
      "seznam"
     ],
     "language": "python",
     "metadata": {},
     "outputs": [
      {
       "metadata": {},
       "output_type": "pyout",
       "prompt_number": 35,
       "text": [
        "[10, 2, 'd']"
       ]
      }
     ],
     "prompt_number": 35
    },
    {
     "cell_type": "markdown",
     "metadata": {},
     "source": [
      "Seznami so spremenljivi (ang. *mutable*)in treba se je zavedati, da ime v bistvu **ka\u017ee** na spominsko mesto:"
     ]
    },
    {
     "cell_type": "code",
     "collapsed": false,
     "input": [
      "b = seznam\n",
      "b"
     ],
     "language": "python",
     "metadata": {},
     "outputs": [
      {
       "metadata": {},
       "output_type": "pyout",
       "prompt_number": 19,
       "text": [
        "[1.0, 2, 'd']"
       ]
      }
     ],
     "prompt_number": 19
    },
    {
     "cell_type": "markdown",
     "metadata": {},
     "source": [
      "Sedaj tudi ``b`` ka\u017ee na isto spominsko mesto. \n",
      "\n",
      "Poglejmo kaj se zgodi s ``seznam``, \u010de spremenimo element seznama ``b``:"
     ]
    },
    {
     "cell_type": "code",
     "collapsed": false,
     "input": [
      "b[0] = 9\n",
      "b"
     ],
     "language": "python",
     "metadata": {},
     "outputs": [
      {
       "metadata": {},
       "output_type": "pyout",
       "prompt_number": 20,
       "text": [
        "[9, 2, 'd']"
       ]
      }
     ],
     "prompt_number": 20
    },
    {
     "cell_type": "code",
     "collapsed": false,
     "input": [
      "seznam"
     ],
     "language": "python",
     "metadata": {},
     "outputs": [
      {
       "metadata": {},
       "output_type": "pyout",
       "prompt_number": 24,
       "text": [
        "[9, 2, 'd']"
       ]
      }
     ],
     "prompt_number": 24
    },
    {
     "cell_type": "markdown",
     "metadata": {},
     "source": [
      "\u010ce \u017eelimo narediti kopijo podatkov, potem moramo to narediti tako:"
     ]
    },
    {
     "cell_type": "code",
     "collapsed": false,
     "input": [
      "b = seznam.copy()\n",
      "b[0] = 99\n",
      "b"
     ],
     "language": "python",
     "metadata": {},
     "outputs": [
      {
       "ename": "AttributeError",
       "evalue": "'list' object has no attribute 'copy'",
       "output_type": "pyerr",
       "traceback": [
        "\u001b[1;31m---------------------------------------------------------------------------\u001b[0m\n\u001b[1;31mAttributeError\u001b[0m                            Traceback (most recent call last)",
        "\u001b[1;32m<ipython-input-30-4c22927e6f94>\u001b[0m in \u001b[0;36m<module>\u001b[1;34m()\u001b[0m\n\u001b[1;32m----> 1\u001b[1;33m \u001b[0mb\u001b[0m \u001b[1;33m=\u001b[0m \u001b[0mseznam\u001b[0m\u001b[1;33m.\u001b[0m \u001b[0mcopy\u001b[0m\u001b[1;33m(\u001b[0m\u001b[1;33m)\u001b[0m\u001b[1;33m\u001b[0m\u001b[0m\n\u001b[0m\u001b[0;32m      2\u001b[0m \u001b[0mb\u001b[0m\u001b[1;33m[\u001b[0m\u001b[1;36m0\u001b[0m\u001b[1;33m]\u001b[0m \u001b[1;33m=\u001b[0m \u001b[1;36m99\u001b[0m\u001b[1;33m\u001b[0m\u001b[0m\n\u001b[0;32m      3\u001b[0m \u001b[0mb\u001b[0m\u001b[1;33m\u001b[0m\u001b[0m\n",
        "\u001b[1;31mAttributeError\u001b[0m: 'list' object has no attribute 'copy'"
       ]
      }
     ],
     "prompt_number": 30
    },
    {
     "cell_type": "code",
     "collapsed": false,
     "input": [
      "seznam"
     ],
     "language": "python",
     "metadata": {},
     "outputs": [
      {
       "metadata": {},
       "output_type": "pyout",
       "prompt_number": 28,
       "text": [
        "[9, 2, 'd']"
       ]
      }
     ],
     "prompt_number": 28
    },
    {
     "cell_type": "markdown",
     "metadata": {},
     "source": [
      "Primer seznama seznamov:"
     ]
    },
    {
     "cell_type": "code",
     "collapsed": true,
     "input": [
      "matrika = [[1, 2, 3],\n",
      "           [4, 5, 6],\n",
      "           [7, 8, 9]]"
     ],
     "language": "python",
     "metadata": {},
     "outputs": [],
     "prompt_number": 46
    },
    {
     "cell_type": "code",
     "collapsed": true,
     "input": [
      "matrika"
     ],
     "language": "python",
     "metadata": {},
     "outputs": [
      {
       "metadata": {},
       "output_type": "pyout",
       "prompt_number": 48,
       "text": [
        "[[1, 2, 3], [4, 5, 6], [7, 8, 9]]"
       ]
      }
     ],
     "prompt_number": 48
    },
    {
     "cell_type": "markdown",
     "metadata": {},
     "source": [
      "Ve\u010d o matrikah bomo spoznali pozneje."
     ]
    },
    {
     "cell_type": "heading",
     "level": 4,
     "metadata": {},
     "source": [
      "Izbrane operacije nad seznami"
     ]
    },
    {
     "cell_type": "markdown",
     "metadata": {},
     "source": [
      "Za detajle glejte tukaj: https://docs.python.org/3.4/tutorial/datastructures.html"
     ]
    },
    {
     "cell_type": "code",
     "collapsed": false,
     "input": [
      "seznam.append('dodajanje elementa')\n",
      "seznam"
     ],
     "language": "python",
     "metadata": {},
     "outputs": [
      {
       "metadata": {},
       "output_type": "pyout",
       "prompt_number": 49,
       "text": [
        "[9, 2, 'd', 'dodajanje elementa']"
       ]
      }
     ],
     "prompt_number": 49
    },
    {
     "cell_type": "code",
     "collapsed": false,
     "input": [
      "seznam.insert(1,'na drugo mesto')\n",
      "seznam"
     ],
     "language": "python",
     "metadata": {},
     "outputs": [
      {
       "metadata": {},
       "output_type": "pyout",
       "prompt_number": 50,
       "text": [
        "[9, 'na drugo mesto', 2, 'd', 'dodajanje elementa']"
       ]
      }
     ],
     "prompt_number": 50
    },
    {
     "cell_type": "code",
     "collapsed": false,
     "input": [
      "seznam.pop(2) # odstani element z indeksom 2\n",
      "# podoben u\u010dinek bi imel ukaz: del seznam[2]\n",
      "seznam"
     ],
     "language": "python",
     "metadata": {},
     "outputs": [
      {
       "metadata": {},
       "output_type": "pyout",
       "prompt_number": 51,
       "text": [
        "[9, 'na drugo mesto', 'd', 'dodajanje elementa']"
       ]
      }
     ],
     "prompt_number": 51
    },
    {
     "cell_type": "code",
     "collapsed": false,
     "input": [
      "seznam.index('d') # poi\u0161\u010de indeks prvega elementa vrednosti 'd'"
     ],
     "language": "python",
     "metadata": {},
     "outputs": [
      {
       "metadata": {},
       "output_type": "pyout",
       "prompt_number": 52,
       "text": [
        "2"
       ]
      }
     ],
     "prompt_number": 52
    },
    {
     "cell_type": "heading",
     "level": 4,
     "metadata": {},
     "source": [
      "Zakaj uporabiti tuple in ne seznama?"
     ]
    },
    {
     "cell_type": "markdown",
     "metadata": {},
     "source": [
      "Glejte odgovor tukaj: http://getpython3.com/diveintopython3/native-datatypes.html#tuples"
     ]
    },
    {
     "cell_type": "heading",
     "level": 3,
     "metadata": {},
     "source": [
      "Mno\u017eice (Sets)"
     ]
    },
    {
     "cell_type": "markdown",
     "metadata": {},
     "source": [
      "https://docs.python.org/3.4/tutorial/datastructures.html#sets\n",
      "\n",
      "Za razliko od ostalih struktur, mno\u017eice **ne dovojujejo podvojenih elementov**. Kreiramo jih z zavitimi oklepaji  ``{}`` ali ukazom ``set()``:"
     ]
    },
    {
     "cell_type": "code",
     "collapsed": false,
     "input": [
      "A = {1, 2, 3, 3}\n",
      "A"
     ],
     "language": "python",
     "metadata": {},
     "outputs": [
      {
       "metadata": {},
       "output_type": "pyout",
       "prompt_number": 57,
       "text": [
        "{1, 2, 3}"
       ]
      }
     ],
     "prompt_number": 57
    },
    {
     "cell_type": "code",
     "collapsed": false,
     "input": [
      "B = set([3, 4, 5, 6, 6]) # kreiramo mno\u017eico iz seznama (to je na\u010din kako se enostavno in hitro\n",
      "                         #                              znebimo podvojenih vrednosti!)\n",
      "B"
     ],
     "language": "python",
     "metadata": {},
     "outputs": [
      {
       "metadata": {},
       "output_type": "pyout",
       "prompt_number": 58,
       "text": [
        "{3, 4, 5, 6}"
       ]
      }
     ],
     "prompt_number": 58
    },
    {
     "cell_type": "markdown",
     "metadata": {},
     "source": [
      "Uporabimo lahko tipi\u010dne matemati\u010dne operacije nad mno\u017eicami:"
     ]
    },
    {
     "cell_type": "code",
     "collapsed": false,
     "input": [
      "A - B   # elementi v A brez elementov, ki so tudi v B"
     ],
     "language": "python",
     "metadata": {},
     "outputs": [
      {
       "metadata": {},
       "output_type": "pyout",
       "prompt_number": 59,
       "text": [
        "{1, 2}"
       ]
      }
     ],
     "prompt_number": 59
    },
    {
     "cell_type": "code",
     "collapsed": false,
     "input": [
      "A | B   # elementi v A ali B"
     ],
     "language": "python",
     "metadata": {},
     "outputs": [
      {
       "metadata": {},
       "output_type": "pyout",
       "prompt_number": 60,
       "text": [
        "{1, 2, 3, 4, 5, 6}"
       ]
      }
     ],
     "prompt_number": 60
    },
    {
     "cell_type": "code",
     "collapsed": false,
     "input": [
      "A & B   # elementi v A in B"
     ],
     "language": "python",
     "metadata": {},
     "outputs": [
      {
       "metadata": {},
       "output_type": "pyout",
       "prompt_number": 61,
       "text": [
        "{3}"
       ]
      }
     ],
     "prompt_number": 61
    },
    {
     "cell_type": "code",
     "collapsed": false,
     "input": [
      "A ^ B   # elementi v A ali B, vendar ne v obeh"
     ],
     "language": "python",
     "metadata": {},
     "outputs": [
      {
       "metadata": {},
       "output_type": "pyout",
       "prompt_number": 62,
       "text": [
        "{1, 2, 4, 5, 6}"
       ]
      }
     ],
     "prompt_number": 62
    },
    {
     "cell_type": "heading",
     "level": 3,
     "metadata": {},
     "source": [
      "Slovar (dictionary)"
     ]
    },
    {
     "cell_type": "markdown",
     "metadata": {},
     "source": [
      "https://docs.python.org/3.4/tutorial/datastructures.html#dictionaries\n",
      "\n",
      "Slovar lahko definiramo eksplicitno z pari *klju\u010d: vrednost* navedenimi znotraj zavitih oklepaja:"
     ]
    },
    {
     "cell_type": "code",
     "collapsed": false,
     "input": [
      "parametri = {'vi\u0161ina': 5.2, '\u0161irina': 43, 'g': 9.81}"
     ],
     "language": "python",
     "metadata": {},
     "outputs": [],
     "prompt_number": 32
    },
    {
     "cell_type": "code",
     "collapsed": false,
     "input": [
      "parametri"
     ],
     "language": "python",
     "metadata": {},
     "outputs": [
      {
       "metadata": {},
       "output_type": "pyout",
       "prompt_number": 33,
       "text": [
        "{'g': 9.81, 'vi\\xc5\\xa1ina': 5.2, '\\xc5\\xa1irina': 43}"
       ]
      }
     ],
     "prompt_number": 33
    },
    {
     "cell_type": "code",
     "collapsed": false,
     "input": [
      "parametri['vi\u0161ina'] # klicanje posameznega elementa po klju\u010du"
     ],
     "language": "python",
     "metadata": {},
     "outputs": [
      {
       "metadata": {},
       "output_type": "pyout",
       "prompt_number": 69,
       "text": [
        "5.2"
       ]
      }
     ],
     "prompt_number": 69
    },
    {
     "cell_type": "code",
     "collapsed": false,
     "input": [
      "parametri.keys()"
     ],
     "language": "python",
     "metadata": {},
     "outputs": [
      {
       "metadata": {},
       "output_type": "pyout",
       "prompt_number": 70,
       "text": [
        "dict_keys(['g', '\u0161irina', 'vi\u0161ina'])"
       ]
      }
     ],
     "prompt_number": 70
    },
    {
     "cell_type": "code",
     "collapsed": false,
     "input": [
      "parametri['lega_te\u017ei\u0161\u010da'] = 99999 # dodajanje elementa"
     ],
     "language": "python",
     "metadata": {},
     "outputs": [],
     "prompt_number": 71
    },
    {
     "cell_type": "code",
     "collapsed": false,
     "input": [
      "parametri"
     ],
     "language": "python",
     "metadata": {},
     "outputs": [
      {
       "metadata": {},
       "output_type": "pyout",
       "prompt_number": 72,
       "text": [
        "{'g': 9.81, '\u0161irina': 43, 'vi\u0161ina': 5.2, 'lega_te\u017ei\u0161\u010da': 99999}"
       ]
      }
     ],
     "prompt_number": 72
    },
    {
     "cell_type": "markdown",
     "metadata": {},
     "source": [
      "Odstranjevanje iz slovarja"
     ]
    },
    {
     "cell_type": "code",
     "collapsed": false,
     "input": [
      "parametri.pop('lega_te\u017ei\u0161\u010da')"
     ],
     "language": "python",
     "metadata": {},
     "outputs": [
      {
       "metadata": {},
       "output_type": "pyout",
       "prompt_number": 73,
       "text": [
        "99999"
       ]
      }
     ],
     "prompt_number": 73
    },
    {
     "cell_type": "code",
     "collapsed": false,
     "input": [
      "parametri"
     ],
     "language": "python",
     "metadata": {},
     "outputs": [
      {
       "metadata": {},
       "output_type": "pyout",
       "prompt_number": 74,
       "text": [
        "{'g': 9.81, '\u0161irina': 43, 'vi\u0161ina': 5.2}"
       ]
      }
     ],
     "prompt_number": 74
    },
    {
     "cell_type": "heading",
     "level": 3,
     "metadata": {},
     "source": [
      "Aritmeti\u010dni operatorji"
     ]
    },
    {
     "cell_type": "markdown",
     "metadata": {},
     "source": [
      "* \\+ se\u0161tevanje\n",
      "* \\- od\u0161tevanje\n",
      "* \\* mno\u017eenje\n",
      "* / deljenje\n",
      "* // celo\u0161tevilsko deljenje\n",
      "* \\*\\* eksponent\n",
      "* % ostanek pri deljenju"
     ]
    },
    {
     "cell_type": "code",
     "collapsed": true,
     "input": [
      "1 + 1.0 # \\+ se\u0161tevanje"
     ],
     "language": "python",
     "metadata": {},
     "outputs": [
      {
       "metadata": {},
       "output_type": "pyout",
       "prompt_number": 75,
       "text": [
        "2.0"
       ]
      }
     ],
     "prompt_number": 75
    },
    {
     "cell_type": "code",
     "collapsed": true,
     "input": [
      "1 - 1 # \\- od\u0161tevanje"
     ],
     "language": "python",
     "metadata": {},
     "outputs": [
      {
       "metadata": {},
       "output_type": "pyout",
       "prompt_number": 76,
       "text": [
        "0"
       ]
      }
     ],
     "prompt_number": 76
    },
    {
     "cell_type": "code",
     "collapsed": true,
     "input": [
      "2 * 3 # \\* mno\u017eenje"
     ],
     "language": "python",
     "metadata": {},
     "outputs": [
      {
       "metadata": {},
       "output_type": "pyout",
       "prompt_number": 79,
       "text": [
        "6"
       ]
      }
     ],
     "prompt_number": 79
    },
    {
     "cell_type": "code",
     "collapsed": true,
     "input": [
      "3 / 2 # / deljenje"
     ],
     "language": "python",
     "metadata": {},
     "outputs": [
      {
       "metadata": {},
       "output_type": "pyout",
       "prompt_number": 80,
       "text": [
        "1.5"
       ]
      }
     ],
     "prompt_number": 80
    },
    {
     "cell_type": "code",
     "collapsed": true,
     "input": [
      "3 // 2 # // celo\u0161tevilsko deljenje"
     ],
     "language": "python",
     "metadata": {},
     "outputs": [
      {
       "metadata": {},
       "output_type": "pyout",
       "prompt_number": 90,
       "text": [
        "1"
       ]
      }
     ],
     "prompt_number": 90
    },
    {
     "cell_type": "code",
     "collapsed": true,
     "input": [
      "3 % 2 # % ostanek pri deljenju"
     ],
     "language": "python",
     "metadata": {},
     "outputs": [
      {
       "metadata": {},
       "output_type": "pyout",
       "prompt_number": 86,
       "text": [
        "1"
       ]
      }
     ],
     "prompt_number": 86
    },
    {
     "cell_type": "code",
     "collapsed": true,
     "input": [
      "2 ** 3 # \\*\\* eksponent"
     ],
     "language": "python",
     "metadata": {},
     "outputs": [
      {
       "metadata": {},
       "output_type": "pyout",
       "prompt_number": 87,
       "text": [
        "8"
       ]
      }
     ],
     "prompt_number": 87
    },
    {
     "cell_type": "markdown",
     "metadata": {},
     "source": [
      "Aritmeti\u010dni operatorji **podpirajo prirejanje rezultata operandu**. Npr ``a += b`` ima enak u\u010dinek kot ``a = a + b``:"
     ]
    },
    {
     "cell_type": "code",
     "collapsed": true,
     "input": [
      "a = 1\n",
      "a += 1\n",
      "a"
     ],
     "language": "python",
     "metadata": {},
     "outputs": [
      {
       "metadata": {},
       "output_type": "pyout",
       "prompt_number": 89,
       "text": [
        "2"
       ]
      }
     ],
     "prompt_number": 89
    },
    {
     "cell_type": "heading",
     "level": 3,
     "metadata": {},
     "source": [
      "Primerjalni operatorji"
     ]
    },
    {
     "cell_type": "markdown",
     "metadata": {},
     "source": [
      "* < manj\u0161i\n",
      "* \\> ve\u010dji\n",
      "* <= manj\u0161e ali enako\n",
      "* \\>= ve\u010dje ali enako\n",
      "* == enako\n",
      "* != neenako"
     ]
    },
    {
     "cell_type": "code",
     "collapsed": true,
     "input": [
      "5 < 6"
     ],
     "language": "python",
     "metadata": {},
     "outputs": [
      {
       "metadata": {},
       "output_type": "pyout",
       "prompt_number": 91,
       "text": [
        "True"
       ]
      }
     ],
     "prompt_number": 91
    },
    {
     "cell_type": "markdown",
     "metadata": {},
     "source": [
      "Lahko naredimo niz logi\u010dnih operatorjev:"
     ]
    },
    {
     "cell_type": "code",
     "collapsed": true,
     "input": [
      "1 < 3 < 6 < 7"
     ],
     "language": "python",
     "metadata": {},
     "outputs": [
      {
       "metadata": {},
       "output_type": "pyout",
       "prompt_number": 92,
       "text": [
        "True"
       ]
      }
     ],
     "prompt_number": 92
    },
    {
     "cell_type": "heading",
     "level": 3,
     "metadata": {},
     "source": [
      "Logi\u010dni operatorji"
     ]
    },
    {
     "cell_type": "markdown",
     "metadata": {},
     "source": [
      "Logi\u010dni operatorji:\n",
      "* ``is``,\n",
      "* ``in``,\n",
      "* ``and``,\n",
      "* ``or``,\n",
      "* ``not``\n",
      "\n",
      "posku\u0161ajo biti v Pythonu *berljivi*. Primer:"
     ]
    },
    {
     "cell_type": "code",
     "collapsed": true,
     "input": [
      "a = 1\n",
      "a is 1 # is primerja istost; ali je a v tem primeru objekt None"
     ],
     "language": "python",
     "metadata": {},
     "outputs": [
      {
       "metadata": {},
       "output_type": "pyout",
       "prompt_number": 95,
       "text": [
        "True"
       ]
      }
     ],
     "prompt_number": 95
    },
    {
     "cell_type": "code",
     "collapsed": true,
     "input": [
      "'a' in 'abc' # in primerja ali je objekt v nizu, seznamu,..."
     ],
     "language": "python",
     "metadata": {},
     "outputs": [
      {
       "metadata": {},
       "output_type": "pyout",
       "prompt_number": 96,
       "text": [
        "True"
       ]
      }
     ],
     "prompt_number": 96
    },
    {
     "cell_type": "code",
     "collapsed": false,
     "input": [
      "parametri"
     ],
     "language": "python",
     "metadata": {},
     "outputs": [
      {
       "metadata": {},
       "output_type": "pyout",
       "prompt_number": 97,
       "text": [
        "{'g': 9.81, '\u0161irina': 43, 'vi\u0161ina': 5.2}"
       ]
      }
     ],
     "prompt_number": 97
    },
    {
     "cell_type": "code",
     "collapsed": false,
     "input": [
      "'\u0161irina' in parametri"
     ],
     "language": "python",
     "metadata": {},
     "outputs": [
      {
       "metadata": {},
       "output_type": "pyout",
       "prompt_number": 98,
       "text": [
        "True"
       ]
      }
     ],
     "prompt_number": 98
    },
    {
     "cell_type": "code",
     "collapsed": false,
     "input": [
      "1 in A # A je mno\u017eica"
     ],
     "language": "python",
     "metadata": {},
     "outputs": [
      {
       "metadata": {},
       "output_type": "pyout",
       "prompt_number": 99,
       "text": [
        "True"
       ]
      }
     ],
     "prompt_number": 99
    },
    {
     "cell_type": "markdown",
     "metadata": {},
     "source": [
      "V logi\u010dnih izrazih je poleg ``False`` neresni\u010dna tudi vrednost 0, None, prazen seznam, niz, terka,... Vse ostalo je ``True``"
     ]
    },
    {
     "cell_type": "code",
     "collapsed": true,
     "input": [
      "1 and True"
     ],
     "language": "python",
     "metadata": {},
     "outputs": [
      {
       "metadata": {},
       "output_type": "pyout",
       "prompt_number": 100,
       "text": [
        "True"
       ]
      }
     ],
     "prompt_number": 100
    },
    {
     "cell_type": "code",
     "collapsed": true,
     "input": [
      "0 and True"
     ],
     "language": "python",
     "metadata": {},
     "outputs": [
      {
       "metadata": {},
       "output_type": "pyout",
       "prompt_number": 101,
       "text": [
        "0"
       ]
      }
     ],
     "prompt_number": 101
    },
    {
     "cell_type": "code",
     "collapsed": true,
     "input": [
      " (1,) and True"
     ],
     "language": "python",
     "metadata": {},
     "outputs": [
      {
       "metadata": {},
       "output_type": "pyout",
       "prompt_number": 117,
       "text": [
        "True"
       ]
      }
     ],
     "prompt_number": 117
    },
    {
     "cell_type": "code",
     "collapsed": true,
     "input": [
      "1 < 2 "
     ],
     "language": "python",
     "metadata": {},
     "outputs": [
      {
       "metadata": {},
       "output_type": "pyout",
       "prompt_number": 118,
       "text": [
        "True"
       ]
      }
     ],
     "prompt_number": 118
    },
    {
     "cell_type": "markdown",
     "metadata": {},
     "source": [
      "Malo bolj zakompliciran stavek:"
     ]
    },
    {
     "cell_type": "code",
     "collapsed": true,
     "input": [
      "1 == 2 and 1 in [1, 2, 3] or 1 is not \"1\""
     ],
     "language": "python",
     "metadata": {},
     "outputs": [
      {
       "metadata": {},
       "output_type": "pyout",
       "prompt_number": 119,
       "text": [
        "True"
       ]
      }
     ],
     "prompt_number": 119
    },
    {
     "cell_type": "heading",
     "level": 3,
     "metadata": {},
     "source": [
      "If stavek"
     ]
    },
    {
     "cell_type": "markdown",
     "metadata": {},
     "source": [
      "Kratka oblika ``if`` stavka:"
     ]
    },
    {
     "cell_type": "code",
     "collapsed": true,
     "input": [
      "a = 6\n",
      "if a > 5:\n",
      "    print('a je ve\u010d od 5') # se izvede, \u010de je pogoj res. \n",
      "    print(13*'-')"
     ],
     "language": "python",
     "metadata": {},
     "outputs": [
      {
       "output_type": "stream",
       "stream": "stdout",
       "text": [
        "a je ve\u010d od 5\n",
        "-------------\n"
       ]
      }
     ],
     "prompt_number": 103
    },
    {
     "cell_type": "markdown",
     "metadata": {},
     "source": [
      "Zgoraj smo funkcijo ``print`` zamaknili saj pripada block-u kode, ki se izvede v primeru ``a > 0``. Nekateri programski jeziki kodo znotraj block-a dajo v zavite ali kak\u0161ne druge oklepaje in dodatno \u0161e zamikajo. Pri Pythonu se samo zamikajo. Zamik je tipi\u010dno **4 presledke**. Lahko je tudi **tabulator** (manj pogosto), vendar pa se na\u010din zamikanja znotraj ene .py datoteke ne sme spreminjati.\n",
      "\n",
      "Stavke lahko zapi\u0161emo tudi v eno vrstico, vendar je taka uporaba odsvetovana, saj zmanj\u0161uje preglednost kode:"
     ]
    },
    {
     "cell_type": "code",
     "collapsed": true,
     "input": [
      "if a > 5: print('taka oblika je odsvetovana'); print(40*'-'); print('uporaba podpi\u010dja namesto nove vrstice')"
     ],
     "language": "python",
     "metadata": {},
     "outputs": [],
     "prompt_number": 123
    },
    {
     "cell_type": "markdown",
     "metadata": {},
     "source": [
      "Spodaj je ``if`` stavek, ki ima tudi pogoj ``elfi`` (namesto *else if*) in kon\u010dni izhodni pogoj ``else``. ``elif`` pogojev je lahko ve\u010d."
     ]
    },
    {
     "cell_type": "code",
     "collapsed": true,
     "input": [
      "a = 1\n",
      "if a > 5:\n",
      "    print('a je ve\u010d od 5')\n",
      "elif a < 0: # else if\n",
      "    print('a je manj\u0161i od 0')\n",
      "elif a < 2: # elif pogojev je lahko ve\u010d\n",
      "    print('a je manj\u0161i od 2, vendar ve\u010dji od 0')\n",
      "else: # se izvede, \u010de se ne izvede noben od zgornjih pogojev\n",
      "    print('a ima vrednost od 2 in 5')"
     ],
     "language": "python",
     "metadata": {},
     "outputs": [
      {
       "output_type": "stream",
       "stream": "stdout",
       "text": [
        "a je manj\u0161i od 2, vendar ve\u010dji od 0\n"
       ]
      }
     ],
     "prompt_number": 105
    },
    {
     "cell_type": "heading",
     "level": 3,
     "metadata": {},
     "source": [
      "If izraz"
     ]
    },
    {
     "cell_type": "markdown",
     "metadata": {},
     "source": [
      "Poleg ``if`` stavka ima Python tudi ``if`` izraz:"
     ]
    },
    {
     "cell_type": "code",
     "collapsed": true,
     "input": [
      "a = True\n",
      "b = 'b'\n",
      "c = 'c'\n",
      "\n",
      "b if a else c # to nam bo zelo pri\u0161lo prav pozneje!"
     ],
     "language": "python",
     "metadata": {},
     "outputs": [
      {
       "metadata": {},
       "output_type": "pyout",
       "prompt_number": 110,
       "text": [
        "'b'"
       ]
      }
     ],
     "prompt_number": 110
    },
    {
     "cell_type": "heading",
     "level": 3,
     "metadata": {},
     "source": [
      "Zanke"
     ]
    },
    {
     "cell_type": "heading",
     "level": 4,
     "metadata": {},
     "source": [
      "While zanka"
     ]
    },
    {
     "cell_type": "markdown",
     "metadata": {},
     "source": [
      "Poglejmo si najprej ``while`` zanko v osnovni obliki:"
     ]
    },
    {
     "cell_type": "code",
     "collapsed": true,
     "input": [
      "a = 0\n",
      "while a < 3:\n",
      "    print(a)\n",
      "    a += 1"
     ],
     "language": "python",
     "metadata": {},
     "outputs": [
      {
       "output_type": "stream",
       "stream": "stdout",
       "text": [
        "0\n",
        "1\n",
        "2\n"
       ]
      }
     ],
     "prompt_number": 111
    },
    {
     "cell_type": "heading",
     "level": 4,
     "metadata": {},
     "source": [
      "For zanka"
     ]
    },
    {
     "cell_type": "markdown",
     "metadata": {},
     "source": [
      "V Pythonu bomo **zelo pogosto** uporabljali for zanko:"
     ]
    },
    {
     "cell_type": "code",
     "collapsed": true,
     "input": [
      "imena = ['Jaka', 'Miki', 'Luka', 'Anja']\n",
      "for ime in imena: # tukaj se skriva prirejanje; ``ime`` vsaki\u010d pridobi novo vrednost\n",
      "    print(ime)"
     ],
     "language": "python",
     "metadata": {},
     "outputs": [
      {
       "output_type": "stream",
       "stream": "stdout",
       "text": [
        "Jaka\n",
        "Miki\n",
        "Luka\n",
        "Anja\n"
       ]
      }
     ],
     "prompt_number": 113
    },
    {
     "cell_type": "markdown",
     "metadata": {},
     "source": [
      "Del izvajanja zanke lahko presko\u010dimo z ukazom ``continue`` ali pa zanko prekinemo z ukazom ``break``.\n",
      "\n",
      "Sicer pa imajo zanke v Pythonu tudi ``else`` izhod; ta se izvede, ko zmanjka niza ali je ta prazen (ne izvede se, \u010de zanko prekinemo)."
     ]
    },
    {
     "cell_type": "code",
     "collapsed": false,
     "input": [
      "imena = ['Jaka', 'Miki', 'Luka', 'Anja']\n",
      "for ime in imena: # tukaj se skriva prirejanje; ``ime`` vsaki\u010d pridobi novo vrednost\n",
      "    print(2*ime, end='') # privzeta vrednost end='\\n' kar pomeni ``newline`` gre torej v novo vrstico\n",
      "    if 'i' in ime:\n",
      "        continue\n",
      "    elif 'L' in ime:\n",
      "        break\n",
      "    print('') # gre samo v novo vrstico\n",
      "else:\n",
      "    print('konec')"
     ],
     "language": "python",
     "metadata": {},
     "outputs": [
      {
       "output_type": "stream",
       "stream": "stdout",
       "text": [
        "JakaJaka\n",
        "MikiMikiLukaLuka"
       ]
      }
     ],
     "prompt_number": 114
    },
    {
     "cell_type": "markdown",
     "metadata": {},
     "source": [
      "Zanka ima lahko tudi ve\u010d teko\u010dih spremenljivk:"
     ]
    },
    {
     "cell_type": "code",
     "collapsed": false,
     "input": [
      "#print(parametri)\n",
      "for key, val in parametri.items():\n",
      "    print(key, val)"
     ],
     "language": "python",
     "metadata": {},
     "outputs": [
      {
       "output_type": "stream",
       "stream": "stdout",
       "text": [
        "g 9.81\n",
        "\u0161irina 43\n",
        "vi\u0161ina 5.2\n"
       ]
      }
     ],
     "prompt_number": 118
    },
    {
     "cell_type": "heading",
     "level": 4,
     "metadata": {},
     "source": [
      "Funkcija range"
     ]
    },
    {
     "cell_type": "markdown",
     "metadata": {},
     "source": [
      "Pogosto bomo uporabljali zanko ``for`` v povezavi s funkcijo ``range``:"
     ]
    },
    {
     "cell_type": "code",
     "collapsed": false,
     "input": [
      "for i in range(3):\n",
      "    print(i)"
     ],
     "language": "python",
     "metadata": {},
     "outputs": [
      {
       "output_type": "stream",
       "stream": "stdout",
       "text": [
        "0\n",
        "1\n",
        "2\n"
       ]
      }
     ],
     "prompt_number": 120
    },
    {
     "cell_type": "markdown",
     "metadata": {},
     "source": [
      "``?range`` razkrije podrobnosti funkcije: ``range(start, stop[, step])``. Upraba je lahko tudi taka:"
     ]
    },
    {
     "cell_type": "code",
     "collapsed": false,
     "input": [
      "for i in range(5, -30, -10):\n",
      "    print(i)"
     ],
     "language": "python",
     "metadata": {},
     "outputs": [
      {
       "output_type": "stream",
       "stream": "stdout",
       "text": [
        "5\n",
        "-5\n",
        "-15\n",
        "-25\n"
       ]
      }
     ],
     "prompt_number": 122
    },
    {
     "cell_type": "heading",
     "level": 4,
     "metadata": {},
     "source": [
      "Funkcija enumerate"
     ]
    },
    {
     "cell_type": "markdown",
     "metadata": {},
     "source": [
      "For pogosto uporabljamo s funkcijo (bolj natan\u010dno *iterator*) ``enumerate``. \u017de ime pove: o\u0161tevil\u010di. Poglejmo primer:"
     ]
    },
    {
     "cell_type": "code",
     "collapsed": false,
     "input": [
      "for i, ime in enumerate(imena):\n",
      "    print(i, ime)"
     ],
     "language": "python",
     "metadata": {},
     "outputs": [
      {
       "output_type": "stream",
       "stream": "stdout",
       "text": [
        "0 Jaka\n",
        "1 Miki\n",
        "2 Luka\n",
        "3 Anja\n"
       ]
      }
     ],
     "prompt_number": 123
    },
    {
     "cell_type": "code",
     "collapsed": false,
     "input": [
      "?enumerate"
     ],
     "language": "python",
     "metadata": {},
     "outputs": [],
     "prompt_number": 2
    },
    {
     "cell_type": "heading",
     "level": 4,
     "metadata": {},
     "source": [
      "Funkcija zip"
     ]
    },
    {
     "cell_type": "markdown",
     "metadata": {},
     "source": [
      "Naslednja pogosta funkcija (tudi to je dejansko *iterator*) je ``zip``. Poglejmo si primer:"
     ]
    },
    {
     "cell_type": "code",
     "collapsed": false,
     "input": [
      "liki = ['trikotnik', 'krog']\n",
      "barve = ['rde\u010d', 'moder']\n",
      "for barva, lik in zip(barve, liki):\n",
      "    print(barva, lik)"
     ],
     "language": "python",
     "metadata": {},
     "outputs": [
      {
       "output_type": "stream",
       "stream": "stdout",
       "text": [
        "('rde\\xc4\\x8d', 'trikotnik')\n",
        "('moder', 'krog')\n"
       ]
      }
     ],
     "prompt_number": 3
    },
    {
     "cell_type": "code",
     "collapsed": false,
     "input": [
      "zip(barve, liki)"
     ],
     "language": "python",
     "metadata": {},
     "outputs": [
      {
       "metadata": {},
       "output_type": "pyout",
       "prompt_number": 4,
       "text": [
        "[('rde\\xc4\\x8d', 'trikotnik'), ('moder', 'krog')]"
       ]
      }
     ],
     "prompt_number": 4
    },
    {
     "cell_type": "code",
     "collapsed": false,
     "input": [
      "zip(barve, liki).__next__()"
     ],
     "language": "python",
     "metadata": {},
     "outputs": [
      {
       "ename": "AttributeError",
       "evalue": "'list' object has no attribute '__next__'",
       "output_type": "pyerr",
       "traceback": [
        "\u001b[1;31m---------------------------------------------------------------------------\u001b[0m\n\u001b[1;31mAttributeError\u001b[0m                            Traceback (most recent call last)",
        "\u001b[1;32m<ipython-input-5-d90ce51a4bc6>\u001b[0m in \u001b[0;36m<module>\u001b[1;34m()\u001b[0m\n\u001b[1;32m----> 1\u001b[1;33m \u001b[0mzip\u001b[0m\u001b[1;33m(\u001b[0m\u001b[0mbarve\u001b[0m\u001b[1;33m,\u001b[0m \u001b[0mliki\u001b[0m\u001b[1;33m)\u001b[0m\u001b[1;33m.\u001b[0m\u001b[0m__next__\u001b[0m\u001b[1;33m(\u001b[0m\u001b[1;33m)\u001b[0m\u001b[1;33m\u001b[0m\u001b[0m\n\u001b[0m",
        "\u001b[1;31mAttributeError\u001b[0m: 'list' object has no attribute '__next__'"
       ]
      }
     ],
     "prompt_number": 5
    },
    {
     "cell_type": "heading",
     "level": 1,
     "metadata": {},
     "source": [
      "Do naslednjih vaj pre\u0161tudirajte slede\u010de:"
     ]
    },
    {
     "cell_type": "markdown",
     "metadata": {},
     "source": [
      "1. Namestite *Anaconda*.\n",
      "2. Namestite *pyCharm Community Edition*.\n",
      "3. V poljubnem delovnem direktoriju za\u017eenite ipython notebook.\n",
      "4. Prika\u017eite uporabo stilov, uporabo poudarjenega, po\u0161evnega teksta, uporabo seznamov, ena\u010dbe...\n",
      "5. Definirajte razliko med stati\u010dnim in dinami\u010dnim definiranjem spremenljivk.\n",
      "6. Poi\u0161\u010dite pomo\u010d poljubega ukaza (znotraj Pythona in na uradni doma\u010di strani).\n",
      "7. Prika\u017eite uporabo *niza*, *celega \u0161tevila* in *\u0161tevila z uporabo plavajo\u010de vejice*.\n",
      "8. Prika\u017eite uporabo *terke* in njenih bistvenih lastnosti.\n",
      "9. Prika\u017eite uporabo *seznama* in njegovih bistvenih lastnosti.\n",
      "10. Komentirajte tipi\u010dne operacije nad seznami.\n",
      "11. Komentirajte uporabo *mno\u017eic* in tipi\u010dne uporabe.\n",
      "12. Prika\u017eite uporabo slovarjev.\n",
      "13. Katere aritmeti\u010dne operatorje poznamo v Pythonu? Prika\u017eite uporabo.\n",
      "14. Katere primerjalne operatorje poznamo v Pythonu? Prika\u017eite uporabo.\n",
      "15. Katere logi\u010dne operatorje poznamo v Pythonu? Prika\u017eite uporabo.\n",
      "16. Prika\u017eite uporabo ``if`` stavka.\n",
      "17. Kak\u0161na je razlika med ``if`` stavkov in ``if`` izrazom. Prika\u017eite!\n",
      "18. Prika\u017eite uporabo zanke ``while``.\n",
      "19. Prika\u017eite uporabo zanke ``for``.\n",
      "20. Prika\u017eite uporabo zanke ``for`` v povezavi s funkcijami ``range``, ``enumerate``, ``zip``     "
     ]
    },
    {
     "cell_type": "code",
     "collapsed": false,
     "input": [],
     "language": "python",
     "metadata": {},
     "outputs": []
    }
   ],
   "metadata": {}
  }
 ]
}