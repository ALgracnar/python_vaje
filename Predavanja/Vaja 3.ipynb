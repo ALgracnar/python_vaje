{
 "metadata": {
  "name": "",
  "signature": "sha256:e863801a8055cbcc4f72e70c1d611174cb82b70185a3d9670c0a48d228f2c1b6"
 },
 "nbformat": 3,
 "nbformat_minor": 0,
 "worksheets": [
  {
   "cells": [
    {
     "cell_type": "code",
     "collapsed": false,
     "input": [],
     "language": "python",
     "metadata": {},
     "outputs": []
    }
   ],
   "metadata": {}
  }
 ]
}