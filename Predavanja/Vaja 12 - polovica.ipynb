{
 "metadata": {
  "name": "",
  "signature": "sha256:24cbb27d878c087a1532892320c1251583c259f81b6c3cbfb1695dc9e6c7ad3a"
 },
 "nbformat": 3,
 "nbformat_minor": 0,
 "worksheets": [
  {
   "cells": [
    {
     "cell_type": "markdown",
     "metadata": {},
     "source": [
      "Maj 2015, J. Slavi\u010d in L. Knez\n",
      "\n",
      "Vaje #12"
     ]
    },
    {
     "cell_type": "code",
     "collapsed": false,
     "input": [
      "# Uvozimo potrebne module\n",
      "\n",
      "from sympy import *\n",
      "init_printing()\n",
      "import numpy as np\n",
      "import matplotlib.pyplot as plt\n",
      "%matplotlib inline"
     ],
     "language": "python",
     "metadata": {},
     "outputs": [],
     "prompt_number": 2
    },
    {
     "cell_type": "code",
     "collapsed": false,
     "input": [
      "a, b, h, rho, y, m = symbols('a, b, h, rho, y, m')\n",
      "Jyy = (y**2 * rho * h * (a-a/b*y)).integrate((y, 0, b))\n",
      "Jyy"
     ],
     "language": "python",
     "metadata": {},
     "outputs": [
      {
       "output_type": "stream",
       "stream": "stderr",
       "text": [
        "C:\\Users\\aljaz\\Anaconda3\\lib\\site-packages\\IPython\\core\\formatters.py:239: FormatterWarning: Exception in image/png formatter: [WinError 145] Imenik ni prazen: 'C:\\\\Users\\\\aljaz\\\\AppData\\\\Local\\\\Temp\\\\tmpv56468vc'\n",
        "  FormatterWarning,\n"
       ]
      },
      {
       "latex": [
        "$$\\frac{a h}{12} b^{3} \\rho$$"
       ],
       "metadata": {},
       "output_type": "pyout",
       "prompt_number": 3,
       "text": [
        "   3    \n",
        "a\u22c5b \u22c5h\u22c5\u03c1\n",
        "\u2500\u2500\u2500\u2500\u2500\u2500\u2500\u2500\n",
        "   12   "
       ]
      }
     ],
     "prompt_number": 3
    },
    {
     "cell_type": "markdown",
     "metadata": {},
     "source": [
      "Upo\u0161tevanje mase:"
     ]
    },
    {
     "cell_type": "code",
     "collapsed": false,
     "input": [
      "Jyy.expand().subs(rho*a*b*h/2, m)"
     ],
     "language": "python",
     "metadata": {},
     "outputs": [
      {
       "latex": [
        "$$\\frac{b^{2} m}{6}$$"
       ],
       "metadata": {},
       "output_type": "pyout",
       "png": "[encoded data removed]",
       "prompt_number": 4,
       "text": [
        " 2  \n",
        "b \u22c5m\n",
        "\u2500\u2500\u2500\u2500\n",
        " 6  "
       ]
      }
     ],
     "prompt_number": 4
    },
    {
     "cell_type": "markdown",
     "metadata": {},
     "source": [
      "Izra\u010dunajmo \u0161e s \u0161tevilkami:"
     ]
    },
    {
     "cell_type": "code",
     "collapsed": false,
     "input": [
      "podatki = {'a': 1, 'b': 2, 'rho': 7800, 'h': 0.01}"
     ],
     "language": "python",
     "metadata": {},
     "outputs": [],
     "prompt_number": 5
    },
    {
     "cell_type": "code",
     "collapsed": false,
     "input": [
      "Jyy.subs(podatki)"
     ],
     "language": "python",
     "metadata": {},
     "outputs": [
      {
       "latex": [
        "$$52.0$$"
       ],
       "metadata": {},
       "output_type": "pyout",
       "png": "[encoded data removed]",
       "prompt_number": 6,
       "text": [
        "52.0000000000000"
       ]
      }
     ],
     "prompt_number": 6
    },
    {
     "cell_type": "markdown",
     "metadata": {},
     "source": [
      "Vpra\u0161anje 2: Izra\u010dunajte integral tudi numeri\u010dno. Uporabite ``scipy.integrate`` in integrirajte glede na pravila: trapezno, Simpsonovo 1/3. Rezultat primerjajte tudi z Gaussovo kvadraturo. Razi\u0161\u010dite natan\u010dnost in hitrost metod."
     ]
    },
    {
     "cell_type": "markdown",
     "metadata": {},
     "source": [
      "Definirajmo najprej funkcjo, ki jo je treba integrirati:"
     ]
    },
    {
     "cell_type": "code",
     "collapsed": false,
     "input": [
      "def f(y, p=podatki):\n",
      "    \"\"\"\n",
      "    y: spremenljivka\n",
      "    p: slovar s podatki: a, b, rho, h\n",
      "    \"\"\"\n",
      "    return y**2 * p['rho']* p['h'] * (p['a']-p['a']/p['b']*y)"
     ],
     "language": "python",
     "metadata": {},
     "outputs": [],
     "prompt_number": 7
    },
    {
     "cell_type": "code",
     "collapsed": false,
     "input": [
      "from scipy import integrate"
     ],
     "language": "python",
     "metadata": {},
     "outputs": [],
     "prompt_number": 8
    },
    {
     "cell_type": "markdown",
     "metadata": {},
     "source": [
      "Da dobimo ob\u010dutek o funkciji, ki jo integriramo, jo prika\u017eimo."
     ]
    },
    {
     "cell_type": "code",
     "collapsed": false,
     "input": [
      "N = 100\n",
      "y_d = np.linspace(0, podatki['b'], N)\n",
      "f_d = f(y_d, podatki)\n",
      "plt.plot(y_d, f_d);"
     ],
     "language": "python",
     "metadata": {},
     "outputs": [
      {
       "metadata": {},
       "output_type": "display_data",
       "png": "[encoded data removed]",
       "text": [
        "<matplotlib.figure.Figure at 0x856c748>"
       ]
      }
     ],
     "prompt_number": 9
    },
    {
     "cell_type": "code",
     "collapsed": false,
     "input": [
      "#%%timeit\n",
      "dy = y_d[1]-y_d[0]\n",
      "integrate.trapz(f_d, dx=dy)"
     ],
     "language": "python",
     "metadata": {},
     "outputs": [
      {
       "latex": [
        "$$51.9946944189$$"
       ],
       "metadata": {},
       "output_type": "pyout",
       "png": "[encoded data removed]",
       "prompt_number": 10,
       "text": [
        "51.9946944189"
       ]
      }
     ],
     "prompt_number": 10
    },
    {
     "cell_type": "code",
     "collapsed": false,
     "input": [
      "#%%timeit\n",
      "integrate.simps(f_d, dx=dy)"
     ],
     "language": "python",
     "metadata": {},
     "outputs": [
      {
       "latex": [
        "$$51.9999464083$$"
       ],
       "metadata": {},
       "output_type": "pyout",
       "png": "[encoded data removed]",
       "prompt_number": 11,
       "text": [
        "51.9999464083"
       ]
      }
     ],
     "prompt_number": 11
    },
    {
     "cell_type": "code",
     "collapsed": false,
     "input": [
      "#%%timeit\n",
      "integrate.quad(f, 0, podatki['b'], args=podatki)"
     ],
     "language": "python",
     "metadata": {},
     "outputs": [
      {
       "output_type": "stream",
       "stream": "stderr",
       "text": [
        "C:\\Users\\aljaz\\Anaconda3\\lib\\site-packages\\IPython\\core\\formatters.py:239: FormatterWarning: Exception in image/png formatter: \n",
        "\\begin{pmatrix}52.0, & 5.773159728050814e-13\\end{pmatrix}\n",
        "^\n",
        "Unknown symbol: \\begin (at char 0), (line:1, col:1)\n",
        "  FormatterWarning,\n"
       ]
      },
      {
       "latex": [
        "$$\\begin{pmatrix}52.0, & 5.773159728050814e-13\\end{pmatrix}$$"
       ],
       "metadata": {},
       "output_type": "pyout",
       "prompt_number": 12,
       "text": [
        "(52.0, 5.773159728050814e-13)"
       ]
      }
     ],
     "prompt_number": 12
    },
    {
     "cell_type": "markdown",
     "metadata": {},
     "source": [
      "Vpra\u0161nje 3: Pre\u0161tudirajte ``scipy.special.legendre``, ki vam vrne objekt ``orthopoly1d``. Ta objekt ima metodo ``weights``, ki vrne seznam ``[x, w, mu0]`` vrednosti, ki jih uporabimo pri Gaussovi kvadraturi. (\u010ce tukaj vsega ne razumete, ne skrbite preve\u010d, bo asistent pokazal/komentiral). Opazite lahko, da smo vrednosti izpeljali na predavanjih!"
     ]
    },
    {
     "cell_type": "code",
     "collapsed": false,
     "input": [
      "from scipy import special"
     ],
     "language": "python",
     "metadata": {},
     "outputs": [],
     "prompt_number": 13
    },
    {
     "cell_type": "markdown",
     "metadata": {},
     "source": [
      "Pripravimo Legendrev polinom izbrane stopnje (poskusite ve\u010d razli\u010dnih):"
     ]
    },
    {
     "cell_type": "code",
     "collapsed": false,
     "input": [
      "poli = special.legendre(3)"
     ],
     "language": "python",
     "metadata": {},
     "outputs": [],
     "prompt_number": 14
    },
    {
     "cell_type": "markdown",
     "metadata": {},
     "source": [
      "Pogledamo vozli\u0161\u010da, ute\u017ei:"
     ]
    },
    {
     "cell_type": "code",
     "collapsed": false,
     "input": [
      "poli.weights"
     ],
     "language": "python",
     "metadata": {},
     "outputs": [
      {
       "metadata": {},
       "output_type": "pyout",
       "prompt_number": 15,
       "text": [
        "array([[ -7.74596669e-01,   5.55555556e-01,   5.55555556e-01],\n",
        "       [ -4.78946310e-17,   8.88888889e-01,   8.88888889e-01],\n",
        "       [  7.74596669e-01,   5.55555556e-01,   5.55555556e-01]])"
       ]
      }
     ],
     "prompt_number": 15
    },
    {
     "cell_type": "markdown",
     "metadata": {},
     "source": [
      "Vpra\u0161anje 4: S pomo\u010djo zgoraj pridobljenih ute\u017ei in vozli\u0161\u010d izra\u010dunajte integral s pomo\u010djo Gaussove kvadrature: $\\sum_iw_i\\,f(x_i)$. Pazite na transformacijo mej:\n",
      "$$x=\\frac{b+a}{2}+\\frac{b-a}{2}\\xi$$\n",
      "$$\\int_a^bf(x)\\,dx\\approx\\frac{b-a}{2}\\sum_i A_i\\,f(x_i).$$"
     ]
    },
    {
     "cell_type": "markdown",
     "metadata": {},
     "source": [
      "Pripravimo delni rezultat:"
     ]
    },
    {
     "cell_type": "code",
     "collapsed": false,
     "input": [
      "aa = [w*f(x, podatki) for x, w, mu0  in poli.weights]\n",
      "aa"
     ],
     "language": "python",
     "metadata": {},
     "outputs": [
      {
       "output_type": "stream",
       "stream": "stderr",
       "text": [
        "C:\\Users\\aljaz\\Anaconda3\\lib\\site-packages\\IPython\\core\\formatters.py:239: FormatterWarning: Exception in image/png formatter: [WinError 145] Imenik ni prazen: 'C:\\\\Users\\\\aljaz\\\\AppData\\\\Local\\\\Temp\\\\tmphxdbwplh'\n",
        "  FormatterWarning,\n"
       ]
      },
      {
       "latex": [
        "$$\\begin{bmatrix}36.0697567001, & 1.59043433516e-31, & 15.9302432999\\end{bmatrix}$$"
       ],
       "metadata": {},
       "output_type": "pyout",
       "prompt_number": 16,
       "text": [
        "[36.0697567001, 1.59043433516e-31, 15.9302432999]"
       ]
      }
     ],
     "prompt_number": 16
    },
    {
     "cell_type": "markdown",
     "metadata": {},
     "source": [
      "Upo\u0161tevamo transformacijo mej in izra\u010dunamo integral:"
     ]
    },
    {
     "cell_type": "code",
     "collapsed": false,
     "input": [
      "(podatki['b']-0)/2*np.sum(aa)"
     ],
     "language": "python",
     "metadata": {},
     "outputs": [
      {
       "output_type": "stream",
       "stream": "stderr",
       "text": [
        "C:\\Users\\aljaz\\Anaconda3\\lib\\site-packages\\IPython\\core\\formatters.py:239: FormatterWarning: Exception in image/png formatter: [WinError 145] Imenik ni prazen: 'C:\\\\Users\\\\aljaz\\\\AppData\\\\Local\\\\Temp\\\\tmp4wot17mr'\n",
        "  FormatterWarning,\n"
       ]
      },
      {
       "latex": [
        "$$52.0$$"
       ],
       "metadata": {},
       "output_type": "pyout",
       "prompt_number": 17,
       "text": [
        "52.0"
       ]
      }
     ],
     "prompt_number": 17
    },
    {
     "cell_type": "code",
     "collapsed": false,
     "input": [
      "integrate.newton_cotes(rn=3)"
     ],
     "language": "python",
     "metadata": {},
     "outputs": [
      {
       "metadata": {},
       "output_type": "pyout",
       "prompt_number": 18,
       "text": [
        "(array([ 0.375,  1.125,  1.125,  0.375]), -0.0375)"
       ]
      }
     ],
     "prompt_number": 18
    },
    {
     "cell_type": "code",
     "collapsed": false,
     "input": [],
     "language": "python",
     "metadata": {},
     "outputs": [],
     "prompt_number": 18
    }
   ],
   "metadata": {}
  }
 ]
}