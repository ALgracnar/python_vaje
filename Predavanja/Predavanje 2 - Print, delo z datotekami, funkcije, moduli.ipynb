{
 "cells": [
  {
   "cell_type": "markdown",
   "metadata": {},
   "source": [
    "Feb 2015, dr. J. Slavič\n",
    "\n",
    "Predavanje 2"
   ]
  },
  {
   "cell_type": "markdown",
   "metadata": {},
   "source": [
    "# Funkcija print"
   ]
  },
  {
   "cell_type": "markdown",
   "metadata": {},
   "source": [
    "``print`` predstavlja eno od najbolj pogosto uporabljenih funkcij. Poglejmo si najprej pomoč:"
   ]
  },
  {
   "cell_type": "code",
   "execution_count": 1,
   "metadata": {
    "collapsed": false
   },
   "outputs": [],
   "source": [
    "?print"
   ]
  },
  {
   "cell_type": "markdown",
   "metadata": {},
   "source": [
    "Primer (kako ponavadi ne programiramo):"
   ]
  },
  {
   "cell_type": "code",
   "execution_count": 2,
   "metadata": {
    "collapsed": false
   },
   "outputs": [
    {
     "name": "stdout",
     "output_type": "stream",
     "text": [
      "a;5\t"
     ]
    }
   ],
   "source": [
    "print('a', 5, sep=';', end='\\t')"
   ]
  },
  {
   "cell_type": "markdown",
   "metadata": {},
   "source": [
    "Ponavadi formatiramo nize s pomočjo metod za formatiranje *fmt* (*format method*):\n",
    "\n",
    "'katero-koli besedilo{:fmt1}besedilo naprej{:fmt2}....'.format(arg1, arg2,....)\n",
    "\n",
    "kjer je znotraj zavitih oklepajev definirano kako formatirati število (*fmt*). Poglejmo si najprej osnove; pogosto boste uporabili *fmt* oblike:\n",
    "* w.d**f** - predstavitev s plavajočo vejico (f-float)\n",
    "* w.d**e** - predstavitev z eksponentom (e-exponent)\n",
    "* w.d**g** - splošni format (g-general)\n",
    "\n",
    "``w`` predstavlja (minimalno) skupno širino, ``d`` pa število mest za decimalno piko:"
   ]
  },
  {
   "cell_type": "code",
   "execution_count": 3,
   "metadata": {
    "collapsed": false
   },
   "outputs": [
    {
     "data": {
      "text/plain": [
       "'a=  12.000 in sdsdb = 3.422e+05 in b = 12'"
      ]
     },
     "execution_count": 3,
     "metadata": {},
     "output_type": "execute_result"
    }
   ],
   "source": [
    "tekst = 'a= {0:7.3f} in sdsdb = {1:7.3e} in b = {0:g}'.format(12, 342235.5434666)\n",
    "tekst"
   ]
  },
  {
   "cell_type": "code",
   "execution_count": 4,
   "metadata": {
    "collapsed": false
   },
   "outputs": [
    {
     "name": "stdout",
     "output_type": "stream",
     "text": [
      "a =   1.000 in b = 3.422e+05\n"
     ]
    }
   ],
   "source": [
    "print('a = {:7.3f} in b = {:7.3e}'.format(1, 342235.5434666))"
   ]
  },
  {
   "cell_type": "markdown",
   "metadata": {},
   "source": [
    "Funkcija format je lahko bistveno bolj bogata. Celotna pomoč tukaj: \n",
    "\n",
    "https://docs.python.org/3.4/library/string.html#formatspec\n",
    "\n",
    "Poglejmo si primer, kjer do spremenjliv dostopamo glede na zaporedno mesto:"
   ]
  },
  {
   "cell_type": "code",
   "execution_count": 5,
   "metadata": {
    "collapsed": false
   },
   "outputs": [
    {
     "name": "stdout",
     "output_type": "stream",
     "text": [
      "a =   1.000, b = 3.422e+05 in spet a = 1.00000\n"
     ]
    }
   ],
   "source": [
    "print('a = {0:7.3f}, b = {1:7.3e} in spet a = {0:7.5f}'.format(1, 342235.5434666))"
   ]
  },
  {
   "cell_type": "markdown",
   "metadata": {},
   "source": [
    "Dostopanje do spremenljivk z imeni"
   ]
  },
  {
   "cell_type": "code",
   "execution_count": 6,
   "metadata": {
    "collapsed": false
   },
   "outputs": [
    {
     "data": {
      "text/plain": [
       "'a = 500.00, b = 1.000e+01 in spet a =     500'"
      ]
     },
     "execution_count": 6,
     "metadata": {},
     "output_type": "execute_result"
    }
   ],
   "source": [
    "'a = {a:5.2f}, b = {b:7.3e} in spet a = {a:7g}'.format(a=500, b=10)"
   ]
  },
  {
   "cell_type": "markdown",
   "metadata": {},
   "source": [
    "Ali z uporabo slovarjev"
   ]
  },
  {
   "cell_type": "code",
   "execution_count": 7,
   "metadata": {
    "collapsed": false
   },
   "outputs": [],
   "source": [
    "parametri = {'visina': 5., 'gostota':100.111}"
   ]
  },
  {
   "cell_type": "code",
   "execution_count": 8,
   "metadata": {
    "collapsed": false
   },
   "outputs": [
    {
     "data": {
      "text/plain": [
       "'višina =   5.000, gostota = 1.001e+02'"
      ]
     },
     "execution_count": 8,
     "metadata": {},
     "output_type": "execute_result"
    }
   ],
   "source": [
    "'višina = {visina:7.3f}, gostota = {gostota:7.3e}'.format(**parametri)"
   ]
  },
  {
   "cell_type": "markdown",
   "metadata": {},
   "source": [
    "Primer iz pomoči"
   ]
  },
  {
   "cell_type": "code",
   "execution_count": 9,
   "metadata": {
    "collapsed": false
   },
   "outputs": [
    {
     "name": "stdout",
     "output_type": "stream",
     "text": [
      "left<<<<<<<<<<<<<<<<<<<<<<<<<<\n",
      "^^^^^^^^^^^^center^^^^^^^^^^^^\n",
      ">>>>>>>>>>>>>>>>>>>>>>>>>right\n"
     ]
    }
   ],
   "source": [
    "for align, text in zip('<^>', ['left', 'center', 'right']):\n",
    "     print('{0:{fill}{align}30}'.format(text, fill=align, align=align))"
   ]
  },
  {
   "cell_type": "code",
   "execution_count": 10,
   "metadata": {
    "collapsed": false
   },
   "outputs": [
    {
     "data": {
      "text/plain": [
       "'Kompleksno število (4-2j) je sestavljeno iz realnega (4.0) in imaginarnega ()-2.0) dela.'"
      ]
     },
     "execution_count": 10,
     "metadata": {},
     "output_type": "execute_result"
    }
   ],
   "source": [
    "c = 4-2j\n",
    "'Kompleksno število {0} je sestavljeno iz realnega ({0.real}) '\\\n",
    "'in imaginarnega (){0.imag}) dela.'.format(c)"
   ]
  },
  {
   "cell_type": "markdown",
   "metadata": {},
   "source": [
    "# Delo z datotekami"
   ]
  },
  {
   "cell_type": "markdown",
   "metadata": {},
   "source": [
    "Preden lahko delate z datoteko je potrebno ustvariti ustrezen objekt:"
   ]
  },
  {
   "cell_type": "code",
   "execution_count": 11,
   "metadata": {
    "collapsed": false
   },
   "outputs": [],
   "source": [
    "datoteka = open('prikaz vpisa.txt', mode='w')"
   ]
  },
  {
   "cell_type": "markdown",
   "metadata": {},
   "source": [
    "``mode`` je lahko:\n",
    "* 'r' - branje (read)\n",
    "* 'w' - pisanje (write). Če datoteka ne obstaja jo ustvari.\n",
    "* 'a' - dodaj (append) na koncu datoteke\n",
    "* 'r+' - branje in pisanje iz obstoječe datoteke\n",
    "* 'w+' - isto kot 'r+' ampak, če ni datoteke, jo ustvari     \n",
    "* 'a+' - isto kot 'w+' ampak se podatki dodajo na koncu\n",
    " \n",
    "https://docs.python.org/3.4/tutorial/inputoutput.html#reading-and-writing-files"
   ]
  },
  {
   "cell_type": "code",
   "execution_count": 12,
   "metadata": {
    "collapsed": false
   },
   "outputs": [
    {
     "data": {
      "text/plain": [
       "5"
      ]
     },
     "execution_count": 12,
     "metadata": {},
     "output_type": "execute_result"
    }
   ],
   "source": [
    "datoteka.write('test\\n')"
   ]
  },
  {
   "cell_type": "code",
   "execution_count": 13,
   "metadata": {
    "collapsed": false
   },
   "outputs": [],
   "source": [
    "for d in range(5):\n",
    "    datoteka.write('{ime1:7.2e}\\t {ime1:9.4e}\\n'.format(ime1=d))"
   ]
  },
  {
   "cell_type": "code",
   "execution_count": 14,
   "metadata": {
    "collapsed": false
   },
   "outputs": [],
   "source": [
    "datoteka.close()"
   ]
  },
  {
   "cell_type": "code",
   "execution_count": 15,
   "metadata": {
    "collapsed": false
   },
   "outputs": [],
   "source": [
    "datoteka = open('prikaz vpisa.txt', mode='r+')"
   ]
  },
  {
   "cell_type": "code",
   "execution_count": 16,
   "metadata": {
    "collapsed": false
   },
   "outputs": [
    {
     "name": "stdout",
     "output_type": "stream",
     "text": [
      "test\n",
      "0.00e+00\t 0.0000e+00\n",
      "1.00e+00\t 1.0000e+00\n",
      "2.00e+00\t 2.0000e+00\n",
      "3.00e+00\t 3.0000e+00\n",
      "4.00e+00\t 4.0000e+00\n"
     ]
    }
   ],
   "source": [
    "for line in datoteka:\n",
    "    print(line, end='')"
   ]
  },
  {
   "cell_type": "markdown",
   "metadata": {},
   "source": [
    "Uporaba ``print`` stavka in sprememba cilja pisanja:"
   ]
  },
  {
   "cell_type": "code",
   "execution_count": 17,
   "metadata": {
    "collapsed": false
   },
   "outputs": [
    {
     "data": {
      "text/plain": [
       "6"
      ]
     },
     "execution_count": 17,
     "metadata": {},
     "output_type": "execute_result"
    }
   ],
   "source": [
    "datoteka.write('jfhak\\n')"
   ]
  },
  {
   "cell_type": "code",
   "execution_count": 18,
   "metadata": {
    "collapsed": false
   },
   "outputs": [],
   "source": [
    "print('konec', file=datoteka)\n",
    "datoteka.close()"
   ]
  },
  {
   "cell_type": "markdown",
   "metadata": {},
   "source": [
    "Branje datoteke in zapis v seznam"
   ]
  },
  {
   "cell_type": "code",
   "execution_count": 19,
   "metadata": {
    "collapsed": false
   },
   "outputs": [
    {
     "name": "stdout",
     "output_type": "stream",
     "text": [
      "['test']\n",
      "['0.00e+00', '0.0000e+00']\n",
      "['1.00e+00', '1.0000e+00']\n",
      "['2.00e+00', '2.0000e+00']\n",
      "['3.00e+00', '3.0000e+00']\n",
      "['4.00e+00', '4.0000e+00']\n",
      "['jfhak']\n",
      "['konec']\n"
     ]
    }
   ],
   "source": [
    "datoteka = open('prikaz vpisa.txt')\n",
    "for line in datoteka:\n",
    "    print(line.split()) # preverite funkcio split()!\n",
    "datoteka.close()"
   ]
  },
  {
   "cell_type": "code",
   "execution_count": 20,
   "metadata": {
    "collapsed": false
   },
   "outputs": [],
   "source": [
    "vrednosti = [] #prazen seznam\n",
    "datoteka = open('prikaz vpisa.txt')\n",
    "for line in datoteka:\n",
    "    pod = line.split()\n",
    "    if len(pod)==2:\n",
    "        vrednosti.append(float(pod[0])) # namesto float() bi tukaj lahko uporabili tudi počasnejšo in splošnejšo eval()\n",
    "datoteka.close()"
   ]
  },
  {
   "cell_type": "code",
   "execution_count": 21,
   "metadata": {
    "collapsed": false
   },
   "outputs": [
    {
     "data": {
      "text/plain": [
       "[0.0, 1.0, 2.0, 3.0, 4.0]"
      ]
     },
     "execution_count": 21,
     "metadata": {},
     "output_type": "execute_result"
    }
   ],
   "source": [
    "vrednosti"
   ]
  },
  {
   "cell_type": "code",
   "execution_count": 22,
   "metadata": {
    "collapsed": false
   },
   "outputs": [
    {
     "data": {
      "text/plain": [
       "2.0"
      ]
     },
     "execution_count": 22,
     "metadata": {},
     "output_type": "execute_result"
    }
   ],
   "source": [
    "vrednosti[1]*2"
   ]
  },
  {
   "cell_type": "markdown",
   "metadata": {},
   "source": [
    "## Kontrola napak"
   ]
  },
  {
   "cell_type": "markdown",
   "metadata": {},
   "source": [
    "Kadar programiramo kaj bolj zahtevnega, je treba kontrolirati morebitne napake. Če na primer uporabnik vnese v nekaj takega:"
   ]
  },
  {
   "cell_type": "code",
   "execution_count": 23,
   "metadata": {
    "collapsed": false
   },
   "outputs": [
    {
     "ename": "TypeError",
     "evalue": "unsupported operand type(s) for /: 'int' and 'str'",
     "output_type": "error",
     "traceback": [
      "\u001b[1;31m---------------------------------------------------------------------------\u001b[0m\n\u001b[1;31mTypeError\u001b[0m                                 Traceback (most recent call last)",
      "\u001b[1;32m<ipython-input-23-9627a5494c9a>\u001b[0m in \u001b[0;36m<module>\u001b[1;34m()\u001b[0m\n\u001b[1;32m----> 1\u001b[1;33m \u001b[1;36m1\u001b[0m\u001b[1;33m/\u001b[0m\u001b[1;34m'0'\u001b[0m\u001b[1;33m\u001b[0m\u001b[0m\n\u001b[0m",
      "\u001b[1;31mTypeError\u001b[0m: unsupported operand type(s) for /: 'int' and 'str'"
     ]
    }
   ],
   "source": [
    "1/'0'"
   ]
  },
  {
   "cell_type": "markdown",
   "metadata": {},
   "source": [
    "Python vrne ``ZeroDivisionError``. Če ne želimo, da se program *sesuje*, se postopa takole:"
   ]
  },
  {
   "cell_type": "code",
   "execution_count": 25,
   "metadata": {
    "collapsed": false
   },
   "outputs": [
    {
     "name": "stdout",
     "output_type": "stream",
     "text": [
      "Deljenje z ničlo! Vstavite število, ki je različno od nič.\n"
     ]
    }
   ],
   "source": [
    "a = 0\n",
    "#a = '0'\n",
    "try:\n",
    "    1/a\n",
    "except ZeroDivisionError:\n",
    "    print('Deljenje z ničlo! Vstavite število, ki je različno od nič.') # ali kakšna druga akcija\n",
    "except:\n",
    "    print('Katera-koli napaka') # odsvetovano; dobro je predvideti napako!"
   ]
  },
  {
   "cell_type": "markdown",
   "metadata": {},
   "source": [
    "Pametno je preverjati podatke in potem dvigniti izjeme, ki jih funkcija, ki izvaja trenutno kodo lahko ujame v ``try except`` stavku:"
   ]
  },
  {
   "cell_type": "code",
   "execution_count": 26,
   "metadata": {
    "collapsed": false
   },
   "outputs": [
    {
     "ename": "Exception",
     "evalue": "Parameter a ne more biti 5",
     "output_type": "error",
     "traceback": [
      "\u001b[1;31m---------------------------------------------------------------------------\u001b[0m\n\u001b[1;31mException\u001b[0m                                 Traceback (most recent call last)",
      "\u001b[1;32m<ipython-input-26-ed02b5311594>\u001b[0m in \u001b[0;36m<module>\u001b[1;34m()\u001b[0m\n\u001b[0;32m      1\u001b[0m \u001b[0ma\u001b[0m \u001b[1;33m=\u001b[0m \u001b[1;36m5\u001b[0m\u001b[1;33m\u001b[0m\u001b[0m\n\u001b[0;32m      2\u001b[0m \u001b[1;32mif\u001b[0m \u001b[0ma\u001b[0m \u001b[1;33m==\u001b[0m \u001b[1;36m5\u001b[0m\u001b[1;33m:\u001b[0m\u001b[1;33m\u001b[0m\u001b[0m\n\u001b[1;32m----> 3\u001b[1;33m     \u001b[1;32mraise\u001b[0m \u001b[0mException\u001b[0m\u001b[1;33m(\u001b[0m\u001b[1;34m'Parameter a ne more biti {:g}'\u001b[0m\u001b[1;33m.\u001b[0m\u001b[0mformat\u001b[0m\u001b[1;33m(\u001b[0m\u001b[0ma\u001b[0m\u001b[1;33m)\u001b[0m\u001b[1;33m)\u001b[0m\u001b[1;33m\u001b[0m\u001b[0m\n\u001b[0m",
      "\u001b[1;31mException\u001b[0m: Parameter a ne more biti 5"
     ]
    }
   ],
   "source": [
    "a = 5\n",
    "if a == 5:\n",
    "    raise Exception('Parameter a ne more biti {:g}'.format(a))"
   ]
  },
  {
   "cell_type": "markdown",
   "metadata": {},
   "source": [
    "Vključimo izjemo sedaj v ``try except`` stavek:"
   ]
  },
  {
   "cell_type": "code",
   "execution_count": 27,
   "metadata": {
    "collapsed": false
   },
   "outputs": [],
   "source": [
    "def neka_funkcija(a):\n",
    "    if a >= 5:\n",
    "        raise Exception('Parameter a ne more biti večji od {:g}'.format(a))\n",
    "    return a**2"
   ]
  },
  {
   "cell_type": "code",
   "execution_count": 28,
   "metadata": {
    "collapsed": false
   },
   "outputs": [
    {
     "name": "stdout",
     "output_type": "stream",
     "text": [
      "Parameter a ne more biti večji od 5\n"
     ]
    }
   ],
   "source": [
    "try:\n",
    "    neka_funkcija(a=5)\n",
    "except Exception as spremenljivka_napake:\n",
    "    print(spremenljivka_napake)"
   ]
  },
  {
   "cell_type": "markdown",
   "metadata": {},
   "source": [
    "Več: https://docs.python.org/3.4/tutorial/errors.html"
   ]
  },
  {
   "cell_type": "markdown",
   "metadata": {},
   "source": [
    "## Izpeljevanje seznamov, slovarjev, množic, terke"
   ]
  },
  {
   "cell_type": "markdown",
   "metadata": {},
   "source": [
    "Izvorni angleški izraz za izpeljevanje seznamov je *list comprehensions*.\n",
    "\n",
    "Poglejmo si zakaj sploh gre. Začnimo s seznamom:"
   ]
  },
  {
   "cell_type": "code",
   "execution_count": 29,
   "metadata": {
    "collapsed": false
   },
   "outputs": [
    {
     "data": {
      "text/plain": [
       "['Tole', 'je', 'nek', 'niz']"
      ]
     },
     "execution_count": 29,
     "metadata": {},
     "output_type": "execute_result"
    }
   ],
   "source": [
    "a = ['Tole', 'je', 'nek', 'niz']\n",
    "a[:7]"
   ]
  },
  {
   "cell_type": "markdown",
   "metadata": {},
   "source": [
    "Predstavljajmo si, da želimo za vsak element zgornjega seznama ugotoviti njegovo dolžino. Klasični programer bi naredil nekaj takega:"
   ]
  },
  {
   "cell_type": "code",
   "execution_count": 30,
   "metadata": {
    "collapsed": false
   },
   "outputs": [
    {
     "name": "stdout",
     "output_type": "stream",
     "text": [
      "1000000 loops, best of 3: 1.01 µs per loop\n"
     ]
    }
   ],
   "source": [
    "%%timeit\n",
    "out = [] # pripravimo prazen seznam\n",
    "for _ in a: # podčrtaj pogosto uporbimo za spremenljivko, ki jo hitro zavržemo\n",
    "    out.append(len(_))\n",
    "out"
   ]
  },
  {
   "cell_type": "markdown",
   "metadata": {},
   "source": [
    "Podobne stavke pogosto pišemo in enostavno gre preveč kode za zelo preprosti rezultat. Python zna isti rezultat podati z t.i. izpeljevanjem seznamov:"
   ]
  },
  {
   "cell_type": "code",
   "execution_count": 31,
   "metadata": {
    "collapsed": false
   },
   "outputs": [
    {
     "data": {
      "text/plain": [
       "[4, 2, 3, 3]"
      ]
     },
     "execution_count": 31,
     "metadata": {},
     "output_type": "execute_result"
    }
   ],
   "source": [
    "#%%timeit\n",
    "[len(_) for _ in a]"
   ]
  },
  {
   "cell_type": "markdown",
   "metadata": {},
   "source": [
    "Lahko dodajamo tudi ``if`` stavke:"
   ]
  },
  {
   "cell_type": "code",
   "execution_count": 32,
   "metadata": {
    "collapsed": false
   },
   "outputs": [
    {
     "data": {
      "text/plain": [
       "[4, 2, 3]"
      ]
     },
     "execution_count": 32,
     "metadata": {},
     "output_type": "execute_result"
    }
   ],
   "source": [
    "[len(_) for _ in a if 'e' in _]"
   ]
  },
  {
   "cell_type": "markdown",
   "metadata": {},
   "source": [
    "Podobno za množice in slovarje:"
   ]
  },
  {
   "cell_type": "code",
   "execution_count": 33,
   "metadata": {
    "collapsed": false
   },
   "outputs": [
    {
     "data": {
      "text/plain": [
       "{'ah', 'oh', 'uh'}"
      ]
     },
     "execution_count": 33,
     "metadata": {},
     "output_type": "execute_result"
    }
   ],
   "source": [
    "{p+'h' for p in {'a', 'o', 'u'}} # množice"
   ]
  },
  {
   "cell_type": "code",
   "execution_count": 34,
   "metadata": {
    "collapsed": false
   },
   "outputs": [
    {
     "data": {
      "text/plain": [
       "{'dolžinah', 'višinah', 'širinah'}"
      ]
     },
     "execution_count": 34,
     "metadata": {},
     "output_type": "execute_result"
    }
   ],
   "source": [
    "{p+'h' for p in {'dolžina': 1, 'širina': 3, 'višina': 5}} # slovarji - samo na ključih (keys)"
   ]
  },
  {
   "cell_type": "markdown",
   "metadata": {},
   "source": [
    "Pazi: pri terkah moramo izpeljevanje narediti takole (razlog je v tem, da se navadni oklepaj uporablja za t.i. generatorje - jih spoznamo pozneje): "
   ]
  },
  {
   "cell_type": "code",
   "execution_count": 35,
   "metadata": {
    "collapsed": false
   },
   "outputs": [
    {
     "data": {
      "text/plain": [
       "('ah', 'oh', 'uh')"
      ]
     },
     "execution_count": 35,
     "metadata": {},
     "output_type": "execute_result"
    }
   ],
   "source": [
    "tuple(p+'h' for p in ('a', 'o', 'u'))"
   ]
  },
  {
   "cell_type": "markdown",
   "metadata": {},
   "source": [
    "## Funkcije"
   ]
  },
  {
   "cell_type": "markdown",
   "metadata": {},
   "source": [
    "Seznam vgrajenih funkcij:\n",
    "\n",
    "https://docs.python.org/3.4/library/functions.html"
   ]
  },
  {
   "cell_type": "markdown",
   "metadata": {},
   "source": [
    "### Kako definiramo svojo funkcijo?"
   ]
  },
  {
   "cell_type": "markdown",
   "metadata": {},
   "source": [
    "Funkcija se začne z besedo ``def``, tipična oblika je:"
   ]
  },
  {
   "cell_type": "code",
   "execution_count": 36,
   "metadata": {
    "collapsed": false
   },
   "outputs": [],
   "source": [
    "def prva_funkcija(dolzina, sirina):\n",
    "    povrsina = dolzina * sirina\n",
    "    return povrsina"
   ]
  },
  {
   "cell_type": "code",
   "execution_count": 37,
   "metadata": {
    "collapsed": false
   },
   "outputs": [
    {
     "data": {
      "text/plain": [
       "20"
      ]
     },
     "execution_count": 37,
     "metadata": {},
     "output_type": "execute_result"
    }
   ],
   "source": [
    "prva_funkcija(1, 20)"
   ]
  },
  {
   "cell_type": "markdown",
   "metadata": {},
   "source": [
    "V kolikor ni ``return`` stavka, potem funkcija ne vrne ničesar (oz vrne ``None`` objekt). \n",
    "\n",
    "Prvi stavek je lahko t.i. *docstring*: kratek - enosvrstični - opis kaj naredi funkcija. Parametri imajo lahko tudi prvzete vrednosti."
   ]
  },
  {
   "cell_type": "code",
   "execution_count": 38,
   "metadata": {
    "collapsed": false
   },
   "outputs": [],
   "source": [
    "def povrsina(dolzina = 1, sirina = 10):\n",
    "    \"\"\"Izračun površine pravokotnika\n",
    "        \n",
    "    Parametra:\n",
    "    dolzina\n",
    "    sirina\n",
    "    \"\"\"\n",
    "    return dolzina*sirina"
   ]
  },
  {
   "cell_type": "code",
   "execution_count": 39,
   "metadata": {
    "collapsed": false
   },
   "outputs": [],
   "source": [
    "?povrsina"
   ]
  },
  {
   "cell_type": "code",
   "execution_count": 43,
   "metadata": {
    "collapsed": true
   },
   "outputs": [
    {
     "data": {
      "text/plain": [
       "10"
      ]
     },
     "execution_count": 43,
     "metadata": {},
     "output_type": "execute_result"
    }
   ],
   "source": [
    "povrsina()"
   ]
  },
  {
   "cell_type": "code",
   "execution_count": 41,
   "metadata": {
    "collapsed": false
   },
   "outputs": [
    {
     "data": {
      "text/plain": [
       "0.5"
      ]
     },
     "execution_count": 41,
     "metadata": {},
     "output_type": "execute_result"
    }
   ],
   "source": [
    "povrsina(sirina = 0.5)"
   ]
  },
  {
   "cell_type": "code",
   "execution_count": 42,
   "metadata": {
    "collapsed": false
   },
   "outputs": [
    {
     "data": {
      "text/plain": [
       "5.0"
      ]
     },
     "execution_count": 42,
     "metadata": {},
     "output_type": "execute_result"
    }
   ],
   "source": [
    "povrsina(sirina = 0.5, dolzina = 10)"
   ]
  },
  {
   "cell_type": "markdown",
   "metadata": {},
   "source": [
    "**Lokalna / globalna spremenljivka** \n",
    "Spremenjljivke definirane znotraj funkcije, so dosegljive samo znotraj funkcije. Če določeni spremenljivki ne prirejamo vrednosti, potem se predpostavi, da je definirana zunaj funkcije. Spremenljivke so globalne, če so definirane kot ``global`` (temu se izogibamo, glede na PEP8 se globalne spremenljivke pišejo z veliko, primer: ``POMEMBEN_TEKST = \"a res?\"``)."
   ]
  },
  {
   "cell_type": "code",
   "execution_count": null,
   "metadata": {
    "collapsed": false
   },
   "outputs": [],
   "source": [
    "dolzina = 3\n",
    "def kar_ena(a = 5):\n",
    "    notranja = a\n",
    "    zunanja = dolzina\n",
    "    #dolzina = notranja\n",
    "    return notranja, zunanja, dolzina"
   ]
  },
  {
   "cell_type": "code",
   "execution_count": null,
   "metadata": {
    "collapsed": false
   },
   "outputs": [],
   "source": [
    "kar_ena()"
   ]
  },
  {
   "cell_type": "markdown",
   "metadata": {},
   "source": [
    "Funkcije so v Pythonu objekt:"
   ]
  },
  {
   "cell_type": "code",
   "execution_count": null,
   "metadata": {
    "collapsed": false
   },
   "outputs": [],
   "source": [
    "kar_ena"
   ]
  },
  {
   "cell_type": "markdown",
   "metadata": {},
   "source": [
    "To imam pomembno posledico, da jih lahko podajamo drugim funkcijam v obliki argumenta:"
   ]
  },
  {
   "cell_type": "code",
   "execution_count": null,
   "metadata": {
    "collapsed": false
   },
   "outputs": [],
   "source": [
    "def super_funkcija(uporabi_funkcijo, arg):\n",
    "    return uporabi_funkcijo(arg)"
   ]
  },
  {
   "cell_type": "code",
   "execution_count": null,
   "metadata": {
    "collapsed": false
   },
   "outputs": [],
   "source": [
    "super_funkcija(len, [2, 2, 2 ,2, 2, ])"
   ]
  },
  {
   "cell_type": "code",
   "execution_count": null,
   "metadata": {
    "collapsed": false
   },
   "outputs": [],
   "source": [
    "super_funkcija(kar_ena, 9)"
   ]
  },
  {
   "cell_type": "markdown",
   "metadata": {},
   "source": [
    "``return`` funkcije je v bistvu objekt. Lahko torej tudi terko (tuple):"
   ]
  },
  {
   "cell_type": "code",
   "execution_count": null,
   "metadata": {
    "collapsed": false
   },
   "outputs": [],
   "source": [
    "def vrnem_terko():\n",
    "    return (1, 'g')\n",
    "\n",
    "(a, b) = vrnem_terko()\n",
    "print(a)\n",
    "#ali kar tako\n",
    "a, b = vrnem_terko()\n",
    "print(b)"
   ]
  },
  {
   "cell_type": "markdown",
   "metadata": {},
   "source": [
    "### Posredovanje argumentov v funkcije"
   ]
  },
  {
   "cell_type": "markdown",
   "metadata": {},
   "source": [
    "Zgoraj smo spremenljivke poslali v funkcijo preko imena. To je samo ena od možnosti. Python pozna dva načina posredovanja argumentov:\n",
    "* glede na **mesto** (*positional*)\n",
    "* glede na **ime**\n",
    "    \n",
    "Zgornjo funkcijo lahko kličemo:"
   ]
  },
  {
   "cell_type": "code",
   "execution_count": null,
   "metadata": {
    "collapsed": true
   },
   "outputs": [],
   "source": [
    "print(povrsina(3, 6))\n",
    "print(povrsina(sirina = 3, dolzina = 6))\n",
    "print(povrsina(3, dolzina = 6)) # tako pa ne"
   ]
  },
  {
   "cell_type": "markdown",
   "metadata": {},
   "source": [
    "Zadnji primer vrne napako: če ne podamo imena, potem se privzame ime glede na vrstni red argumenta!"
   ]
  },
  {
   "cell_type": "markdown",
   "metadata": {},
   "source": [
    "Pogosto funkcije dopolnjujemo in dodajamo nove argumente ali število argumentov funkciji sploh ne moremo v naprej definirati!\n",
    "\n",
    "Python s tem nima težav. Argumente, ki niso eksplicitno definirani obvladamo takole:\n",
    "* če uporabimo argument z zvezdico (npr \\*ime), potem bo Python preostale spremenljivke brez imena zapakiral v **terko**\n",
    "* če uporabimo argument z dvema zvezdicama (npr \\*\\*ime), potem bo Python preostale spremenljike z imeni zapakiral v terko **slovar**\n",
    "\n",
    "Poglejmo primer:"
   ]
  },
  {
   "cell_type": "code",
   "execution_count": null,
   "metadata": {
    "collapsed": false
   },
   "outputs": [],
   "source": [
    "def sprejmem_veliko_argumentov(student, izpit = True, *argumenti, **slovar):\n",
    "    print(student, izpit)\n",
    "    print('arg:', argumenti)\n",
    "    print('slovar:', slovar)\n",
    "    if 'showFigure' in slovar:\n",
    "        print('risem sliko')"
   ]
  },
  {
   "cell_type": "code",
   "execution_count": null,
   "metadata": {
    "collapsed": false
   },
   "outputs": [],
   "source": [
    "sprejmem_veliko_argumentov('Janez', 3, 4, 6, 't', sprejmem_veliko_argumentov)"
   ]
  },
  {
   "cell_type": "code",
   "execution_count": null,
   "metadata": {
    "collapsed": false
   },
   "outputs": [],
   "source": [
    "sprejmem_veliko_argumentov('Janez', 3, 4, predsednik = True)"
   ]
  },
  {
   "cell_type": "markdown",
   "metadata": {},
   "source": [
    "Več: https://docs.python.org/3.4/tutorial/controlflow.html#defining-functions"
   ]
  },
  {
   "cell_type": "markdown",
   "metadata": {},
   "source": [
    "### Anonimna funkcija / izraz"
   ]
  },
  {
   "cell_type": "markdown",
   "metadata": {},
   "source": [
    "https://docs.python.org/3.4/tutorial/controlflow.html#lambda-expressions\n",
    "\n",
    "Pogosto imamo potrebo po kratki funkciji, ki ne potrebuje niti imena (zato *anonimna*). Anonimno funkcjo definiramo z besedo ``lambda``:"
   ]
  },
  {
   "cell_type": "code",
   "execution_count": null,
   "metadata": {
    "collapsed": false
   },
   "outputs": [],
   "source": [
    "funkcija = lambda par: par**2\n",
    "funkcija(4)"
   ]
  },
  {
   "cell_type": "markdown",
   "metadata": {},
   "source": [
    "Več o anonimni funkciji na naslednjih predavanjih."
   ]
  },
  {
   "cell_type": "markdown",
   "metadata": {},
   "source": [
    "#### Uporaba anonimne v ``map`` in ``filter`` funkciji"
   ]
  },
  {
   "cell_type": "markdown",
   "metadata": {},
   "source": [
    "Preden je bilo v verziji Python 2 vpeljano izpeljevanje seznamov, sta se pogosto uporabljali funkciji ``map`` in ``filter``. Danes ju uporabljamo redkeje saj sta manj pregledni in počasnejši. Help: https://docs.python.org/3.4/library/functions.html#map"
   ]
  },
  {
   "cell_type": "markdown",
   "metadata": {},
   "source": [
    "Verjetno te funcije ne boste uporabljali; vseeno tukaj primer:"
   ]
  },
  {
   "cell_type": "code",
   "execution_count": null,
   "metadata": {
    "collapsed": false
   },
   "outputs": [],
   "source": [
    "#%%timeit\n",
    "kvadrat = list(map(lambda x: x**2, seznam))"
   ]
  },
  {
   "cell_type": "markdown",
   "metadata": {},
   "source": [
    "#### Uporaba anonimne funkcije v ``filter`` funkciji"
   ]
  },
  {
   "cell_type": "markdown",
   "metadata": {},
   "source": [
    "Help: https://docs.python.org/3.4/library/functions.html#filter"
   ]
  },
  {
   "cell_type": "code",
   "execution_count": null,
   "metadata": {
    "collapsed": false
   },
   "outputs": [],
   "source": [
    "list(filter(lambda x: x**3 < 0, range(-5,5)))"
   ]
  },
  {
   "cell_type": "markdown",
   "metadata": {},
   "source": [
    "## Moduli"
   ]
  },
  {
   "cell_type": "markdown",
   "metadata": {},
   "source": [
    "Z moduli lahko na enostaven način uporabimo že napisano kodo.\n",
    "\n",
    "Preprosto povedano, nam moduli v Pythonu omogočajo relativno enostavno ohranjanje preglednosti in reda. V bistvu gre za imenski prostor objektov.\n",
    "\n",
    "Poglejmo si primer modula: ``prvi_program.py``\n",
    "\n",
    "Modul uvozimo z ``import``. Ob uvozu se modul dejansko izvede:"
   ]
  },
  {
   "cell_type": "code",
   "execution_count": null,
   "metadata": {
    "collapsed": false
   },
   "outputs": [],
   "source": [
    "import prvi_modul"
   ]
  },
  {
   "cell_type": "code",
   "execution_count": null,
   "metadata": {
    "collapsed": false
   },
   "outputs": [],
   "source": [
    "prvi_modul.kvadrat(5)"
   ]
  },
  {
   "cell_type": "markdown",
   "metadata": {},
   "source": [
    "Lahko uvozimo samo del modula:"
   ]
  },
  {
   "cell_type": "code",
   "execution_count": null,
   "metadata": {
    "collapsed": false
   },
   "outputs": [],
   "source": [
    "from prvi_program import matrika"
   ]
  },
  {
   "cell_type": "code",
   "execution_count": null,
   "metadata": {
    "collapsed": false
   },
   "outputs": [],
   "source": [
    "matrika"
   ]
  },
  {
   "cell_type": "markdown",
   "metadata": {},
   "source": [
    "Ali del tudi preimenujemo"
   ]
  },
  {
   "cell_type": "code",
   "execution_count": null,
   "metadata": {
    "collapsed": false
   },
   "outputs": [],
   "source": [
    "from prvi_program import matrika as mat\n",
    "mat"
   ]
  },
  {
   "cell_type": "markdown",
   "metadata": {},
   "source": [
    "**Pomembno**: dostikrat module hierarhično razporejamo po direktorijih. Če je v določenem direktoriju datoteka (lahko tudi prazna) *\\_\\_init.py\\_\\_*, potem se tak direktorij obnaša kot modul.\n"
   ]
  },
  {
   "cell_type": "code",
   "execution_count": null,
   "metadata": {
    "collapsed": false
   },
   "outputs": [],
   "source": [
    "import moduli.drugi_program as drugi"
   ]
  },
  {
   "cell_type": "code",
   "execution_count": null,
   "metadata": {
    "collapsed": false
   },
   "outputs": [],
   "source": [
    "drugi.togostna_matrika"
   ]
  },
  {
   "cell_type": "markdown",
   "metadata": {},
   "source": [
    "**Kje Python išče module?**\n",
    "1. lokalna mapa\n",
    "2. v mapah definiranih v ``PYTHONPATH``\n",
    "3. v mapah, kjer je instaliran Python"
   ]
  },
  {
   "cell_type": "markdown",
   "metadata": {},
   "source": [
    "#### Modul ``sys``"
   ]
  },
  {
   "cell_type": "code",
   "execution_count": null,
   "metadata": {
    "collapsed": false
   },
   "outputs": [],
   "source": [
    "import sys\n",
    "sys.path"
   ]
  },
  {
   "cell_type": "markdown",
   "metadata": {},
   "source": [
    "Python ima veliko število vgrajenih modulov (in še veliko, veliko večje število se jih lahko sname na spletu, npr. tukaj: https://pypi.python.org/pypi), ki dodajo različne funkcionalnosti. \n",
    "\n",
    "``sys`` modul omogoča dostop do objektov, ki jih uporablja interpreter (``?sys``). Če želimo videti v katerih mapah išče module, to naredimo takole:"
   ]
  },
  {
   "cell_type": "markdown",
   "metadata": {},
   "source": [
    "#### Modul ``os``"
   ]
  },
  {
   "cell_type": "code",
   "execution_count": null,
   "metadata": {
    "collapsed": false
   },
   "outputs": [],
   "source": [
    "import os\n",
    "?os"
   ]
  },
  {
   "cell_type": "markdown",
   "metadata": {},
   "source": [
    "Modul ``os`` je namenjen delu z operacijskim sistemom in skrbi za združljivost z različnimi operacijskimi sistemi."
   ]
  },
  {
   "cell_type": "code",
   "execution_count": null,
   "metadata": {
    "collapsed": false
   },
   "outputs": [],
   "source": [
    "os.path.curdir"
   ]
  },
  {
   "cell_type": "code",
   "execution_count": null,
   "metadata": {
    "collapsed": false
   },
   "outputs": [],
   "source": [
    "os.path.abspath(os.path.curdir)"
   ]
  },
  {
   "cell_type": "markdown",
   "metadata": {},
   "source": [
    "Kako najdemo vse datoteke in mape v direktoriju?"
   ]
  },
  {
   "cell_type": "code",
   "execution_count": null,
   "metadata": {
    "collapsed": false
   },
   "outputs": [],
   "source": [
    "seznam = os.listdir()\n",
    "seznam"
   ]
  },
  {
   "cell_type": "code",
   "execution_count": null,
   "metadata": {
    "collapsed": false
   },
   "outputs": [],
   "source": [
    "for vrednost in seznam:\n",
    "    if os.path.isfile(vrednost):\n",
    "        print('Našel sem mapo: {:s}'.format(vrednost))"
   ]
  },
  {
   "cell_type": "markdown",
   "metadata": {},
   "source": [
    "#### Modul ``pickle``"
   ]
  },
  {
   "cell_type": "code",
   "execution_count": null,
   "metadata": {
    "collapsed": false
   },
   "outputs": [],
   "source": [
    "import pickle"
   ]
  },
  {
   "cell_type": "markdown",
   "metadata": {},
   "source": [
    "Gre za zelo uporaben modul, ki celotno strukturo shrani v binarni obliki.\n",
    "Tako pisanje kot branje je zelo hitro (pozneje bomo tako shranjevali npr. velike matrike)\n",
    "\n",
    "https://docs.python.org/3.4/library/pickle.html"
   ]
  },
  {
   "cell_type": "markdown",
   "metadata": {},
   "source": [
    "Glejmo si npr primer:"
   ]
  },
  {
   "cell_type": "code",
   "execution_count": null,
   "metadata": {
    "collapsed": false
   },
   "outputs": [],
   "source": [
    "a = {'število': 1, 'velikost': 10}\n",
    "\n",
    "datoteka = open('stanje1.pkl', 'wb')\n",
    "pickle.dump(a, datoteka, protocol=-1) # pazite: uporabite protocol=-1, da boste uporabili zadnjo verzijo\n",
    "\n",
    "datoteka = open('stanje1.pkl', 'rb')\n",
    "b = pickle.load(datoteka)\n",
    "\n",
    "print(a == b)"
   ]
  },
  {
   "cell_type": "code",
   "execution_count": null,
   "metadata": {
    "collapsed": false
   },
   "outputs": [],
   "source": [
    "b"
   ]
  },
  {
   "cell_type": "markdown",
   "metadata": {},
   "source": [
    "**Preverimo hitrost**"
   ]
  },
  {
   "cell_type": "code",
   "execution_count": null,
   "metadata": {
    "collapsed": false
   },
   "outputs": [],
   "source": [
    "data = list(range(50000))"
   ]
  },
  {
   "cell_type": "code",
   "execution_count": null,
   "metadata": {
    "collapsed": false
   },
   "outputs": [],
   "source": [
    "%%timeit\n",
    "datoteka = open('data.txt', mode='w')\n",
    "for d in data:\n",
    "    datoteka.write('{ime1:7.2e}\\n'.format(ime1=d))\n",
    "datoteka.close()"
   ]
  },
  {
   "cell_type": "code",
   "execution_count": null,
   "metadata": {
    "collapsed": false
   },
   "outputs": [],
   "source": [
    "%%timeit\n",
    "datoteka = open('data.pkl', 'wb')\n",
    "pickle.dump(data, datoteka, protocol=-1) "
   ]
  },
  {
   "cell_type": "markdown",
   "metadata": {},
   "source": [
    "## Do naslednjih vaj preštudirajte sledeče:"
   ]
  },
  {
   "cell_type": "markdown",
   "metadata": {},
   "source": [
    "1. Odprite datoteko za zapis in vanjo vpišite formatirani (skupaj 7 mest, 3 decimalna mesta) seznam v dveh stolpcih. Razločevalni znak med stolpci naj bo prazen znak ' '.\n",
    "2. Odprite pripeto datoteko ``zapis_labview.lvm`` (gre za zapis iz programa LabView) in preberite glavo v obliki slovarja ('ime polja': vrednost)\n",
    "3. V datoteki iz prejšnje točke preberiet podatke (uporabite funkcijo ``replace()`` za zamenjavo decimalne vejice v piko in nato pretvorite niz v število. Najdite ustrezno dokumentacijo/help).\n",
    "4. Na poljubnem seznamu besed prikažite uporabo izpeljevanja seznamov tako, da zamenjate samoglasnik.\n",
    "5. Napišite funkcijo. Če se v funkcijo vstavi seznam besed, potem naj vrne dolžino besed. Če se v funkcjo vstavi seznam numeričnih vrednosti, potem naj vrne njihovo vrednost povečano za ena.\n",
    "6. Zgornjo funkcijo nadgradite: če se v funkcijo vstavi prazen seznam (dolžine 0), potem naj sproži izjemo ``Exception`` z ustreznim opisom.\n",
    "7. Pripravite novo funkcijo, ki bo klicala funkcijo iz točke 6 in lovila izjeme.\n",
    "8. Za obe funkciji pripravite *docstring*\n",
    "9. Prikažite uporabo argumentov s privzetimi vrednostmi.\n",
    "10. Prikažite uporabo argumentov glede na mesto in glede na ime.\n",
    "11. V funkcijo pošljite nepredvidene vrednosti (nize in numerične vrednosti).\n",
    "12. V funkcijo pošljite nepredvidene poimenske vrednosti.\n",
    "13. Definirajte *lambda* funkcijo, ki spremenljivki spremeni predznak in prišteje vrednost 1. Prikažite uporabo ``map`` in/ali ``filter`` funkcije.\n",
    "14. Zgornji funkciji shranite v modul poljubnega imena (npr.: prve_funkcije.py).\n",
    "15. Uvozite samo eno od funkcij kot funkcijo z novim imenom (drugačno ime od izvornega)\n",
    "16. Najdite vse datoteke v trenutni mapi in le-ta shranite v obliki seznama.\n",
    "17. Za seznam iz točke 16 preverite pod-funkcije os.path (npr. os.path.basename) in preverite z ``if`` stavkom ali datoteke obstajajo.\n",
    "18. Z uporabo podfunkcij os.path določite ime in končnico datotek iz točke 16.\n",
    "19. Z izpeljevanjem seznama, naredite seznam imen in sezna končnic datotek.\n",
    "20. Seznam imen in seznam končnic shranite v obliki slovarja.\n",
    "21. Slovar iz prejšnje točke shranite in odprite s ``pickle``."
   ]
  },
  {
   "cell_type": "markdown",
   "metadata": {},
   "source": [
    "# Ekstra"
   ]
  },
  {
   "cell_type": "markdown",
   "metadata": {},
   "source": [
    "1. ``openpyxl`` za pisanje in branje Excel 2007 xlsx/xlsm datotek: http://openpyxl.readthedocs.org/en/latest/index.html#\n",
    "2. Delo z ActiveX. Primer pisanje v Excel z ActiveX: https://ucilnica.fri.uni-lj.si/mod/page/view.php?id=30964\n",
    "3. Regularni izrazi (zelo močno orodje za iskanje po nizih): https://docs.python.org/3.4/library/re.html ali v Slovenščini https://ucilnica.fri.uni-lj.si/mod/page/view.php?id=30963"
   ]
  },
  {
   "cell_type": "markdown",
   "metadata": {},
   "source": [
    "# Uporabljajte www.stackoverflow.com!"
   ]
  },
  {
   "cell_type": "markdown",
   "metadata": {},
   "source": [
    "http://www.stackoverflow.com"
   ]
  }
 ],
 "metadata": {
  "kernelspec": {
   "display_name": "Python 3",
   "language": "python",
   "name": "python3"
  },
  "language_info": {
   "codemirror_mode": {
    "name": "ipython",
    "version": 3
   },
   "file_extension": ".py",
   "mimetype": "text/x-python",
   "name": "python",
   "nbconvert_exporter": "python",
   "pygments_lexer": "ipython3",
   "version": "3.6.0"
  }
 },
 "nbformat": 4,
 "nbformat_minor": 0
}
