{
 "cells": [
  {
   "cell_type": "markdown",
   "metadata": {},
   "source": [
    "Feb 2015, J. Slavič\n",
    "\n",
    "Predavanje 4"
   ]
  },
  {
   "cell_type": "markdown",
   "metadata": {},
   "source": [
    "# Moduli - nadaljevanje"
   ]
  },
  {
   "cell_type": "markdown",
   "metadata": {},
   "source": [
    "Zadnjič smo spoznali najbolj pogosta modula: ``numpy``, ``matplotlib``. Tokrat se bomo najprej šli v detajle pisanja svojega modula. Ena od domačih nalog je bila zamenjava stolpcev ali vrstic v matriki. To lahko naredimo takole: "
   ]
  },
  {
   "cell_type": "code",
   "execution_count": 1,
   "metadata": {
    "collapsed": false
   },
   "outputs": [
    {
     "ename": "NameError",
     "evalue": "name 'np' is not defined",
     "output_type": "error",
     "traceback": [
      "\u001b[1;31m---------------------------------------------------------------------------\u001b[0m\n\u001b[1;31mNameError\u001b[0m                                 Traceback (most recent call last)",
      "\u001b[1;32m<ipython-input-1-b2e9d080f674>\u001b[0m in \u001b[0;36m<module>\u001b[1;34m()\u001b[0m\n\u001b[1;32m----> 1\u001b[1;33m \u001b[0ma\u001b[0m \u001b[1;33m=\u001b[0m \u001b[0mnp\u001b[0m\u001b[1;33m.\u001b[0m\u001b[0marange\u001b[0m\u001b[1;33m(\u001b[0m\u001b[1;36m9\u001b[0m\u001b[1;33m)\u001b[0m\u001b[1;33m.\u001b[0m\u001b[0mreshape\u001b[0m\u001b[1;33m(\u001b[0m\u001b[1;36m3\u001b[0m\u001b[1;33m,\u001b[0m \u001b[1;36m3\u001b[0m\u001b[1;33m)\u001b[0m\u001b[1;33m\u001b[0m\u001b[0m\n\u001b[0m\u001b[0;32m      2\u001b[0m \u001b[0ma\u001b[0m\u001b[1;33m\u001b[0m\u001b[0m\n",
      "\u001b[1;31mNameError\u001b[0m: name 'np' is not defined"
     ]
    }
   ],
   "source": [
    "a = np.arange(9).reshape(3, 3)\n",
    "a"
   ]
  },
  {
   "cell_type": "code",
   "execution_count": null,
   "metadata": {
    "collapsed": false
   },
   "outputs": [],
   "source": [
    "print('začetno:\\n',a)\n",
    "tmp = a[:,1].copy()\n",
    "a[:,1] = a[:,0]\n",
    "print('vmesno:\\n',a)\n",
    "a[:,0] = tmp\n",
    "print('spremenjeno:\\n', a)"
   ]
  },
  {
   "cell_type": "markdown",
   "metadata": {},
   "source": [
    "To lahko naredimo tudi z uporabo naprednega rezanja (http://docs.scipy.org/doc/numpy/reference/arrays.indexing.html#advanced-indexing), ki ne vrne pogleda, pač pa kopijo!"
   ]
  },
  {
   "cell_type": "code",
   "execution_count": null,
   "metadata": {
    "collapsed": false
   },
   "outputs": [],
   "source": [
    "def zamenjaj_stolpca(matrika, iz, na):\n",
    "    matrika[:,[iz, na]] = matrika[:,[na, iz]] # tukaj uporabimo napredno rezanje!\n",
    "    return matrika\n",
    "\n",
    "def zamenjaj_vrstici(matrika, iz, na):\n",
    "    matrika[[na, iz],:] = matrika[[iz, na],:]\n",
    "    return matrika"
   ]
  },
  {
   "cell_type": "code",
   "execution_count": null,
   "metadata": {
    "collapsed": false
   },
   "outputs": [],
   "source": [
    "a = np.arange(9).reshape(3, 3)\n",
    "print('začetno:\\n',a)\n",
    "zamenjaj_stolpca(a,1,0)\n",
    "print('zamenjana stolpca:\\n',a)\n",
    "zamenjaj_vrstici(a,1,0)\n",
    "print('zamenjani vrstici:\\n',a)"
   ]
  },
  {
   "cell_type": "markdown",
   "metadata": {},
   "source": [
    "Ker bi zgornji funkciji lahko pozneje še uporabili, je smiselno, da si pripravimo svoj modul. Poimenujmo ga ``orodja.py``. Gremo sedaj v okolje pyCharm in si poglejmo:\n",
    "1. definiranje zgornjih funkcij\n",
    "2. code inspection\n",
    "3. dodajanje komentarjev\n",
    "4. izhod:\n",
    "```python\n",
    "    if __name__ == '__main__':\n",
    "```\n",
    "5. TODO opombe"
   ]
  },
  {
   "cell_type": "code",
   "execution_count": null,
   "metadata": {
    "collapsed": false
   },
   "outputs": [],
   "source": [
    "import orodja_pred"
   ]
  },
  {
   "cell_type": "code",
   "execution_count": null,
   "metadata": {
    "collapsed": false
   },
   "outputs": [],
   "source": [
    "orodja_pred.zamenjaj_stolpca"
   ]
  },
  {
   "cell_type": "code",
   "execution_count": null,
   "metadata": {
    "collapsed": false
   },
   "outputs": [],
   "source": [
    "import orodja"
   ]
  },
  {
   "cell_type": "code",
   "execution_count": null,
   "metadata": {
    "collapsed": false
   },
   "outputs": [],
   "source": [
    "orodja.zamenjaj_stolpca(a, 1, 2)"
   ]
  },
  {
   "cell_type": "code",
   "execution_count": null,
   "metadata": {
    "collapsed": false
   },
   "outputs": [],
   "source": [
    "a"
   ]
  },
  {
   "cell_type": "code",
   "execution_count": null,
   "metadata": {
    "collapsed": false
   },
   "outputs": [],
   "source": [
    "import imp"
   ]
  },
  {
   "cell_type": "code",
   "execution_count": null,
   "metadata": {
    "collapsed": false
   },
   "outputs": [],
   "source": [
    "imp.reload(orodja)"
   ]
  },
  {
   "cell_type": "code",
   "execution_count": null,
   "metadata": {
    "collapsed": false
   },
   "outputs": [],
   "source": [
    "print(a)\n",
    "orodja.zamenjaj_stolpca(a, 1, 0)\n",
    "print(a)"
   ]
  },
  {
   "cell_type": "markdown",
   "metadata": {},
   "source": [
    "## Testiranje pravilnosti kode"
   ]
  },
  {
   "cell_type": "markdown",
   "metadata": {},
   "source": [
    "Standardno se v Pythonu uporabljajo t.i. ``unittest``:\n",
    "\n",
    "https://docs.python.org/3.4/library/unittest.html,\n",
    "\n",
    "ki pa je osredotočen bolj na splošno programiranje, ne toliko na praverjanje numerično orientirane kode. Iz tega razloga si bomo tukaj pogledali kako je testiranje podprto znotraj ``numpy.testing`` modula:\n",
    "\n",
    "http://docs.scipy.org/doc/numpy/reference/routines.testing.html#.\n",
    "\n",
    "Z tem namenom gremo v pyCharm in bomo tam ustvarili ``test_orodja.py``:\n",
    "\n",
    "1. potrebovali bomo \n",
    "```python\n",
    "    import orodja\n",
    "    import numpy as np\n",
    "    import numpy.testing as npt\n",
    "```\n",
    "\n",
    "2. nato definiramo tri matrike (npr. dimenzije (3, 3)): ``zacetna``, ``zamenjana_0_1_stolpca``, ``zamenjana_0_1_vrstica``\n",
    "\n",
    "3. za zamenjavo stolpcev definiramo funkcijo ``test_stolpec``, ki kliče ``orodja.zamenjaj_stolpca``. Rezultat predhodnega klica s pomočjo ``np.testing.assert_allclose`` preverimo glede na pričakovano vrednost  ``zamenjana_0_1_stolpca``.\n",
    "\n",
    "4. ponovimo točko 3 še za zamenjavo vrstic\n",
    "\n",
    "5. naredimo privzeti izhod\n",
    "```python\n",
    "    if __name__ == '__main__':\n",
    "        npt.run_module_suite()\n",
    "```"
   ]
  },
  {
   "cell_type": "markdown",
   "metadata": {},
   "source": [
    "# Objektno programiranje"
   ]
  },
  {
   "cell_type": "markdown",
   "metadata": {},
   "source": [
    "Python omogoča tri tipe programiranja (https://docs.python.org/3/howto/functional.html):\n",
    "\n",
    "1. proceduralno: seznam instrukcij kaj je treba izvesti (npr.: ``C, Pascal``)\n",
    "2. funkcijsko: reševanje problema z uporabo funkcij (npr.: ``Mathematica, C++, Php`` )\n",
    "3. objektno: program bazira na objektih, ki imajo lastnosti, funkcije,... (npr.: ``C++, Java``)\n"
   ]
  },
  {
   "cell_type": "markdown",
   "metadata": {},
   "source": [
    "Doslej smo spoznali proceduralno in funkcijsko programiranje. Sledi objektno orientirano programiranje, ki ponavadi temelji na **razredih** (*class*), objekti so pa **instance** (*instance*) razreda. Tukaj si bomo pogledali zgolj nekatere osnove objektnega programiranja (da boste lažje razumeli drugo kodo in jo prirejali).\n",
    "\n",
    "https://docs.python.org/3.4/tutorial/classes.html"
   ]
  },
  {
   "cell_type": "markdown",
   "metadata": {},
   "source": [
    "Poglejmo si preprosti primer:"
   ]
  },
  {
   "cell_type": "code",
   "execution_count": null,
   "metadata": {
    "collapsed": false
   },
   "outputs": [],
   "source": [
    "# proceduralno\n",
    "a = 5\n",
    "b = 5 * a\n",
    "\n",
    "# funkcijsko\n",
    "def zmnozi(a, b):\n",
    "    return a*b\n",
    "\n",
    "# objektno\n",
    "class Studenti:\n",
    "    def __init__(self, st_studentov = 1):\n",
    "        self.st_studentov = st_studentov\n",
    "        #print('kar nekaj')"
   ]
  },
  {
   "cell_type": "code",
   "execution_count": null,
   "metadata": {
    "collapsed": false
   },
   "outputs": [],
   "source": []
  },
  {
   "cell_type": "code",
   "execution_count": null,
   "metadata": {
    "collapsed": false
   },
   "outputs": [],
   "source": [
    "tile_tukaj = Studenti(10)\n",
    "tile_tukaj.st_studentov"
   ]
  },
  {
   "cell_type": "code",
   "execution_count": null,
   "metadata": {
    "collapsed": false
   },
   "outputs": [],
   "source": [
    "class Pravokotnik:\n",
    "    \"\"\"Razred za objekt pravokotnik\"\"\"\n",
    "\n",
    "    def __init__(self, sirina=1, visina=1): # to je konstruktor objekta. Se izvede, če kličemo Pravokotni(sirina=1, visina=4)\n",
    "        self.sirina = sirina \n",
    "        self.visina = visina # visina je atribut objekta\n",
    "        \n",
    "    def povrsina(self):\n",
    "        return self.sirina * self.visina\n",
    "    \n",
    "    def set_sirina(self, sirina=1):\n",
    "        self.sirina = sirina"
   ]
  },
  {
   "cell_type": "code",
   "execution_count": null,
   "metadata": {
    "collapsed": false
   },
   "outputs": [],
   "source": [
    "p1 = Pravokotnik(visina=10)\n",
    "print(p1.povrsina())\n",
    "p1.set_sirina(sirina=30)\n",
    "p1.povrsina()"
   ]
  },
  {
   "cell_type": "code",
   "execution_count": null,
   "metadata": {
    "collapsed": false
   },
   "outputs": [],
   "source": []
  },
  {
   "cell_type": "markdown",
   "metadata": {},
   "source": [
    "Bodite pozorni za zamik, ki definira celotni blok, ki pripada razredu. Spremenljivka ``self`` je referenca na sam razred (nekateri drugi programski jeziki tukaj uporabijo npr. ``this``)."
   ]
  },
  {
   "cell_type": "markdown",
   "metadata": {},
   "source": [
    "Ustvarimo sedaj instanco objekta ``Pravokotnik``:"
   ]
  },
  {
   "cell_type": "code",
   "execution_count": null,
   "metadata": {
    "collapsed": false
   },
   "outputs": [],
   "source": [
    "pravokotnik = Pravokotnik(sirina=5)"
   ]
  },
  {
   "cell_type": "markdown",
   "metadata": {},
   "source": [
    "Vsi atributi so shranjeni v slovarju ``__dict__``:"
   ]
  },
  {
   "cell_type": "code",
   "execution_count": null,
   "metadata": {
    "collapsed": false
   },
   "outputs": [],
   "source": [
    "pravokotnik.__dict__"
   ]
  },
  {
   "cell_type": "markdown",
   "metadata": {},
   "source": [
    "Do atributov praviloma ne dostopamo preko ``__dict__``, ampak takole:"
   ]
  },
  {
   "cell_type": "code",
   "execution_count": null,
   "metadata": {
    "collapsed": false
   },
   "outputs": [],
   "source": [
    "pravokotnik.sirina"
   ]
  },
  {
   "cell_type": "markdown",
   "metadata": {},
   "source": [
    "Ali objekt ima določeni atribut preverimo z ukazom ``hasattr``:"
   ]
  },
  {
   "cell_type": "code",
   "execution_count": null,
   "metadata": {
    "collapsed": false
   },
   "outputs": [],
   "source": [
    "hasattr(p1, 'sirina')"
   ]
  },
  {
   "cell_type": "markdown",
   "metadata": {},
   "source": [
    "Pokličimo sedaj še metodo (funkcije v razredih dobijo ime metoda:)) objekta (seveda bi lahko imela tudi parametre):"
   ]
  },
  {
   "cell_type": "code",
   "execution_count": null,
   "metadata": {
    "collapsed": false
   },
   "outputs": [],
   "source": [
    "pravokotnik.povrsina() #poskusite poklkcati brez oklepajev ()"
   ]
  },
  {
   "cell_type": "code",
   "execution_count": null,
   "metadata": {
    "collapsed": false
   },
   "outputs": [],
   "source": [
    "pravokotnik.set_sirina(sirina=100)"
   ]
  },
  {
   "cell_type": "code",
   "execution_count": null,
   "metadata": {
    "collapsed": false
   },
   "outputs": [],
   "source": [
    "pravokotnik.povrsina()"
   ]
  },
  {
   "cell_type": "code",
   "execution_count": null,
   "metadata": {
    "collapsed": false
   },
   "outputs": [],
   "source": [
    "pravokotnik.visina"
   ]
  },
  {
   "cell_type": "markdown",
   "metadata": {},
   "source": [
    "#### Dedovanje"
   ]
  },
  {
   "cell_type": "markdown",
   "metadata": {},
   "source": [
    "Razredi se lahko dedujejo. Preprosti primer:"
   ]
  },
  {
   "cell_type": "code",
   "execution_count": null,
   "metadata": {
    "collapsed": false
   },
   "outputs": [],
   "source": [
    "class Kvadrat(Pravokotnik):\n",
    "    \"Razred kvadrat\"\n",
    "    \n",
    "    def __init__(self, sirina=1):\n",
    "        super().__init__(sirina=sirina, visina=sirina)"
   ]
  },
  {
   "cell_type": "code",
   "execution_count": null,
   "metadata": {
    "collapsed": false
   },
   "outputs": [],
   "source": [
    "kvad = Kvadrat(sirina=10)\n",
    "kvad.povrsina()"
   ]
  },
  {
   "cell_type": "code",
   "execution_count": null,
   "metadata": {
    "collapsed": false
   },
   "outputs": [],
   "source": [
    "class Kvadrat(Pravokotnik):\n",
    "    \"Razred kvadrat\"\n",
    "    \n",
    "    def __init__(self, sirina=1):\n",
    "        super().__init__(sirina=sirina, visina=sirina)\n",
    "        \n",
    "    def set_sirina(self, sirina):\n",
    "        self.sirina = sirina\n",
    "        self.visina = sirina"
   ]
  },
  {
   "cell_type": "code",
   "execution_count": null,
   "metadata": {
    "collapsed": false
   },
   "outputs": [],
   "source": [
    "kvadrat = Kvadrat(sirina=4)"
   ]
  },
  {
   "cell_type": "code",
   "execution_count": null,
   "metadata": {
    "collapsed": false
   },
   "outputs": [],
   "source": [
    "kvadrat.povrsina()"
   ]
  },
  {
   "cell_type": "code",
   "execution_count": null,
   "metadata": {
    "collapsed": false
   },
   "outputs": [],
   "source": [
    "kvadrat.set_sirina(5)"
   ]
  },
  {
   "cell_type": "code",
   "execution_count": null,
   "metadata": {
    "collapsed": false
   },
   "outputs": [],
   "source": [
    "kvadrat.povrsina() # morali bi popraviti tudi to funkcijo"
   ]
  },
  {
   "cell_type": "markdown",
   "metadata": {},
   "source": [
    "Za vajo si sedaj poglejmo kako raširimo en vgrajeni razred (npr. ``list``):"
   ]
  },
  {
   "cell_type": "code",
   "execution_count": null,
   "metadata": {
    "collapsed": false
   },
   "outputs": [],
   "source": [
    "import numpy as np\n",
    "\n",
    "class Seznam(list):\n",
    "        \n",
    "    def narisi(self):\n",
    "        plt.plot(self, 'r.', label='Dolgo besedilo')\n",
    "        plt.legend()\n",
    "        plt.ylim(-5, 5)"
   ]
  },
  {
   "cell_type": "code",
   "execution_count": null,
   "metadata": {
    "collapsed": false
   },
   "outputs": [],
   "source": [
    "list()"
   ]
  },
  {
   "cell_type": "code",
   "execution_count": null,
   "metadata": {
    "collapsed": false
   },
   "outputs": [],
   "source": [
    "a = list([1,2,3])\n",
    "a"
   ]
  },
  {
   "cell_type": "code",
   "execution_count": null,
   "metadata": {
    "collapsed": false
   },
   "outputs": [],
   "source": [
    "a.append(1)\n",
    "plt.plot(a);"
   ]
  },
  {
   "cell_type": "code",
   "execution_count": null,
   "metadata": {
    "collapsed": false
   },
   "outputs": [],
   "source": [
    "moj_seznam = Seznam([1, 2, 3])"
   ]
  },
  {
   "cell_type": "code",
   "execution_count": null,
   "metadata": {
    "collapsed": false
   },
   "outputs": [],
   "source": [
    "moj_seznam"
   ]
  },
  {
   "cell_type": "code",
   "execution_count": null,
   "metadata": {
    "collapsed": false
   },
   "outputs": [],
   "source": [
    "moj_seznam.append(20)"
   ]
  },
  {
   "cell_type": "code",
   "execution_count": null,
   "metadata": {
    "collapsed": false
   },
   "outputs": [],
   "source": [
    "moj_seznam"
   ]
  },
  {
   "cell_type": "code",
   "execution_count": null,
   "metadata": {
    "collapsed": false
   },
   "outputs": [],
   "source": [
    "moj_seznam.narisi()"
   ]
  },
  {
   "cell_type": "markdown",
   "metadata": {},
   "source": [
    "# Uporabniški vmesnik"
   ]
  },
  {
   "cell_type": "markdown",
   "metadata": {},
   "source": [
    "Za programiranje uporbniškega vmesnika obstaja veliko različnih modulov. \n",
    "\n",
    "Tukaj si bomo pogledali ``PySide`` (temelji na ``Qt`` http://qt-project.org/), ki ima licenco LGPL in ga je mogoče brezplačno komercialno uporabljati:\n",
    "\n",
    "http://qt-project.org/wiki/PySide\n",
    "\n",
    "Pdf knjige o PySide: **Venkateshwaran Loganathan: PySide GUI Application Development**: http://goo.gl/qn5jOq)\n",
    "\n",
    "``PySide`` je sicer zelo podoben modulu ``pyQt``;  licenca slednjega ne omogoča brezplačne komercialne uporabe. Za programiranje preprostih multi-touchuporabniških vmesnikov (tablice in podobno) sicer zelo obetaven ``Kivy`` (http://kivy.org/)."
   ]
  },
  {
   "cell_type": "markdown",
   "metadata": {},
   "source": [
    "Velja omeniti, da uporabniški vmesnik lahko *rišemo* (npr. s ``QtDesigner-jem``, glejte npr.: https://www.youtube.com/watch?v=GLqrzLIIW2E), tukaj bomo uporabniški vmesnik *programirali*."
   ]
  },
  {
   "cell_type": "markdown",
   "metadata": {},
   "source": [
    "Začnimo s primerom"
   ]
  },
  {
   "cell_type": "code",
   "execution_count": null,
   "metadata": {
    "collapsed": false
   },
   "outputs": [],
   "source": [
    "import sys\n",
    "from PySide import QtCore # za interakcijo \n",
    "from PySide import QtGui  # grafični objekti\n",
    "#from PyQt4 import QtCore # za interakcijo \n",
    "#from PyQt4 import QtGui  # grafični objekti"
   ]
  },
  {
   "cell_type": "markdown",
   "metadata": {},
   "source": [
    "Ustvarimo najprej instanco objekta ``QApplication`` (vsak UV mora imeti eno takšno instanco)"
   ]
  },
  {
   "cell_type": "code",
   "execution_count": null,
   "metadata": {
    "collapsed": false
   },
   "outputs": [],
   "source": [
    "app = QtGui.QApplication(sys.argv)"
   ]
  },
  {
   "cell_type": "markdown",
   "metadata": {},
   "source": [
    "Dodajmo in prikažimo preposti napis:"
   ]
  },
  {
   "cell_type": "code",
   "execution_count": null,
   "metadata": {
    "collapsed": false
   },
   "outputs": [],
   "source": [
    "label = QtGui.QLabel(\"Dobrodošli\")\n",
    "label.show()"
   ]
  },
  {
   "cell_type": "markdown",
   "metadata": {},
   "source": [
    "Vstopimo v aplikacijo"
   ]
  },
  {
   "cell_type": "code",
   "execution_count": null,
   "metadata": {
    "collapsed": false
   },
   "outputs": [],
   "source": [
    "# Enter Qt application main loop\n",
    "app.exec_()"
   ]
  },
  {
   "cell_type": "markdown",
   "metadata": {},
   "source": [
    "Sedaj gremo v pyCharm, ker tukaj več nima smisla veliko delati na UV.\n",
    "\n",
    "Kaj bomo naredili:\n",
    "* ``MainWindow()`` razred, ki bo potomec ``QMainWindow``\n",
    "\n",
    "    http://srinikom.github.io/pyside-docs/PySide/QtGui/QMainWindow.html\n",
    "    <img src=\"http://srinikom.github.io/pyside-docs/_images/mainwindowlayout.png\">\n",
    "    \n",
    "* ``QStatusBar()``\n",
    "* ``QStatusBar()`` in ``QProgressBar()``\n",
    "* ``QCentralWidget()``\n",
    "* Ekstra: ``matplotlib``\n",
    "* Ekstra: **events** (dogodki, npr mouseDoubleClick, keyPress)"
   ]
  },
  {
   "cell_type": "markdown",
   "metadata": {},
   "source": [
    "# Do naslednjih vaj preštudirajte sledeče:"
   ]
  },
  {
   "cell_type": "markdown",
   "metadata": {},
   "source": [
    "1. V pyCharm-u pripravite modul, ki bo imel dve funkciji:\n",
    "    * za množenje matrike in vektorja\n",
    "    * za množenje dveh matrik\n",
    "* Pripravite primere uporabe, če se modul izvaja neposredno.\n",
    "* Funkcijam iz zgornje točke definirajte ``docstring``\n",
    "* Z uporabo ``Inspect Code`` počistite kodo\n",
    "* Za modul zgoraj pripravite skripto za testiranje (uporabite ``numpy.testing``)\n",
    "* Pojasnite na primeru *proceduralno* programiranje\n",
    "* Pojasnite na primeru *funkcijsko* programiranje\n",
    "* Definirajte preprosti objekt, naredite nekaj funkcij temu objektu.\n",
    "* Definirajte objekt, ki ima argument ``data`` tipa ``np.array``. Pri kreiranju instance na bo potrebno podati dolžino seznama.\n",
    "* Objektu iz prejšnje točke naj pri inicializacii priredi argumentu ``data`` priredi naključni seznam ustrezne dolžine (glejte funkcijo ``np.random.rand``).\n",
    "* Objektu iz prejšnje točke dodajte metodo za izris.\n",
    "* Objektu iz prejšnje točke dodajte metodo za zapis vrednosti v datoteko s pomočjo funkcije ``np.savetxt``.\n",
    "* Isto kakor prejšnja točka, vendar naj se podatki shranijo v binarni obliki s pomočjo modula ``pickle``\n",
    "* Dodajte metodo za branje iz datoteke (s pomočjo ``np.genfromtxt``).\n",
    "* V ``uporabniski_vmesnik_simple.py`` inicializijski metodi ``__init__`` zakomentirajte vse klice na metode ``self.init...`` razen na metodo: ``self.init_status_bar()``. Poženite program v navadnem načinu. Nastavite *break* točko na ``self.setGeometry(50, 50, 600, 400)`` in poženite program v *debug* načinu.\n",
    "* Nadaljujte prejšnjo točko in poiščite bližnjico za pomikanje po vrsticah:\n",
    "    * s preskokom vrstice\n",
    "    * z vstopom v vrstico\n",
    "\n",
    "    Vstopite v ``init_status_bar(self)`` in se ustavite pri vrstici ``self.setStatusBar(self.status_bar)``. Odprite konzolo (*console*) in preko ukazne vrstice spremenite vrednost ``self.status_bar.showMessage()``.\n",
    "* Odkomentirajte prej (zgoraj) zakomentirane vrstice. Dodajte tretji gumb, ki naj program zapre.\n",
    "* Dodajte še kakšen *widget* iz seznama: http://doc.qt.io/qt-5/gallery-windows.html \n"
   ]
  },
  {
   "cell_type": "markdown",
   "metadata": {},
   "source": [
    "## Ekstra"
   ]
  },
  {
   "cell_type": "markdown",
   "metadata": {},
   "source": [
    "Poglejte primer ``uporabniski_vmesnik.py`` in ga preštudirajte. Nekaj točk za raziskovanje:\n",
    "1. Poglejte prepis dogodka ``mouseDoubleClickEvent`` in prepišite podedovan dogodek ``keyPressEvent``, ki naj ob pritisku katere-koli tipke zapre program (če se nahajate v TextEdit polju, potem seveda pritisk tipke izpiše vrednost te tipke).\n",
    "* Odkomentirajte prej (zgoraj) zakomentirane vrstice. Dodajte tretji gumb, ki naj program zapre.\n",
    "* Dodajte še kakšen *widget* iz seznama: http://doc.qt.io/qt-5/gallery-windows.html \n",
    "* Preprogramirajte program, da se bo vedno izrisoval sinus, v vpisno polje ``function_text`` pa boste zapisali število diskretnih točk (sedaj je točk 100).  Povežite polje z ustreznimi funkcijami.\n",
    "* Uredite lovljenje napak pri zgornji spremembi."
   ]
  },
  {
   "cell_type": "markdown",
   "metadata": {},
   "source": [
    "Želite več? Glejte vire (npr. zgoraj navedeno knjigo) in primere. Veliko primerov je tukaj: http://qt-project.org/wiki/PySide_Example_Applications\n",
    "\n",
    "Kako hitro lahko naredimo svoj brskalnik, si poglejte v ``brskalnik.py``"
   ]
  }
 ],
 "metadata": {
  "kernelspec": {
   "display_name": "Python 3",
   "language": "python",
   "name": "python3"
  },
  "language_info": {
   "codemirror_mode": {
    "name": "ipython",
    "version": 3
   },
   "file_extension": ".py",
   "mimetype": "text/x-python",
   "name": "python",
   "nbconvert_exporter": "python",
   "pygments_lexer": "ipython3",
   "version": "3.6.0"
  }
 },
 "nbformat": 4,
 "nbformat_minor": 0
}
