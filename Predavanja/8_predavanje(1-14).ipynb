{
 "metadata": {
  "name": "",
  "signature": "sha256:c3230da307b15c69eef1cc005d4e07e88ae4657b53fe722a8b9c4ad9127d66a3"
 },
 "nbformat": 3,
 "nbformat_minor": 0,
 "worksheets": [
  {
   "cells": [
    {
     "cell_type": "code",
     "collapsed": false,
     "input": [],
     "language": "python",
     "metadata": {},
     "outputs": []
    },
    {
     "cell_type": "heading",
     "level": 3,
     "metadata": {},
     "source": [
      "5. Podatke:\n",
      "    ```python\n",
      "    x = np.linspace(0, 10, 10)\n",
      "    y = np.random.rand(10)-0.5\n",
      "    ```\n",
      "  interpolirajte z uporabo ``scipy.InterpolatedUnivariateSpline``. Podatke prika\u017eite."
     ]
    },
    {
     "cell_type": "code",
     "collapsed": false,
     "input": [
      "from scipy import interpolate\n",
      "from scipy import *\n",
      "import numpy as np\n",
      "import matplotlib.pyplot as plt"
     ],
     "language": "python",
     "metadata": {},
     "outputs": [],
     "prompt_number": 79
    },
    {
     "cell_type": "code",
     "collapsed": false,
     "input": [
      "#to so kubi\u010dni zlepki\n",
      "\n",
      "%matplotlib\n",
      "\n",
      "korak = 10\n",
      "x = np.linspace(0, 10, korak)\n",
      "y = np.random.rand(10)-0.5\n",
      "\n",
      "s = interpolate.InterpolatedUnivariateSpline(x, y, k=3)  #k = stopnja polinoma!\n",
      "#Je subclass, ki VEDNO gre skozi vse to\u010dke (equivalent to forcing the smoothing parameter to 0)\n",
      "#One-dimensional interpolating spline for a given set of data points.\n",
      "\n",
      "xint = np.linspace(np.min(x), np.max(x), 10*korak) #xint so podatki; start=min od x podatkov, end=max od x podatkov, korak je za 10x ve\u010dji!\n",
      "yint = s(xint)  #V 'InterpolatedUnivariateSpline' vstavimo na\u0161 nabor podatkov x oz. bolj pravilno, xint, funkcijski obliki!\n",
      "\n",
      "plt.plot(x, y, 'r.', label =\"To\u010dke\", markersize=15)  #tocke, ki jih interpoliramo\n",
      "plt.plot(xint, yint, 'g', label=\"Interpolirane tocke\", linewidth=3)\n",
      "plt.title('InterpolatedUnivariateSpline')"
     ],
     "language": "python",
     "metadata": {},
     "outputs": [
      {
       "output_type": "stream",
       "stream": "stdout",
       "text": [
        "Using matplotlib backend: Qt4Agg\n"
       ]
      },
      {
       "metadata": {},
       "output_type": "pyout",
       "prompt_number": 31,
       "text": [
        "<matplotlib.text.Text at 0xbf40048>"
       ]
      }
     ],
     "prompt_number": 31
    },
    {
     "cell_type": "heading",
     "level": 3,
     "metadata": {},
     "source": [
      "6. Za zgoraj definirane podatke preu\u010dite pomo\u010d in najdite vse ni\u010dle. Prika\u017eite jih na predhodni sliki."
     ]
    },
    {
     "cell_type": "code",
     "collapsed": false,
     "input": [
      "#ni\u010dla funkcije = roots of function!\n",
      "\n",
      "\n",
      "nicle = s.roots()  #np.roots(s) ne dela!\n",
      "print(nicle)  #nicle so vrednosti pri katerih ima polinom interpolacije x=0\n",
      "\n",
      "plt.plot(x, y, 'r.', label =\"To\u010dke\", markersize=15)\n",
      "plt.plot(xint, yint, 'g', label=\"Interpolirane tocke\", linewidth=3)\n",
      "plt.plot(nicle, np.zeros(len(nicle)), 'b.', markersize=20)  #splota \"nicle\" in matriko nicel iste dolzine kot array \"nicle\"\n",
      "plt.title('InterpolatedUnivariateSpline')"
     ],
     "language": "python",
     "metadata": {},
     "outputs": [
      {
       "output_type": "stream",
       "stream": "stdout",
       "text": [
        "[ 1.04947609  3.82201394  4.94509024  7.29716249  8.51212466  9.55464807]\n"
       ]
      },
      {
       "metadata": {},
       "output_type": "pyout",
       "prompt_number": 10,
       "text": [
        "<matplotlib.text.Text at 0x8204f98>"
       ]
      }
     ],
     "prompt_number": 10
    },
    {
     "cell_type": "heading",
     "level": 3,
     "metadata": {},
     "source": [
      "7. Za zgoraj definirani zlepek izra\u010dunajte prvi odvod in ga prika\u017eite."
     ]
    },
    {
     "cell_type": "markdown",
     "metadata": {},
     "source": [
      "http://docs.scipy.org/doc/scipy/reference/generated/scipy.misc.derivative.html"
     ]
    },
    {
     "cell_type": "code",
     "collapsed": false,
     "input": [
      "prvi_odvod = s.derivative(1)\n",
      "prvi_odvod"
     ],
     "language": "python",
     "metadata": {},
     "outputs": [
      {
       "metadata": {},
       "output_type": "pyout",
       "prompt_number": 7,
       "text": [
        "<scipy.interpolate.fitpack2.UnivariateSpline at 0x95e97b8>"
       ]
      }
     ],
     "prompt_number": 7
    },
    {
     "cell_type": "code",
     "collapsed": false,
     "input": [
      "plt.plot(x, y, 'r.', label =\"To\u010dke\", markersize=15)\n",
      "plt.plot(xint, yint, 'g', label=\"Interpolirane tocke\", linewidth=3)\n",
      "plt.plot(xint, prvi_odvod(xint), 'b')  #splota \"nicle\" in matriko nicel iste dolzine kot array \"nicle\"\n",
      "plt.title('InterpolatedUnivariateSpline')"
     ],
     "language": "python",
     "metadata": {},
     "outputs": [
      {
       "metadata": {},
       "output_type": "pyout",
       "prompt_number": 8,
       "text": [
        "<matplotlib.text.Text at 0x898ae80>"
       ]
      }
     ],
     "prompt_number": 8
    },
    {
     "cell_type": "heading",
     "level": 3,
     "metadata": {},
     "source": [
      "8. Za zgoraj definirani zlepek izra\u010dunajte integral od za\u010detka do konca."
     ]
    },
    {
     "cell_type": "code",
     "collapsed": false,
     "input": [
      "from scipy import integrate"
     ],
     "language": "python",
     "metadata": {},
     "outputs": [],
     "prompt_number": 9
    },
    {
     "cell_type": "code",
     "collapsed": false,
     "input": [
      "integrate.quad(s, 0, 10)\n"
     ],
     "language": "python",
     "metadata": {},
     "outputs": [
      {
       "latex": [
        "$$\\begin{pmatrix}1.8351040579266407, & 1.9561250235784885e-08\\end{pmatrix}$$"
       ],
       "metadata": {},
       "output_type": "pyout",
       "prompt_number": 19,
       "text": [
        "(1.8351040579266407, 1.9561250235784885e-08)"
       ]
      }
     ],
     "prompt_number": 19
    },
    {
     "cell_type": "heading",
     "level": 3,
     "metadata": {},
     "source": [
      "9. Za zgoraj definirane podatke prika\u017eite izra\u010dun linearnega in kvadratnega zlepka. Prika\u017eite na sliki"
     ]
    },
    {
     "cell_type": "code",
     "collapsed": false,
     "input": [
      "from scipy import interpolate\n",
      "\n",
      "\n",
      "s_linearni = interpolate.InterpolatedUnivariateSpline(x, y, k=1)\n",
      "s_kvadratni = interpolate.InterpolatedUnivariateSpline(x, y, k=2)\n",
      "\n",
      "plt.plot(x, y, 'r.', markersize=20)  #tocke\n",
      "plt.plot(xint, s_linearni(xint), 'b')\n",
      "plt.plot(xint, s_kvadratni(xint), 'y')"
     ],
     "language": "python",
     "metadata": {},
     "outputs": [
      {
       "metadata": {},
       "output_type": "pyout",
       "prompt_number": 12,
       "text": [
        "[<matplotlib.lines.Line2D at 0x9908710>]"
       ]
      }
     ],
     "prompt_number": 12
    },
    {
     "cell_type": "heading",
     "level": 3,
     "metadata": {},
     "source": [
      "10. Preu\u010dite pomo\u010d za funkcijo ``scipy.interpolate.lagrange`` in k predhodni sliki dodajte Lagrangev interpolacijski polinom. Komentirajte rezultate."
     ]
    },
    {
     "cell_type": "markdown",
     "metadata": {},
     "source": [
      "http://docs.scipy.org/doc/scipy-0.14.0/reference/generated/scipy.interpolate.lagrange.html"
     ]
    },
    {
     "cell_type": "markdown",
     "metadata": {},
     "source": [
      "Komentar: This implementation is numerically unstable. Do not expect to be able to use more than about 20 points even if they are chosen optimally."
     ]
    },
    {
     "cell_type": "code",
     "collapsed": false,
     "input": [
      "s_lagrange = interpolate.lagrange(x, y)\n",
      "\n",
      "plt.plot(x, y, 'r.', markersize=20)  #tocke katere interpoliramo\n",
      "plt.plot(xint, s_linearni(xint), 'b')\n",
      "plt.plot(xint, s_kvadratni(xint), 'y')\n",
      "plt.plot(xint, s_lagrange(xint), 'gv')\n",
      "\n",
      "#Dobi\u0161 zelo netocno krivuljo. Potrebno je dodatno skeliranje nabora podatkov."
     ],
     "language": "python",
     "metadata": {},
     "outputs": [
      {
       "metadata": {},
       "output_type": "pyout",
       "prompt_number": 14,
       "text": [
        "[<matplotlib.lines.Line2D at 0x9c397f0>]"
       ]
      }
     ],
     "prompt_number": 14
    },
    {
     "cell_type": "heading",
     "level": 3,
     "metadata": {},
     "source": [
      "11. Preu\u010dite pomo\u010d za funkcijo ``scipy.interpolate.interp1d`` in k predhodni sliki dodajte kvadratni zlepek."
     ]
    },
    {
     "cell_type": "code",
     "collapsed": false,
     "input": [
      "#help(interpolate.interp1d)\n"
     ],
     "language": "python",
     "metadata": {},
     "outputs": [],
     "prompt_number": 22
    },
    {
     "cell_type": "code",
     "collapsed": false,
     "input": [
      "s_interp1d = interpolate.interp1d(x, y, kind='quadratic')  #kind(vrsta) = quadratic(!), linear, cubic,... itd.\n",
      "\n",
      "plt.plot(x, y, 'r.', markersize=25)  #tocke katere interpoliramo\n",
      "#plt.plot(xint, s_linearni(xint), 'b')\n",
      "#plt.plot(xint, s_kvadratni(xint), 'y')\n",
      "plt.plot(xint, s_lagrange(xint), 'gv')\n",
      "plt.plot(xint, s_interp1d(xint), 'wp')"
     ],
     "language": "python",
     "metadata": {},
     "outputs": [
      {
       "metadata": {},
       "output_type": "pyout",
       "prompt_number": 39,
       "text": [
        "[<matplotlib.lines.Line2D at 0xd4c7b00>]"
       ]
      }
     ],
     "prompt_number": 39
    },
    {
     "cell_type": "heading",
     "level": 3,
     "metadata": {},
     "source": [
      "12. Preu\u010dite pomo\u010d za funkcijo ``scipy.interpolate.BarycentricInterpolator`` in pojasnite ter prika\u017eite njeno prednost."
     ]
    },
    {
     "cell_type": "code",
     "collapsed": false,
     "input": [
      "help(interpolate.BarycentricInterpolator)"
     ],
     "language": "python",
     "metadata": {},
     "outputs": [
      {
       "output_type": "stream",
       "stream": "stdout",
       "text": [
        "Help on class BarycentricInterpolator in module scipy.interpolate.polyint:\n",
        "\n",
        "class BarycentricInterpolator(_Interpolator1D)\n",
        " |  The interpolating polynomial for a set of points\n",
        " |  \n",
        " |  Constructs a polynomial that passes through a given set of points.\n",
        " |  Allows evaluation of the polynomial, efficient changing of the y\n",
        " |  values to be interpolated, and updating by adding more x values.\n",
        " |  For reasons of numerical stability, this function does not compute\n",
        " |  the coefficients of the polynomial.\n",
        " |  \n",
        " |  The values yi need to be provided before the function is\n",
        " |  evaluated, but none of the preprocessing depends on them, so rapid\n",
        " |  updates are possible.\n",
        " |  \n",
        " |  Parameters\n",
        " |  ----------\n",
        " |  xi : array-like\n",
        " |      1-d array of x coordinates of the points the polynomial\n",
        " |      should pass through\n",
        " |  yi : array-like\n",
        " |      The y coordinates of the points the polynomial should pass through.\n",
        " |      If None, the y values will be supplied later via the `set_y` method.\n",
        " |  axis : int, optional\n",
        " |      Axis in the yi array corresponding to the x-coordinate values.\n",
        " |  \n",
        " |  Notes\n",
        " |  -----\n",
        " |  This class uses a \"barycentric interpolation\" method that treats\n",
        " |  the problem as a special case of rational function interpolation.\n",
        " |  This algorithm is quite stable, numerically, but even in a world of\n",
        " |  exact computation, unless the x coordinates are chosen very\n",
        " |  carefully - Chebyshev zeros (e.g. cos(i*pi/n)) are a good choice -\n",
        " |  polynomial interpolation itself is a very ill-conditioned process\n",
        " |  due to the Runge phenomenon.\n",
        " |  \n",
        " |  Based on Berrut and Trefethen 2004, \"Barycentric Lagrange Interpolation\".\n",
        " |  \n",
        " |  Method resolution order:\n",
        " |      BarycentricInterpolator\n",
        " |      _Interpolator1D\n",
        " |      builtins.object\n",
        " |  \n",
        " |  Methods defined here:\n",
        " |  \n",
        " |  __call__(self, x)\n",
        " |      Evaluate the interpolating polynomial at the points x\n",
        " |      \n",
        " |      Parameters\n",
        " |      ----------\n",
        " |      x : array-like\n",
        " |          Points to evaluate the interpolant at.\n",
        " |      \n",
        " |      Returns\n",
        " |      -------\n",
        " |      y : array-like\n",
        " |          Interpolated values. Shape is determined by replacing\n",
        " |          the interpolation axis in the original array with the shape of x.\n",
        " |      \n",
        " |      Notes\n",
        " |      -----\n",
        " |      Currently the code computes an outer product between x and the\n",
        " |      weights, that is, it constructs an intermediate array of size\n",
        " |      N by len(x), where N is the degree of the polynomial.\n",
        " |  \n",
        " |  __init__(self, xi, yi=None, axis=0)\n",
        " |  \n",
        " |  add_xi(self, xi, yi=None)\n",
        " |      Add more x values to the set to be interpolated\n",
        " |      \n",
        " |      The barycentric interpolation algorithm allows easy updating by\n",
        " |      adding more points for the polynomial to pass through.\n",
        " |      \n",
        " |      Parameters\n",
        " |      ----------\n",
        " |      xi : array_like\n",
        " |          The x coordinates of the points that the polynomial should pass\n",
        " |          through.\n",
        " |      yi : array_like, optional\n",
        " |          The y coordinates of the points the polynomial should pass through.\n",
        " |          Should have shape ``(xi.size, R)``; if R > 1 then the polynomial is\n",
        " |          vector-valued.\n",
        " |          If `yi` is not given, the y values will be supplied later. `yi` should\n",
        " |          be given if and only if the interpolator has y values specified.\n",
        " |  \n",
        " |  set_yi(self, yi, axis=None)\n",
        " |      Update the y values to be interpolated\n",
        " |      \n",
        " |      The barycentric interpolation algorithm requires the calculation\n",
        " |      of weights, but these depend only on the xi. The yi can be changed\n",
        " |      at any time.\n",
        " |      \n",
        " |      Parameters\n",
        " |      ----------\n",
        " |      yi : array_like\n",
        " |          The y coordinates of the points the polynomial should pass through.\n",
        " |          If None, the y values will be supplied later.\n",
        " |      axis : int, optional\n",
        " |          Axis in the yi array corresponding to the x-coordinate values.\n",
        " |  \n",
        " |  ----------------------------------------------------------------------\n",
        " |  Data descriptors defined here:\n",
        " |  \n",
        " |  __dict__\n",
        " |      dictionary for instance variables (if defined)\n",
        " |  \n",
        " |  __weakref__\n",
        " |      list of weak references to the object (if defined)\n",
        " |  \n",
        " |  ----------------------------------------------------------------------\n",
        " |  Data descriptors inherited from _Interpolator1D:\n",
        " |  \n",
        " |  dtype\n",
        "\n"
       ]
      }
     ],
     "prompt_number": 73
    },
    {
     "cell_type": "markdown",
     "metadata": {},
     "source": [
      "Constructs a polynomial that passes through a given set of points.\n",
      "Allows evaluation of the polynomial, efficient changing of the y\n",
      "values to be interpolated, and updating by adding more x values.\n",
      "For reasons of numerical stability, this function does not compute\n",
      "the coefficients of the polynomial.\n"
     ]
    },
    {
     "cell_type": "markdown",
     "metadata": {},
     "source": [
      "(!)This algorithm is quite stable, numerically, but even in a world of exact computation, unless the x coordinates are chosen very carefully - Chebyshev zeros (e.g. cos(i*pi/n)) are a good choice - polynomial interpolation itself is a very ill-conditioned process due to the Runge phenomenon.\n",
      "\n",
      "Based on Berrut and Trefethen 2004, \u201cBarycentric Lagrange Interpolation\u201d."
     ]
    },
    {
     "cell_type": "code",
     "collapsed": false,
     "input": [
      "s_bary = interpolate.BarycentricInterpolator(x, y)\n",
      "\n",
      "plt.plot(x, y, 'r.', markersize=25)  #tocke katere interpoliramo\n",
      "plt.plot(xint, s_bary(xint), 'y', linewidth=3)"
     ],
     "language": "python",
     "metadata": {},
     "outputs": [
      {
       "metadata": {},
       "output_type": "pyout",
       "prompt_number": 41,
       "text": [
        "[<matplotlib.lines.Line2D at 0xd7ba160>]"
       ]
      }
     ],
     "prompt_number": 41
    },
    {
     "cell_type": "heading",
     "level": 3,
     "metadata": {},
     "source": [
      "13. Preu\u010dite pomo\u010d za funkcijo ``scipy.interpolate.KroghInterpolator`` in pojasnite njeno prednost."
     ]
    },
    {
     "cell_type": "code",
     "collapsed": false,
     "input": [
      "#help(interpolate.KroghInterpolator)"
     ],
     "language": "python",
     "metadata": {},
     "outputs": [],
     "prompt_number": 74
    },
    {
     "cell_type": "markdown",
     "metadata": {},
     "source": [
      "The polynomial passes through all the pairs (xi,yi).\n",
      "  \n",
      "Allows evaluation of the polynomial and all its derivatives.\n",
      "For reasons of numerical stability, this function does not compute\n",
      "the coefficients of the polynomial, although they can be obtained\n",
      "by evaluating all the derivatives."
     ]
    },
    {
     "cell_type": "code",
     "collapsed": false,
     "input": [
      "s_krogh = interpolate.KroghInterpolator(x, y)\n",
      "\n",
      "plt.plot(x, y, 'r.', markersize=25)  #tocke katere interpoliramo\n",
      "plt.plot(xint, s_krogh(xint))"
     ],
     "language": "python",
     "metadata": {},
     "outputs": []
    },
    {
     "cell_type": "heading",
     "level": 3,
     "metadata": {},
     "source": [
      "14. Poskusite postaviti ali odgovoriti na vsaj eno vpra\u0161anje: http://ladisk.si/data/q2a-pinm/"
     ]
    },
    {
     "cell_type": "code",
     "collapsed": false,
     "input": [
      "print(\"ne, nebom.\")"
     ],
     "language": "python",
     "metadata": {},
     "outputs": [
      {
       "output_type": "stream",
       "stream": "stdout",
       "text": [
        "ne, nebom.\n"
       ]
      }
     ],
     "prompt_number": 77
    },
    {
     "cell_type": "code",
     "collapsed": false,
     "input": [
      "#F U N\n",
      "\n",
      "!!pip install goslate\n",
      "\n",
      "import goslate\n",
      "\n",
      "gs = goslate.Goslate()\n",
      "print(gs.translate(\"Are you crazy, you son of a bitch?!\", \"hr\"))  #LOL!"
     ],
     "language": "python",
     "metadata": {},
     "outputs": [
      {
       "output_type": "stream",
       "stream": "stdout",
       "text": [
        "Jeste li poludjeli, ti kurvin sine ?!\n"
       ]
      }
     ],
     "prompt_number": 71
    },
    {
     "cell_type": "code",
     "collapsed": false,
     "input": [],
     "language": "python",
     "metadata": {},
     "outputs": []
    }
   ],
   "metadata": {}
  }
 ]
}