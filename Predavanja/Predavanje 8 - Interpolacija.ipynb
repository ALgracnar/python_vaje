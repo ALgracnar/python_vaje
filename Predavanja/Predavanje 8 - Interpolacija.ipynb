{
 "metadata": {
  "name": "",
  "signature": "sha256:28cbb914e870758dd325d47325659c23b36f4906befdacb0cb3e32ddb2ee0009"
 },
 "nbformat": 3,
 "nbformat_minor": 0,
 "worksheets": [
  {
   "cells": [
    {
     "cell_type": "markdown",
     "metadata": {},
     "source": [
      "April 2015, J. Slavi\u010d Predavanje 8"
     ]
    },
    {
     "cell_type": "code",
     "collapsed": false,
     "input": [
      "from sympy import *\n",
      "init_printing()"
     ],
     "language": "python",
     "metadata": {},
     "outputs": [],
     "prompt_number": 1
    },
    {
     "cell_type": "heading",
     "level": 1,
     "metadata": {},
     "source": [
      "Interpolacija"
     ]
    },
    {
     "cell_type": "markdown",
     "metadata": {},
     "source": [
      "V okviru tega poglavja \u017eelimo odgovoriti na vpra\u0161anje: kako na podlagi kon\u010dnega nabora parov $x_i, y_i$ dolo\u010diti vmesne vrednosti. Primer diskretnih to\u010dk:"
     ]
    },
    {
     "cell_type": "code",
     "collapsed": false,
     "input": [
      "n = 3\n",
      "x = np.random.rand(n)\n",
      "x = np.sort(x)\n",
      "y = np.random.rand(n)\n",
      "plt.plot(x, y, 'ro');"
     ],
     "language": "python",
     "metadata": {},
     "outputs": [
      {
       "ename": "NameError",
       "evalue": "name 'np' is not defined",
       "output_type": "pyerr",
       "traceback": [
        "\u001b[1;31m---------------------------------------------------------------------------\u001b[0m\n\u001b[1;31mNameError\u001b[0m                                 Traceback (most recent call last)",
        "\u001b[1;32m<ipython-input-3-068e5958d498>\u001b[0m in \u001b[0;36m<module>\u001b[1;34m()\u001b[0m\n\u001b[0;32m      1\u001b[0m \u001b[0mn\u001b[0m \u001b[1;33m=\u001b[0m \u001b[1;36m3\u001b[0m\u001b[1;33m\u001b[0m\u001b[0m\n\u001b[1;32m----> 2\u001b[1;33m \u001b[0mx\u001b[0m \u001b[1;33m=\u001b[0m \u001b[0mnp\u001b[0m\u001b[1;33m.\u001b[0m\u001b[0mrandom\u001b[0m\u001b[1;33m.\u001b[0m\u001b[0mrand\u001b[0m\u001b[1;33m(\u001b[0m\u001b[0mn\u001b[0m\u001b[1;33m)\u001b[0m\u001b[1;33m\u001b[0m\u001b[0m\n\u001b[0m\u001b[0;32m      3\u001b[0m \u001b[0mx\u001b[0m \u001b[1;33m=\u001b[0m \u001b[0mnp\u001b[0m\u001b[1;33m.\u001b[0m\u001b[0msort\u001b[0m\u001b[1;33m(\u001b[0m\u001b[0mx\u001b[0m\u001b[1;33m)\u001b[0m\u001b[1;33m\u001b[0m\u001b[0m\n\u001b[0;32m      4\u001b[0m \u001b[0my\u001b[0m \u001b[1;33m=\u001b[0m \u001b[0mnp\u001b[0m\u001b[1;33m.\u001b[0m\u001b[0mrandom\u001b[0m\u001b[1;33m.\u001b[0m\u001b[0mrand\u001b[0m\u001b[1;33m(\u001b[0m\u001b[0mn\u001b[0m\u001b[1;33m)\u001b[0m\u001b[1;33m\u001b[0m\u001b[0m\n\u001b[0;32m      5\u001b[0m \u001b[0mplt\u001b[0m\u001b[1;33m.\u001b[0m\u001b[0mplot\u001b[0m\u001b[1;33m(\u001b[0m\u001b[0mx\u001b[0m\u001b[1;33m,\u001b[0m \u001b[0my\u001b[0m\u001b[1;33m,\u001b[0m \u001b[1;34m'ro'\u001b[0m\u001b[1;33m)\u001b[0m\u001b[1;33m;\u001b[0m\u001b[1;33m\u001b[0m\u001b[0m\n",
        "\u001b[1;31mNameError\u001b[0m: name 'np' is not defined"
       ]
      }
     ],
     "prompt_number": 3
    },
    {
     "cell_type": "markdown",
     "metadata": {},
     "source": [
      "V okviru interpolacije (ang. *interpolation*) to\u010dke pove\u017eemo tako, da predpostavimo neko funkcijo in dodamo pogoj, da funkcija *mora* potekati skozi podane to\u010dke. Pri aproksimaciji (ang. *approximation* ali tudi *curve fitting*) pa predpostavimo funkcijo, ki se \u010dimbolje (glede na izbrani kriterij) prilega podatkom. "
     ]
    },
    {
     "cell_type": "heading",
     "level": 2,
     "metadata": {},
     "source": [
      "Interpolacija s polinomom"
     ]
    },
    {
     "cell_type": "markdown",
     "metadata": {},
     "source": [
      "V kolikor imamo podanih $n+1$ to\u010dk, lahko \u010dez te to\u010dke interpoliramo polinom stopnje $n$. Zgornje to\u010dke tako lahko interpoliramo s funkcijo:\n",
      "$$y_i = a_n\\,x_i^n + a_{n-1}\\,x_i^{n-1} +\\cdots + a_{1}\\,x_i + a_0.$$"
     ]
    },
    {
     "cell_type": "markdown",
     "metadata": {},
     "source": [
      "Imamo $n+1$ neznank in vrednost funkcije poznamo pri $n+1$ vrednostih $x$ kar vodi v re\u0161ljiv sistem linearnih ena\u010db. Linearne ena\u010dbe \u017ee vemo re\u0161evati in treba je definirati samo matriko koeficientov $\\mathbf{A}$ in vektor konstant $\\mathbf{b}$. To lahko naredimo relativno enostavno:"
     ]
    },
    {
     "cell_type": "code",
     "collapsed": false,
     "input": [
      "x"
     ],
     "language": "python",
     "metadata": {},
     "outputs": [
      {
       "ename": "NameError",
       "evalue": "name 'x' is not defined",
       "output_type": "pyerr",
       "traceback": [
        "\u001b[1;31m---------------------------------------------------------------------------\u001b[0m\n\u001b[1;31mNameError\u001b[0m                                 Traceback (most recent call last)",
        "\u001b[1;32m<ipython-input-4-401b30e3b8b5>\u001b[0m in \u001b[0;36m<module>\u001b[1;34m()\u001b[0m\n\u001b[1;32m----> 1\u001b[1;33m \u001b[0mx\u001b[0m\u001b[1;33m\u001b[0m\u001b[0m\n\u001b[0m",
        "\u001b[1;31mNameError\u001b[0m: name 'x' is not defined"
       ]
      }
     ],
     "prompt_number": 4
    },
    {
     "cell_type": "code",
     "collapsed": false,
     "input": [
      "y"
     ],
     "language": "python",
     "metadata": {},
     "outputs": []
    },
    {
     "cell_type": "code",
     "collapsed": false,
     "input": [
      "potence = np.arange(n)[::-1]\n",
      "A = np.asarray([[_**p for p in potence] for _ in x])\n",
      "A"
     ],
     "language": "python",
     "metadata": {},
     "outputs": []
    },
    {
     "cell_type": "code",
     "collapsed": false,
     "input": [
      "b = y"
     ],
     "language": "python",
     "metadata": {},
     "outputs": []
    },
    {
     "cell_type": "code",
     "collapsed": false,
     "input": [
      "resitev = np.linalg.solve(A, b)\n",
      "resitev"
     ],
     "language": "python",
     "metadata": {},
     "outputs": []
    },
    {
     "cell_type": "code",
     "collapsed": false,
     "input": [
      "A.dot(resitev)"
     ],
     "language": "python",
     "metadata": {},
     "outputs": []
    },
    {
     "cell_type": "code",
     "collapsed": false,
     "input": [
      "y"
     ],
     "language": "python",
     "metadata": {},
     "outputs": []
    },
    {
     "cell_type": "code",
     "collapsed": false,
     "input": [
      "def y_fun(x_kjer_iscem_resitev, a):\n",
      "    potence = np.arange(len(a))[::-1]\n",
      "    return np.sum(np.asarray([a_*x_kjer_iscem_resitev**p for a_,p in zip(a, potence)]))"
     ],
     "language": "python",
     "metadata": {},
     "outputs": []
    },
    {
     "cell_type": "code",
     "collapsed": false,
     "input": [
      "y_fun(0.7, resitev)"
     ],
     "language": "python",
     "metadata": {},
     "outputs": []
    },
    {
     "cell_type": "code",
     "collapsed": false,
     "input": [
      "xint = np.linspace(np.min(x), np.max(x), 50)"
     ],
     "language": "python",
     "metadata": {},
     "outputs": []
    },
    {
     "cell_type": "code",
     "collapsed": false,
     "input": [
      "yint = np.asarray([y_fun(_, resitev) for _ in xint])"
     ],
     "language": "python",
     "metadata": {},
     "outputs": []
    },
    {
     "cell_type": "code",
     "collapsed": false,
     "input": [
      "plt.plot(x, y, 'ro');\n",
      "plt.plot(xint, yint);"
     ],
     "language": "python",
     "metadata": {},
     "outputs": []
    },
    {
     "cell_type": "code",
     "collapsed": false,
     "input": [
      "def y_function(x, resitev):\n",
      "    A = np.asarray([[_**p for p in reversed(range(len(resitev)))] for _ in x])\n",
      "    return A.dot(resitev)"
     ],
     "language": "python",
     "metadata": {},
     "outputs": []
    },
    {
     "cell_type": "code",
     "collapsed": false,
     "input": [
      "x"
     ],
     "language": "python",
     "metadata": {},
     "outputs": []
    },
    {
     "cell_type": "code",
     "collapsed": false,
     "input": [
      "xint = np.linspace(np.min(x), np.max(x), 50)\n",
      "yint = y_function(xint, resitev)"
     ],
     "language": "python",
     "metadata": {},
     "outputs": []
    },
    {
     "cell_type": "code",
     "collapsed": false,
     "input": [
      "plt.plot(x, y, 'ro')\n",
      "plt.plot(xint, yint, 'r.');"
     ],
     "language": "python",
     "metadata": {},
     "outputs": []
    },
    {
     "cell_type": "markdown",
     "metadata": {},
     "source": [
      "Slabost zgornjega postopka je v numeri\u010dni zahtevnosti in slabi pogojenosti (z ve\u010danjem stopnje naglo nara\u0161\u010da):"
     ]
    },
    {
     "cell_type": "code",
     "collapsed": false,
     "input": [
      "np.linalg.cond(A)"
     ],
     "language": "python",
     "metadata": {},
     "outputs": []
    },
    {
     "cell_type": "markdown",
     "metadata": {},
     "source": [
      "Iz tega stali\u0161\u010da si bomo pogledali v nadaljevanju *Lagrangevo* metodo, ki ne zahteva re\u0161evanja sistema ena\u010db."
     ]
    },
    {
     "cell_type": "heading",
     "level": 2,
     "metadata": {},
     "source": [
      "Polinomska interpolacija - Lagrangeva metoda"
     ]
    },
    {
     "cell_type": "markdown",
     "metadata": {},
     "source": [
      "Poglejmo si najprej Lagrangevo formulacijo polinomske interpolacije. Lagrangeva krivulja stopnje $n$ je definirana kot:\n",
      "$$P_n(x)=\\sum_{i=0}^{n}y_i\\,l_i(x),$$\n",
      "kjer $n$ definira stopnjo Lagrangevega polinoma:\n",
      "$$l_i(x)=\\prod_{j=0, j\\ne i}^n \\frac{x-x_j}{x_i-x_j}.$$"
     ]
    },
    {
     "cell_type": "markdown",
     "metadata": {},
     "source": [
      "Opazimo torej, da je rezultat Lagrangeve polinomske interpolacije $n$ polinomov stopnje $n$ (polinome definiramo na podlagi $n+1$ to\u010dk). Poglejmo si za interpolacijo za zgoraj prikazane $x$ in $y$ podatke."
     ]
    },
    {
     "cell_type": "markdown",
     "metadata": {},
     "source": [
      "Definirajmo najprej Lagrangeve polinome $l_i(x)$:"
     ]
    },
    {
     "cell_type": "code",
     "collapsed": false,
     "input": [
      "X = symbols('X')\n",
      "def Lagrange(X, x, i):\n",
      "    \"\"\" Vrne Lagrangev polinom\n",
      "    \n",
      "    X: simbolna spremenljivka\n",
      "    x: seznam podatkov\n",
      "    i: indeks za katerega se ra\u010duna polinom\n",
      "    \"\"\"\n",
      "    li = 1\n",
      "    n = len(x)\n",
      "    for j in range(n):\n",
      "        if j != i:\n",
      "            li = li * ( (X-x[j]) / (x[i]-x[j]) )\n",
      "    return li"
     ],
     "language": "python",
     "metadata": {},
     "outputs": []
    },
    {
     "cell_type": "markdown",
     "metadata": {},
     "source": [
      "Lagrangev polinom za $i=0$ je:"
     ]
    },
    {
     "cell_type": "code",
     "collapsed": false,
     "input": [
      "x"
     ],
     "language": "python",
     "metadata": {},
     "outputs": []
    },
    {
     "cell_type": "code",
     "collapsed": false,
     "input": [
      "y"
     ],
     "language": "python",
     "metadata": {},
     "outputs": []
    },
    {
     "cell_type": "code",
     "collapsed": false,
     "input": [
      "l0 = Lagrange(X, x, 0)\n",
      "l0"
     ],
     "language": "python",
     "metadata": {},
     "outputs": []
    },
    {
     "cell_type": "code",
     "collapsed": false,
     "input": [
      "l0.expand()"
     ],
     "language": "python",
     "metadata": {},
     "outputs": []
    },
    {
     "cell_type": "markdown",
     "metadata": {},
     "source": [
      "Opazimo, da dobimo polinom stopnje:"
     ]
    },
    {
     "cell_type": "code",
     "collapsed": false,
     "input": [
      "stopnja = len(x)-1\n",
      "stopnja"
     ],
     "language": "python",
     "metadata": {},
     "outputs": []
    },
    {
     "cell_type": "markdown",
     "metadata": {},
     "source": [
      "Poglejmo sedaj kako izgleda ta Lagrangev polinom"
     ]
    },
    {
     "cell_type": "code",
     "collapsed": false,
     "input": [
      "xint = np.linspace(np.min(x), np.max(x), 30)\n",
      "yint0 = np.asarray([l0.subs(X, _) for _ in xint])"
     ],
     "language": "python",
     "metadata": {},
     "outputs": []
    },
    {
     "cell_type": "code",
     "collapsed": false,
     "input": [
      "plt.plot(x, y, 'ro');\n",
      "plt.plot(xint, yint0, 'b.');"
     ],
     "language": "python",
     "metadata": {},
     "outputs": []
    },
    {
     "cell_type": "markdown",
     "metadata": {},
     "source": [
      "Opazimo, da ima polinom v prvi to\u010dki vrednost 1, v ostalih to\u010dkah pa ni\u010d:"
     ]
    },
    {
     "cell_type": "code",
     "collapsed": false,
     "input": [
      "[l0.subs(X, _) for _ in x] "
     ],
     "language": "python",
     "metadata": {},
     "outputs": []
    },
    {
     "cell_type": "markdown",
     "metadata": {},
     "source": [
      "\u010ce torej Lagrangev polinom za $i=0$ pomno\u017eimo z $y_0$, bomo v prvi to\u010dki dobili pravo vrednost, v ostalih to\u010dkah pa ni\u010d:"
     ]
    },
    {
     "cell_type": "code",
     "collapsed": false,
     "input": [
      "plt.plot(x, y, 'ro');\n",
      "plt.plot(xint, yint0*y[0], 'b.');"
     ],
     "language": "python",
     "metadata": {},
     "outputs": []
    },
    {
     "cell_type": "markdown",
     "metadata": {},
     "source": [
      "\u010ce bi podobno analizo naradili \u0161e za ostale Lagrangeve polinome, bi ugotovili, da vsaka popi\u0161e to\u010dno vrednost samo v eni znani to\u010dki, v ostalih znanih to\u010dkah pa je ni\u010d. Izka\u017ee se, da z vsoto takih krivulj ustrezno interpoliramo podatke. Poglejmo si torej celoto:"
     ]
    },
    {
     "cell_type": "code",
     "collapsed": false,
     "input": [
      "def interpolation_Lagrange(x, y):\n",
      "    \"\"\" Izvede interpolacijo po Lagrangevi metodi.\n",
      "    \"\"\"\n",
      "    X = symbols('X')\n",
      "    l = []\n",
      "    interpolacijski_polinom = 0.\n",
      "    for i in range(len(x)):\n",
      "        li = Lagrange(X, x, i)\n",
      "        interpolacijski_polinom += y[i]*li\n",
      "        l.append(li)\n",
      "    return interpolacijski_polinom, l    "
     ],
     "language": "python",
     "metadata": {},
     "outputs": []
    },
    {
     "cell_type": "code",
     "collapsed": false,
     "input": [
      "interpolacijski_polinom, lagrangevi_polinomi = interpolation_Lagrange(x, y)\n",
      "interpolacijski_polinom"
     ],
     "language": "python",
     "metadata": {},
     "outputs": []
    },
    {
     "cell_type": "code",
     "collapsed": false,
     "input": [
      "xint = np.linspace(np.min(x), np.max(x), 30)\n",
      "yint = np.asarray([interpolacijski_polinom.subs(X, _) for _ in xint])"
     ],
     "language": "python",
     "metadata": {},
     "outputs": []
    },
    {
     "cell_type": "code",
     "collapsed": false,
     "input": [
      "plt.plot(x, y, 'ro');\n",
      "plt.plot(xint, yint, 'r.');"
     ],
     "language": "python",
     "metadata": {},
     "outputs": []
    },
    {
     "cell_type": "markdown",
     "metadata": {},
     "source": [
      "Dodajmo \u0161e posamezne Lagrangeve krivulje:"
     ]
    },
    {
     "cell_type": "code",
     "collapsed": false,
     "input": [
      "yint_polinomi = []\n",
      "for lp, y_ in zip(lagrangevi_polinomi, y):\n",
      "    yint_polinomi.append(y_ * np.asarray([lp.subs(X, _) for _ in xint]))"
     ],
     "language": "python",
     "metadata": {},
     "outputs": []
    },
    {
     "cell_type": "code",
     "collapsed": false,
     "input": [
      "plt.plot(x, y, 'ro');\n",
      "plt.plot(xint, yint, 'r.');\n",
      "for yint_po in yint_polinomi:\n",
      "    plt.plot(xint, yint_po, 'x')"
     ],
     "language": "python",
     "metadata": {},
     "outputs": []
    },
    {
     "cell_type": "markdown",
     "metadata": {},
     "source": [
      "Poskusimo sedaj izvesti interpolacijo \u010dez ve\u010d to\u010dk:"
     ]
    },
    {
     "cell_type": "code",
     "collapsed": false,
     "input": [
      "n = 12\n",
      "#x = np.random.rand(n)\n",
      "#x = np.sort(x)\n",
      "x = np.linspace(0, 1, n)\n",
      "y = np.random.rand(n)\n",
      "plt.plot(x, y, 'ro');"
     ],
     "language": "python",
     "metadata": {},
     "outputs": []
    },
    {
     "cell_type": "code",
     "collapsed": false,
     "input": [
      "interpolacijski_polinom, lagrangevi_polinomi = interpolation_Lagrange(x, y)\n",
      "xint = np.linspace(np.min(x), np.max(x), 100)\n",
      "yint = np.asarray([interpolacijski_polinom.subs(X, _) for _ in xint])\n",
      "yint_polinomi = []\n",
      "for lp, y_ in zip(lagrangevi_polinomi, y):\n",
      "    yint_polinomi.append(y_ * np.asarray([lp.subs(X, _) for _ in xint]))"
     ],
     "language": "python",
     "metadata": {},
     "outputs": []
    },
    {
     "cell_type": "code",
     "collapsed": false,
     "input": [
      "y"
     ],
     "language": "python",
     "metadata": {},
     "outputs": []
    },
    {
     "cell_type": "code",
     "collapsed": false,
     "input": [
      "plt.plot(x, y, 'ro');\n",
      "plt.plot(xint, yint, 'r', linewidth=3);\n",
      "plt.xlabel('x')\n",
      "plt.ylabel('y')\n",
      "plt.grid()\n",
      "#for yint_kr in yint_polinomi:\n",
      "#    plt.plot(xint, yint_kr, '.', alpha=0.5)"
     ],
     "language": "python",
     "metadata": {},
     "outputs": []
    },
    {
     "cell_type": "markdown",
     "metadata": {},
     "source": [
      "Ugotovimo, da interpolacija pri ve\u010djem \u0161tevilu to\u010dk (npr. 5) daje zelo napa\u010dne rezultate; predvsem na robovih. Posledi\u010dno se interpolacija za ve\u010d kot pribli\u017eno 5 to\u010dk redko uporablja (\u0161e posebej, \u010de $\\Delta x$ ni konstanta). \n",
      "\n",
      "Poleg **Lagrangeve metode** bi si tukaj lahko pogledali \u0161e **Newtovo metodo** interpolacije, ki je numeri\u010dno u\u010dinkovitej\u0161a. Kakor pa smo pokazali zgoraj, \u010dez ve\u010dje \u0161tevilo to\u010dk taka interpolacija nima smisla in zato bomo tukaj nadaljevali z t.i. **kubi\u010dnimi zlepki** (ang. *cubic spline*)."
     ]
    },
    {
     "cell_type": "heading",
     "level": 2,
     "metadata": {},
     "source": [
      "Kubi\u010dni zlepki"
     ]
    },
    {
     "cell_type": "markdown",
     "metadata": {},
     "source": [
      "Poglejmo si najpre en preprosti primer:"
     ]
    },
    {
     "cell_type": "code",
     "collapsed": false,
     "input": [
      "from scipy.interpolate import InterpolatedUnivariateSpline\n",
      "\n",
      "n = 10\n",
      "x = np.linspace(0, 10, n)\n",
      "y = np.sin(x)+ 0.5*np.random.rand(n)\n",
      "spl = InterpolatedUnivariateSpline(x, y)\n",
      "xint = np.linspace(0, 10, 10*n)\n",
      "plt.plot(x, y, 'ro', ms=5)\n",
      "plt.plot(xint, spl(xint), 'g', lw=3, alpha=0.7)\n",
      "plt.xlabel('$x$')\n",
      "plt.ylabel('$y$');"
     ],
     "language": "python",
     "metadata": {},
     "outputs": []
    },
    {
     "cell_type": "markdown",
     "metadata": {},
     "source": [
      "Kubi\u010dni zlepki so zelo pogosti na\u010din interpolacije. Ob predopostavki $x_0<x_1< \\cdots <x_n$ gre preprosto odsekovno interpolacijo s polinomom tretjega reda. \n",
      "\n",
      "Od to\u010dke $x_i$ do $x_{i+1}$ i\u0161\u010demo polinom:\n",
      "$$f_{i,i+1}(x)= a_{i,0}\\,x^3+a_{i,1}\\,x^2+a_{i,2}\\,x+a_{i,3},$$\n",
      "pri \u010demer so neznane vrednosti konstant $a_{i,j}$. \u010ce imamo na primer $n+1$ to\u010dk, potem je treba dolo\u010diti $n$ polinomskih funkcij (za primer treh to\u010dk: $f_{0,1}(x), f_{1,2}(x)$). Posledi\u010dno to pomeni $4n$ konstant $a_{i,j}$. \n",
      "\n",
      "Celotni zlepek je definiran kot:\n",
      "$$f(x) = \\left\\{\n",
      "\\begin{array}[rcl]%\n",
      "f_{0,1}(x); && x\\in[x_0, x_1]\\\\\n",
      "f_{1,2}(x); && x\\in[x_1, x_2]\\\\\n",
      "&\\vdots&\\\\\n",
      "f_{n-1,n}(x); && x\\in[x_{n-1}, x_n]\n",
      "\\end{array}\n",
      "\\right.\n",
      "$$\n"
     ]
    },
    {
     "cell_type": "markdown",
     "metadata": {},
     "source": [
      "**Kako dolo\u010dimo konstante $a_{i,j}$?**\n",
      "\n",
      "Za dolo\u010diti $4n$ neznak, potrebujemo tudi $4n$ ena\u010db. Poglejmo si katere so \u017ee znane:\n",
      "* $n+1$ ena\u010dbo dobimo iz interpolacijskega pogoja: \n",
      "$$y_i=f_{i,i+1}(x_i)$$\n",
      "in za zadnjo to\u010dko $$y_n=f_{n-1,n}(x_n)$$\n",
      "* $2(n-1)$ ena\u010db dobimo iz pogoja $C^1$zveznosti: \n",
      "$$\\lim_{x\\rightarrow x_i^-}f(x)=\\lim_{x\\rightarrow x_i^+}f(x)$$\n",
      "in\n",
      "$$\\lim_{x\\rightarrow x_i^-}f'(x)=\\lim_{x\\rightarrow x_i^+}f'(x)$$"
     ]
    },
    {
     "cell_type": "markdown",
     "metadata": {},
     "source": [
      "Preostane \u0161e $n+1$ neznank. Razli\u010dni tipi zlepkov (npr.: *Hermitovi*, *naravni*, *periodi\u010dni*) se lo\u010dijo po tem kako te neznanke dolo\u010dimo. V nadaljevanju si bomo pogledali naravne kubi\u010dne zlepke."
     ]
    },
    {
     "cell_type": "heading",
     "level": 3,
     "metadata": {},
     "source": [
      "Naravni kubi\u010dni zlepki"
     ]
    },
    {
     "cell_type": "markdown",
     "metadata": {},
     "source": [
      "Kobi\u010dni zlepki lahko temeljijo na ideji Eulerjevega nosilca se imenujejo *naravni kubi\u010dni zlepki*:\n",
      "$$E\\,I\\,\\frac{\\textrm{d}^4y}{\\textrm{d}x^4}=q(x),$$\n",
      "kjer je $E$ elasti\u010dni modul, $I$ pa drugi moment preseka in $q(x)$ zunanja porazdeljena sila. Ker zunanje porazdeljene sile ni ($q(x)=0$), velja:\n",
      "$$E\\,I\\,\\frac{\\textrm{d}^4y}{\\textrm{d}x^4}=0.$$\n",
      "Sledi, da lahko v vsaki to\u010dki tanek nosilec popi\u0161emo s polinomom tretje stopnje. \u010ce je nosilec \u010dlenkasto vpet je posledi\u010dno drugi moment konstanten in je drugi odvod v \u010dlenkih zvezen (to imenujemo $C^2$ zveznost):\n",
      "$$\\frac{\\textrm{d}^2y}{\\textrm{d}x^2}=konst.$$\n",
      "Poleg tega je pri naravnih kubi\u010dnih zlepkih moment na koncih enak ni\u010d (\u010dlenkasto vpetje). "
     ]
    },
    {
     "cell_type": "markdown",
     "metadata": {},
     "source": [
      "Manjkajo\u010de $n+1$ ena\u010dbe torej dolo\u010dimo iz dodatnga pogoja za zveznost drugega odvoda $C^2$:\n",
      "* $n-1$ ena\u010db: \n",
      "$$\\lim_{x\\rightarrow x_i^-}f''(x)=\\lim_{x\\rightarrow x_i^+}f''(x)$$\n",
      "* 2 ena\u010dbi: \n",
      "$$f''(x_{0})=0\\qquad\\textrm{in}\\qquad f''(x_{n})=0$$"
     ]
    },
    {
     "cell_type": "markdown",
     "metadata": {},
     "source": [
      "Nekaj ve\u010d podrobnosti izpeljave je prikazano v knjigi Kiusalaas J: Numerical Methods in Engineering with Python 3, 2013, stran 120; podrobna izpeljava presega obseg predavanj. Tukaj si bomo pogledali samo kon\u010dni rezultat, ki ga lahko izpeljemo ob zgornjih pogojih v primeru ekvidistantne delitve $h=x_{i+1}-x_i$ (taki zlepki re\u010demo da so *uniformni*). \n",
      "\n",
      "\u010ce uporabimo zapis  $k_i = f''_{i,i+1}$, potem za $0<i<n$ lahko izpeljemo:\n",
      "$$k_{{i-1}} + 4 k_{i} + k_{{i+1}}  =  \\frac{6}{h^2} \\left(y_{i-1} -2 y_{i} +y_{i+1} \\right).$$\n",
      "Naprej \u0161e velja:\n",
      "$$k_0=k_n=0.$$"
     ]
    },
    {
     "cell_type": "heading",
     "level": 3,
     "metadata": {},
     "source": [
      "Numeri\u010dna implementacija"
     ]
    },
    {
     "cell_type": "markdown",
     "metadata": {},
     "source": [
      "Najprej definirajmo funkcijo za izra\u010dun koeficientov $k_i$:"
     ]
    },
    {
     "cell_type": "code",
     "collapsed": false,
     "input": [
      "def kubicni_zlepki_koeficient(x, y):\n",
      "    \"\"\" Vrne matriko koeficientov in konstant\n",
      "    \n",
      "    x in y predstavljata seznam znanih vrednosti.\n",
      "    x mora biti ekvidistanten\n",
      "    \"\"\"\n",
      "    n = len(x)\n",
      "    A = np.zeros((n, n))\n",
      "    _ = np.asarray([1, 4, 1])\n",
      "    h = x[1]-x[0]\n",
      "    for i in range(n-2):\n",
      "        A[i, i:i+3] = _\n",
      "    A = A[:-2, 1:-1] # k_0 in k_n sta ni\u010d zato odstranimo te \u010dlene\n",
      "    b = (6/h**2)*(y[:-2] + y[2:] - 2*y[1:-1])\n",
      "    k = np.linalg.solve(A,b)\n",
      "    return k, A, b"
     ],
     "language": "python",
     "metadata": {},
     "outputs": []
    },
    {
     "cell_type": "markdown",
     "metadata": {},
     "source": [
      "Nato potrebujemo \u0161e funkcijo zlepka v dolo\u010denem intervalu:"
     ]
    },
    {
     "cell_type": "code",
     "collapsed": false,
     "input": [
      "def kubicni_zlepki(k, x, y, x_najdi):\n",
      "    \"\"\" Vrne kubicni zlepek pri delitvi `xint`\n",
      "    \n",
      "    k: koeficienti kubi\u010dnih zlepkov\n",
      "    x in y: znane vrednosti, x mora biti ekvidistanten\n",
      "    x_najdi: vrednosti kjer \u017eelimo izra\u010dunati kubi\u010dni zlepek\n",
      "    \"\"\"\n",
      "    # dodaj ni\u010d na za\u010detku in koncu\n",
      "    _ = k.copy()\n",
      "    k = np.zeros(len(k)+2)\n",
      "    k[1:-1] = _\n",
      "    \n",
      "    h = - x[1] + x[0]\n",
      "    i = (x_najdi-x[0])//(-h)\n",
      "    if i >= len(k)-1:\n",
      "        i = len(k)-2\n",
      "    out = ((x_najdi - x[i+1])**3/h - (x_najdi - x[i+1])*h)*k[i]/6.0 \\\n",
      "        - ((x_najdi - x[i])**3/h - (x_najdi - x[i])*h)*k[i+1]/6.0 \\\n",
      "        + (y[i]*(x_najdi - x[i+1]) \\\n",
      "        - y[i+1]*(x_najdi - x[i]))/h\n",
      "    return out"
     ],
     "language": "python",
     "metadata": {},
     "outputs": []
    },
    {
     "cell_type": "code",
     "collapsed": false,
     "input": [
      "x = np.asarray([1, 2, 3, 4, 5])\n",
      "y = np.asarray([0, 1, 0, 1, 0])\n",
      "\n",
      "k, A, b = kubicni_zlepki_koeficient(x, y)\n",
      "print(A)\n",
      "print(b)\n",
      "k"
     ],
     "language": "python",
     "metadata": {},
     "outputs": []
    },
    {
     "cell_type": "code",
     "collapsed": false,
     "input": [
      "xint = np.linspace(np.min(x), np.max(x), 50)\n",
      "yint = np.asarray([kubicni_zlepki(k, x, y, _) for _ in xint])\n",
      "plt.plot(x, y, 'ro')\n",
      "plt.plot(xint, yint, label='Naravni kubi\u010dni zlepek')\n",
      "plt.legend();"
     ],
     "language": "python",
     "metadata": {},
     "outputs": []
    },
    {
     "cell_type": "heading",
     "level": 3,
     "metadata": {},
     "source": [
      "Zlepki z eno spremenljivko in modul ``scipy.interpolate``"
     ]
    },
    {
     "cell_type": "markdown",
     "metadata": {},
     "source": [
      "SciPy ima vgrajene naprednjej\u0161e metode za zlepke (B zlepke, ang *B spline*), ki so zelo primerni za numeri\u010dno implementacijo, podrobneje pa se jih tukaj ne bomo dotaknili. Si bomo pa v nadaljevanju pogledali njihovo objektno implementacijo ``InterpolatedUnivariateSpline`` (starej\u0161i pristop temelji na funkcionalnem programiranju, glejte: ``scipy.interpolate.splrep``):"
     ]
    },
    {
     "cell_type": "code",
     "collapsed": false,
     "input": [
      "from scipy.interpolate import InterpolatedUnivariateSpline"
     ],
     "language": "python",
     "metadata": {},
     "outputs": []
    },
    {
     "cell_type": "code",
     "collapsed": false,
     "input": [
      "xint = np.linspace(np.min(x), np.max(x), 100)\n",
      "spl = InterpolatedUnivariateSpline(x, y, k=3) # poglejte opcije!\n",
      "plt.plot(x, y, 'ro')\n",
      "plt.plot(xint, spl(xint), label='Kubi\u010dni zlepek');\n",
      "plt.legend();"
     ],
     "language": "python",
     "metadata": {},
     "outputs": []
    },
    {
     "cell_type": "markdown",
     "metadata": {},
     "source": [
      "Ker gre za druga\u010den tip zlepkov kakor smo ga izpeljali zgoraj, je rezultat malenkost druga\u010den. Napredna implementacija v okviru ``SciPy`` avtomati\u010dno prilagodi *vozle* zlepkov (ang. *knots*), to so to\u010dke kjer se zlepki lepijo. Pri interpolaciji z ``naravnimi kubi\u010dnimi zlepki`` so vozli v to\u010dkah kjer imamo podatke:"
     ]
    },
    {
     "cell_type": "code",
     "collapsed": false,
     "input": [
      "x"
     ],
     "language": "python",
     "metadata": {},
     "outputs": []
    },
    {
     "cell_type": "markdown",
     "metadata": {},
     "source": [
      "Pri ``InterpolatedUnivariateSpline`` pa so v to\u010dkah (in zato je rezultat druga\u010den):"
     ]
    },
    {
     "cell_type": "code",
     "collapsed": false,
     "input": [
      "spl.get_knots()"
     ],
     "language": "python",
     "metadata": {},
     "outputs": []
    },
    {
     "cell_type": "markdown",
     "metadata": {},
     "source": [
      "Tipi\u010dno zlepkov ne bomo iskali na tako majhnem \u0161tevilu to\u010dk in takrat se zgoraj prikazani pristop izka\u017ee kot bolj primeren (tako numeri\u010dno kakor glede natan\u010dnosti).\n",
      "\n",
      "Opomba: kakor je navedeno v pomo\u010di, lahko vozle prilagodimo (v tem primeru uporabimo ``LSQUnivariateSpline``)."
     ]
    },
    {
     "cell_type": "heading",
     "level": 4,
     "metadata": {},
     "source": [
      "Odvajanje, integriranje,... zlepkov"
     ]
    },
    {
     "cell_type": "markdown",
     "metadata": {},
     "source": [
      "Ko imamo enkrat zlepke definirane z objektom ``InterpolatedUnivariateSpline``, potem lahko dostopamo preko metod do odvodov, integralov, ni\u010del, vozlov,... (glejte help).\n",
      "\n",
      "Za prvi odvod na primer uporabimo metodo ``.derivative(1)``, ki vrne novi objekt spline krivulje (red je za 1 ni\u017eji):"
     ]
    },
    {
     "cell_type": "code",
     "collapsed": false,
     "input": [
      "spl1 = spl.derivative(1)\n",
      "spl2 = spl.derivative(2)\n",
      "spl3 = spl.derivative(3)\n",
      "plt.plot(xint, spl(xint), lw=3, label='Zlepek')\n",
      "plt.plot(xint, spl1(xint), label='Prvi odvod')\n",
      "plt.plot(xint, spl2(xint), label='Drugi odvod')\n",
      "plt.plot(xint, spl3(xint), label='Tretji odvod')\n",
      "plt.legend();"
     ],
     "language": "python",
     "metadata": {},
     "outputs": []
    },
    {
     "cell_type": "heading",
     "level": 1,
     "metadata": {},
     "source": [
      "Do naslednjih vaj pre\u0161tudirajte slede\u010de:"
     ]
    },
    {
     "cell_type": "markdown",
     "metadata": {},
     "source": [
      "1. Pre\u0161tudirajte Lagrangevo polinomsko interpolacijo in pripravite funkcijo za Lagrangeve polinome. Pojasnite (z grafi\u010dnim prikazom) Lagrangeve polinome.\n",
      "* Definirajte funkcijo za Lagrangevo polinomsko interpolacijo. Na primeru pojasnite kako deluje.\n",
      "* Pojasnite teoreti\u010dno ozadje naravnih kubi\u010dnih zlepkov.\n",
      "* Naravne kubi\u010dne zlepke smo izpeljali pod pogojem, da momenta na koncu ni; v\u010dasih \u017eelim druga\u010dne pogoje na koncih (npr. znani naklon ali znani moment). Modificirajte na predavanjih predstavljeno koda za primer, da je na koncih moment $\\ne 0$ (predpostavite neko numeri\u010dno vrednost).\n",
      "* Podatke:\n",
      "    ```python\n",
      "    x = np.linspace(0, 10, 10)\n",
      "    y = np.random.rand(10)-0.5\n",
      "    ```\n",
      "  interpolirajte z uporabo ``scipy.InterpolatedUnivariateSpline``. Podatke prika\u017eite.\n",
      "* Za zgoraj definirane podatke preu\u010dite pomo\u010d in najdite vse ni\u010dle. Prika\u017eite jih na predhodni sliki.\n",
      "* Za zgoraj definirani zlepek izra\u010dunajte prvi odvod in ga prika\u017eite.\n",
      "* Za zgoraj definirani zlepek izra\u010dunajte integral od za\u010detka do konca.\n",
      "* Za zgoraj definirane podatke prika\u017eite izra\u010dun linearnega in kvadratnega zlepka. Prika\u017eite na sliki\n",
      "* Preu\u010dite pomo\u010d za funkcijo ``scipy.interpolate.lagrange`` in k predhodni sliki dodajte Lagrangev interpolacijski polinom. Komentirajte rezultate.\n",
      "* Preu\u010dite pomo\u010d za funkcijo ``scipy.interpolate.interp1d`` in k predhodni sliki dodajte kvadratni zlepek.\n",
      "* Preu\u010dite pomo\u010d za funkcijo ``scipy.interpolate.BarycentricInterpolator`` in pojasnite ter prika\u017eite njeno prednost.\n",
      "* Preu\u010dite pomo\u010d za funkcijo ``scipy.interpolate.KroghInterpolator`` in pojasnite njeno prednost.\n",
      "* Poskusite postaviti ali odgovoriti na vsaj eno vpra\u0161anje: http://ladisk.si/data/q2a-pinm/"
     ]
    },
    {
     "cell_type": "heading",
     "level": 2,
     "metadata": {},
     "source": [
      "Ekstra"
     ]
    },
    {
     "cell_type": "markdown",
     "metadata": {},
     "source": [
      "* 2D interpolacja: https://www.youtube.com/watch?v=_cJLVhdj0j4\n",
      "* Strojno prevajanje: https://pypi.python.org/pypi/goslate)"
     ]
    }
   ],
   "metadata": {}
  }
 ]
}