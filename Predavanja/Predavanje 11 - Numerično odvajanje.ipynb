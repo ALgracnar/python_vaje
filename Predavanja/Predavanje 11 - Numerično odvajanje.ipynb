{
 "metadata": {
  "name": "",
  "signature": "sha256:a03642045b171ff856a39418550d5daf17aa24465e09b3e52c8b556ad1439851"
 },
 "nbformat": 3,
 "nbformat_minor": 0,
 "worksheets": [
  {
   "cells": [
    {
     "cell_type": "markdown",
     "metadata": {},
     "source": [
      "April 2015, J. Slavi\u010d\n",
      "\n",
      "Predavanje 11"
     ]
    },
    {
     "cell_type": "code",
     "collapsed": false,
     "input": [
      "from sympy import *\n",
      "init_printing()"
     ],
     "language": "python",
     "metadata": {},
     "outputs": [],
     "prompt_number": 1
    },
    {
     "cell_type": "heading",
     "level": 1,
     "metadata": {},
     "source": [
      "Numeri\u010dno odvajanje"
     ]
    },
    {
     "cell_type": "markdown",
     "metadata": {},
     "source": [
      "V okviru tega poglavja se \u017eelimo seznaniti s tem kako funkcijo $f(x)$ numeri\u010dno odvajati, torej pridobiti rezultati: $f'(x)$, $f''(x)$,... \n",
      "\n",
      "Pri tam se imamo dva v principu razli\u010dna pristopa:\n",
      "1. odvajanje temelji na numeri\u010dnih vrednosti poznavanja funkcije $f(x)$ pri razli\u010dnih vrednostih $x$ in\n",
      "* najprej izvedemo interpolacijo ali aproksimacijo, nato pa na podlagi znanih interpolacijskih ali aproksimacijskih funkcij izra\u010dunamo odvod.\n",
      "\n",
      "Pri numeri\u010dnem modeliranju ima sicer numeri\u010dno odvajanje pomembno vlogo in se pogosto uporablja. Zelo pomembna je tukaj metoda kon\u010dnih razlik, ki si jo bomo pogledali v nadaljevanju.\n",
      "\n",
      "*Opomba:* numeri\u010dnega odvajanja interpolacijskih/aproksimacijskih funkcij si tukaj ne bomo podrobneje pogledali saj smo o tej temi \u017ee govorili pri interpolaciji oz aproksimaciji."
     ]
    },
    {
     "cell_type": "heading",
     "level": 1,
     "metadata": {},
     "source": [
      "Aproksimacija odvoda z metodo kon\u010dnih razlik"
     ]
    },
    {
     "cell_type": "markdown",
     "metadata": {},
     "source": [
      "Odvod $f'(x)$ lahko aproksimiramo na podlagi razvoja Taylorje vrste. Tej metodi re\u010demo **metoda kon\u010dnih razlik** ali tudi **diferen\u010dna metoda**.\n",
      "\n",
      "Definirajmo najprej simbole:"
     ]
    },
    {
     "cell_type": "code",
     "collapsed": false,
     "input": [
      "f, x, h = symbols('f, x, h')\n",
      "# opomba: spodnje izvajanje v verziji sympy 0.7.5 lahko ne da pravega rezultat,\n",
      "# posodobite na zadnjo verzijo 0.7.6; uporabite ukaz\n",
      "!pip install -U sympy"
     ],
     "language": "python",
     "metadata": {},
     "outputs": [
      {
       "output_type": "stream",
       "stream": "stdout",
       "text": [
        "Requirement already up-to-date: sympy in c:\\anaconda3\\lib\\site-packages\n",
        "Cleaning up...\n"
       ]
      }
     ],
     "prompt_number": 2
    },
    {
     "cell_type": "markdown",
     "metadata": {},
     "source": [
      "Nato nadaljujemo z razvojem **Taylorjeve vrste naprej** (ang. *forward Taylor series*):"
     ]
    },
    {
     "cell_type": "code",
     "collapsed": false,
     "input": [
      "f(x+h).series(h, n=2)"
     ],
     "language": "python",
     "metadata": {},
     "outputs": [
      {
       "latex": [
        "$$f{\\left (x \\right )} + h \\left. \\frac{d}{d \\xi_{1}} f{\\left (\\xi_{1} \\right )} \\right|_{\\substack{ \\xi_{1}=x }} + \\mathcal{O}\\left(h^{2}\\right)$$"
       ],
       "metadata": {},
       "output_type": "pyout",
       "png": "[encoded data removed]",
       "prompt_number": 13,
       "text": [
        "         \u239b d        \u239e\u2502        \u239b 2\u239e\n",
        "f(x) + h\u22c5\u239c\u2500\u2500\u2500(f(\u03be\u2081))\u239f\u2502     + O\u239dh \u23a0\n",
        "         \u239dd\u03be\u2081       \u23a0\u2502\u03be\u2081=x        "
       ]
      }
     ],
     "prompt_number": 13
    },
    {
     "cell_type": "markdown",
     "metadata": {},
     "source": [
      "Pri tem so simboli prikazani na sliki:\n",
      "<img src='others/koncne_razlike.png' width=300>"
     ]
    },
    {
     "cell_type": "code",
     "collapsed": false,
     "input": [
      "Eq(f(x+h), f(x+h).series(h, n=2).doit())"
     ],
     "language": "python",
     "metadata": {},
     "outputs": [
      {
       "latex": [
        "$$f{\\left (h + x \\right )} = f{\\left (x \\right )} + h \\frac{d}{d x} f{\\left (x \\right )} + \\mathcal{O}\\left(h^{2}\\right)$$"
       ],
       "metadata": {},
       "output_type": "pyout",
       "png": "[encoded data removed]",
       "prompt_number": 19,
       "text": [
        "                    d           \u239b 2\u239e\n",
        "f(h + x) = f(x) + h\u22c5\u2500\u2500(f(x)) + O\u239dh \u23a0\n",
        "                    dx              "
       ]
      }
     ],
     "prompt_number": 19
    },
    {
     "cell_type": "code",
     "collapsed": false,
     "input": [
      "f1 = solve(\n",
      "      Eq(f(x+h), f(x+h).series(h, n=2).removeO().doit()),\n",
      "      f(x).diff(x)\n",
      "      )[0]\n",
      "f1"
     ],
     "language": "python",
     "metadata": {},
     "outputs": [
      {
       "latex": [
        "$$\\frac{1}{h} \\left(- f{\\left (x \\right )} + f{\\left (h + x \\right )}\\right)$$"
       ],
       "metadata": {},
       "output_type": "pyout",
       "png": "[encoded data removed]",
       "prompt_number": 23,
       "text": [
        "-f(x) + f(h + x)\n",
        "\u2500\u2500\u2500\u2500\u2500\u2500\u2500\u2500\u2500\u2500\u2500\u2500\u2500\u2500\u2500\u2500\n",
        "       h        "
       ]
      }
     ],
     "prompt_number": 23
    },
    {
     "cell_type": "markdown",
     "metadata": {},
     "source": [
      "Primer: $\\exp(-x)$"
     ]
    },
    {
     "cell_type": "code",
     "collapsed": false,
     "input": [
      "fp = exp(-x)"
     ],
     "language": "python",
     "metadata": {},
     "outputs": [],
     "prompt_number": 24
    },
    {
     "cell_type": "code",
     "collapsed": false,
     "input": [
      "fp.diff(x).evalf(subs={x: 1})"
     ],
     "language": "python",
     "metadata": {},
     "outputs": [
      {
       "latex": [
        "$$-0.367879441171442$$"
       ],
       "metadata": {},
       "output_type": "pyout",
       "png": "[encoded data removed]",
       "prompt_number": 28,
       "text": [
        "-0.367879441171442"
       ]
      }
     ],
     "prompt_number": 28
    },
    {
     "cell_type": "code",
     "collapsed": false,
     "input": [
      "fp.diff(x).subs(x, 1).evalf()"
     ],
     "language": "python",
     "metadata": {},
     "outputs": [
      {
       "latex": [
        "$$-0.367879441171442$$"
       ],
       "metadata": {},
       "output_type": "pyout",
       "png": "[encoded data removed]",
       "prompt_number": 16,
       "text": [
        "-0.367879441171442"
       ]
      }
     ],
     "prompt_number": 16
    },
    {
     "cell_type": "code",
     "collapsed": false,
     "input": [
      "plot(fp.diff(x), (x, 0, 2));"
     ],
     "language": "python",
     "metadata": {},
     "outputs": [
      {
       "metadata": {},
       "output_type": "display_data",
       "png": "[encoded data removed]",
       "text": [
        "<matplotlib.figure.Figure at 0x60fd7f0>"
       ]
      }
     ],
     "prompt_number": 30
    },
    {
     "cell_type": "markdown",
     "metadata": {},
     "source": [
      "Pribli\u017eek odvoda"
     ]
    },
    {
     "cell_type": "code",
     "collapsed": false,
     "input": [
      "f1"
     ],
     "language": "python",
     "metadata": {},
     "outputs": [
      {
       "latex": [
        "$$\\frac{1}{h} \\left(- f{\\left (x \\right )} + f{\\left (h + x \\right )}\\right)$$"
       ],
       "metadata": {},
       "output_type": "pyout",
       "png": "[encoded data removed]",
       "prompt_number": 32,
       "text": [
        "-f(x) + f(h + x)\n",
        "\u2500\u2500\u2500\u2500\u2500\u2500\u2500\u2500\u2500\u2500\u2500\u2500\u2500\u2500\u2500\u2500\n",
        "       h        "
       ]
      }
     ],
     "prompt_number": 32
    },
    {
     "cell_type": "code",
     "collapsed": false,
     "input": [
      "f1_priblizek = (fp.subs(x, x+h)-fp)/h\n",
      "f1_priblizek"
     ],
     "language": "python",
     "metadata": {},
     "outputs": [
      {
       "latex": [
        "$$\\frac{1}{h} \\left(e^{- h - x} - e^{- x}\\right)$$"
       ],
       "metadata": {},
       "output_type": "pyout",
       "png": "[encoded data removed]",
       "prompt_number": 33,
       "text": [
        " -h - x    -x\n",
        "\u212f       - \u212f  \n",
        "\u2500\u2500\u2500\u2500\u2500\u2500\u2500\u2500\u2500\u2500\u2500\u2500\u2500\n",
        "      h      "
       ]
      }
     ],
     "prompt_number": 33
    },
    {
     "cell_type": "code",
     "collapsed": false,
     "input": [
      "f1_priblizek.subs(x, 1).subs(h, .001).evalf()"
     ],
     "language": "python",
     "metadata": {},
     "outputs": [
      {
       "latex": [
        "$$-0.367695562748706$$"
       ],
       "metadata": {},
       "output_type": "pyout",
       "png": "[encoded data removed]",
       "prompt_number": 36,
       "text": [
        "-0.367695562748706"
       ]
      }
     ],
     "prompt_number": 36
    },
    {
     "cell_type": "heading",
     "level": 3,
     "metadata": {},
     "source": [
      "Nadaljujemo s teorijo"
     ]
    },
    {
     "cell_type": "markdown",
     "metadata": {},
     "source": [
      "Nadaljujemo s teorijo. Taylorjeva vrsta naprej:"
     ]
    },
    {
     "cell_type": "code",
     "collapsed": false,
     "input": [
      "Eq(f(x+h), f(x+h).series(h, n=3).doit())"
     ],
     "language": "python",
     "metadata": {},
     "outputs": [
      {
       "latex": [
        "$$f{\\left (h + x \\right )} = f{\\left (x \\right )} + h \\frac{d}{d x} f{\\left (x \\right )} + \\frac{h^{2}}{2} \\frac{d^{2}}{d x^{2}}  f{\\left (x \\right )} + \\mathcal{O}\\left(h^{3}\\right)$$"
       ],
       "metadata": {},
       "output_type": "pyout",
       "png": "[encoded data removed]",
       "prompt_number": 42,
       "text": [
        "                                    2              \n",
        "                                2  d               \n",
        "                               h \u22c5\u2500\u2500\u2500(f(x))        \n",
        "                                    2              \n",
        "                    d             dx           \u239b 3\u239e\n",
        "f(h + x) = f(x) + h\u22c5\u2500\u2500(f(x)) + \u2500\u2500\u2500\u2500\u2500\u2500\u2500\u2500\u2500\u2500\u2500\u2500 + O\u239dh \u23a0\n",
        "                    dx              2              "
       ]
      }
     ],
     "prompt_number": 42
    },
    {
     "cell_type": "markdown",
     "metadata": {},
     "source": [
      "Pripravimo \u0161e razvojem **Taylorjeve vrste nazaj** (ang. *backward Taylor series*):"
     ]
    },
    {
     "cell_type": "code",
     "collapsed": false,
     "input": [
      "Eq(f(x-h), f(x-h).series(-h, n=3).doit())"
     ],
     "language": "python",
     "metadata": {},
     "outputs": [
      {
       "latex": [
        "$$f{\\left (- h + x \\right )} = f{\\left (x \\right )} - h \\frac{d}{d x} f{\\left (x \\right )} + \\frac{h^{2}}{2} \\frac{d^{2}}{d x^{2}}  f{\\left (x \\right )} + \\mathcal{O}\\left(h^{3}\\right)$$"
       ],
       "metadata": {},
       "output_type": "pyout",
       "png": "[encoded data removed]",
       "prompt_number": 43,
       "text": [
        "                                     2              \n",
        "                                 2  d               \n",
        "                                h \u22c5\u2500\u2500\u2500(f(x))        \n",
        "                                     2              \n",
        "                     d             dx           \u239b 3\u239e\n",
        "f(-h + x) = f(x) - h\u22c5\u2500\u2500(f(x)) + \u2500\u2500\u2500\u2500\u2500\u2500\u2500\u2500\u2500\u2500\u2500\u2500 + O\u239dh \u23a0\n",
        "                     dx              2              "
       ]
      }
     ],
     "prompt_number": 43
    },
    {
     "cell_type": "heading",
     "level": 2,
     "metadata": {},
     "source": [
      "Centralna diferen\u010dna shema"
     ]
    },
    {
     "cell_type": "heading",
     "level": 3,
     "metadata": {},
     "source": [
      "Prvi odvod $f'(x)$"
     ]
    },
    {
     "cell_type": "markdown",
     "metadata": {},
     "source": [
      "\u010ce Taylorjevo vrsto nazaj od\u0161tejemo od vrste naprej, se sodi odvodi od\u0161tejejo:"
     ]
    },
    {
     "cell_type": "code",
     "collapsed": false,
     "input": [
      "eq = Eq(f(x+h) - f(x-h), (f(x+h) - f(x-h)).series(h, n=3).doit())\n",
      "eq"
     ],
     "language": "python",
     "metadata": {},
     "outputs": [
      {
       "latex": [
        "$$- f{\\left (- h + x \\right )} + f{\\left (h + x \\right )} = 2 h \\frac{d}{d x} f{\\left (x \\right )} + \\mathcal{O}\\left(h^{3}\\right)$$"
       ],
       "metadata": {},
       "output_type": "pyout",
       "png": "[encoded data removed]",
       "prompt_number": 48,
       "text": [
        "                            d           \u239b 3\u239e\n",
        "-f(-h + x) + f(h + x) = 2\u22c5h\u22c5\u2500\u2500(f(x)) + O\u239dh \u23a0\n",
        "                            dx              "
       ]
      }
     ],
     "prompt_number": 48
    },
    {
     "cell_type": "code",
     "collapsed": false,
     "input": [
      "solve(eq, f(x).diff(x))[0]"
     ],
     "language": "python",
     "metadata": {},
     "outputs": [
      {
       "latex": [
        "$$\\frac{1}{2 h} \\left(f{\\left (h + x \\right )} - f{\\left (- h + x \\right )} + \\mathcal{O}\\left(h^{3}\\right)\\right)$$"
       ],
       "metadata": {},
       "output_type": "pyout",
       "png": "[encoded data removed]",
       "prompt_number": 50,
       "text": [
        "                        \u239b 3\u239e\n",
        "f(h + x) - f(-h + x) + O\u239dh \u23a0\n",
        "\u2500\u2500\u2500\u2500\u2500\u2500\u2500\u2500\u2500\u2500\u2500\u2500\u2500\u2500\u2500\u2500\u2500\u2500\u2500\u2500\u2500\u2500\u2500\u2500\u2500\u2500\u2500\u2500\n",
        "            2\u22c5h             "
       ]
      }
     ],
     "prompt_number": 50
    },
    {
     "cell_type": "markdown",
     "metadata": {},
     "source": [
      "Zanemarimo vi\u0161je odvode ($\\mathcal{O}(h^{2})$) in re\u0161imo za $f'(x)$:"
     ]
    },
    {
     "cell_type": "code",
     "collapsed": false,
     "input": [
      "f1 = solve(\n",
      "           Eq(f(x+h) - f(x-h), (f(x+h) - f(x-h)).series(h, n=3).doit()),#.removeO()),\n",
      "           f(x).diff(x)\n",
      "          )[0].expand()\n",
      "f1"
     ],
     "language": "python",
     "metadata": {},
     "outputs": [
      {
       "latex": [
        "$$\\frac{1}{2 h} f{\\left (h + x \\right )} - \\frac{1}{2 h} f{\\left (- h + x \\right )} + \\mathcal{O}\\left(h^{2}\\right)$$"
       ],
       "metadata": {},
       "output_type": "pyout",
       "png": "[encoded data removed]",
       "prompt_number": 51,
       "text": [
        "f(h + x)   f(-h + x)    \u239b 2\u239e\n",
        "\u2500\u2500\u2500\u2500\u2500\u2500\u2500\u2500 - \u2500\u2500\u2500\u2500\u2500\u2500\u2500\u2500\u2500 + O\u239dh \u23a0\n",
        "  2\u22c5h         2\u22c5h           "
       ]
      }
     ],
     "prompt_number": 51
    },
    {
     "cell_type": "heading",
     "level": 4,
     "metadata": {},
     "source": [
      "Primer uporabe"
     ]
    },
    {
     "cell_type": "code",
     "collapsed": false,
     "input": [
      "fp"
     ],
     "language": "python",
     "metadata": {},
     "outputs": [
      {
       "latex": [
        "$$e^{- x}$$"
       ],
       "metadata": {},
       "output_type": "pyout",
       "png": "[encoded data removed]",
       "prompt_number": 53,
       "text": [
        " -x\n",
        "\u212f  "
       ]
      }
     ],
     "prompt_number": 53
    },
    {
     "cell_type": "code",
     "collapsed": false,
     "input": [
      "fp.diff(x)"
     ],
     "language": "python",
     "metadata": {},
     "outputs": [
      {
       "latex": [
        "$$- e^{- x}$$"
       ],
       "metadata": {},
       "output_type": "pyout",
       "png": "[encoded data removed]",
       "prompt_number": 52,
       "text": [
        "  -x\n",
        "-\u212f  "
       ]
      }
     ],
     "prompt_number": 52
    },
    {
     "cell_type": "code",
     "collapsed": false,
     "input": [
      "hh = 0.1\n",
      "xx = np.linspace(-1, 2, 50)\n",
      "num_od_O1 = (np.exp(-(xx+hh)) - np.exp(-xx))/(hh)# red napake O(n)\n",
      "num_od_O2 = (np.exp(-(xx+hh)) - np.exp(-(xx-hh)))/(2*hh) # red napake (O2)\n",
      "plt.plot(xx, -np.exp(-xx), label='odvod $f\\'(x)=-\\exp(-x)$');\n",
      "plt.plot(xx, num_od_O1, 'r', label='num O1');\n",
      "plt.plot(xx, num_od_O2, 'g', label='num O2');\n",
      "plt.legend(loc=10);"
     ],
     "language": "python",
     "metadata": {},
     "outputs": [
      {
       "metadata": {},
       "output_type": "display_data",
       "png": "[encoded data removed]",
       "text": [
        "<matplotlib.figure.Figure at 0xa6ca470>"
       ]
      }
     ],
     "prompt_number": 59
    },
    {
     "cell_type": "heading",
     "level": 3,
     "metadata": {},
     "source": [
      "Drugi odvod $f''(x)$"
     ]
    },
    {
     "cell_type": "markdown",
     "metadata": {},
     "source": [
      "\u010ce Taylorjevo vrsto naprej in nazaj se\u0161tejemo, se od\u0161tejejo lihi odvodi:"
     ]
    },
    {
     "cell_type": "code",
     "collapsed": false,
     "input": [
      "Eq(f(x+h) + f(x-h), (f(x+h) + f(x-h)).series(h, n=5).doit())"
     ],
     "language": "python",
     "metadata": {},
     "outputs": [
      {
       "latex": [
        "$$f{\\left (- h + x \\right )} + f{\\left (h + x \\right )} = 2 f{\\left (x \\right )} + h^{2} \\frac{d^{2}}{d x^{2}}  f{\\left (x \\right )} + \\frac{h^{4}}{12} \\frac{d^{4}}{d x^{4}}  f{\\left (x \\right )} + \\mathcal{O}\\left(h^{5}\\right)$$"
       ],
       "metadata": {},
       "output_type": "pyout",
       "png": "[encoded data removed]",
       "prompt_number": 62,
       "text": [
        "                                                    4              \n",
        "                                                4  d               \n",
        "                                               h \u22c5\u2500\u2500\u2500(f(x))        \n",
        "                                     2              4              \n",
        "                                 2  d             dx           \u239b 5\u239e\n",
        "f(-h + x) + f(h + x) = 2\u22c5f(x) + h \u22c5\u2500\u2500\u2500(f(x)) + \u2500\u2500\u2500\u2500\u2500\u2500\u2500\u2500\u2500\u2500\u2500\u2500 + O\u239dh \u23a0\n",
        "                                     2              12             \n",
        "                                   dx                              "
       ]
      }
     ],
     "prompt_number": 62
    },
    {
     "cell_type": "markdown",
     "metadata": {},
     "source": [
      "Ponovno zanemarimo vi\u0161je odvode ($\\mathcal{O}(h^{3})$) in izpostavimo drugi odvod:"
     ]
    },
    {
     "cell_type": "code",
     "collapsed": false,
     "input": [
      "f2 = solve(\n",
      "           Eq(f(x+h) + f(x-h), (f(x+h) + f(x-h)).series(h, n=4).doit()),#.removeO()),\n",
      "           f(x).diff(x,2)\n",
      "           )[0].expand()\n",
      "f2"
     ],
     "language": "python",
     "metadata": {},
     "outputs": [
      {
       "latex": [
        "$$\\frac{1}{h^{2}} f{\\left (h + x \\right )} + \\frac{1}{h^{2}} f{\\left (- h + x \\right )} - \\frac{2}{h^{2}} f{\\left (x \\right )} + \\mathcal{O}\\left(h^{2}\\right)$$"
       ],
       "metadata": {},
       "output_type": "pyout",
       "png": "[encoded data removed]",
       "prompt_number": 63,
       "text": [
        "f(h + x)   f(-h + x)   2\u22c5f(x)    \u239b 2\u239e\n",
        "\u2500\u2500\u2500\u2500\u2500\u2500\u2500\u2500 + \u2500\u2500\u2500\u2500\u2500\u2500\u2500\u2500\u2500 - \u2500\u2500\u2500\u2500\u2500\u2500 + O\u239dh \u23a0\n",
        "    2           2         2          \n",
        "   h           h         h           "
       ]
      }
     ],
     "prompt_number": 63
    },
    {
     "cell_type": "heading",
     "level": 3,
     "metadata": {},
     "source": [
      "Tretji odvod $f'''(x)$"
     ]
    },
    {
     "cell_type": "markdown",
     "metadata": {},
     "source": [
      "Ponovimo izvajanje za prvi odvod $f'(x)$, vendar sedaj zanemarimo rede vi\u0161je od 3 ($\\mathcal{O}(h^{4})$):"
     ]
    },
    {
     "cell_type": "code",
     "collapsed": false,
     "input": [
      "Eq(f(x+h) - f(x-h), (f(x+h) - f(x-h)).series(h, n=4).doit())"
     ],
     "language": "python",
     "metadata": {},
     "outputs": [
      {
       "latex": [
        "$$- f{\\left (- h + x \\right )} + f{\\left (h + x \\right )} = 2 h \\frac{d}{d x} f{\\left (x \\right )} + \\frac{h^{3}}{3} \\frac{d^{3}}{d x^{3}}  f{\\left (x \\right )} + \\mathcal{O}\\left(h^{4}\\right)$$"
       ],
       "metadata": {},
       "output_type": "pyout",
       "png": "[encoded data removed]",
       "prompt_number": 66,
       "text": [
        "                                            3              \n",
        "                                        3  d               \n",
        "                                       h \u22c5\u2500\u2500\u2500(f(x))        \n",
        "                                            3              \n",
        "                            d             dx           \u239b 4\u239e\n",
        "-f(-h + x) + f(h + x) = 2\u22c5h\u22c5\u2500\u2500(f(x)) + \u2500\u2500\u2500\u2500\u2500\u2500\u2500\u2500\u2500\u2500\u2500\u2500 + O\u239dh \u23a0\n",
        "                            dx              3              "
       ]
      }
     ],
     "prompt_number": 66
    },
    {
     "cell_type": "code",
     "collapsed": false,
     "input": [
      "f1_O4 = solve(\n",
      "              Eq(f(x+h) - f(x-h), (f(x+h) - f(x-h)).series(h, n=5).doit()),#.removeO()),\n",
      "              f(x).diff(x)\n",
      "             )[0].expand()\n",
      "f1_O4"
     ],
     "language": "python",
     "metadata": {},
     "outputs": [
      {
       "latex": [
        "$$\\frac{1}{2 h} f{\\left (h + x \\right )} - \\frac{1}{2 h} f{\\left (- h + x \\right )} - \\frac{h^{2}}{6} \\frac{d^{3}}{d x^{3}}  f{\\left (x \\right )} + \\mathcal{O}\\left(h^{4}\\right)$$"
       ],
       "metadata": {},
       "output_type": "pyout",
       "png": "[encoded data removed]",
       "prompt_number": 67,
       "text": [
        "                            3              \n",
        "                        2  d               \n",
        "                       h \u22c5\u2500\u2500\u2500(f(x))        \n",
        "                            3              \n",
        "f(h + x)   f(-h + x)      dx           \u239b 4\u239e\n",
        "\u2500\u2500\u2500\u2500\u2500\u2500\u2500\u2500 - \u2500\u2500\u2500\u2500\u2500\u2500\u2500\u2500\u2500 - \u2500\u2500\u2500\u2500\u2500\u2500\u2500\u2500\u2500\u2500\u2500\u2500 + O\u239dh \u23a0\n",
        "  2\u22c5h         2\u22c5h           6              "
       ]
      }
     ],
     "prompt_number": 67
    },
    {
     "cell_type": "markdown",
     "metadata": {},
     "source": [
      "Da bi izra\u010dunali $f'''(x)$ potrebujemo torej \u0161e eno ena\u010dbo; pridobimo jo tako, da za isto lego $x$ izra\u010dunamo $f'(x)$ z dvojnim korakom $2h$. Podobno kakor zgoraj torej zapi\u0161emo:"
     ]
    },
    {
     "cell_type": "code",
     "collapsed": false,
     "input": [
      "Eq(f(x+2*h) - f(x-2*h), (f(x+2*h) - f(x-2*h)).series(h, n=5).doit())"
     ],
     "language": "python",
     "metadata": {},
     "outputs": [
      {
       "latex": [
        "$$- f{\\left (- 2 h + x \\right )} + f{\\left (2 h + x \\right )} = 4 h \\frac{d}{d x} f{\\left (x \\right )} + \\frac{8 h^{3}}{3} \\frac{d^{3}}{d x^{3}}  f{\\left (x \\right )} + \\mathcal{O}\\left(h^{5}\\right)$$"
       ],
       "metadata": {},
       "output_type": "pyout",
       "png": "[encoded data removed]",
       "prompt_number": 68,
       "text": [
        "                                                  3              \n",
        "                                              3  d               \n",
        "                                           8\u22c5h \u22c5\u2500\u2500\u2500(f(x))        \n",
        "                                                  3              \n",
        "                                d               dx           \u239b 5\u239e\n",
        "-f(-2\u22c5h + x) + f(2\u22c5h + x) = 4\u22c5h\u22c5\u2500\u2500(f(x)) + \u2500\u2500\u2500\u2500\u2500\u2500\u2500\u2500\u2500\u2500\u2500\u2500\u2500\u2500 + O\u239dh \u23a0\n",
        "                                dx               3               "
       ]
      }
     ],
     "prompt_number": 68
    },
    {
     "cell_type": "markdown",
     "metadata": {},
     "source": [
      "Prvi odvod $f'(x)$ izra\u010dunan z dvojnim korakom $2h$ torej je:"
     ]
    },
    {
     "cell_type": "code",
     "collapsed": false,
     "input": [
      "f1_O4_2h = solve(\n",
      "                Eq(f(x+2*h) - f(x-2*h), (f(x+2*h) - f(x-2*h)).series(h, n=5).doit()),#.removeO()),\n",
      "                f(x).diff(x)\n",
      "                )[0].expand()\n",
      "f1_O4_2h"
     ],
     "language": "python",
     "metadata": {},
     "outputs": [
      {
       "latex": [
        "$$\\frac{1}{4 h} f{\\left (2 h + x \\right )} - \\frac{1}{4 h} f{\\left (- 2 h + x \\right )} - \\frac{2 h^{2}}{3} \\frac{d^{3}}{d x^{3}}  f{\\left (x \\right )} + \\mathcal{O}\\left(h^{4}\\right)$$"
       ],
       "metadata": {},
       "output_type": "pyout",
       "png": "[encoded data removed]",
       "prompt_number": 69,
       "text": [
        "                                  3              \n",
        "                              2  d               \n",
        "                           2\u22c5h \u22c5\u2500\u2500\u2500(f(x))        \n",
        "                                  3              \n",
        "f(2\u22c5h + x)   f(-2\u22c5h + x)        dx           \u239b 4\u239e\n",
        "\u2500\u2500\u2500\u2500\u2500\u2500\u2500\u2500\u2500\u2500 - \u2500\u2500\u2500\u2500\u2500\u2500\u2500\u2500\u2500\u2500\u2500 - \u2500\u2500\u2500\u2500\u2500\u2500\u2500\u2500\u2500\u2500\u2500\u2500\u2500\u2500 + O\u239dh \u23a0\n",
        "   4\u22c5h           4\u22c5h             3               "
       ]
      }
     ],
     "prompt_number": 69
    },
    {
     "cell_type": "markdown",
     "metadata": {},
     "source": [
      "Izena\u010dimo izraza za prvi odvod $f'(x)$ z enojnim in dvojnim korakom:"
     ]
    },
    {
     "cell_type": "code",
     "collapsed": false,
     "input": [
      "Eq(f1_O4, f1_O4_2h)"
     ],
     "language": "python",
     "metadata": {},
     "outputs": [
      {
       "latex": [
        "$$\\frac{1}{2 h} f{\\left (h + x \\right )} - \\frac{1}{2 h} f{\\left (- h + x \\right )} - \\frac{h^{2}}{6} \\frac{d^{3}}{d x^{3}}  f{\\left (x \\right )} + \\mathcal{O}\\left(h^{4}\\right) = \\frac{1}{4 h} f{\\left (2 h + x \\right )} - \\frac{1}{4 h} f{\\left (- 2 h + x \\right )} - \\frac{2 h^{2}}{3} \\frac{d^{3}}{d x^{3}}  f{\\left (x \\right )} + \\mathcal{O}\\left(h^{4}\\right)$$"
       ],
       "metadata": {},
       "output_type": "pyout",
       "png": "[encoded data removed]",
       "prompt_number": 70,
       "text": [
        "                            3                                                 \n",
        "                        2  d                                                2 \n",
        "                       h \u22c5\u2500\u2500\u2500(f(x))                                      2\u22c5h \u22c5\n",
        "                            3                                                 \n",
        "f(h + x)   f(-h + x)      dx           \u239b 4\u239e   f(2\u22c5h + x)   f(-2\u22c5h + x)        \n",
        "\u2500\u2500\u2500\u2500\u2500\u2500\u2500\u2500 - \u2500\u2500\u2500\u2500\u2500\u2500\u2500\u2500\u2500 - \u2500\u2500\u2500\u2500\u2500\u2500\u2500\u2500\u2500\u2500\u2500\u2500 + O\u239dh \u23a0 = \u2500\u2500\u2500\u2500\u2500\u2500\u2500\u2500\u2500\u2500 - \u2500\u2500\u2500\u2500\u2500\u2500\u2500\u2500\u2500\u2500\u2500 - \u2500\u2500\u2500\u2500\u2500\n",
        "  2\u22c5h         2\u22c5h           6                    4\u22c5h           4\u22c5h            \n",
        "\n",
        "  3              \n",
        " d               \n",
        "\u2500\u2500\u2500(f(x))        \n",
        "  3              \n",
        "dx           \u239b 4\u239e\n",
        "\u2500\u2500\u2500\u2500\u2500\u2500\u2500\u2500\u2500 + O\u239dh \u23a0\n",
        " 3               "
       ]
      }
     ],
     "prompt_number": 70
    },
    {
     "cell_type": "markdown",
     "metadata": {},
     "source": [
      "Ena\u010dbo lahko re\u0161imo za definiranje tretjega odvoda $f'''(x)$:"
     ]
    },
    {
     "cell_type": "code",
     "collapsed": false,
     "input": [
      "f3 = solve(\n",
      "           Eq(f1_O4, f1_O4_2h),\n",
      "           f(x).diff(x,3)\n",
      "          )[0].expand()\n",
      "f3"
     ],
     "language": "python",
     "metadata": {},
     "outputs": [
      {
       "latex": [
        "$$\\frac{1}{2 h^{3}} f{\\left (2 h + x \\right )} - \\frac{1}{h^{3}} f{\\left (h + x \\right )} + \\frac{1}{h^{3}} f{\\left (- h + x \\right )} - \\frac{1}{2 h^{3}} f{\\left (- 2 h + x \\right )} + \\mathcal{O}\\left(h^{2}\\right)$$"
       ],
       "metadata": {},
       "output_type": "pyout",
       "png": "[encoded data removed]",
       "prompt_number": 71,
       "text": [
        "f(2\u22c5h + x)   f(h + x)   f(-h + x)   f(-2\u22c5h + x)    \u239b 2\u239e\n",
        "\u2500\u2500\u2500\u2500\u2500\u2500\u2500\u2500\u2500\u2500 - \u2500\u2500\u2500\u2500\u2500\u2500\u2500\u2500 + \u2500\u2500\u2500\u2500\u2500\u2500\u2500\u2500\u2500 - \u2500\u2500\u2500\u2500\u2500\u2500\u2500\u2500\u2500\u2500\u2500 + O\u239dh \u23a0\n",
        "      3          3           3             3           \n",
        "   2\u22c5h          h           h           2\u22c5h            "
       ]
      }
     ],
     "prompt_number": 71
    },
    {
     "cell_type": "heading",
     "level": 3,
     "metadata": {},
     "source": [
      "\u010cetrti odvod $f^{(4)}(x)$"
     ]
    },
    {
     "cell_type": "markdown",
     "metadata": {},
     "source": [
      "Podobno kakor za tretji odvod izvedemo za \u010detrti odvod (vendar se\u0161tevamo Taylorjevo vrsto naprej in nazaj):"
     ]
    },
    {
     "cell_type": "code",
     "collapsed": false,
     "input": [
      "Eq(f(x+h) + f(x-h), (f(x+h) + f(x-h)).series(h, n=5).doit())"
     ],
     "language": "python",
     "metadata": {},
     "outputs": [
      {
       "latex": [
        "$$f{\\left (- h + x \\right )} + f{\\left (h + x \\right )} = 2 f{\\left (x \\right )} + h^{2} \\frac{d^{2}}{d x^{2}}  f{\\left (x \\right )} + \\frac{h^{4}}{12} \\frac{d^{4}}{d x^{4}}  f{\\left (x \\right )} + \\mathcal{O}\\left(h^{5}\\right)$$"
       ],
       "metadata": {},
       "output_type": "pyout",
       "png": "[encoded data removed]",
       "prompt_number": 72,
       "text": [
        "                                                    4              \n",
        "                                                4  d               \n",
        "                                               h \u22c5\u2500\u2500\u2500(f(x))        \n",
        "                                     2              4              \n",
        "                                 2  d             dx           \u239b 5\u239e\n",
        "f(-h + x) + f(h + x) = 2\u22c5f(x) + h \u22c5\u2500\u2500\u2500(f(x)) + \u2500\u2500\u2500\u2500\u2500\u2500\u2500\u2500\u2500\u2500\u2500\u2500 + O\u239dh \u23a0\n",
        "                                     2              12             \n",
        "                                   dx                              "
       ]
      }
     ],
     "prompt_number": 72
    },
    {
     "cell_type": "markdown",
     "metadata": {},
     "source": [
      "Dolo\u010dimo torej drugi odvod:"
     ]
    },
    {
     "cell_type": "code",
     "collapsed": false,
     "input": [
      "f2_O5 = solve(\n",
      "              Eq(f(x+h) + f(x-h), (f(x+h) + f(x-h)).series(h, n=6).doit()),#.removeO()),\n",
      "              f(x).diff(x,2)\n",
      "             )[0].expand()\n",
      "f2_O5"
     ],
     "language": "python",
     "metadata": {},
     "outputs": [
      {
       "latex": [
        "$$\\frac{1}{h^{2}} f{\\left (h + x \\right )} + \\frac{1}{h^{2}} f{\\left (- h + x \\right )} - \\frac{2}{h^{2}} f{\\left (x \\right )} - \\frac{h^{2}}{12} \\frac{d^{4}}{d x^{4}}  f{\\left (x \\right )} + \\mathcal{O}\\left(h^{4}\\right)$$"
       ],
       "metadata": {},
       "output_type": "pyout",
       "png": "[encoded data removed]",
       "prompt_number": 73,
       "text": [
        "                                     4              \n",
        "                                 2  d               \n",
        "                                h \u22c5\u2500\u2500\u2500(f(x))        \n",
        "                                     4              \n",
        "f(h + x)   f(-h + x)   2\u22c5f(x)      dx           \u239b 4\u239e\n",
        "\u2500\u2500\u2500\u2500\u2500\u2500\u2500\u2500 + \u2500\u2500\u2500\u2500\u2500\u2500\u2500\u2500\u2500 - \u2500\u2500\u2500\u2500\u2500\u2500 - \u2500\u2500\u2500\u2500\u2500\u2500\u2500\u2500\u2500\u2500\u2500\u2500 + O\u239dh \u23a0\n",
        "    2           2         2          12             \n",
        "   h           h         h                          "
       ]
      }
     ],
     "prompt_number": 73
    },
    {
     "cell_type": "markdown",
     "metadata": {},
     "source": [
      "Podobno dolo\u010dimo drugi odvod $f''(x)$ iz se\u0161tevanja Taylorjeve vrste naprej in nazaj za dvojni korak $2h$:"
     ]
    },
    {
     "cell_type": "code",
     "collapsed": false,
     "input": [
      "f2_O5_2h = solve(\n",
      "                Eq(f(x+2*h) + f(x-2*h), (f(x+2*h) + f(x-2*h)).series(h, n=6).doit()),#.removeO()),\n",
      "                f(x).diff(x,2)\n",
      "                )[0].expand()\n",
      "f2_O5_2h"
     ],
     "language": "python",
     "metadata": {},
     "outputs": [
      {
       "latex": [
        "$$\\frac{1}{4 h^{2}} f{\\left (2 h + x \\right )} + \\frac{1}{4 h^{2}} f{\\left (- 2 h + x \\right )} - \\frac{f{\\left (x \\right )}}{2 h^{2}} - \\frac{h^{2}}{3} \\frac{d^{4}}{d x^{4}}  f{\\left (x \\right )} + \\mathcal{O}\\left(h^{4}\\right)$$"
       ],
       "metadata": {},
       "output_type": "pyout",
       "png": "[encoded data removed]",
       "prompt_number": 74,
       "text": [
        "                                       4              \n",
        "                                   2  d               \n",
        "                                  h \u22c5\u2500\u2500\u2500(f(x))        \n",
        "                                       4              \n",
        "f(2\u22c5h + x)   f(-2\u22c5h + x)   f(x)      dx           \u239b 4\u239e\n",
        "\u2500\u2500\u2500\u2500\u2500\u2500\u2500\u2500\u2500\u2500 + \u2500\u2500\u2500\u2500\u2500\u2500\u2500\u2500\u2500\u2500\u2500 - \u2500\u2500\u2500\u2500 - \u2500\u2500\u2500\u2500\u2500\u2500\u2500\u2500\u2500\u2500\u2500\u2500 + O\u239dh \u23a0\n",
        "      2             2         2        3              \n",
        "   4\u22c5h           4\u22c5h       2\u22c5h                        "
       ]
      }
     ],
     "prompt_number": 74
    },
    {
     "cell_type": "markdown",
     "metadata": {},
     "source": [
      "In kon\u010dno re\u0161imo \u010detrti odvod:"
     ]
    },
    {
     "cell_type": "code",
     "collapsed": false,
     "input": [
      "f4 = solve(\n",
      "           Eq(f2_O5, f2_O5_2h),\n",
      "           f(x).diff(x,4)\n",
      "          )[0].expand()\n",
      "f4"
     ],
     "language": "python",
     "metadata": {},
     "outputs": [
      {
       "latex": [
        "$$\\frac{1}{h^{4}} f{\\left (2 h + x \\right )} - \\frac{4}{h^{4}} f{\\left (h + x \\right )} - \\frac{4}{h^{4}} f{\\left (- h + x \\right )} + \\frac{1}{h^{4}} f{\\left (- 2 h + x \\right )} + \\frac{6}{h^{4}} f{\\left (x \\right )} + \\mathcal{O}\\left(h^{2}\\right)$$"
       ],
       "metadata": {},
       "output_type": "pyout",
       "png": "[encoded data removed]",
       "prompt_number": 75,
       "text": [
        "f(2\u22c5h + x)   4\u22c5f(h + x)   4\u22c5f(-h + x)   f(-2\u22c5h + x)   6\u22c5f(x)    \u239b 2\u239e\n",
        "\u2500\u2500\u2500\u2500\u2500\u2500\u2500\u2500\u2500\u2500 - \u2500\u2500\u2500\u2500\u2500\u2500\u2500\u2500\u2500\u2500 - \u2500\u2500\u2500\u2500\u2500\u2500\u2500\u2500\u2500\u2500\u2500 + \u2500\u2500\u2500\u2500\u2500\u2500\u2500\u2500\u2500\u2500\u2500 + \u2500\u2500\u2500\u2500\u2500\u2500 + O\u239dh \u23a0\n",
        "     4            4             4             4          4          \n",
        "    h            h             h             h          h           "
       ]
      }
     ],
     "prompt_number": 75
    },
    {
     "cell_type": "heading",
     "level": 3,
     "metadata": {},
     "source": [
      "Povzetek centralne diferen\u010dne sheme"
     ]
    },
    {
     "cell_type": "markdown",
     "metadata": {},
     "source": [
      "Zgoraj smo izpeljali prve \u0161tiri odvode:"
     ]
    },
    {
     "cell_type": "code",
     "collapsed": false,
     "input": [
      "odvodi = [f1, f2, f3, f4]\n",
      "odvodi"
     ],
     "language": "python",
     "metadata": {},
     "outputs": [
      {
       "latex": [
        "$$\\left [ \\frac{1}{2 h} f{\\left (h + x \\right )} - \\frac{1}{2 h} f{\\left (- h + x \\right )} + \\mathcal{O}\\left(h^{2}\\right), \\quad \\frac{1}{h^{2}} f{\\left (h + x \\right )} + \\frac{1}{h^{2}} f{\\left (- h + x \\right )} - \\frac{2}{h^{2}} f{\\left (x \\right )} + \\mathcal{O}\\left(h^{2}\\right), \\quad \\frac{1}{2 h^{3}} f{\\left (2 h + x \\right )} - \\frac{1}{h^{3}} f{\\left (h + x \\right )} + \\frac{1}{h^{3}} f{\\left (- h + x \\right )} - \\frac{1}{2 h^{3}} f{\\left (- 2 h + x \\right )} + \\mathcal{O}\\left(h^{2}\\right), \\quad \\frac{1}{h^{4}} f{\\left (2 h + x \\right )} - \\frac{4}{h^{4}} f{\\left (h + x \\right )} - \\frac{4}{h^{4}} f{\\left (- h + x \\right )} + \\frac{1}{h^{4}} f{\\left (- 2 h + x \\right )} + \\frac{6}{h^{4}} f{\\left (x \\right )} + \\mathcal{O}\\left(h^{2}\\right)\\right ]$$"
       ],
       "metadata": {},
       "output_type": "pyout",
       "png": "[encoded data removed]",
       "prompt_number": 89,
       "text": [
        "\u23a1f(h + x)   f(-h + x)    \u239b 2\u239e  f(h + x)   f(-h + x)   2\u22c5f(x)    \u239b 2\u239e  f(2\u22c5h + \n",
        "\u23a2\u2500\u2500\u2500\u2500\u2500\u2500\u2500\u2500 - \u2500\u2500\u2500\u2500\u2500\u2500\u2500\u2500\u2500 + O\u239dh \u23a0, \u2500\u2500\u2500\u2500\u2500\u2500\u2500\u2500 + \u2500\u2500\u2500\u2500\u2500\u2500\u2500\u2500\u2500 - \u2500\u2500\u2500\u2500\u2500\u2500 + O\u239dh \u23a0, \u2500\u2500\u2500\u2500\u2500\u2500\u2500\u2500\n",
        "\u23a2  2\u22c5h         2\u22c5h                 2           2         2                  3 \n",
        "\u23a3                                 h           h         h                2\u22c5h  \n",
        "\n",
        "x)   f(h + x)   f(-h + x)   f(-2\u22c5h + x)    \u239b 2\u239e  f(2\u22c5h + x)   4\u22c5f(h + x)   4\u22c5f\n",
        "\u2500\u2500 - \u2500\u2500\u2500\u2500\u2500\u2500\u2500\u2500 + \u2500\u2500\u2500\u2500\u2500\u2500\u2500\u2500\u2500 - \u2500\u2500\u2500\u2500\u2500\u2500\u2500\u2500\u2500\u2500\u2500 + O\u239dh \u23a0, \u2500\u2500\u2500\u2500\u2500\u2500\u2500\u2500\u2500\u2500 - \u2500\u2500\u2500\u2500\u2500\u2500\u2500\u2500\u2500\u2500 - \u2500\u2500\u2500\n",
        "         3           3             3                  4            4          \n",
        "        h           h           2\u22c5h                  h            h           \n",
        "\n",
        "(-h + x)   f(-2\u22c5h + x)   6\u22c5f(x)    \u239b 2\u239e\u23a4\n",
        "\u2500\u2500\u2500\u2500\u2500\u2500\u2500\u2500 + \u2500\u2500\u2500\u2500\u2500\u2500\u2500\u2500\u2500\u2500\u2500 + \u2500\u2500\u2500\u2500\u2500\u2500 + O\u239dh \u23a0\u23a5\n",
        "   4             4          4          \u23a5\n",
        "  h             h          h           \u23a6"
       ]
      }
     ],
     "prompt_number": 89
    },
    {
     "cell_type": "code",
     "collapsed": false,
     "input": [
      "diskretne_tocke = [f(x-2*h), f(x-h), f(x), f(x+h), f(x+2*h)]"
     ],
     "language": "python",
     "metadata": {},
     "outputs": [],
     "prompt_number": 90
    },
    {
     "cell_type": "code",
     "collapsed": false,
     "input": [
      "f1"
     ],
     "language": "python",
     "metadata": {},
     "outputs": [
      {
       "latex": [
        "$$\\frac{1}{2 h} f{\\left (h + x \\right )} - \\frac{1}{2 h} f{\\left (- h + x \\right )} + \\mathcal{O}\\left(h^{2}\\right)$$"
       ],
       "metadata": {},
       "output_type": "pyout",
       "png": "[encoded data removed]",
       "prompt_number": 91,
       "text": [
        "f(h + x)   f(-h + x)    \u239b 2\u239e\n",
        "\u2500\u2500\u2500\u2500\u2500\u2500\u2500\u2500 - \u2500\u2500\u2500\u2500\u2500\u2500\u2500\u2500\u2500 + O\u239dh \u23a0\n",
        "  2\u22c5h         2\u22c5h           "
       ]
      }
     ],
     "prompt_number": 91
    },
    {
     "cell_type": "code",
     "collapsed": false,
     "input": [
      "centralna_diff_shema = [[odvod.coeff(ds) for ds in diskretne_tocke] for odvod in odvodi]\n",
      "centralna_diff_shema"
     ],
     "language": "python",
     "metadata": {},
     "outputs": [
      {
       "latex": [
        "$$\\left [ \\left [ 0, \\quad - \\frac{1}{2 h}, \\quad 0, \\quad \\frac{1}{2 h}, \\quad 0\\right ], \\quad \\left [ 0, \\quad \\frac{1}{h^{2}}, \\quad - \\frac{2}{h^{2}}, \\quad \\frac{1}{h^{2}}, \\quad 0\\right ], \\quad \\left [ - \\frac{1}{2 h^{3}}, \\quad \\frac{1}{h^{3}}, \\quad 0, \\quad - \\frac{1}{h^{3}}, \\quad \\frac{1}{2 h^{3}}\\right ], \\quad \\left [ \\frac{1}{h^{4}}, \\quad - \\frac{4}{h^{4}}, \\quad \\frac{6}{h^{4}}, \\quad - \\frac{4}{h^{4}}, \\quad \\frac{1}{h^{4}}\\right ]\\right ]$$"
       ],
       "metadata": {},
       "output_type": "pyout",
       "png": "[encoded data removed]",
       "prompt_number": 92,
       "text": [
        "\u23a1\u23a1   -1       1    \u23a4  \u23a1   1   -2   1    \u23a4  \u23a1-1    1      -1    1  \u23a4  \u23a11   -4  \n",
        "\u23a2\u23a20, \u2500\u2500\u2500, 0, \u2500\u2500\u2500, 0\u23a5, \u23a20, \u2500\u2500, \u2500\u2500\u2500, \u2500\u2500, 0\u23a5, \u23a2\u2500\u2500\u2500\u2500, \u2500\u2500, 0, \u2500\u2500\u2500, \u2500\u2500\u2500\u2500\u23a5, \u23a2\u2500\u2500, \u2500\u2500\u2500,\n",
        "\u23a2\u23a3   2\u22c5h     2\u22c5h   \u23a6  \u23a2    2    2   2   \u23a5  \u23a2   3   3       3     3\u23a5  \u23a2 4    4 \n",
        "\u23a3                     \u23a3   h    h   h    \u23a6  \u23a32\u22c5h   h       h   2\u22c5h \u23a6  \u23a3h    h  \n",
        "\n",
        " 6   -4   1 \u23a4\u23a4\n",
        " \u2500\u2500, \u2500\u2500\u2500, \u2500\u2500\u23a5\u23a5\n",
        "  4    4   4\u23a5\u23a5\n",
        " h    h   h \u23a6\u23a6"
       ]
      }
     ],
     "prompt_number": 92
    },
    {
     "cell_type": "markdown",
     "metadata": {},
     "source": [
      "Zgornje povzetke lahko tudi zapi\u0161emo v tabelari\u010dni obliki:\n",
      "\n",
      "|       |$\\mbox{$f(x-2h)$}$|$\\mbox{$f(x-h)$}$ |$\\mbox{$\\quad f(x)\\quad$}$   |$\\mbox{$f(x+h)$}$ |$\\mbox{$f(x+2h)$}$|\n",
      "|:--------:|:-------------------:|:----------:|:----------:|:----------:|:----------:|\n",
      "|$\\mbox{$f'(x)=\\frac{1}{2h}\\cdot$}$| 0     | -1 | 0 | 1 | 0|\n",
      "|$\\mbox{$f''(x)=\\frac{1}{h^2}\\cdot$}$| 0 | 1 | -2 | 1 | 0|\n",
      "|$\\mbox{$f'''(x)=\\frac{1}{2h^3}\\cdot$}$| -1 | 2 | 0 | -2 | 1|\n",
      "|$\\mbox{$f^{(4)}(x)=\\frac{1}{h^4}\\cdot$}$| 1 | -4 | 6 | -4 | 1|\n",
      "\n",
      "Centralna diferen\u010dna shema ima napako drugega reda $\\mathcal{O}(h^{2})$."
     ]
    },
    {
     "cell_type": "heading",
     "level": 3,
     "metadata": {},
     "source": [
      "Pove\u010devanje reda napake"
     ]
    },
    {
     "cell_type": "markdown",
     "metadata": {},
     "source": [
      "Natan\u010dnost lahko teoreti\u010dno poljubno pove\u010dujemo; vse kar moramo narediti je, da Taylorjevo vrsto razvijemo do vi\u0161jega reda. Poglejmo si izpeljavo za prvi odvod $f'(x)$."
     ]
    },
    {
     "cell_type": "code",
     "collapsed": false,
     "input": [
      "N=4\n",
      "Eq(f(x+h) - f(x-h), (f(x+h) - f(x-h)).series(h, n=N).doit())"
     ],
     "language": "python",
     "metadata": {},
     "outputs": [
      {
       "latex": [
        "$$- f{\\left (- h + x \\right )} + f{\\left (h + x \\right )} = 2 h \\frac{d}{d x} f{\\left (x \\right )} + \\frac{h^{3}}{3} \\frac{d^{3}}{d x^{3}}  f{\\left (x \\right )} + \\mathcal{O}\\left(h^{4}\\right)$$"
       ],
       "metadata": {},
       "output_type": "pyout",
       "png": "[encoded data removed]",
       "prompt_number": 94,
       "text": [
        "                                            3              \n",
        "                                        3  d               \n",
        "                                       h \u22c5\u2500\u2500\u2500(f(x))        \n",
        "                                            3              \n",
        "                            d             dx           \u239b 4\u239e\n",
        "-f(-h + x) + f(h + x) = 2\u22c5h\u22c5\u2500\u2500(f(x)) + \u2500\u2500\u2500\u2500\u2500\u2500\u2500\u2500\u2500\u2500\u2500\u2500 + O\u239dh \u23a0\n",
        "                            dx              3              "
       ]
      }
     ],
     "prompt_number": 94
    },
    {
     "cell_type": "code",
     "collapsed": false,
     "input": [
      "f3_O4 = solve(\n",
      "              Eq(f(x+h) - f(x-h), (f(x+h) - f(x-h)).series(h, n=N).doit()),\n",
      "              f(x).diff(x,3)\n",
      "             )[0]\n",
      "f3_O4"
     ],
     "language": "python",
     "metadata": {},
     "outputs": [
      {
       "latex": [
        "$$\\frac{1}{h^{5}} \\left(3 h^{2} \\left(- f{\\left (- h + x \\right )} + f{\\left (h + x \\right )}\\right) - 6 h^{3} \\frac{d}{d x} f{\\left (x \\right )} + \\mathcal{O}\\left(h^{6}\\right)\\right)$$"
       ],
       "metadata": {},
       "output_type": "pyout",
       "png": "[encoded data removed]",
       "prompt_number": 96,
       "text": [
        "   2                              3 d           \u239b 6\u239e\n",
        "3\u22c5h \u22c5(-f(-h + x) + f(h + x)) - 6\u22c5h \u22c5\u2500\u2500(f(x)) + O\u239dh \u23a0\n",
        "                                    dx              \n",
        "\u2500\u2500\u2500\u2500\u2500\u2500\u2500\u2500\u2500\u2500\u2500\u2500\u2500\u2500\u2500\u2500\u2500\u2500\u2500\u2500\u2500\u2500\u2500\u2500\u2500\u2500\u2500\u2500\u2500\u2500\u2500\u2500\u2500\u2500\u2500\u2500\u2500\u2500\u2500\u2500\u2500\u2500\u2500\u2500\u2500\u2500\u2500\u2500\u2500\u2500\u2500\u2500\n",
        "                          5                         \n",
        "                         h                          "
       ]
      }
     ],
     "prompt_number": 96
    },
    {
     "cell_type": "code",
     "collapsed": false,
     "input": [
      "Eq(f(x+2*h) - f(x-2*h), (f(x+2*h) - f(x-2*h)).series(h, n=N).doit())"
     ],
     "language": "python",
     "metadata": {},
     "outputs": [
      {
       "latex": [
        "$$- f{\\left (- 2 h + x \\right )} + f{\\left (2 h + x \\right )} = 4 h \\frac{d}{d x} f{\\left (x \\right )} + \\frac{8 h^{3}}{3} \\frac{d^{3}}{d x^{3}}  f{\\left (x \\right )} + \\mathcal{O}\\left(h^{4}\\right)$$"
       ],
       "metadata": {},
       "output_type": "pyout",
       "png": "[encoded data removed]",
       "prompt_number": 97,
       "text": [
        "                                                  3              \n",
        "                                              3  d               \n",
        "                                           8\u22c5h \u22c5\u2500\u2500\u2500(f(x))        \n",
        "                                                  3              \n",
        "                                d               dx           \u239b 4\u239e\n",
        "-f(-2\u22c5h + x) + f(2\u22c5h + x) = 4\u22c5h\u22c5\u2500\u2500(f(x)) + \u2500\u2500\u2500\u2500\u2500\u2500\u2500\u2500\u2500\u2500\u2500\u2500\u2500\u2500 + O\u239dh \u23a0\n",
        "                                dx               3               "
       ]
      }
     ],
     "prompt_number": 97
    },
    {
     "cell_type": "code",
     "collapsed": false,
     "input": [
      "eq = Eq(f(x+2*h) - f(x-2*h), (f(x+2*h) - f(x-2*h)).series(h, n=N).doit()).subs(f(x).diff(x,3), f3_O4).expand()\n",
      "eq"
     ],
     "language": "python",
     "metadata": {},
     "outputs": [
      {
       "latex": [
        "$$- f{\\left (- 2 h + x \\right )} + f{\\left (2 h + x \\right )} = 8 f{\\left (h + x \\right )} - 8 f{\\left (- h + x \\right )} - 12 h \\frac{d}{d x} f{\\left (x \\right )} + \\mathcal{O}\\left(h^{4}\\right)$$"
       ],
       "metadata": {},
       "output_type": "pyout",
       "png": "[encoded data removed]",
       "prompt_number": 99,
       "text": [
        "                                                            d           \u239b 4\u239e\n",
        "-f(-2\u22c5h + x) + f(2\u22c5h + x) = 8\u22c5f(h + x) - 8\u22c5f(-h + x) - 12\u22c5h\u22c5\u2500\u2500(f(x)) + O\u239dh \u23a0\n",
        "                                                            dx              "
       ]
      }
     ],
     "prompt_number": 99
    },
    {
     "cell_type": "code",
     "collapsed": false,
     "input": [
      "f1_O4 = solve(\n",
      "              eq,\n",
      "              f(x).diff(x)\n",
      "             )[0].expand()\n",
      "f1_O4"
     ],
     "language": "python",
     "metadata": {},
     "outputs": [
      {
       "latex": [
        "$$- \\frac{1}{12 h} f{\\left (2 h + x \\right )} + \\frac{2}{3 h} f{\\left (h + x \\right )} - \\frac{2}{3 h} f{\\left (- h + x \\right )} + \\frac{1}{12 h} f{\\left (- 2 h + x \\right )} + \\mathcal{O}\\left(h^{3}\\right)$$"
       ],
       "metadata": {},
       "output_type": "pyout",
       "png": "[encoded data removed]",
       "prompt_number": 100,
       "text": [
        "  f(2\u22c5h + x)   2\u22c5f(h + x)   2\u22c5f(-h + x)   f(-2\u22c5h + x)    \u239b 3\u239e\n",
        "- \u2500\u2500\u2500\u2500\u2500\u2500\u2500\u2500\u2500\u2500 + \u2500\u2500\u2500\u2500\u2500\u2500\u2500\u2500\u2500\u2500 - \u2500\u2500\u2500\u2500\u2500\u2500\u2500\u2500\u2500\u2500\u2500 + \u2500\u2500\u2500\u2500\u2500\u2500\u2500\u2500\u2500\u2500\u2500 + O\u239dh \u23a0\n",
        "     12\u22c5h         3\u22c5h           3\u22c5h           12\u22c5h           "
       ]
      }
     ],
     "prompt_number": 100
    },
    {
     "cell_type": "code",
     "collapsed": false,
     "input": [
      "[f1_O4.coeff(ds) for ds in diskretne_tocke]"
     ],
     "language": "python",
     "metadata": {},
     "outputs": [
      {
       "latex": [
        "$$\\left [ \\frac{1}{12 h}, \\quad - \\frac{2}{3 h}, \\quad 0, \\quad \\frac{2}{3 h}, \\quad - \\frac{1}{12 h}\\right ]$$"
       ],
       "metadata": {},
       "output_type": "pyout",
       "png": "[encoded data removed]",
       "prompt_number": 101,
       "text": [
        "\u23a1 1    -2       2   -1  \u23a4\n",
        "\u23a2\u2500\u2500\u2500\u2500, \u2500\u2500\u2500, 0, \u2500\u2500\u2500, \u2500\u2500\u2500\u2500\u23a5\n",
        "\u23a312\u22c5h  3\u22c5h     3\u22c5h  12\u22c5h\u23a6"
       ]
      }
     ],
     "prompt_number": 101
    },
    {
     "cell_type": "markdown",
     "metadata": {},
     "source": [
      "S tem smo izpeljali prvi odvo z redom napake $\\mathcal{O}(h^{4})$."
     ]
    },
    {
     "cell_type": "heading",
     "level": 4,
     "metadata": {},
     "source": [
      "Uporaba ``scipy.misc.central_diff_weight`` za izra\u010dun koeficientov"
     ]
    },
    {
     "cell_type": "code",
     "collapsed": false,
     "input": [
      "from scipy.misc import central_diff_weights"
     ],
     "language": "python",
     "metadata": {},
     "outputs": [],
     "prompt_number": 107
    },
    {
     "cell_type": "markdown",
     "metadata": {},
     "source": [
      "Prvi odvod (\u010dez tri to\u010dke) napake reda  $\\mathcal{O}(h^{2})$"
     ]
    },
    {
     "cell_type": "code",
     "collapsed": false,
     "input": [
      "central_diff_weights(Np=3, ndiv=1)"
     ],
     "language": "python",
     "metadata": {},
     "outputs": [
      {
       "metadata": {},
       "output_type": "pyout",
       "prompt_number": 108,
       "text": [
        "array([-0.5,  0. ,  0.5])"
       ]
      }
     ],
     "prompt_number": 108
    },
    {
     "cell_type": "code",
     "collapsed": false,
     "input": [
      "centralna_diff_shema"
     ],
     "language": "python",
     "metadata": {},
     "outputs": [
      {
       "latex": [
        "$$\\left [ \\left [ 0, \\quad - \\frac{1}{2 h}, \\quad 0, \\quad \\frac{1}{2 h}, \\quad 0\\right ], \\quad \\left [ 0, \\quad \\frac{1}{h^{2}}, \\quad - \\frac{2}{h^{2}}, \\quad \\frac{1}{h^{2}}, \\quad 0\\right ], \\quad \\left [ - \\frac{1}{2 h^{3}}, \\quad \\frac{1}{h^{3}}, \\quad 0, \\quad - \\frac{1}{h^{3}}, \\quad \\frac{1}{2 h^{3}}\\right ], \\quad \\left [ \\frac{1}{h^{4}}, \\quad - \\frac{4}{h^{4}}, \\quad \\frac{6}{h^{4}}, \\quad - \\frac{4}{h^{4}}, \\quad \\frac{1}{h^{4}}\\right ]\\right ]$$"
       ],
       "metadata": {},
       "output_type": "pyout",
       "png": "[encoded data removed]",
       "prompt_number": 109,
       "text": [
        "\u23a1\u23a1   -1       1    \u23a4  \u23a1   1   -2   1    \u23a4  \u23a1-1    1      -1    1  \u23a4  \u23a11   -4  \n",
        "\u23a2\u23a20, \u2500\u2500\u2500, 0, \u2500\u2500\u2500, 0\u23a5, \u23a20, \u2500\u2500, \u2500\u2500\u2500, \u2500\u2500, 0\u23a5, \u23a2\u2500\u2500\u2500\u2500, \u2500\u2500, 0, \u2500\u2500\u2500, \u2500\u2500\u2500\u2500\u23a5, \u23a2\u2500\u2500, \u2500\u2500\u2500,\n",
        "\u23a2\u23a3   2\u22c5h     2\u22c5h   \u23a6  \u23a2    2    2   2   \u23a5  \u23a2   3   3       3     3\u23a5  \u23a2 4    4 \n",
        "\u23a3                     \u23a3   h    h   h    \u23a6  \u23a32\u22c5h   h       h   2\u22c5h \u23a6  \u23a3h    h  \n",
        "\n",
        " 6   -4   1 \u23a4\u23a4\n",
        " \u2500\u2500, \u2500\u2500\u2500, \u2500\u2500\u23a5\u23a5\n",
        "  4    4   4\u23a5\u23a5\n",
        " h    h   h \u23a6\u23a6"
       ]
      }
     ],
     "prompt_number": 109
    },
    {
     "cell_type": "markdown",
     "metadata": {},
     "source": [
      "Drugi odvod (\u010dez tri to\u010dke) napake reda  $\\mathcal{O}(h^{2})$"
     ]
    },
    {
     "cell_type": "code",
     "collapsed": false,
     "input": [
      "central_diff_weights(Np=3, ndiv=2)"
     ],
     "language": "python",
     "metadata": {},
     "outputs": [
      {
       "metadata": {},
       "output_type": "pyout",
       "prompt_number": 111,
       "text": [
        "array([ 1., -2.,  1.])"
       ]
      }
     ],
     "prompt_number": 111
    },
    {
     "cell_type": "markdown",
     "metadata": {},
     "source": [
      "Tretji odvod (\u010dez pet to\u010dk) napake reda  $\\mathcal{O}(h^{2})$"
     ]
    },
    {
     "cell_type": "code",
     "collapsed": false,
     "input": [
      "central_diff_weights(Np=5, ndiv=3)"
     ],
     "language": "python",
     "metadata": {},
     "outputs": [
      {
       "metadata": {},
       "output_type": "pyout",
       "prompt_number": 113,
       "text": [
        "array([ -5.00000000e-01,   1.00000000e+00,   4.16333634e-17,\n",
        "        -1.00000000e+00,   5.00000000e-01])"
       ]
      }
     ],
     "prompt_number": 113
    },
    {
     "cell_type": "markdown",
     "metadata": {},
     "source": [
      "\u010cetrti odvod (\u010dez pet to\u010dk) napake reda  $\\mathcal{O}(h^{2})$"
     ]
    },
    {
     "cell_type": "code",
     "collapsed": false,
     "input": [
      "central_diff_weights(Np=5, ndiv=4)"
     ],
     "language": "python",
     "metadata": {},
     "outputs": [
      {
       "metadata": {},
       "output_type": "pyout",
       "prompt_number": 114,
       "text": [
        "array([ 1., -4.,  6., -4.,  1.])"
       ]
      }
     ],
     "prompt_number": 114
    },
    {
     "cell_type": "markdown",
     "metadata": {},
     "source": [
      "Prvi odvod (\u010dez pet to\u010dk) napake reda  $\\mathcal{O}(h^{3})$"
     ]
    },
    {
     "cell_type": "code",
     "collapsed": false,
     "input": [
      "central_diff_weights(Np=5, ndiv=1)"
     ],
     "language": "python",
     "metadata": {},
     "outputs": [
      {
       "metadata": {},
       "output_type": "pyout",
       "prompt_number": 115,
       "text": [
        "array([  8.33333333e-02,  -6.66666667e-01,  -2.77555756e-17,\n",
        "         6.66666667e-01,  -8.33333333e-02])"
       ]
      }
     ],
     "prompt_number": 115
    },
    {
     "cell_type": "heading",
     "level": 2,
     "metadata": {},
     "source": [
      "Necentralna diferen\u010dna metoda"
     ]
    },
    {
     "cell_type": "markdown",
     "metadata": {},
     "source": [
      "Centralna diferen\u010dna shema, ki smo jo spoznali zgoraj je zelo uporabna in relativno natan\u010dna; ker pa je ne moremo vedno uporabiti (recimo na robu ali na za\u010detku), si moramo pomagati z **necentralnimi diferen\u010dnimi shemami**. Poznamo:\n",
      "* **diferen\u010dno shemo naprej**, ki odvod to\u010dke aproksimira z vrednostmi v slede\u010dih to\u010dkah in \n",
      "* **diferen\u010dno shemo nazaj**, ki odvod to\u010dke aproksimira z vrednostmi v predhodnih to\u010dkah.\n",
      "\n",
      "Poglejmo si tukaj izpeljavo prvega odvoda $f'(x)$ z diferen\u010dno shemo naprej. Najprej razvijemo Taylorjevo vrsto:"
     ]
    },
    {
     "cell_type": "code",
     "collapsed": false,
     "input": [
      "Eq(f(x+h), f(x+h).series(h, n=5).doit())"
     ],
     "language": "python",
     "metadata": {},
     "outputs": [
      {
       "latex": [
        "$$f{\\left (h + x \\right )} = f{\\left (x \\right )} + h \\frac{d}{d x} f{\\left (x \\right )} + \\frac{h^{2}}{2} \\frac{d^{2}}{d x^{2}}  f{\\left (x \\right )} + \\frac{h^{3}}{6} \\frac{d^{3}}{d x^{3}}  f{\\left (x \\right )} + \\frac{h^{4}}{24} \\frac{d^{4}}{d x^{4}}  f{\\left (x \\right )} + \\mathcal{O}\\left(h^{5}\\right)$$"
       ],
       "metadata": {},
       "output_type": "pyout",
       "png": "[encoded data removed]",
       "prompt_number": 116,
       "text": [
        "                                    2              3              4           \n",
        "                                2  d           3  d           4  d            \n",
        "                               h \u22c5\u2500\u2500\u2500(f(x))   h \u22c5\u2500\u2500\u2500(f(x))   h \u22c5\u2500\u2500\u2500(f(x))     \n",
        "                                    2              3              4           \n",
        "                    d             dx             dx             dx           \u239b\n",
        "f(h + x) = f(x) + h\u22c5\u2500\u2500(f(x)) + \u2500\u2500\u2500\u2500\u2500\u2500\u2500\u2500\u2500\u2500\u2500\u2500 + \u2500\u2500\u2500\u2500\u2500\u2500\u2500\u2500\u2500\u2500\u2500\u2500 + \u2500\u2500\u2500\u2500\u2500\u2500\u2500\u2500\u2500\u2500\u2500\u2500 + O\u239d\n",
        "                    dx              2              6              24          \n",
        "\n",
        "   \n",
        "   \n",
        "   \n",
        "   \n",
        " 5\u239e\n",
        "h \u23a0\n",
        "   "
       ]
      }
     ],
     "prompt_number": 116
    },
    {
     "cell_type": "code",
     "collapsed": false,
     "input": [
      "f1_F = solve(\n",
      "             Eq(f(x+h), f(x+h).series(h, n=3).doit()), \n",
      "             f(x).diff(x))[0].expand()\n",
      "f1_F"
     ],
     "language": "python",
     "metadata": {},
     "outputs": [
      {
       "latex": [
        "$$\\frac{1}{h} f{\\left (h + x \\right )} - \\frac{1}{h} f{\\left (x \\right )} - \\frac{h}{2} \\frac{d^{2}}{d x^{2}}  f{\\left (x \\right )} + \\mathcal{O}\\left(h^{2}\\right)$$"
       ],
       "metadata": {},
       "output_type": "pyout",
       "png": "[encoded data removed]",
       "prompt_number": 117,
       "text": [
        "                      2              \n",
        "                     d               \n",
        "                  h\u22c5\u2500\u2500\u2500(f(x))        \n",
        "                      2              \n",
        "f(h + x)   f(x)     dx           \u239b 2\u239e\n",
        "\u2500\u2500\u2500\u2500\u2500\u2500\u2500\u2500 - \u2500\u2500\u2500\u2500 - \u2500\u2500\u2500\u2500\u2500\u2500\u2500\u2500\u2500\u2500\u2500 + O\u239dh \u23a0\n",
        "   h        h          2             "
       ]
      }
     ],
     "prompt_number": 117
    },
    {
     "cell_type": "markdown",
     "metadata": {},
     "source": [
      "Opazimo, da imamo z zanemaritvijo drugega in vi\u0161jih odvodov relativno velik red napake  $\\mathcal{O}(h^{1})$. Seveda lahko z vklju\u010ditvijo ve\u010d \u010dlenov zmanj\u0161amo red napake. Tukaj bolj podrobno v izpeljevanje ne bomo \u0161li; bomo si pa v nadaljevanju pogledali diferen\u010dno shemo naprej/nazaj z redom napake  $\\mathcal{O}(h^{1})$ in  $\\mathcal{O}(h^{2})$."
     ]
    },
    {
     "cell_type": "heading",
     "level": 3,
     "metadata": {},
     "source": [
      "Diferen\u010dna shema naprej"
     ]
    },
    {
     "cell_type": "markdown",
     "metadata": {},
     "source": [
      "Diferen\u010dna shema za red napake $\\mathcal{O}(h^{1})$:\n",
      "\n",
      "|       |$\\mbox{$\\quad f(x)\\quad$}$|$\\mbox{$f(x+h)$}$ |$\\mbox{$f(x+2h)$}$   |$\\mbox{$f(x+3h)$}$ |$\\mbox{$f(x+4h)$}$|\n",
      "|:--------:|:-------------------:|:----------:|:----------:|:----------:|:----------:|\n",
      "|$\\mbox{$f'(x)=\\frac{1}{h}\\cdot$}$| -1     | 1 | 0 | 0 | 0|\n",
      "|$\\mbox{$f''(x)=\\frac{1}{h^2}\\cdot$}$| 1 | -2 | 1 | 0 | 0|\n",
      "|$\\mbox{$f'''(x)=\\frac{1}{h^3}\\cdot$}$| -1 | 3 | -3| 1 | 0|\n",
      "|$\\mbox{$f^{(4)}(x)=\\frac{1}{h^4}\\cdot$}$| 1 | -4 | 6 | -4 | 1|"
     ]
    },
    {
     "cell_type": "markdown",
     "metadata": {},
     "source": [
      "Diferen\u010dna shema za red napake $\\mathcal{O}(h^{2})$:\n",
      "\n",
      "|       |$\\mbox{$\\quad f(x)\\quad$}$|$\\mbox{$f(x+h)$}$ |$\\mbox{$f(x+2h)$}$   |$\\mbox{$f(x+3h)$}$ |$\\mbox{$f(x+4h)$}$|$\\mbox{$f(x+5h)$}$|\n",
      "|:--------:|:-------------------:|:----------:|:----------:|:----------:|:----------:|:----------:|\n",
      "|$\\mbox{$f'(x)=\\frac{1}{2h}\\cdot$}$| -3 | 4 | -1| 0 | 0|  0| \n",
      "|$\\mbox{$f''(x)=\\frac{1}{h^2}\\cdot$}$| 2 | -5 | 4 | -1| 0| 0| \n",
      "|$\\mbox{$f'''(x)=\\frac{1}{2h^3}\\cdot$}$| -5 | 18| -24| 14| -3| 0| \n",
      "|$\\mbox{$f^{(4)}(x)=\\frac{1}{h^4}\\cdot$}$| 3 | -14 | 26 | -24 | 11| -2| "
     ]
    },
    {
     "cell_type": "heading",
     "level": 3,
     "metadata": {},
     "source": [
      "Diferen\u010dna shema nazaj"
     ]
    },
    {
     "cell_type": "markdown",
     "metadata": {},
     "source": [
      "Diferen\u010dna shema za red napake $\\mathcal{O}(h^{1})$:\n",
      "\n",
      "|       |$\\mbox{$f(x-4h)$}$|$\\mbox{$f(x-3h)$}$ |$\\mbox{$f(x-2h)$}$   |$\\mbox{$f(x-h)$}$ |$\\mbox{$\\quad f(x)\\quad$}$|\n",
      "|:--------:|:-------------------:|:----------:|:----------:|:----------:|:----------:|\n",
      "|$\\mbox{$f'(x)=\\frac{1}{h}\\cdot$}$| 0 | 0| 0 | -1| 1|\n",
      "|$\\mbox{$f''(x)=\\frac{1}{h^2}\\cdot$}$| 0 | 0 | 1 | -2| 1|\n",
      "|$\\mbox{$f'''(x)=\\frac{1}{h^3}\\cdot$}$| 0 | -1| 3| -3| 1|\n",
      "|$\\mbox{$f^{(4)}(x)=\\frac{1}{h^4}\\cdot$}$| 1 | -4 | 6 | -4 | 1|"
     ]
    },
    {
     "cell_type": "markdown",
     "metadata": {},
     "source": [
      "Diferen\u010dna shema za red napake $\\mathcal{O}(h^{2})$:\n",
      "\n",
      "|       |$\\mbox{$f(x-5h)$}$|$\\mbox{$f(x-4h)$}$ |$\\mbox{$f(x-3h)$}$   |$\\mbox{$f(x-2h)$}$ |$\\mbox{$f(x-h)$}$|$\\mbox{$\\quad f(x)\\quad$}$|\n",
      "|:--------:|:-------------------:|:----------:|:----------:|:----------:|:----------:|:----------:|\n",
      "|$\\mbox{$f'(x)=\\frac{1}{2h}\\cdot$}$| 0 | 0| 0| 1 |-4| 3| \n",
      "|$\\mbox{$f''(x)=\\frac{1}{h^2}\\cdot$}$| 0 | 0 | -1| 4|-5| 2| \n",
      "|$\\mbox{$f'''(x)=\\frac{1}{2h^3}\\cdot$}$| 0 | 3| -14| 24|-18| 5| \n",
      "|$\\mbox{$f^{(4)}(x)=\\frac{1}{h^4}\\cdot$}$| -2| 11| -24| 26 | -14| 3| "
     ]
    },
    {
     "cell_type": "heading",
     "level": 2,
     "metadata": {},
     "source": [
      "Numeri\u010dna napaka pri metodi kon\u010dnih razlik"
     ]
    },
    {
     "cell_type": "markdown",
     "metadata": {},
     "source": [
      "Kot ime samo pove, metoda kon\u010dnih razlik temelji na *kon\u010dnih razlikah* $h$ in v kolikor je ta razlika $h$ relativno majhna, je sicer teoreti\u010dno odvod v to\u010dki $x$ bolj nata\u010dno definiran, vendar pa zaradi omejene natan\u010dnosti razlika med vrednostmi funkcije $f(x)$ in $f(x+h)$ postane relativno majhna. Relativno napako razumemo glede na natan\u010dnost zapisa \u0161tevila znotraj spomina. \n",
      "\n",
      "Spodaj si bomo pogledali primer, kjer bomo natan\u010dnost spreminjali v treh korakih:\n",
      "1. ``float16`` -\n",
      "    16 bitni zapis: predzank 1 bit, 5 bitov eksponent, 10 bitov mantisa\n",
      "* ``float32`` -\n",
      "    32 bitni zapis: predzank 1 bit, 8 bitov eksponent, 23 bitov mantisa\n",
      "* ``float64`` -\n",
      "    64 bitni zapis: predzank 1 bit, 11 bitov eksponent, 52 bitov mantisa (to je privzeta natan\u010dnost).\n",
      "\n",
      "Ve\u010d o tipih v ``numpy``: http://docs.scipy.org/doc/numpy/user/basics.types.html"
     ]
    },
    {
     "cell_type": "heading",
     "level": 3,
     "metadata": {},
     "source": [
      "Preprosti primer"
     ]
    },
    {
     "cell_type": "markdown",
     "metadata": {},
     "source": [
      "Definirajmo najprej funkcijo, ki bo dala rezultat \u017eeljene natan\u010dnosti:"
     ]
    },
    {
     "cell_type": "code",
     "collapsed": false,
     "input": [
      "def fun(x, dtype=float):\n",
      "    return np.exp(-x).astype(dtype)"
     ],
     "language": "python",
     "metadata": {},
     "outputs": [],
     "prompt_number": 118
    },
    {
     "cell_type": "code",
     "collapsed": false,
     "input": [
      "fun(1, dtype=float16)"
     ],
     "language": "python",
     "metadata": {},
     "outputs": [
      {
       "metadata": {},
       "output_type": "pyout",
       "prompt_number": 124,
       "text": [
        "0.36792"
       ]
      }
     ],
     "prompt_number": 124
    },
    {
     "cell_type": "code",
     "collapsed": false,
     "input": [
      "fun(1.0002, dtype=float16)"
     ],
     "language": "python",
     "metadata": {},
     "outputs": [
      {
       "metadata": {},
       "output_type": "pyout",
       "prompt_number": 132,
       "text": [
        "0.36792"
       ]
      }
     ],
     "prompt_number": 132
    },
    {
     "cell_type": "markdown",
     "metadata": {},
     "source": [
      "Nato \u0161e prvi odvod s centralno diferen\u010dno shemo (\u017eeljene natan\u010dnosti)"
     ]
    },
    {
     "cell_type": "code",
     "collapsed": false,
     "input": [
      "def f1_MKE(fun, x, h, dtype=float):\n",
      "    xf, hf = np.asarray((x, h)).astype(dtype=dtype)\n",
      "    return (fun(xf+hf, dtype=dtype)-fun(xf-hf,dtype=dtype))/(2*hf)"
     ],
     "language": "python",
     "metadata": {},
     "outputs": [],
     "prompt_number": 133
    },
    {
     "cell_type": "code",
     "collapsed": false,
     "input": [
      "f1_MKE(fun, 1, h=.01, dtype=float16)"
     ],
     "language": "python",
     "metadata": {},
     "outputs": [
      {
       "latex": [
        "$$-0.366132723112$$"
       ],
       "metadata": {},
       "output_type": "pyout",
       "png": "[encoded data removed]",
       "prompt_number": 134,
       "text": [
        "-0.366132723112"
       ]
      }
     ],
     "prompt_number": 134
    },
    {
     "cell_type": "code",
     "collapsed": false,
     "input": [
      "f1_MKE(fun, 1, h=.01, dtype=float64)"
     ],
     "language": "python",
     "metadata": {},
     "outputs": [
      {
       "latex": [
        "$$-0.367885572526$$"
       ],
       "metadata": {},
       "output_type": "pyout",
       "png": "[encoded data removed]",
       "prompt_number": 135,
       "text": [
        "-0.367885572526"
       ]
      }
     ],
     "prompt_number": 135
    },
    {
     "cell_type": "markdown",
     "metadata": {},
     "source": [
      "Definirajmo sedaj korak:"
     ]
    },
    {
     "cell_type": "code",
     "collapsed": false,
     "input": [
      "h=0.25**np.arange(30)\n",
      "h"
     ],
     "language": "python",
     "metadata": {},
     "outputs": [
      {
       "metadata": {},
       "output_type": "pyout",
       "prompt_number": 137,
       "text": [
        "array([  1.00000000e+00,   2.50000000e-01,   6.25000000e-02,\n",
        "         1.56250000e-02,   3.90625000e-03,   9.76562500e-04,\n",
        "         2.44140625e-04,   6.10351562e-05,   1.52587891e-05,\n",
        "         3.81469727e-06,   9.53674316e-07,   2.38418579e-07,\n",
        "         5.96046448e-08,   1.49011612e-08,   3.72529030e-09,\n",
        "         9.31322575e-10,   2.32830644e-10,   5.82076609e-11,\n",
        "         1.45519152e-11,   3.63797881e-12,   9.09494702e-13,\n",
        "         2.27373675e-13,   5.68434189e-14,   1.42108547e-14,\n",
        "         3.55271368e-15,   8.88178420e-16,   2.22044605e-16,\n",
        "         5.55111512e-17,   1.38777878e-17,   3.46944695e-18])"
       ]
      }
     ],
     "prompt_number": 137
    },
    {
     "cell_type": "markdown",
     "metadata": {},
     "source": [
      "In izri\u0161emo razli\u010dne tipe v odvisnosti od velikosti koraka $h$:"
     ]
    },
    {
     "cell_type": "code",
     "collapsed": false,
     "input": [
      "plt.semilogx(h,[f1_MKE(fun, 1., _, dtype=float16) for _ in h], 'b', lw=3, alpha=0.5, label='float16')\n",
      "plt.semilogx(h,[f1_MKE(fun, 1., _, dtype=float32) for _ in h], 'r', lw=3, alpha=0.5, label='float32')\n",
      "plt.semilogx(h,[f1_MKE(fun, 1., _, dtype=float64) for _ in h], 'g', lw=3, alpha=0.5, label='float64=float')\n",
      "plt.xlabel('$h$')\n",
      "plt.ylabel('$\\exp^{-1}$')\n",
      "plt.legend();"
     ],
     "language": "python",
     "metadata": {},
     "outputs": [
      {
       "output_type": "stream",
       "stream": "stderr",
       "text": [
        "-c:3: RuntimeWarning: invalid value encountered in true_divide\n"
       ]
      },
      {
       "metadata": {},
       "output_type": "display_data",
       "png": "[encoded data removed]",
       "text": [
        "<matplotlib.figure.Figure at 0x9129fd0>"
       ]
      }
     ],
     "prompt_number": 138
    },
    {
     "cell_type": "markdown",
     "metadata": {},
     "source": [
      "Opazimo, da vsi tipi najprej konvergirajo k pravi vrednosti ($\\exp^{-1}=0.367879441171$), vendar pa potem z zmanj\u0161evanjem koraka ``float16`` zelo hitro divergira. Bistveno pozneje divergira ``float32`` in na koncu tudi ``float64``."
     ]
    },
    {
     "cell_type": "heading",
     "level": 1,
     "metadata": {},
     "source": [
      "Do naslednjih vaj pre\u0161tudirajte slede\u010de:"
     ]
    },
    {
     "cell_type": "markdown",
     "metadata": {},
     "source": [
      "1. Za batni mehanizem na spodnji sliki strojno izpeljite kinematiko gibanja bata, \u010de se kolenasta gred giblje po zakonu $\\varphi(t)=\\omega\\,t$.\n",
      "<img src='others/batni mehanizem.png' width=300>\n",
      "* Za kotno hitrosti $\\omega=2\\,\\pi\\,50\\,$rad/s izri\u0161ite lego bata v treh obratih gredi. Uporabite: $r=0.03\\,$m in $l=0.1\\,$m.\n",
      "* Simbolno odvajanje lege $x(t)$, da pridobite pospe\u0161ek $\\ddot x(t)$.\n",
      "* Priprava funkcij za klicanje simbolnih izrazov za lego $x(t)$ in pospe\u0161ek $\\ddot x(t)$ iz ``numpy``\n",
      "* S pomo\u010djo ``scipy`` pripravite centralno diferen\u010dno shemo za drugi odvod \u010dez 3, 5, in 7 to\u010dk.\n",
      "* Razi\u0161\u010dite funkcijo ``numpy.convolve`` in z njo na podlagi numeri\u010dnih vrednosti za $x$ numeri\u010dno izra\u010dunajte pospe\u0161ek $\\ddot x$. Kjer je odvod pravilen?\n",
      "* S centralno diferen\u010dno shemo drugega odvoda \u010dez tri to\u010dke ste izra\u010dunali notranje to\u010dke, nastavite diferen\u010dno shemo naprej za izra\u010dun prve to\u010dke z natan\u010dnostjo $\\mathcal{O}(h^{2})$.\n",
      "* Dodajte podatkom lege dolo\u010deno mero \u0161uma in preverite zakaj ni primerna uporaba numeri\u010dnega odvajanja na \u0161umnih podatkih.\n",
      "* Z centralno diferen\u010dno shemo drugega odvoda \u010dez tri to\u010dke ste doslej izra\u010dunali notranje to\u010dke, nastavite diferen\u010dno shemo nazaj za izra\u010dun zadnje to\u010dke z natan\u010dnostjo $\\mathcal{O}(h^{2})$.\n",
      "* Razi\u0161\u010dite vpliv \u010dasovnega koraka na izra\u010dun drugega odvoda."
     ]
    },
    {
     "cell_type": "heading",
     "level": 2,
     "metadata": {},
     "source": [
      "Ekstra"
     ]
    },
    {
     "cell_type": "markdown",
     "metadata": {},
     "source": [
      "Dodatek k doma\u010dim nalogam: 6. vpra\u0161anje bi lahko nadaljevali in za\u0161umljene podatke gladili in nato izvedli odvajanje. Glajenje tukaj izvedite z  konvolucijo med [0.21194156,  0.57611688,  0.21194156] in $x$."
     ]
    }
   ],
   "metadata": {}
  }
 ]
}