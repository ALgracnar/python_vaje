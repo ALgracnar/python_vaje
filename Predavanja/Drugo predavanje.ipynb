{
 "cells": [
  {
   "cell_type": "markdown",
   "metadata": {},
   "source": [
    "# *1 Odprite datoteko za zapis in vanjo vpišite formatirani (skupaj 7 mest, 3 decimalna mesta) seznam v dveh stolpcih. Razločevalni znak med stolpci naj bo prazen znak ' '.* - Miha Cuznar"
   ]
  },
  {
   "cell_type": "code",
   "execution_count": 1,
   "metadata": {
    "collapsed": false
   },
   "outputs": [],
   "source": [
    "file = open('vpis.txt', mode='w')\n",
    "\n",
    "file.write('Seznam\\n')\n",
    "\n",
    "for n in range(7):\n",
    "    file.write('{vp1:7.3f}\\t {vp1:7.3f}\\n'.format(vp1=n))\n",
    "\n",
    "file.close()"
   ]
  },
  {
   "cell_type": "code",
   "execution_count": 2,
   "metadata": {
    "collapsed": false
   },
   "outputs": [
    {
     "name": "stdout",
     "output_type": "stream",
     "text": [
      "Seznam\n",
      "  0.000\t   0.000\n",
      "  1.000\t   1.000\n",
      "  2.000\t   2.000\n",
      "  3.000\t   3.000\n",
      "  4.000\t   4.000\n",
      "  5.000\t   5.000\n",
      "  6.000\t   6.000\n"
     ]
    }
   ],
   "source": [
    "file = open('vpis.txt', mode='r+')\n",
    "\n",
    "for line in file:\n",
    "    print(line, end='')"
   ]
  },
  {
   "cell_type": "code",
   "execution_count": null,
   "metadata": {
    "collapsed": false
   },
   "outputs": [],
   "source": []
  },
  {
   "cell_type": "markdown",
   "metadata": {},
   "source": [
    "# *2 Odprite pripeto datoteko zapis_labview.lvm (gre za zapis iz programa LabView) in preberite glavo v obliki slovarja ('ime polja': vrednost).* - Tibor Petkovšek"
   ]
  },
  {
   "cell_type": "code",
   "execution_count": 4,
   "metadata": {
    "collapsed": false
   },
   "outputs": [
    {
     "name": "stdout",
     "output_type": "stream",
     "text": [
      "Multi_Headings : Yes\n",
      "Operator : JS\n",
      "Time : 09:51:39,1970510124996275989\n",
      "Writer_Version : 2\n",
      "Time_Pref : Absolute\n",
      "LabVIEW : Measurement\n",
      "X_Columns : No\n",
      "Date : 2013/02/19\n",
      "Separator : Tab\n",
      "Reader_Version : 2\n",
      "Decimal_Separator : ,\n"
     ]
    }
   ],
   "source": [
    "file = open('zapis_labview.lvm', mode='r+')\n",
    "slovar = dict()\n",
    "for line in file:\n",
    "    list = line.split()\n",
    "    if list[0] == '***End_of_Header***':\n",
    "        break\n",
    "    slovar[list[0]] = list[1]\n",
    "for key, value in slovar.items():\n",
    "    print(key, ':', value)"
   ]
  },
  {
   "cell_type": "code",
   "execution_count": 5,
   "metadata": {
    "collapsed": false
   },
   "outputs": [
    {
     "name": "stdout",
     "output_type": "stream",
     "text": [
      "{'Multi_Headings': 'Yes', 'Operator': 'JS', 'Time': '09:51:39,1970510124996275989', 'Writer_Version': '2', 'Time_Pref': 'Absolute', 'LabVIEW': 'Measurement', 'X_Columns': 'No', 'Date': '2013/02/19', 'Separator': 'Tab', 'Reader_Version': '2', 'Decimal_Separator': ','}\n"
     ]
    }
   ],
   "source": [
    "print(slovar)"
   ]
  },
  {
   "cell_type": "code",
   "execution_count": 6,
   "metadata": {
    "collapsed": false
   },
   "outputs": [
    {
     "data": {
      "text/plain": [
       "'JS'"
      ]
     },
     "execution_count": 6,
     "metadata": {},
     "output_type": "execute_result"
    }
   ],
   "source": [
    "slovar['Operator']"
   ]
  },
  {
   "cell_type": "code",
   "execution_count": 7,
   "metadata": {
    "collapsed": false
   },
   "outputs": [
    {
     "data": {
      "text/plain": [
       "{'Multi_Headings': 'Yes',\n",
       " 'Operator': 'JS',\n",
       " 'Time': '09:51:39,1970510124996275989',\n",
       " 'Writer_Version': '2',\n",
       " 'Time_Pref': 'Absolute',\n",
       " 'LabVIEW': 'Measurement',\n",
       " 'X_Columns': 'No',\n",
       " 'Date': '2013/02/19',\n",
       " 'Separator': 'Tab',\n",
       " 'Reader_Version': '2',\n",
       " 'Decimal_Separator': ','}"
      ]
     },
     "execution_count": 7,
     "metadata": {},
     "output_type": "execute_result"
    }
   ],
   "source": [
    "slovar"
   ]
  },
  {
   "cell_type": "code",
   "execution_count": null,
   "metadata": {
    "collapsed": false
   },
   "outputs": [],
   "source": []
  },
  {
   "cell_type": "markdown",
   "metadata": {},
   "source": [
    "# *3 V datoteki iz prejšnje točke preberite podatke (uporabite funkcijo replace() za zamenjavo decimalne vejice v piko in nato pretvorite niz v število. Najdite ustrezno dokumentacijo/help).* - Aljaž Gračnar"
   ]
  },
  {
   "cell_type": "code",
   "execution_count": 10,
   "metadata": {
    "collapsed": false
   },
   "outputs": [
    {
     "name": "stdout",
     "output_type": "stream",
     "text": [
      "0.914018 : 1.204792\n",
      "0.537321 : 1.208403\n",
      "0.616905 : 1.213915\n",
      "0.895449 : 1.212205\n",
      " 0.57446 : 1.222088\n",
      "0.516099 : 1.218223\n",
      "1.046658 : 1.213408\n",
      " 0.39407 : 1.221011\n",
      "0.741586 : 1.211888\n",
      "0.680572 : 1.212775\n"
     ]
    }
   ],
   "source": [
    "#Prvi način\n",
    "i = 1\n",
    "#seznam = []\n",
    "zapis = open('zapis_labview.lvm', mode='r+')\n",
    "for line in zapis:\n",
    "    i += 1\n",
    "    if i > 24:\n",
    "        linija = line.replace(',', '.')\n",
    "        g = linija.split()\n",
    "        print('{0:8} : {1:8}'.format(float(g[0]), float(g[1])))\n",
    "        #seznam.append(float(g[0]))\n",
    "        #seznam.append(float(g[1]))\n",
    "        \n",
    "zapis.close()"
   ]
  },
  {
   "cell_type": "code",
   "execution_count": 22,
   "metadata": {
    "collapsed": false
   },
   "outputs": [
    {
     "name": "stdout",
     "output_type": "stream",
     "text": [
      "['LabVIEW', 'Measurement']\n",
      "['Writer_Version', '2']\n",
      "['Reader_Version', '2']\n",
      "['Separator', 'Tab']\n",
      "['Decimal_Separator', '.']\n",
      "['Multi_Headings', 'Yes']\n",
      "['X_Columns', 'No']\n",
      "['Time_Pref', 'Absolute']\n",
      "['Operator', 'JS']\n",
      "['Date', '2013/02/19']\n",
      "['Time', '09:51:39.1970510124996275989']\n",
      "['***End_of_Header***']\n",
      "[]\n",
      "['Channels', '2']\n",
      "['Samples', '10', '10']\n",
      "['Date', '2013/02/19', '2013/02/19']\n",
      "['Time', '09:51:40.7271890640258789063', '09:51:40.7271890640258789063']\n",
      "['Y_Unit_Label', 'Newtons', 'm/s^2']\n",
      "['X_Dimension', 'Time', 'Time']\n",
      "['X0', '0.0000000000000000E+0', '0.0000000000000000E+0']\n",
      "['Delta_X', '3.906250E-5', '3.906250E-5']\n",
      "['***End_of_Header***']\n",
      "['X_Value', 'Vzbujanje', '(Trigger)', 'Odziv1', '(Trigger)', 'Comment']\n",
      "['0.914018', '1.204792']\n",
      "['0.537321', '1.208403']\n",
      "['0.616905', '1.213915']\n",
      "['0.895449', '1.212205']\n",
      "['0.574460', '1.222088']\n",
      "['0.516099', '1.218223']\n",
      "['1.046658', '1.213408']\n",
      "['0.394070', '1.221011']\n",
      "['0.741586', '1.211888']\n",
      "['0.680572', '1.212775']\n"
     ]
    }
   ],
   "source": [
    "#Drugi način\n",
    "dat = open('zapis_labview.lvm')\n",
    "for line in dat:\n",
    "    lin = line.replace(',', '.')\n",
    "    split = lin.split()\n",
    "    print(split)\n",
    "    \n",
    "dat.close()"
   ]
  },
  {
   "cell_type": "code",
   "execution_count": null,
   "metadata": {
    "collapsed": false
   },
   "outputs": [],
   "source": []
  },
  {
   "cell_type": "markdown",
   "metadata": {},
   "source": [
    "# *4 Na poljubnem seznamu besed prikažite uporabo izpeljevanja seznamov tako, da zamenjate poljuben samoglasnik.* - Anže Janeš"
   ]
  },
  {
   "cell_type": "code",
   "execution_count": 80,
   "metadata": {
    "collapsed": false
   },
   "outputs": [
    {
     "data": {
      "text/plain": [
       "['h', 'o', 'u']"
      ]
     },
     "execution_count": 80,
     "metadata": {},
     "output_type": "execute_result"
    }
   ],
   "source": [
    "[p.replace('a', 'h') for p in ['a', 'o', 'u']]"
   ]
  },
  {
   "cell_type": "code",
   "execution_count": null,
   "metadata": {
    "collapsed": false
   },
   "outputs": [],
   "source": []
  },
  {
   "cell_type": "markdown",
   "metadata": {},
   "source": [
    "# *5 Napišite funkcijo. Če se v funkcijo vstavi seznam besed, potem naj vrne dolžino besed. Če se v funkcjo vstavi seznam numeričnih vrednosti, potem naj vrne njihovo vrednost povečano za ena.* - Žiga Pisar"
   ]
  },
  {
   "cell_type": "code",
   "execution_count": 24,
   "metadata": {
    "collapsed": false
   },
   "outputs": [
    {
     "name": "stdout",
     "output_type": "stream",
     "text": [
      "5\n",
      "4\n",
      "5\n"
     ]
    }
   ],
   "source": [
    "def ena(g):\n",
    "    for _ in g:\n",
    "        if type(_) is str:\n",
    "            print(len(_))\n",
    "        else:\n",
    "            print(_ + 1)\n",
    "\n",
    "g = ['afasf', 'asdf', 'fhfdh']\n",
    "ena(g)"
   ]
  },
  {
   "cell_type": "code",
   "execution_count": 25,
   "metadata": {
    "collapsed": false
   },
   "outputs": [
    {
     "name": "stdout",
     "output_type": "stream",
     "text": [
      "2\n",
      "5\n",
      "7\n",
      "10\n"
     ]
    }
   ],
   "source": [
    "g = [1, 4, 6, 9]\n",
    "ena(g)"
   ]
  },
  {
   "cell_type": "code",
   "execution_count": null,
   "metadata": {
    "collapsed": false
   },
   "outputs": [],
   "source": []
  },
  {
   "cell_type": "markdown",
   "metadata": {},
   "source": [
    "# *6 Zgornjo funkcijo nadgradite: če se v funkcijo vstavi prazen seznam (dolžine 0), potem naj sproži izjemo Exception z ustreznim opisom.* - Gašper Slapničar"
   ]
  },
  {
   "cell_type": "code",
   "execution_count": 26,
   "metadata": {
    "collapsed": false
   },
   "outputs": [],
   "source": [
    "def fun(m):\n",
    "    if type(m) is list:\n",
    "        if len(m) == 0:\n",
    "            raise Exception('Prazen seznam!')\n",
    "        elif type(m) is str:\n",
    "            for _ in m:\n",
    "                print(len(_))\n",
    "        else:\n",
    "            for _ in m:\n",
    "                print(_ + 1)"
   ]
  },
  {
   "cell_type": "code",
   "execution_count": 27,
   "metadata": {
    "collapsed": false
   },
   "outputs": [],
   "source": [
    "m = []\n",
    "fun(m)"
   ]
  },
  {
   "cell_type": "code",
   "execution_count": null,
   "metadata": {
    "collapsed": false
   },
   "outputs": [],
   "source": []
  },
  {
   "cell_type": "markdown",
   "metadata": {},
   "source": [
    "# *7 Pripravite novo funkcijo, ki bo klicala funkcijo iz točke 6 in lovila izjeme.* - Mark Brajnik"
   ]
  },
  {
   "cell_type": "code",
   "execution_count": 28,
   "metadata": {
    "collapsed": false
   },
   "outputs": [],
   "source": [
    "def fun(m):\n",
    "    if type(m) is list:\n",
    "        if len(m) == 0:\n",
    "            try:\n",
    "                p = dolzina\n",
    "                print(p)\n",
    "            except: #Exception:\n",
    "                print('Ne bo slo, seznam je prazen!')\n",
    "        elif type(m) is str:\n",
    "            for _ in m:\n",
    "                print(len(_))\n",
    "        else:\n",
    "            for _ in m:\n",
    "                print(_ + 1)"
   ]
  },
  {
   "cell_type": "code",
   "execution_count": 29,
   "metadata": {
    "collapsed": false
   },
   "outputs": [],
   "source": [
    "m = []\n",
    "fun(m)"
   ]
  },
  {
   "cell_type": "code",
   "execution_count": null,
   "metadata": {
    "collapsed": false
   },
   "outputs": [],
   "source": []
  },
  {
   "cell_type": "markdown",
   "metadata": {},
   "source": [
    "# 8 Za obe funkciji pripravite docstring."
   ]
  },
  {
   "cell_type": "code",
   "execution_count": 30,
   "metadata": {
    "collapsed": false
   },
   "outputs": [],
   "source": [
    "def fun(m):\n",
    "    \"\"\"Dolzina besed ali stevilo\"\"\"\n",
    "    return m"
   ]
  },
  {
   "cell_type": "code",
   "execution_count": 31,
   "metadata": {
    "collapsed": false
   },
   "outputs": [],
   "source": [
    "?fun"
   ]
  },
  {
   "cell_type": "code",
   "execution_count": null,
   "metadata": {
    "collapsed": false
   },
   "outputs": [],
   "source": []
  },
  {
   "cell_type": "markdown",
   "metadata": {},
   "source": [
    "# *9 Prikažite uporabo argumentov s privzetimi vrednostmi.* - David Bernes"
   ]
  },
  {
   "cell_type": "code",
   "execution_count": 32,
   "metadata": {
    "collapsed": false
   },
   "outputs": [
    {
     "data": {
      "text/plain": [
       "42"
      ]
     },
     "execution_count": 32,
     "metadata": {},
     "output_type": "execute_result"
    }
   ],
   "source": [
    "def obseg(dolzina = 18, sirina = 24):\n",
    "    return dolzina + sirina\n",
    "\n",
    "obseg()"
   ]
  },
  {
   "cell_type": "code",
   "execution_count": 33,
   "metadata": {
    "collapsed": false
   },
   "outputs": [
    {
     "name": "stdout",
     "output_type": "stream",
     "text": [
      "29\n"
     ]
    }
   ],
   "source": [
    "print(obseg(17, 12)) #privzete vrednosti po vrstnem redu"
   ]
  },
  {
   "cell_type": "code",
   "execution_count": null,
   "metadata": {
    "collapsed": false
   },
   "outputs": [],
   "source": []
  },
  {
   "cell_type": "markdown",
   "metadata": {},
   "source": [
    "# 10 Prikažite uporabo argumentov glede na mesto in glede na ime."
   ]
  },
  {
   "cell_type": "code",
   "execution_count": 38,
   "metadata": {
    "collapsed": false
   },
   "outputs": [],
   "source": [
    "def argumenti(ime, ocena = True, *terka, **slovar):\n",
    "    print(ime, ':grade=', ocena) #kličemo po imenu\n",
    "    if ocena > 5:\n",
    "        print('opravil')\n",
    "    print('tuple', terka) #kličemo glede na mesto\n",
    "    print('slovar', slovar) #kličemo poimenske vrednosti\n",
    "    if 'showFigure' in slovar:\n",
    "        print('slika')"
   ]
  },
  {
   "cell_type": "code",
   "execution_count": null,
   "metadata": {
    "collapsed": false
   },
   "outputs": [],
   "source": []
  },
  {
   "cell_type": "markdown",
   "metadata": {},
   "source": [
    "# 11 V funkcijo pošljite nepredvidene vrednosti (nize in numerične vrednosti)."
   ]
  },
  {
   "cell_type": "code",
   "execution_count": 37,
   "metadata": {
    "collapsed": false
   },
   "outputs": [
    {
     "name": "stdout",
     "output_type": "stream",
     "text": [
      "Luka Numrik :grade= 8\n",
      "opravil\n",
      "tuple ('terka', 'je nekaj', <function argumenti at 0x0000000004C80598>)\n",
      "slovar {'pristopil': True}\n"
     ]
    }
   ],
   "source": [
    "argumenti('Luka Numrik', 8, 'terka', 'je nekaj', argumenti, pristopil = True) #pošljemo nepredvidene vrednosti"
   ]
  },
  {
   "cell_type": "code",
   "execution_count": null,
   "metadata": {
    "collapsed": false
   },
   "outputs": [],
   "source": []
  },
  {
   "cell_type": "markdown",
   "metadata": {},
   "source": [
    "# 12 V funkcijo pošljite nepredvidene poimenske vrednosti."
   ]
  },
  {
   "cell_type": "code",
   "execution_count": 36,
   "metadata": {
    "collapsed": false
   },
   "outputs": [
    {
     "name": "stdout",
     "output_type": "stream",
     "text": [
      "Luka Numrik :grade= 8\n",
      "opravil\n",
      "tuple ('terka', 'je nekaj', <function argumenti at 0x0000000004C80598>)\n",
      "slovar {'pristopil': True}\n"
     ]
    }
   ],
   "source": [
    "argumenti('Luka Numrik', 8, 'terka', 'je nekaj', argumenti, pristopil = True) #pošljemo nepredvidene vrednosti"
   ]
  },
  {
   "cell_type": "code",
   "execution_count": null,
   "metadata": {
    "collapsed": false
   },
   "outputs": [],
   "source": []
  },
  {
   "cell_type": "markdown",
   "metadata": {},
   "source": [
    "# *13 Definirajte *lambda* funkcijo, ki spremenljivki spremeni predznak in prišteje vrednost 1. Prikažite uporabo map in/ali filter funkcije.* - Kristjan Ficko"
   ]
  },
  {
   "cell_type": "code",
   "execution_count": 46,
   "metadata": {
    "collapsed": false
   },
   "outputs": [
    {
     "data": {
      "text/plain": [
       "-3"
      ]
     },
     "execution_count": 46,
     "metadata": {},
     "output_type": "execute_result"
    }
   ],
   "source": [
    "function = lambda cifra: -cifra+1\n",
    "function(4)"
   ]
  },
  {
   "cell_type": "code",
   "execution_count": 47,
   "metadata": {
    "collapsed": false
   },
   "outputs": [],
   "source": [
    "papir = [1, 2, 3, 4, 5, 6]"
   ]
  },
  {
   "cell_type": "code",
   "execution_count": 48,
   "metadata": {
    "collapsed": false
   },
   "outputs": [
    {
     "ename": "TypeError",
     "evalue": "'list' object is not callable",
     "output_type": "error",
     "traceback": [
      "\u001b[1;31m---------------------------------------------------------------------------\u001b[0m\n\u001b[1;31mTypeError\u001b[0m                                 Traceback (most recent call last)",
      "\u001b[1;32m<ipython-input-48-d0af2d21fd3f>\u001b[0m in \u001b[0;36m<module>\u001b[1;34m()\u001b[0m\n\u001b[1;32m----> 1\u001b[1;33m \u001b[0mkroh\u001b[0m \u001b[1;33m=\u001b[0m \u001b[0mlist\u001b[0m\u001b[1;33m(\u001b[0m\u001b[0mmap\u001b[0m\u001b[1;33m(\u001b[0m\u001b[1;32mlambda\u001b[0m \u001b[0mx\u001b[0m\u001b[1;33m:\u001b[0m \u001b[0mx\u001b[0m\u001b[1;33m*\u001b[0m\u001b[1;36m2\u001b[0m\u001b[1;33m,\u001b[0m \u001b[0mpapir\u001b[0m\u001b[1;33m)\u001b[0m\u001b[1;33m)\u001b[0m\u001b[1;33m\u001b[0m\u001b[0m\n\u001b[0m\u001b[0;32m      2\u001b[0m \u001b[0mkroh\u001b[0m\u001b[1;33m\u001b[0m\u001b[0m\n",
      "\u001b[1;31mTypeError\u001b[0m: 'list' object is not callable"
     ]
    }
   ],
   "source": [
    "kroh = list(map(lambda x: x*2, papir))\n",
    "kroh"
   ]
  },
  {
   "cell_type": "code",
   "execution_count": 49,
   "metadata": {
    "collapsed": false
   },
   "outputs": [
    {
     "ename": "TypeError",
     "evalue": "'list' object is not callable",
     "output_type": "error",
     "traceback": [
      "\u001b[1;31m---------------------------------------------------------------------------\u001b[0m\n\u001b[1;31mTypeError\u001b[0m                                 Traceback (most recent call last)",
      "\u001b[1;32m<ipython-input-49-12d0410030bd>\u001b[0m in \u001b[0;36m<module>\u001b[1;34m()\u001b[0m\n\u001b[1;32m----> 1\u001b[1;33m \u001b[0mkroh2\u001b[0m \u001b[1;33m=\u001b[0m \u001b[0mlist\u001b[0m\u001b[1;33m(\u001b[0m\u001b[0mfilter\u001b[0m\u001b[1;33m(\u001b[0m\u001b[1;32mlambda\u001b[0m \u001b[0mx\u001b[0m\u001b[1;33m:\u001b[0m \u001b[0mx\u001b[0m\u001b[1;33m**\u001b[0m\u001b[1;36m9\u001b[0m \u001b[1;33m>\u001b[0m \u001b[1;36m0\u001b[0m\u001b[1;33m,\u001b[0m \u001b[0mrange\u001b[0m\u001b[1;33m(\u001b[0m\u001b[1;33m-\u001b[0m\u001b[1;36m18\u001b[0m\u001b[1;33m,\u001b[0m\u001b[1;36m9\u001b[0m\u001b[1;33m)\u001b[0m\u001b[1;33m)\u001b[0m\u001b[1;33m)\u001b[0m\u001b[1;33m\u001b[0m\u001b[0m\n\u001b[0m\u001b[0;32m      2\u001b[0m \u001b[0mkroh2\u001b[0m\u001b[1;33m\u001b[0m\u001b[0m\n",
      "\u001b[1;31mTypeError\u001b[0m: 'list' object is not callable"
     ]
    }
   ],
   "source": [
    "kroh2 = list(filter(lambda x: x**9 > 0, range(-18,9)))\n",
    "kroh2"
   ]
  },
  {
   "cell_type": "code",
   "execution_count": null,
   "metadata": {
    "collapsed": false
   },
   "outputs": [],
   "source": []
  },
  {
   "cell_type": "markdown",
   "metadata": {},
   "source": [
    "# *14 Zgornji funkciji shranite v modul poljubnega imena (npr.: prve_funkcije.py).* - Klemen Mostar"
   ]
  },
  {
   "cell_type": "code",
   "execution_count": 81,
   "metadata": {
    "collapsed": false
   },
   "outputs": [
    {
     "data": {
      "text/plain": [
       "262144"
      ]
     },
     "execution_count": 81,
     "metadata": {},
     "output_type": "execute_result"
    }
   ],
   "source": [
    "import start\n",
    "start.kroh(9)\n",
    "start.zvezek(4)"
   ]
  },
  {
   "cell_type": "code",
   "execution_count": null,
   "metadata": {
    "collapsed": false
   },
   "outputs": [],
   "source": []
  },
  {
   "cell_type": "markdown",
   "metadata": {},
   "source": [
    "# 15 Uvozite samo eno od funkcij kot funkcijo z novim imenom (drugačno ime od izvornega)"
   ]
  },
  {
   "cell_type": "code",
   "execution_count": 82,
   "metadata": {
    "collapsed": false
   },
   "outputs": [
    {
     "data": {
      "text/plain": [
       "4"
      ]
     },
     "execution_count": 82,
     "metadata": {},
     "output_type": "execute_result"
    }
   ],
   "source": [
    "import start\n",
    "from start import kroh as kugla\n",
    "kugla(2)"
   ]
  },
  {
   "cell_type": "code",
   "execution_count": null,
   "metadata": {
    "collapsed": false
   },
   "outputs": [],
   "source": []
  },
  {
   "cell_type": "markdown",
   "metadata": {},
   "source": [
    "# *16 Najdite vse datoteke v trenutni mapi in le-ta shranite v obliki seznama.* - Gregor Kuzmič"
   ]
  },
  {
   "cell_type": "code",
   "execution_count": 59,
   "metadata": {
    "collapsed": false
   },
   "outputs": [
    {
     "data": {
      "text/plain": [
       "'C:\\\\PiNM'"
      ]
     },
     "execution_count": 59,
     "metadata": {},
     "output_type": "execute_result"
    }
   ],
   "source": [
    "import os\n",
    "os.path.curdir\n",
    "os.path.abspath(os.path.curdir) #Izpiše lokacijo notebook datoteke"
   ]
  },
  {
   "cell_type": "code",
   "execution_count": 60,
   "metadata": {
    "collapsed": false
   },
   "outputs": [
    {
     "data": {
      "text/plain": [
       "['.ipynb_checkpoints',\n",
       " 'data.pkl',\n",
       " 'Drugo predavanje-odgovori.ipynb',\n",
       " 'Drugo predavanje.ipynb',\n",
       " 'moduli',\n",
       " 'others',\n",
       " 'Predavanje 1 - Uvod v Python.ipynb',\n",
       " 'Predavanje 2 - Print, delo z datotekami, funkcije, moduli (1).ipynb',\n",
       " 'Predavanje 2 - Print, delo z datotekami, funkcije, moduli.ipynb',\n",
       " 'prvi_modul.py',\n",
       " 'Prvo predavanje.ipynb',\n",
       " 'stanje1.pkl',\n",
       " 'vpis.txt',\n",
       " 'zapis_labview.lvm',\n",
       " '__init__py.py',\n",
       " '__pycache__']"
      ]
     },
     "execution_count": 60,
     "metadata": {},
     "output_type": "execute_result"
    }
   ],
   "source": [
    "oblika_seznama = os.listdir()\n",
    "oblika_seznama"
   ]
  },
  {
   "cell_type": "code",
   "execution_count": null,
   "metadata": {
    "collapsed": false
   },
   "outputs": [],
   "source": []
  },
  {
   "cell_type": "markdown",
   "metadata": {},
   "source": [
    "# 17 Za seznam iz točke 16 preverite pod-funkcije os.path (npr. os.path.basename) in preverite z if stavkom ali datoteke obstajajo."
   ]
  },
  {
   "cell_type": "code",
   "execution_count": 62,
   "metadata": {
    "collapsed": false
   },
   "outputs": [
    {
     "name": "stdout",
     "output_type": "stream",
     "text": [
      "Datoteka: .ipynb_checkpoints\n",
      "Datoteka: data.pkl\n",
      "Datoteka: Drugo predavanje-odgovori.ipynb\n",
      "Datoteka: Drugo predavanje.ipynb\n",
      "Datoteka: moduli\n",
      "Datoteka: others\n",
      "Datoteka: Predavanje 1 - Uvod v Python.ipynb\n",
      "Datoteka: Predavanje 2 - Print, delo z datotekami, funkcije, moduli (1).ipynb\n",
      "Datoteka: Predavanje 2 - Print, delo z datotekami, funkcije, moduli.ipynb\n",
      "Datoteka: prvi_modul.py\n",
      "Datoteka: Prvo predavanje.ipynb\n",
      "Datoteka: stanje1.pkl\n",
      "Datoteka: vpis.txt\n",
      "Datoteka: zapis_labview.lvm\n",
      "Datoteka: __init__py.py\n",
      "Datoteka: __pycache__\n"
     ]
    }
   ],
   "source": [
    "for value in oblika_seznama:\n",
    "    if os.path.basename(value):\n",
    "        print('Datoteka: {:s}'.format(value))"
   ]
  },
  {
   "cell_type": "code",
   "execution_count": null,
   "metadata": {
    "collapsed": false
   },
   "outputs": [],
   "source": []
  },
  {
   "cell_type": "markdown",
   "metadata": {},
   "source": [
    "# 18 Z uporabo podfunkcij os.path določite ime in končnico datotek iz točke 16."
   ]
  },
  {
   "cell_type": "code",
   "execution_count": 68,
   "metadata": {
    "collapsed": false
   },
   "outputs": [
    {
     "name": "stdout",
     "output_type": "stream",
     "text": [
      "('data', '.pkl')\n",
      "('Drugo predavanje-odgovori', '.ipynb')\n",
      "('Drugo predavanje', '.ipynb')\n",
      "('Predavanje 1 - Uvod v Python', '.ipynb')\n",
      "('Predavanje 2 - Print, delo z datotekami, funkcije, moduli (1)', '.ipynb')\n",
      "('Predavanje 2 - Print, delo z datotekami, funkcije, moduli', '.ipynb')\n",
      "('prvi_modul', '.py')\n",
      "('Prvo predavanje', '.ipynb')\n",
      "('stanje1', '.pkl')\n",
      "('vpis', '.txt')\n",
      "('zapis_labview', '.lvm')\n",
      "('__init__py', '.py')\n"
     ]
    }
   ],
   "source": [
    "for name in oblika_seznama:\n",
    "    if os.path.isfile(name):\n",
    "        fajl = os.path.basename(name)\n",
    "        konec = os.path.splitext(fajl)\n",
    "        print(konec)"
   ]
  },
  {
   "cell_type": "code",
   "execution_count": null,
   "metadata": {
    "collapsed": false
   },
   "outputs": [],
   "source": []
  },
  {
   "cell_type": "markdown",
   "metadata": {},
   "source": [
    "# 19 Z izpeljevanjem seznama, naredite seznam imen in sezna končnic datotek."
   ]
  },
  {
   "cell_type": "code",
   "execution_count": 75,
   "metadata": {
    "collapsed": false
   },
   "outputs": [],
   "source": [
    "names = []\n",
    "koncnice = []\n",
    "for name in oblika_seznama:\n",
    "    if os.path.isfile(name):\n",
    "        fajl = os.path.basename(name)\n",
    "        konc = os.path.splitext(fajl)\n",
    "        names.append(konc[0])\n",
    "        koncnice.append(konc[1])"
   ]
  },
  {
   "cell_type": "code",
   "execution_count": 74,
   "metadata": {
    "collapsed": false
   },
   "outputs": [
    {
     "data": {
      "text/plain": [
       "['data',\n",
       " 'Drugo predavanje-odgovori',\n",
       " 'Drugo predavanje',\n",
       " 'Predavanje 1 - Uvod v Python',\n",
       " 'Predavanje 2 - Print, delo z datotekami, funkcije, moduli (1)',\n",
       " 'Predavanje 2 - Print, delo z datotekami, funkcije, moduli',\n",
       " 'prvi_modul',\n",
       " 'Prvo predavanje',\n",
       " 'stanje1',\n",
       " 'vpis',\n",
       " 'zapis_labview',\n",
       " '__init__py']"
      ]
     },
     "execution_count": 74,
     "metadata": {},
     "output_type": "execute_result"
    }
   ],
   "source": [
    "names"
   ]
  },
  {
   "cell_type": "code",
   "execution_count": 73,
   "metadata": {
    "collapsed": false
   },
   "outputs": [
    {
     "data": {
      "text/plain": [
       "['.pkl',\n",
       " '.ipynb',\n",
       " '.ipynb',\n",
       " '.ipynb',\n",
       " '.ipynb',\n",
       " '.ipynb',\n",
       " '.py',\n",
       " '.ipynb',\n",
       " '.pkl',\n",
       " '.txt',\n",
       " '.lvm',\n",
       " '.py']"
      ]
     },
     "execution_count": 73,
     "metadata": {},
     "output_type": "execute_result"
    }
   ],
   "source": [
    "koncnice"
   ]
  },
  {
   "cell_type": "code",
   "execution_count": null,
   "metadata": {
    "collapsed": false
   },
   "outputs": [],
   "source": []
  },
  {
   "cell_type": "markdown",
   "metadata": {},
   "source": [
    "# *20 Seznam imen in seznam končnic shranite v obliki slovarja.* - Miha Vraničar"
   ]
  },
  {
   "cell_type": "code",
   "execution_count": 76,
   "metadata": {
    "collapsed": false
   },
   "outputs": [],
   "source": [
    "nov_slovar = dict()\n",
    "for name in oblika_seznama:\n",
    "    if os.path.isfile(name):\n",
    "        fajl = os.path.basename(name)\n",
    "        konc = os.path.splitext(fajl)\n",
    "        nov_slovar[konc[0]] = konc[1]"
   ]
  },
  {
   "cell_type": "code",
   "execution_count": 77,
   "metadata": {
    "collapsed": false
   },
   "outputs": [
    {
     "data": {
      "text/plain": [
       "{'Drugo predavanje-odgovori': '.ipynb',\n",
       " 'stanje1': '.pkl',\n",
       " '__init__py': '.py',\n",
       " 'Predavanje 2 - Print, delo z datotekami, funkcije, moduli': '.ipynb',\n",
       " 'Predavanje 1 - Uvod v Python': '.ipynb',\n",
       " 'Predavanje 2 - Print, delo z datotekami, funkcije, moduli (1)': '.ipynb',\n",
       " 'Prvo predavanje': '.ipynb',\n",
       " 'vpis': '.txt',\n",
       " 'data': '.pkl',\n",
       " 'Drugo predavanje': '.ipynb',\n",
       " 'prvi_modul': '.py',\n",
       " 'zapis_labview': '.lvm'}"
      ]
     },
     "execution_count": 77,
     "metadata": {},
     "output_type": "execute_result"
    }
   ],
   "source": [
    "nov_slovar"
   ]
  },
  {
   "cell_type": "code",
   "execution_count": null,
   "metadata": {
    "collapsed": false
   },
   "outputs": [],
   "source": []
  },
  {
   "cell_type": "code",
   "execution_count": null,
   "metadata": {
    "collapsed": false
   },
   "outputs": [],
   "source": []
  },
  {
   "cell_type": "markdown",
   "metadata": {},
   "source": [
    "# 21 Slovar iz prejšnje točke shranite in odprite s pickle."
   ]
  },
  {
   "cell_type": "code",
   "execution_count": 78,
   "metadata": {
    "collapsed": false
   },
   "outputs": [],
   "source": [
    "import pickle\n",
    "\n",
    "datoteka = open('pikel.pkl', 'wb')\n",
    "pickle.dump(oblika_seznama, datoteka, protocol=-1)\n",
    "datoteka = open('pikel.pkl', 'rb')\n",
    "b = pickle.load(datoteka)"
   ]
  },
  {
   "cell_type": "code",
   "execution_count": 79,
   "metadata": {
    "collapsed": false
   },
   "outputs": [
    {
     "data": {
      "text/plain": [
       "['.ipynb_checkpoints',\n",
       " 'data.pkl',\n",
       " 'Drugo predavanje-odgovori.ipynb',\n",
       " 'Drugo predavanje.ipynb',\n",
       " 'moduli',\n",
       " 'others',\n",
       " 'Predavanje 1 - Uvod v Python.ipynb',\n",
       " 'Predavanje 2 - Print, delo z datotekami, funkcije, moduli (1).ipynb',\n",
       " 'Predavanje 2 - Print, delo z datotekami, funkcije, moduli.ipynb',\n",
       " 'prvi_modul.py',\n",
       " 'Prvo predavanje.ipynb',\n",
       " 'stanje1.pkl',\n",
       " 'vpis.txt',\n",
       " 'zapis_labview.lvm',\n",
       " '__init__py.py',\n",
       " '__pycache__']"
      ]
     },
     "execution_count": 79,
     "metadata": {},
     "output_type": "execute_result"
    }
   ],
   "source": [
    "b"
   ]
  },
  {
   "cell_type": "code",
   "execution_count": null,
   "metadata": {
    "collapsed": false
   },
   "outputs": [],
   "source": []
  }
 ],
 "metadata": {
  "kernelspec": {
   "display_name": "Python 3",
   "language": "python",
   "name": "python3"
  },
  "language_info": {
   "codemirror_mode": {
    "name": "ipython",
    "version": 3
   },
   "file_extension": ".py",
   "mimetype": "text/x-python",
   "name": "python",
   "nbconvert_exporter": "python",
   "pygments_lexer": "ipython3",
   "version": "3.6.0"
  }
 },
 "nbformat": 4,
 "nbformat_minor": 0
}
