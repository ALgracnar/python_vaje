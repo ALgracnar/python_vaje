{
 "cells": [
  {
   "cell_type": "markdown",
   "metadata": {},
   "source": [
    "Feb 2015, dr. J. Slavič\n",
    "\n",
    "Predavanje 1"
   ]
  },
  {
   "cell_type": "markdown",
   "metadata": {},
   "source": [
    "# Uvod v Python"
   ]
  },
  {
   "cell_type": "markdown",
   "metadata": {},
   "source": [
    "Python je **visoko-nivojski** programski jezik, nivo abstrakcije je velik. V nasprotju z **nizko-nivojskimi** programskimi jeziki, ki imajo nivo abstrakcije nizek (npr. strojna koda).\n",
    "\n",
    "Primer: izračun **Fibonaccijevega števila** (http://sl.wikipedia.org/wiki/Fibonaccijevo_%C5%A1tevilo):\n",
    "\n",
    "$F_1 = F_2 = 1$ in $F_n = F_{n-1} + F_{n-2}$\n",
    "\n",
    "Izračun $F_n$ v strojni kodi (http://en.wikipedia.org/wiki/Low-level_programming_language):\n",
    "<img width=300 src=\"others/strojna_koda.png\">\n",
    "Mach koda\n",
    "<img width=300 src=\"others/mash_koda.png\">\n",
    "C\n",
    "<img width=300 src=\"others/c_koda.png\">\n",
    "Python\n",
    "<img width=300 src=\"others/py_koda.png\">\n",
    "\n",
    "Kratek pregled začetkov nekaterih programskih jezikov:\n",
    "* 1957 Fortran\n",
    "* 1970 Pascal\n",
    "* 1972 C\n",
    "* 1980 C++\n",
    "* 1984 Matlab\n",
    "* 1986 Objective-C\n",
    "* **1991 Pyhon**\n",
    "* 1995 Java\n",
    "* 1995 Delphi\n",
    "* 2009 Go"
   ]
  },
  {
   "cell_type": "markdown",
   "metadata": {},
   "source": [
    "## Kdo se uči Python?"
   ]
  },
  {
   "cell_type": "markdown",
   "metadata": {},
   "source": [
    "**ZDA**\n",
    "\n",
    "http://goo.gl/mJC1P8\n",
    "<img width=400 src=\"others/Top39-700.4.png\">\n",
    "\n",
    "**Slovenija**\n",
    "* FRI: Programiranje 1 (https://ucilnica.fri.uni-lj.si/course/view.php?id=166)\n",
    "* FMF: Uvod v Python 1 in 2 (https://tomo.fmf.uni-lj.si/problem_set/7/)\n",
    "\n",
    "**FS**\n",
    "* Poletna šola HPC: http://hpc.fs.uni-lj.si/python-intro"
   ]
  },
  {
   "cell_type": "markdown",
   "metadata": {},
   "source": [
    "**Pregled razširjenosti različnih programskih jezikov**\n",
    "\n",
    "Tukaj en pregled: http://goo.gl/vtn2Vr"
   ]
  },
  {
   "cell_type": "markdown",
   "metadata": {},
   "source": [
    "## Uporaba Pythona?"
   ]
  },
  {
   "cell_type": "markdown",
   "metadata": {},
   "source": [
    "Nekatera mednarodna podjetja: Nasa, Google, Cern,... nekatera v Sloveniji: Kolektor, Iskra Mehanizmi, Hidria, Ydria Motors, Cimos.\n",
    "\n",
    "Nekateri programi, ki imajo vgrajeno skripno podporo za Python?\n",
    "* Abaqus\n",
    "* Ansys Workbench\n",
    "* MSC (Adams, SimXpert)\n",
    "* ParaView\n",
    "* LMS Siemens\n",
    "* AVL\n",
    "\n",
    "Nekateri komercialni programi v Pythonu\n",
    "* BitTorrent\n",
    "* Dropbox\n",
    "\n",
    "Polnejši seznam je tukaj: http://en.wikipedia.org/wiki/List_of_Python_software"
   ]
  },
  {
   "cell_type": "markdown",
   "metadata": {},
   "source": [
    "## Python vs Matlab"
   ]
  },
  {
   "cell_type": "markdown",
   "metadata": {},
   "source": [
    "Na spletu boste našli ogromno primerjav. Tukaj ne npr. ena:\n",
    "http://www.pyzo.org/python_vs_matlab.html\n",
    "\n",
    "<img width=400 src=\"others/py_comparison.png\">\n",
    "Vir: http://www.southampton.ac.uk/~fangohr/training/python/pdfs/Python-for-Computational-Science-and-Engineering-slides.pdf\n",
    "\n",
    "Sintaksa je načeloma zelo podobna. Pomembna razlika je, da se seznam pri **Matlabu** začne z 1, v **Pythonu** pa z 0.\n",
    "\n"
   ]
  },
  {
   "cell_type": "markdown",
   "metadata": {},
   "source": [
    "## Namestitev Python verzije 3.4"
   ]
  },
  {
   "cell_type": "markdown",
   "metadata": {},
   "source": [
    "### The hard way (64 bit, Window)"
   ]
  },
  {
   "cell_type": "markdown",
   "metadata": {},
   "source": [
    "Kaj potrebujete:\n",
    "\n",
    "* https://www.python.org/: Python 3.4\n",
    "* http://www.lfd.uci.edu/~gohlke/pythonlibs/:\n",
    "    * **Setuptools**: za instaliranje paketov (za win64 glejte iščite win‑amd64py3.4)\n",
    "    * **Numpy**: knjižnica za delo z matrikami\n",
    "    * **SciPy**: numerična knjižnica (razširi numpy)\n",
    "    * **Matplotlib**: za risanje grafov podobnih matlab-u\n",
    "    * **IPython**: interaktivna uporaba Pythona\n",
    "* https://www.jetbrains.com/pycharm/download/\n",
    "    * **pyCharm**: integrirano razvojno okolje (glejte Community Edition)\n",
    "    \n",
    "Postopek namestitve:\n",
    "    1. namesti python\n",
    "    2. dodaj path v environment variables (sistemske spremenljivke):\n",
    "        C:\\Python34\\Scripts;C:\\Python34\\Lib\\site-packages;c:\\python34;\n",
    "    3. namest numpy, scipy, matplotlib, easy_install, pyCharm\n",
    "    4. namesti iPython"
   ]
  },
  {
   "cell_type": "markdown",
   "metadata": {},
   "source": [
    "### The easy way"
   ]
  },
  {
   "cell_type": "markdown",
   "metadata": {},
   "source": [
    "Pojdite na https://store.continuum.io/cshop/anaconda/ in namestite `Anaconda`.\n",
    "\n",
    "Namestite še pyCharm integrirano razvojno okolje (glejte Community Edition): https://www.jetbrains.com/pycharm/download/\n"
   ]
  },
  {
   "cell_type": "markdown",
   "metadata": {},
   "source": [
    "### Namestitev dodatnih paketov"
   ]
  },
  {
   "cell_type": "markdown",
   "metadata": {},
   "source": [
    "Na naslovu https://pypi.python.org/pypi se nahaja več kot 55 tisoč različnih paketov! Namestimo jih z:\n",
    "* ukazom **conda** ali \n",
    "* easy_setup ali pip ali\n",
    "* namestitveni program iz strani http://www.lfd.uci.edu/~gohlke/pythonlibs/"
   ]
  },
  {
   "cell_type": "markdown",
   "metadata": {},
   "source": [
    "## IPython nootebook"
   ]
  },
  {
   "cell_type": "markdown",
   "metadata": {},
   "source": [
    "IPython notebook zaženete z ukazom (v komandni vrstici / command prompt):\n",
    "``ipython notebook`` (pozneje boste morebiti hoteli tako: ``ipython notebook --pylab=inline``)\n",
    "\n",
    "**Opomba**: Če želite komandno vrstico sprožiti v poljubni mapi, potem v *explorerju* pridržite ``shift`` in kliknite mapo z desnim gumbom; nato izberite *Open command window here*.\n",
    "\n",
    "IPython omogoča zapis v *markdown* načinu: <http://daringfireball.net/projects/markdown/>\n",
    "\n",
    "Na kratko:\n",
    "* lahko se pišejo seznami\n",
    "     - različnih nivojev\n",
    "         - tretji nivo\n",
    "     - drugi nivo\n",
    "* lahko se piše *poševno*\n",
    "* lahko se piše **krepko**\n",
    "* ni težav s poljubno *težkimi* izrazi (LaTeX sintaxa): $a(t)=\\sqrt{\\frac{1}{1-r^3}}$\n",
    "* primer kako se vključi slike ali spletne povezave je zgoraj/spodaj\n",
    "* primer vključitve lokalnega video posnetka: \n",
    "<video controls src=\"others/35m - naj bi 45m.mp4\"/></video>"
   ]
  },
  {
   "cell_type": "markdown",
   "metadata": {},
   "source": [
    "## Prvi program"
   ]
  },
  {
   "cell_type": "markdown",
   "metadata": {},
   "source": [
    "Interaktivno"
   ]
  },
  {
   "cell_type": "code",
   "execution_count": 3,
   "metadata": {
    "collapsed": true
   },
   "outputs": [
    {
     "name": "stdout",
     "output_type": "stream",
     "text": [
      "5\n"
     ]
    }
   ],
   "source": [
    "a = 5\n",
    "b = a\n",
    "print(b)"
   ]
  },
  {
   "cell_type": "markdown",
   "metadata": {},
   "source": [
    "Klasično"
   ]
  },
  {
   "cell_type": "markdown",
   "metadata": {},
   "source": [
    "<a href=\"prvi_program.py\">prvi_program.py</a>\n",
    "<img src=\"others/pyCharm_prvi_program.png\">"
   ]
  },
  {
   "cell_type": "markdown",
   "metadata": {},
   "source": [
    "Stil pisanje: PEP8 https://www.python.org/dev/peps/pep-0008/"
   ]
  },
  {
   "cell_type": "markdown",
   "metadata": {},
   "source": [
    "* zamik: 4 presledki\n",
    "* en presledek pri = operatorju: ``a = 5`` in ne ``a=5``\n",
    "* spremenljivke in imena funkcij naj bodo opisne, pišemo jih s podrčtajem: ``sirina_valja = 5``\n",
    "* za razrede uporabljamo t.i. CamelCase format\n",
    "* presledki okoli aritmerični operaterjev so lahko: ``x = 3*a + 4*b`` ali ``x = 3 * a + 4 * b``.\n",
    "* prez presledka pred in po oklepaju: ``x = sin(x)``, ne pa ``x = sin( x )``\n",
    "* presledek po vejici: ``range(5, 10)`` in ne ``range(5,10)``.\n",
    "* brez presledkov na koncu vrstice ali v prazni vrstici\n",
    "* ena ali brez prazne vrstice znotraj funkcije\n",
    "* dve vrstici med funkcijami\n",
    "* en import stavek na vrstico\n",
    "* najprej import standardnih python knjižnic, nato druge knjižnice (npr. numpy) in na koncu lastne\n",
    "\n",
    "Nujno: uporabite *inspect code* v pyCharm!"
   ]
  },
  {
   "cell_type": "markdown",
   "metadata": {},
   "source": [
    "## Python - osnove"
   ]
  },
  {
   "cell_type": "markdown",
   "metadata": {},
   "source": [
    "### Spremenljivke"
   ]
  },
  {
   "cell_type": "markdown",
   "metadata": {},
   "source": [
    "Spremenjivke so v Pythonu **dinamičnega tipa**. Kaj to pomeni:"
   ]
  },
  {
   "cell_type": "code",
   "execution_count": 1,
   "metadata": {
    "collapsed": true
   },
   "outputs": [
    {
     "name": "stdout",
     "output_type": "stream",
     "text": [
      "1\n",
      "1.0\n"
     ]
    },
    {
     "data": {
      "text/plain": [
       "float"
      ]
     },
     "execution_count": 1,
     "metadata": {},
     "output_type": "execute_result"
    }
   ],
   "source": [
    "a = 1       # to je komentar: a je celo število (integer)\n",
    "print(a)\n",
    "a = 1.0     # a je sedaj število s plavajočo vejijnjco (float)\n",
    "print(a)\n",
    "type(a)"
   ]
  },
  {
   "cell_type": "markdown",
   "metadata": {},
   "source": [
    "Zgoraj smo uporabili funkcijo ``print``. Poglejmo si njen opis: začnete pisati ``print`` in pritisnete *shift+tab* ali pa izvedete ukaz ``?print`` (če želite še več podatkov: ``??`` poskuša najti tudi izvorno kodo):"
   ]
  },
  {
   "cell_type": "code",
   "execution_count": 1,
   "metadata": {
    "collapsed": true
   },
   "outputs": [],
   "source": [
    "?print"
   ]
  },
  {
   "cell_type": "markdown",
   "metadata": {},
   "source": [
    "### Niz (string)"
   ]
  },
  {
   "cell_type": "markdown",
   "metadata": {},
   "source": [
    "Niz se začne in zaključi z dvojnim \" ali enojnim ' narekovajem."
   ]
  },
  {
   "cell_type": "code",
   "execution_count": 2,
   "metadata": {
    "collapsed": true
   },
   "outputs": [
    {
     "name": "stdout",
     "output_type": "stream",
     "text": [
      "tekst\n"
     ]
    }
   ],
   "source": [
    "b = 'tekst' # b je niz (string)\n",
    "print(b)"
   ]
  },
  {
   "cell_type": "markdown",
   "metadata": {},
   "source": [
    "Nekatere operacije nad nizi:"
   ]
  },
  {
   "cell_type": "code",
   "execution_count": 10,
   "metadata": {
    "collapsed": true
   },
   "outputs": [
    {
     "name": "stdout",
     "output_type": "stream",
     "text": [
      "kratek tekst\n",
      "------------------------------\n",
      "Celo število: 10\n",
      "Število s plavajočo vejico: 10.0\n"
     ]
    }
   ],
   "source": [
    "print('kratek ' + b) # seštevanje\n",
    "print(30 * '-')      # dolga črta\n",
    "print('Celo število:', int('5') + int('5'))      # pretvorba niza '5' v celo število\n",
    "print('Število s plavajočo vejico:', float('5') + float('5'))  # pretvorba niza '5' v število s plavajo vejico"
   ]
  },
  {
   "cell_type": "markdown",
   "metadata": {},
   "source": [
    "### Terka (tuple)"
   ]
  },
  {
   "cell_type": "markdown",
   "metadata": {},
   "source": [
    "https://docs.python.org/3.4/tutorial/datastructures.html#tuples-and-sequences\n",
    "\n",
    "Tuples ali po slovensko terke so seznami poljubnih **objektov**, ki jih ločimo z vejico in pišemo znotraj okroglih oklepajev:"
   ]
  },
  {
   "cell_type": "code",
   "execution_count": 2,
   "metadata": {},
   "outputs": [],
   "source": [
    "terka_1 = (1, 'programiranje', 5.0)"
   ]
  },
  {
   "cell_type": "code",
   "execution_count": 3,
   "metadata": {},
   "outputs": [
    {
     "data": {
      "text/plain": [
       "(1, 'programiranje', 5.0)"
      ]
     },
     "execution_count": 3,
     "metadata": {},
     "output_type": "execute_result"
    }
   ],
   "source": [
    "terka_1"
   ]
  },
  {
   "cell_type": "markdown",
   "metadata": {},
   "source": [
    "Če ima terka samo en objekt, potem jo moramo zaključiti z vejico (sicer se ne loči od objekta v oklepaju):"
   ]
  },
  {
   "cell_type": "code",
   "execution_count": 4,
   "metadata": {},
   "outputs": [
    {
     "data": {
      "text/plain": [
       "tuple"
      ]
     },
     "execution_count": 4,
     "metadata": {},
     "output_type": "execute_result"
    }
   ],
   "source": [
    "terka_2 = (1,)\n",
    "type(terka_2)"
   ]
  },
  {
   "cell_type": "markdown",
   "metadata": {},
   "source": [
    "Terke lahko zapišemo tudi brez okroglih oklepajev:"
   ]
  },
  {
   "cell_type": "code",
   "execution_count": 5,
   "metadata": {},
   "outputs": [],
   "source": [
    "terka_3 = 1, 'brez oklepajev', 5."
   ]
  },
  {
   "cell_type": "code",
   "execution_count": 6,
   "metadata": {},
   "outputs": [
    {
     "data": {
      "text/plain": [
       "(1, 'brez oklepajev', 5.0)"
      ]
     },
     "execution_count": 6,
     "metadata": {},
     "output_type": "execute_result"
    }
   ],
   "source": [
    "terka_3"
   ]
  },
  {
   "cell_type": "code",
   "execution_count": 7,
   "metadata": {},
   "outputs": [],
   "source": [
    "def funkcija(dolzina):\n",
    "    return True, dolzina*2, 'jupi'"
   ]
  },
  {
   "cell_type": "code",
   "execution_count": 8,
   "metadata": {},
   "outputs": [],
   "source": [
    "(stanje, vrednost, preverjanja) = funkcija(5)"
   ]
  },
  {
   "cell_type": "code",
   "execution_count": 9,
   "metadata": {},
   "outputs": [
    {
     "data": {
      "text/plain": [
       "True"
      ]
     },
     "execution_count": 9,
     "metadata": {},
     "output_type": "execute_result"
    }
   ],
   "source": [
    "stanje\n"
   ]
  },
  {
   "cell_type": "markdown",
   "metadata": {},
   "source": [
    "Do objektov v terki dostopamo preko indeksa (**se začnejo z 0**):"
   ]
  },
  {
   "cell_type": "code",
   "execution_count": 10,
   "metadata": {},
   "outputs": [
    {
     "data": {
      "text/plain": [
       "1"
      ]
     },
     "execution_count": 10,
     "metadata": {},
     "output_type": "execute_result"
    }
   ],
   "source": [
    "terka_1[0]"
   ]
  },
  {
   "cell_type": "markdown",
   "metadata": {},
   "source": [
    "Terke **ni mogoče spreminjati** (ang: *immutable*), elementov ne moremo odstranjevati ali dodajati."
   ]
  },
  {
   "cell_type": "code",
   "execution_count": 11,
   "metadata": {},
   "outputs": [
    {
     "ename": "TypeError",
     "evalue": "'tuple' object does not support item assignment",
     "output_type": "error",
     "traceback": [
      "\u001b[1;31m---------------------------------------------------------------------------\u001b[0m",
      "\u001b[1;31mTypeError\u001b[0m                                 Traceback (most recent call last)",
      "Input \u001b[1;32mIn [11]\u001b[0m, in \u001b[0;36m<cell line: 1>\u001b[1;34m()\u001b[0m\n\u001b[1;32m----> 1\u001b[0m terka_1[\u001b[38;5;241m0\u001b[39m] \u001b[38;5;241m=\u001b[39m \u001b[38;5;241m3\u001b[39m\n",
      "\u001b[1;31mTypeError\u001b[0m: 'tuple' object does not support item assignment"
     ]
    }
   ],
   "source": [
    "terka_1[0] = 3"
   ]
  },
  {
   "cell_type": "markdown",
   "metadata": {},
   "source": [
    "### Seznam (list)"
   ]
  },
  {
   "cell_type": "markdown",
   "metadata": {},
   "source": [
    "https://docs.python.org/3.4/tutorial/datastructures.html#more-on-lists\n",
    "\n",
    "Seznami se zapišejo podobno kakor terke, vendar se uporabijo oglati oklepaji in jih je mogoče spreminjati:"
   ]
  },
  {
   "cell_type": "code",
   "execution_count": 12,
   "metadata": {},
   "outputs": [],
   "source": [
    "seznam = [1., 2, 'd']"
   ]
  },
  {
   "cell_type": "code",
   "execution_count": 13,
   "metadata": {},
   "outputs": [
    {
     "data": {
      "text/plain": [
       "[1.0, 2, 'd']"
      ]
     },
     "execution_count": 13,
     "metadata": {},
     "output_type": "execute_result"
    }
   ],
   "source": [
    "seznam"
   ]
  },
  {
   "cell_type": "markdown",
   "metadata": {},
   "source": [
    "Za razliko od terk, se sezname lahko spreminja:"
   ]
  },
  {
   "cell_type": "code",
   "execution_count": 14,
   "metadata": {},
   "outputs": [
    {
     "data": {
      "text/plain": [
       "[10, 2, 'd']"
      ]
     },
     "execution_count": 14,
     "metadata": {},
     "output_type": "execute_result"
    }
   ],
   "source": [
    "seznam[0] = 10\n",
    "seznam"
   ]
  },
  {
   "cell_type": "markdown",
   "metadata": {},
   "source": [
    "Seznami so spremenljivi (ang. *mutable*)in treba se je zavedati, da ime v bistvu **kaže** na spominsko mesto:"
   ]
  },
  {
   "cell_type": "code",
   "execution_count": 15,
   "metadata": {},
   "outputs": [
    {
     "data": {
      "text/plain": [
       "[10, 2, 'd']"
      ]
     },
     "execution_count": 15,
     "metadata": {},
     "output_type": "execute_result"
    }
   ],
   "source": [
    "b = seznam\n",
    "b"
   ]
  },
  {
   "cell_type": "markdown",
   "metadata": {},
   "source": [
    "Sedaj tudi ``b`` kaže na isto spominsko mesto. \n",
    "\n",
    "Poglejmo kaj se zgodi s ``seznam``, če spremenimo element seznama ``b``:"
   ]
  },
  {
   "cell_type": "code",
   "execution_count": 16,
   "metadata": {},
   "outputs": [
    {
     "data": {
      "text/plain": [
       "[9, 2, 'd']"
      ]
     },
     "execution_count": 16,
     "metadata": {},
     "output_type": "execute_result"
    }
   ],
   "source": [
    "b[0] = 9\n",
    "b"
   ]
  },
  {
   "cell_type": "code",
   "execution_count": 17,
   "metadata": {},
   "outputs": [
    {
     "data": {
      "text/plain": [
       "[9, 2, 'd']"
      ]
     },
     "execution_count": 17,
     "metadata": {},
     "output_type": "execute_result"
    }
   ],
   "source": [
    "seznam"
   ]
  },
  {
   "cell_type": "markdown",
   "metadata": {},
   "source": [
    "Če želimo narediti kopijo podatkov, potem moramo to narediti tako:"
   ]
  },
  {
   "cell_type": "code",
   "execution_count": 18,
   "metadata": {},
   "outputs": [
    {
     "data": {
      "text/plain": [
       "[99, 2, 'd']"
      ]
     },
     "execution_count": 18,
     "metadata": {},
     "output_type": "execute_result"
    }
   ],
   "source": [
    "b = seznam.copy()\n",
    "b[0] = 99\n",
    "b"
   ]
  },
  {
   "cell_type": "code",
   "execution_count": 19,
   "metadata": {},
   "outputs": [
    {
     "data": {
      "text/plain": [
       "[9, 2, 'd']"
      ]
     },
     "execution_count": 19,
     "metadata": {},
     "output_type": "execute_result"
    }
   ],
   "source": [
    "seznam"
   ]
  },
  {
   "cell_type": "markdown",
   "metadata": {},
   "source": [
    "Primer seznama seznamov:"
   ]
  },
  {
   "cell_type": "code",
   "execution_count": 20,
   "metadata": {},
   "outputs": [],
   "source": [
    "matrika = [[1, 2, 3],\n",
    "           [4, 5, 6],\n",
    "           [7, 8, 9]]"
   ]
  },
  {
   "cell_type": "code",
   "execution_count": 21,
   "metadata": {},
   "outputs": [
    {
     "data": {
      "text/plain": [
       "[[1, 2, 3], [4, 5, 6], [7, 8, 9]]"
      ]
     },
     "execution_count": 21,
     "metadata": {},
     "output_type": "execute_result"
    }
   ],
   "source": [
    "matrika"
   ]
  },
  {
   "cell_type": "markdown",
   "metadata": {},
   "source": [
    "Več o matrikah bomo spoznali pozneje."
   ]
  },
  {
   "cell_type": "markdown",
   "metadata": {},
   "source": [
    "#### Izbrane operacije nad seznami"
   ]
  },
  {
   "cell_type": "markdown",
   "metadata": {},
   "source": [
    "Za detajle glejte tukaj: https://docs.python.org/3.4/tutorial/datastructures.html"
   ]
  },
  {
   "cell_type": "code",
   "execution_count": 49,
   "metadata": {},
   "outputs": [
    {
     "data": {
      "text/plain": [
       "[9, 2, 'd', 'dodajanje elementa']"
      ]
     },
     "execution_count": 49,
     "metadata": {},
     "output_type": "execute_result"
    }
   ],
   "source": [
    "seznam.append('dodajanje elementa')\n",
    "seznam"
   ]
  },
  {
   "cell_type": "code",
   "execution_count": 50,
   "metadata": {},
   "outputs": [
    {
     "data": {
      "text/plain": [
       "[9, 'na drugo mesto', 2, 'd', 'dodajanje elementa']"
      ]
     },
     "execution_count": 50,
     "metadata": {},
     "output_type": "execute_result"
    }
   ],
   "source": [
    "seznam.insert(1,'na drugo mesto')\n",
    "seznam"
   ]
  },
  {
   "cell_type": "code",
   "execution_count": 51,
   "metadata": {},
   "outputs": [
    {
     "data": {
      "text/plain": [
       "[9, 'na drugo mesto', 'd', 'dodajanje elementa']"
      ]
     },
     "execution_count": 51,
     "metadata": {},
     "output_type": "execute_result"
    }
   ],
   "source": [
    "seznam.pop(2) # odstani element z indeksom 2\n",
    "# podoben učinek bi imel ukaz: del seznam[2]\n",
    "seznam"
   ]
  },
  {
   "cell_type": "code",
   "execution_count": 52,
   "metadata": {},
   "outputs": [
    {
     "data": {
      "text/plain": [
       "2"
      ]
     },
     "execution_count": 52,
     "metadata": {},
     "output_type": "execute_result"
    }
   ],
   "source": [
    "seznam.index('d') # poišče indeks prvega elementa vrednosti 'd'"
   ]
  },
  {
   "cell_type": "markdown",
   "metadata": {},
   "source": [
    "#### Zakaj uporabiti tuple in ne seznama?"
   ]
  },
  {
   "cell_type": "markdown",
   "metadata": {},
   "source": [
    "Glejte odgovor tukaj: http://getpython3.com/diveintopython3/native-datatypes.html#tuples"
   ]
  },
  {
   "cell_type": "markdown",
   "metadata": {},
   "source": [
    "### Množice (Sets)"
   ]
  },
  {
   "cell_type": "markdown",
   "metadata": {},
   "source": [
    "https://docs.python.org/3.4/tutorial/datastructures.html#sets\n",
    "\n",
    "Za razliko od ostalih struktur, množice **ne dovojujejo podvojenih elementov**. Kreiramo jih z zavitimi oklepaji  ``{}`` ali ukazom ``set()``:"
   ]
  },
  {
   "cell_type": "code",
   "execution_count": 57,
   "metadata": {},
   "outputs": [
    {
     "data": {
      "text/plain": [
       "{1, 2, 3}"
      ]
     },
     "execution_count": 57,
     "metadata": {},
     "output_type": "execute_result"
    }
   ],
   "source": [
    "A = {1, 2, 3, 3}\n",
    "A"
   ]
  },
  {
   "cell_type": "code",
   "execution_count": 58,
   "metadata": {},
   "outputs": [
    {
     "data": {
      "text/plain": [
       "{3, 4, 5, 6}"
      ]
     },
     "execution_count": 58,
     "metadata": {},
     "output_type": "execute_result"
    }
   ],
   "source": [
    "B = set([3, 4, 5, 6, 6]) # kreiramo množico iz seznama (to je način kako se enostavno in hitro\n",
    "                         #                              znebimo podvojenih vrednosti!)\n",
    "B"
   ]
  },
  {
   "cell_type": "markdown",
   "metadata": {},
   "source": [
    "Uporabimo lahko tipične matematične operacije nad množicami:"
   ]
  },
  {
   "cell_type": "code",
   "execution_count": 59,
   "metadata": {},
   "outputs": [
    {
     "data": {
      "text/plain": [
       "{1, 2}"
      ]
     },
     "execution_count": 59,
     "metadata": {},
     "output_type": "execute_result"
    }
   ],
   "source": [
    "A - B   # elementi v A brez elementov, ki so tudi v B"
   ]
  },
  {
   "cell_type": "code",
   "execution_count": 60,
   "metadata": {},
   "outputs": [
    {
     "data": {
      "text/plain": [
       "{1, 2, 3, 4, 5, 6}"
      ]
     },
     "execution_count": 60,
     "metadata": {},
     "output_type": "execute_result"
    }
   ],
   "source": [
    "A | B   # elementi v A ali B"
   ]
  },
  {
   "cell_type": "code",
   "execution_count": 61,
   "metadata": {},
   "outputs": [
    {
     "data": {
      "text/plain": [
       "{3}"
      ]
     },
     "execution_count": 61,
     "metadata": {},
     "output_type": "execute_result"
    }
   ],
   "source": [
    "A & B   # elementi v A in B"
   ]
  },
  {
   "cell_type": "code",
   "execution_count": 62,
   "metadata": {},
   "outputs": [
    {
     "data": {
      "text/plain": [
       "{1, 2, 4, 5, 6}"
      ]
     },
     "execution_count": 62,
     "metadata": {},
     "output_type": "execute_result"
    }
   ],
   "source": [
    "A ^ B   # elementi v A ali B, vendar ne v obeh"
   ]
  },
  {
   "cell_type": "markdown",
   "metadata": {},
   "source": [
    "### Slovar (dictionary)"
   ]
  },
  {
   "cell_type": "markdown",
   "metadata": {},
   "source": [
    "https://docs.python.org/3.4/tutorial/datastructures.html#dictionaries\n",
    "\n",
    "Slovar lahko definiramo eksplicitno z pari *ključ: vrednost* navedenimi znotraj zavitih oklepaja:"
   ]
  },
  {
   "cell_type": "code",
   "execution_count": 32,
   "metadata": {},
   "outputs": [],
   "source": [
    "parametri = {'višina': 5.2, 'širina': 43, 'g': 9.81}"
   ]
  },
  {
   "cell_type": "code",
   "execution_count": 33,
   "metadata": {},
   "outputs": [
    {
     "data": {
      "text/plain": [
       "{'g': 9.81, 'vi\\xc5\\xa1ina': 5.2, '\\xc5\\xa1irina': 43}"
      ]
     },
     "execution_count": 33,
     "metadata": {},
     "output_type": "execute_result"
    }
   ],
   "source": [
    "parametri"
   ]
  },
  {
   "cell_type": "code",
   "execution_count": 69,
   "metadata": {},
   "outputs": [
    {
     "data": {
      "text/plain": [
       "5.2"
      ]
     },
     "execution_count": 69,
     "metadata": {},
     "output_type": "execute_result"
    }
   ],
   "source": [
    "parametri['višina'] # klicanje posameznega elementa po ključu"
   ]
  },
  {
   "cell_type": "code",
   "execution_count": 70,
   "metadata": {},
   "outputs": [
    {
     "data": {
      "text/plain": [
       "dict_keys(['g', 'širina', 'višina'])"
      ]
     },
     "execution_count": 70,
     "metadata": {},
     "output_type": "execute_result"
    }
   ],
   "source": [
    "parametri.keys()"
   ]
  },
  {
   "cell_type": "code",
   "execution_count": 71,
   "metadata": {},
   "outputs": [],
   "source": [
    "parametri['lega_težišča'] = 99999 # dodajanje elementa"
   ]
  },
  {
   "cell_type": "code",
   "execution_count": 72,
   "metadata": {},
   "outputs": [
    {
     "data": {
      "text/plain": [
       "{'g': 9.81, 'širina': 43, 'višina': 5.2, 'lega_težišča': 99999}"
      ]
     },
     "execution_count": 72,
     "metadata": {},
     "output_type": "execute_result"
    }
   ],
   "source": [
    "parametri"
   ]
  },
  {
   "cell_type": "markdown",
   "metadata": {},
   "source": [
    "Odstranjevanje iz slovarja"
   ]
  },
  {
   "cell_type": "code",
   "execution_count": 73,
   "metadata": {},
   "outputs": [
    {
     "data": {
      "text/plain": [
       "99999"
      ]
     },
     "execution_count": 73,
     "metadata": {},
     "output_type": "execute_result"
    }
   ],
   "source": [
    "parametri.pop('lega_težišča')"
   ]
  },
  {
   "cell_type": "code",
   "execution_count": 74,
   "metadata": {},
   "outputs": [
    {
     "data": {
      "text/plain": [
       "{'g': 9.81, 'širina': 43, 'višina': 5.2}"
      ]
     },
     "execution_count": 74,
     "metadata": {},
     "output_type": "execute_result"
    }
   ],
   "source": [
    "parametri"
   ]
  },
  {
   "cell_type": "markdown",
   "metadata": {},
   "source": [
    "### Aritmetični operatorji"
   ]
  },
  {
   "cell_type": "markdown",
   "metadata": {},
   "source": [
    "* \\+ seštevanje\n",
    "* \\- odštevanje\n",
    "* \\* množenje\n",
    "* / deljenje\n",
    "* // celoštevilsko deljenje\n",
    "* \\*\\* eksponent\n",
    "* % ostanek pri deljenju"
   ]
  },
  {
   "cell_type": "code",
   "execution_count": 75,
   "metadata": {
    "collapsed": true
   },
   "outputs": [
    {
     "data": {
      "text/plain": [
       "2.0"
      ]
     },
     "execution_count": 75,
     "metadata": {},
     "output_type": "execute_result"
    }
   ],
   "source": [
    "1 + 1.0 # \\+ seštevanje"
   ]
  },
  {
   "cell_type": "code",
   "execution_count": 76,
   "metadata": {
    "collapsed": true
   },
   "outputs": [
    {
     "data": {
      "text/plain": [
       "0"
      ]
     },
     "execution_count": 76,
     "metadata": {},
     "output_type": "execute_result"
    }
   ],
   "source": [
    "1 - 1 # \\- odštevanje"
   ]
  },
  {
   "cell_type": "code",
   "execution_count": 79,
   "metadata": {
    "collapsed": true
   },
   "outputs": [
    {
     "data": {
      "text/plain": [
       "6"
      ]
     },
     "execution_count": 79,
     "metadata": {},
     "output_type": "execute_result"
    }
   ],
   "source": [
    "2 * 3 # \\* množenje"
   ]
  },
  {
   "cell_type": "code",
   "execution_count": 80,
   "metadata": {
    "collapsed": true
   },
   "outputs": [
    {
     "data": {
      "text/plain": [
       "1.5"
      ]
     },
     "execution_count": 80,
     "metadata": {},
     "output_type": "execute_result"
    }
   ],
   "source": [
    "3 / 2 # / deljenje"
   ]
  },
  {
   "cell_type": "code",
   "execution_count": 90,
   "metadata": {
    "collapsed": true
   },
   "outputs": [
    {
     "data": {
      "text/plain": [
       "1"
      ]
     },
     "execution_count": 90,
     "metadata": {},
     "output_type": "execute_result"
    }
   ],
   "source": [
    "3 // 2 # // celoštevilsko deljenje"
   ]
  },
  {
   "cell_type": "code",
   "execution_count": 86,
   "metadata": {
    "collapsed": true
   },
   "outputs": [
    {
     "data": {
      "text/plain": [
       "1"
      ]
     },
     "execution_count": 86,
     "metadata": {},
     "output_type": "execute_result"
    }
   ],
   "source": [
    "3 % 2 # % ostanek pri deljenju"
   ]
  },
  {
   "cell_type": "code",
   "execution_count": 87,
   "metadata": {
    "collapsed": true
   },
   "outputs": [
    {
     "data": {
      "text/plain": [
       "8"
      ]
     },
     "execution_count": 87,
     "metadata": {},
     "output_type": "execute_result"
    }
   ],
   "source": [
    "2 ** 3 # \\*\\* eksponent"
   ]
  },
  {
   "cell_type": "markdown",
   "metadata": {},
   "source": [
    "Aritmetični operatorji **podpirajo prirejanje rezultata operandu**. Npr ``a += b`` ima enak učinek kot ``a = a + b``:"
   ]
  },
  {
   "cell_type": "code",
   "execution_count": 89,
   "metadata": {
    "collapsed": true
   },
   "outputs": [
    {
     "data": {
      "text/plain": [
       "2"
      ]
     },
     "execution_count": 89,
     "metadata": {},
     "output_type": "execute_result"
    }
   ],
   "source": [
    "a = 1\n",
    "a += 1\n",
    "a"
   ]
  },
  {
   "cell_type": "markdown",
   "metadata": {},
   "source": [
    "### Primerjalni operatorji"
   ]
  },
  {
   "cell_type": "markdown",
   "metadata": {},
   "source": [
    "* < manjši\n",
    "* \\> večji\n",
    "* <= manjše ali enako\n",
    "* \\>= večje ali enako\n",
    "* == enako\n",
    "* != neenako"
   ]
  },
  {
   "cell_type": "code",
   "execution_count": 91,
   "metadata": {
    "collapsed": true
   },
   "outputs": [
    {
     "data": {
      "text/plain": [
       "True"
      ]
     },
     "execution_count": 91,
     "metadata": {},
     "output_type": "execute_result"
    }
   ],
   "source": [
    "5 < 6"
   ]
  },
  {
   "cell_type": "markdown",
   "metadata": {},
   "source": [
    "Lahko naredimo niz logičnih operatorjev:"
   ]
  },
  {
   "cell_type": "code",
   "execution_count": 92,
   "metadata": {
    "collapsed": true
   },
   "outputs": [
    {
     "data": {
      "text/plain": [
       "True"
      ]
     },
     "execution_count": 92,
     "metadata": {},
     "output_type": "execute_result"
    }
   ],
   "source": [
    "1 < 3 < 6 < 7"
   ]
  },
  {
   "cell_type": "markdown",
   "metadata": {},
   "source": [
    "### Logični operatorji"
   ]
  },
  {
   "cell_type": "markdown",
   "metadata": {},
   "source": [
    "Logični operatorji:\n",
    "* ``is``,\n",
    "* ``in``,\n",
    "* ``and``,\n",
    "* ``or``,\n",
    "* ``not``\n",
    "\n",
    "poskušajo biti v Pythonu *berljivi*. Primer:"
   ]
  },
  {
   "cell_type": "code",
   "execution_count": 95,
   "metadata": {
    "collapsed": true
   },
   "outputs": [
    {
     "data": {
      "text/plain": [
       "True"
      ]
     },
     "execution_count": 95,
     "metadata": {},
     "output_type": "execute_result"
    }
   ],
   "source": [
    "a = 1\n",
    "a is 1 # is primerja istost; ali je a v tem primeru objekt None"
   ]
  },
  {
   "cell_type": "code",
   "execution_count": 96,
   "metadata": {
    "collapsed": true
   },
   "outputs": [
    {
     "data": {
      "text/plain": [
       "True"
      ]
     },
     "execution_count": 96,
     "metadata": {},
     "output_type": "execute_result"
    }
   ],
   "source": [
    "'a' in 'abc' # in primerja ali je objekt v nizu, seznamu,..."
   ]
  },
  {
   "cell_type": "code",
   "execution_count": 97,
   "metadata": {},
   "outputs": [
    {
     "data": {
      "text/plain": [
       "{'g': 9.81, 'širina': 43, 'višina': 5.2}"
      ]
     },
     "execution_count": 97,
     "metadata": {},
     "output_type": "execute_result"
    }
   ],
   "source": [
    "parametri"
   ]
  },
  {
   "cell_type": "code",
   "execution_count": 98,
   "metadata": {},
   "outputs": [
    {
     "data": {
      "text/plain": [
       "True"
      ]
     },
     "execution_count": 98,
     "metadata": {},
     "output_type": "execute_result"
    }
   ],
   "source": [
    "'širina' in parametri"
   ]
  },
  {
   "cell_type": "code",
   "execution_count": 99,
   "metadata": {},
   "outputs": [
    {
     "data": {
      "text/plain": [
       "True"
      ]
     },
     "execution_count": 99,
     "metadata": {},
     "output_type": "execute_result"
    }
   ],
   "source": [
    "1 in A # A je množica"
   ]
  },
  {
   "cell_type": "markdown",
   "metadata": {},
   "source": [
    "V logičnih izrazih je poleg ``False`` neresnična tudi vrednost 0, None, prazen seznam, niz, terka,... Vse ostalo je ``True``"
   ]
  },
  {
   "cell_type": "code",
   "execution_count": 100,
   "metadata": {
    "collapsed": true
   },
   "outputs": [
    {
     "data": {
      "text/plain": [
       "True"
      ]
     },
     "execution_count": 100,
     "metadata": {},
     "output_type": "execute_result"
    }
   ],
   "source": [
    "1 and True"
   ]
  },
  {
   "cell_type": "code",
   "execution_count": 101,
   "metadata": {
    "collapsed": true
   },
   "outputs": [
    {
     "data": {
      "text/plain": [
       "0"
      ]
     },
     "execution_count": 101,
     "metadata": {},
     "output_type": "execute_result"
    }
   ],
   "source": [
    "0 and True"
   ]
  },
  {
   "cell_type": "code",
   "execution_count": 117,
   "metadata": {
    "collapsed": true
   },
   "outputs": [
    {
     "data": {
      "text/plain": [
       "True"
      ]
     },
     "execution_count": 117,
     "metadata": {},
     "output_type": "execute_result"
    }
   ],
   "source": [
    " (1,) and True"
   ]
  },
  {
   "cell_type": "code",
   "execution_count": 118,
   "metadata": {
    "collapsed": true
   },
   "outputs": [
    {
     "data": {
      "text/plain": [
       "True"
      ]
     },
     "execution_count": 118,
     "metadata": {},
     "output_type": "execute_result"
    }
   ],
   "source": [
    "1 < 2 "
   ]
  },
  {
   "cell_type": "markdown",
   "metadata": {},
   "source": [
    "Malo bolj zakompliciran stavek:"
   ]
  },
  {
   "cell_type": "code",
   "execution_count": 119,
   "metadata": {
    "collapsed": true
   },
   "outputs": [
    {
     "data": {
      "text/plain": [
       "True"
      ]
     },
     "execution_count": 119,
     "metadata": {},
     "output_type": "execute_result"
    }
   ],
   "source": [
    "1 == 2 and 1 in [1, 2, 3] or 1 is not \"1\""
   ]
  },
  {
   "cell_type": "markdown",
   "metadata": {},
   "source": [
    "### If stavek"
   ]
  },
  {
   "cell_type": "markdown",
   "metadata": {},
   "source": [
    "Kratka oblika ``if`` stavka:"
   ]
  },
  {
   "cell_type": "code",
   "execution_count": 103,
   "metadata": {
    "collapsed": true
   },
   "outputs": [
    {
     "name": "stdout",
     "output_type": "stream",
     "text": [
      "a je več od 5\n",
      "-------------\n"
     ]
    }
   ],
   "source": [
    "a = 6\n",
    "if a > 5:\n",
    "    print('a je več od 5') # se izvede, če je pogoj res. \n",
    "    print(13*'-')"
   ]
  },
  {
   "cell_type": "markdown",
   "metadata": {},
   "source": [
    "Zgoraj smo funkcijo ``print`` zamaknili saj pripada block-u kode, ki se izvede v primeru ``a > 0``. Nekateri programski jeziki kodo znotraj block-a dajo v zavite ali kakšne druge oklepaje in dodatno še zamikajo. Pri Pythonu se samo zamikajo. Zamik je tipično **4 presledke**. Lahko je tudi **tabulator** (manj pogosto), vendar pa se način zamikanja znotraj ene .py datoteke ne sme spreminjati.\n",
    "\n",
    "Stavke lahko zapišemo tudi v eno vrstico, vendar je taka uporaba odsvetovana, saj zmanjšuje preglednost kode:"
   ]
  },
  {
   "cell_type": "code",
   "execution_count": 123,
   "metadata": {
    "collapsed": true
   },
   "outputs": [],
   "source": [
    "if a > 5: print('taka oblika je odsvetovana'); print(40*'-'); print('uporaba podpičja namesto nove vrstice')"
   ]
  },
  {
   "cell_type": "markdown",
   "metadata": {},
   "source": [
    "Spodaj je ``if`` stavek, ki ima tudi pogoj ``elfi`` (namesto *else if*) in končni izhodni pogoj ``else``. ``elif`` pogojev je lahko več."
   ]
  },
  {
   "cell_type": "code",
   "execution_count": 105,
   "metadata": {
    "collapsed": true
   },
   "outputs": [
    {
     "name": "stdout",
     "output_type": "stream",
     "text": [
      "a je manjši od 2, vendar večji od 0\n"
     ]
    }
   ],
   "source": [
    "a = 1\n",
    "if a > 5:\n",
    "    print('a je več od 5')\n",
    "elif a < 0: # else if\n",
    "    print('a je manjši od 0')\n",
    "elif a < 2: # elif pogojev je lahko več\n",
    "    print('a je manjši od 2, vendar večji od 0')\n",
    "else: # se izvede, če se ne izvede noben od zgornjih pogojev\n",
    "    print('a ima vrednost od 2 in 5')"
   ]
  },
  {
   "cell_type": "markdown",
   "metadata": {},
   "source": [
    "### If izraz"
   ]
  },
  {
   "cell_type": "markdown",
   "metadata": {},
   "source": [
    "Poleg ``if`` stavka ima Python tudi ``if`` izraz:"
   ]
  },
  {
   "cell_type": "code",
   "execution_count": 110,
   "metadata": {
    "collapsed": true
   },
   "outputs": [
    {
     "data": {
      "text/plain": [
       "'b'"
      ]
     },
     "execution_count": 110,
     "metadata": {},
     "output_type": "execute_result"
    }
   ],
   "source": [
    "a = True\n",
    "b = 'b'\n",
    "c = 'c'\n",
    "\n",
    "b if a else c # to nam bo zelo prišlo prav pozneje!"
   ]
  },
  {
   "cell_type": "markdown",
   "metadata": {},
   "source": [
    "### Zanke"
   ]
  },
  {
   "cell_type": "markdown",
   "metadata": {},
   "source": [
    "#### While zanka"
   ]
  },
  {
   "cell_type": "markdown",
   "metadata": {},
   "source": [
    "Poglejmo si najprej ``while`` zanko v osnovni obliki:"
   ]
  },
  {
   "cell_type": "code",
   "execution_count": 111,
   "metadata": {
    "collapsed": true
   },
   "outputs": [
    {
     "name": "stdout",
     "output_type": "stream",
     "text": [
      "0\n",
      "1\n",
      "2\n"
     ]
    }
   ],
   "source": [
    "a = 0\n",
    "while a < 3:\n",
    "    print(a)\n",
    "    a += 1"
   ]
  },
  {
   "cell_type": "markdown",
   "metadata": {},
   "source": [
    "#### For zanka"
   ]
  },
  {
   "cell_type": "markdown",
   "metadata": {},
   "source": [
    "V Pythonu bomo **zelo pogosto** uporabljali for zanko:"
   ]
  },
  {
   "cell_type": "code",
   "execution_count": 113,
   "metadata": {
    "collapsed": true
   },
   "outputs": [
    {
     "name": "stdout",
     "output_type": "stream",
     "text": [
      "Jaka\n",
      "Miki\n",
      "Luka\n",
      "Anja\n"
     ]
    }
   ],
   "source": [
    "imena = ['Jaka', 'Miki', 'Luka', 'Anja']\n",
    "for ime in imena: # tukaj se skriva prirejanje; ``ime`` vsakič pridobi novo vrednost\n",
    "    print(ime)"
   ]
  },
  {
   "cell_type": "markdown",
   "metadata": {},
   "source": [
    "Del izvajanja zanke lahko preskočimo z ukazom ``continue`` ali pa zanko prekinemo z ukazom ``break``.\n",
    "\n",
    "Sicer pa imajo zanke v Pythonu tudi ``else`` izhod; ta se izvede, ko zmanjka niza ali je ta prazen (ne izvede se, če zanko prekinemo)."
   ]
  },
  {
   "cell_type": "code",
   "execution_count": 114,
   "metadata": {},
   "outputs": [
    {
     "name": "stdout",
     "output_type": "stream",
     "text": [
      "JakaJaka\n",
      "MikiMikiLukaLuka"
     ]
    }
   ],
   "source": [
    "imena = ['Jaka', 'Miki', 'Luka', 'Anja']\n",
    "for ime in imena: # tukaj se skriva prirejanje; ``ime`` vsakič pridobi novo vrednost\n",
    "    print(2*ime, end='') # privzeta vrednost end='\\n' kar pomeni ``newline`` gre torej v novo vrstico\n",
    "    if 'i' in ime:\n",
    "        continue\n",
    "    elif 'L' in ime:\n",
    "        break\n",
    "    print('') # gre samo v novo vrstico\n",
    "else:\n",
    "    print('konec')"
   ]
  },
  {
   "cell_type": "markdown",
   "metadata": {},
   "source": [
    "Zanka ima lahko tudi več tekočih spremenljivk:"
   ]
  },
  {
   "cell_type": "code",
   "execution_count": 118,
   "metadata": {},
   "outputs": [
    {
     "name": "stdout",
     "output_type": "stream",
     "text": [
      "g 9.81\n",
      "širina 43\n",
      "višina 5.2\n"
     ]
    }
   ],
   "source": [
    "#print(parametri)\n",
    "for key, val in parametri.items():\n",
    "    print(key, val)"
   ]
  },
  {
   "cell_type": "markdown",
   "metadata": {},
   "source": [
    "#### Funkcija range"
   ]
  },
  {
   "cell_type": "markdown",
   "metadata": {},
   "source": [
    "Pogosto bomo uporabljali zanko ``for`` v povezavi s funkcijo ``range``:"
   ]
  },
  {
   "cell_type": "code",
   "execution_count": 120,
   "metadata": {},
   "outputs": [
    {
     "name": "stdout",
     "output_type": "stream",
     "text": [
      "0\n",
      "1\n",
      "2\n"
     ]
    }
   ],
   "source": [
    "for i in range(3):\n",
    "    print(i)"
   ]
  },
  {
   "cell_type": "markdown",
   "metadata": {},
   "source": [
    "``?range`` razkrije podrobnosti funkcije: ``range(start, stop[, step])``. Upraba je lahko tudi taka:"
   ]
  },
  {
   "cell_type": "code",
   "execution_count": 122,
   "metadata": {},
   "outputs": [
    {
     "name": "stdout",
     "output_type": "stream",
     "text": [
      "5\n",
      "-5\n",
      "-15\n",
      "-25\n"
     ]
    }
   ],
   "source": [
    "for i in range(5, -30, -10):\n",
    "    print(i)"
   ]
  },
  {
   "cell_type": "markdown",
   "metadata": {},
   "source": [
    "#### Funkcija enumerate"
   ]
  },
  {
   "cell_type": "markdown",
   "metadata": {},
   "source": [
    "For pogosto uporabljamo s funkcijo (bolj natančno *iterator*) ``enumerate``. Že ime pove: oštevilči. Poglejmo primer:"
   ]
  },
  {
   "cell_type": "code",
   "execution_count": 123,
   "metadata": {},
   "outputs": [
    {
     "name": "stdout",
     "output_type": "stream",
     "text": [
      "0 Jaka\n",
      "1 Miki\n",
      "2 Luka\n",
      "3 Anja\n"
     ]
    }
   ],
   "source": [
    "for i, ime in enumerate(imena):\n",
    "    print(i, ime)"
   ]
  },
  {
   "cell_type": "code",
   "execution_count": 2,
   "metadata": {},
   "outputs": [],
   "source": [
    "?enumerate"
   ]
  },
  {
   "cell_type": "markdown",
   "metadata": {},
   "source": [
    "#### Funkcija zip"
   ]
  },
  {
   "cell_type": "markdown",
   "metadata": {},
   "source": [
    "Naslednja pogosta funkcija (tudi to je dejansko *iterator*) je ``zip``. Poglejmo si primer:"
   ]
  },
  {
   "cell_type": "code",
   "execution_count": 23,
   "metadata": {},
   "outputs": [
    {
     "name": "stdout",
     "output_type": "stream",
     "text": [
      "rdeč trikotnik\n",
      "moder krog\n"
     ]
    }
   ],
   "source": [
    "liki = ['trikotnik', 'krog']\n",
    "barve = ['rdeč', 'moder']\n",
    "for barva, lik in zip(barve, liki):\n",
    "    print(barva, lik)"
   ]
  },
  {
   "cell_type": "code",
   "execution_count": 28,
   "metadata": {},
   "outputs": [
    {
     "name": "stdout",
     "output_type": "stream",
     "text": [
      "<zip object at 0x0000015A5C62F480>\n"
     ]
    }
   ],
   "source": [
    "print(zip(barve, liki))"
   ]
  },
  {
   "cell_type": "code",
   "execution_count": 32,
   "metadata": {},
   "outputs": [
    {
     "name": "stdout",
     "output_type": "stream",
     "text": [
      "('rdeč', 'trikotnik')\n"
     ]
    },
    {
     "data": {
      "text/plain": [
       "('rdeč', 'trikotnik')"
      ]
     },
     "execution_count": 32,
     "metadata": {},
     "output_type": "execute_result"
    }
   ],
   "source": [
    "print(zip(barve, liki).__next__())\n",
    "zip(barve, liki).__next__()"
   ]
  },
  {
   "cell_type": "markdown",
   "metadata": {},
   "source": [
    "# Do naslednjih vaj preštudirajte sledeče:"
   ]
  },
  {
   "cell_type": "markdown",
   "metadata": {},
   "source": [
    "1. Namestite *Anaconda*.\n",
    "2. Namestite *pyCharm Community Edition*.\n",
    "3. V poljubnem delovnem direktoriju zaženite ipython notebook.\n",
    "4. Prikažite uporabo stilov, uporabo poudarjenega, poševnega teksta, uporabo seznamov, enačbe...\n",
    "5. Definirajte razliko med statičnim in dinamičnim definiranjem spremenljivk.\n",
    "6. Poiščite pomoč poljubega ukaza (znotraj Pythona in na uradni domači strani).\n",
    "7. Prikažite uporabo *niza*, *celega števila* in *števila z uporabo plavajoče vejice*.\n",
    "8. Prikažite uporabo *terke* in njenih bistvenih lastnosti.\n",
    "9. Prikažite uporabo *seznama* in njegovih bistvenih lastnosti.\n",
    "10. Komentirajte tipične operacije nad seznami.\n",
    "11. Komentirajte uporabo *množic* in tipične uporabe.\n",
    "12. Prikažite uporabo slovarjev.\n",
    "13. Katere aritmetične operatorje poznamo v Pythonu? Prikažite uporabo.\n",
    "14. Katere primerjalne operatorje poznamo v Pythonu? Prikažite uporabo.\n",
    "15. Katere logične operatorje poznamo v Pythonu? Prikažite uporabo.\n",
    "16. Prikažite uporabo ``if`` stavka.\n",
    "17. Kakšna je razlika med ``if`` stavkov in ``if`` izrazom. Prikažite!\n",
    "18. Prikažite uporabo zanke ``while``.\n",
    "19. Prikažite uporabo zanke ``for``.\n",
    "20. Prikažite uporabo zanke ``for`` v povezavi s funkcijami ``range``, ``enumerate``, ``zip``     "
   ]
  },
  {
   "cell_type": "code",
   "execution_count": null,
   "metadata": {},
   "outputs": [],
   "source": []
  }
 ],
 "metadata": {
  "kernelspec": {
   "display_name": "Python 3 (ipykernel)",
   "language": "python",
   "name": "python3"
  },
  "language_info": {
   "codemirror_mode": {
    "name": "ipython",
    "version": 3
   },
   "file_extension": ".py",
   "mimetype": "text/x-python",
   "name": "python",
   "nbconvert_exporter": "python",
   "pygments_lexer": "ipython3",
   "version": "3.8.8"
  }
 },
 "nbformat": 4,
 "nbformat_minor": 1
}
